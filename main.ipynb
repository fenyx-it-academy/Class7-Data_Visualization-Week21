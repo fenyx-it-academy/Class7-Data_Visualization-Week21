{
 "cells": [
  {
   "cell_type": "code",
   "execution_count": 2,
   "metadata": {},
   "outputs": [],
   "source": [
    "import numpy as np # linear algebra\n",
    "import pandas as pd # data processing, CSV file I/O (e.g. pd.read_csv)\n",
    "\n",
    "import plotly.express as px\n",
    "import plotly.io as pio\n",
    "import plotly.graph_objects as go\n",
    "from plotly.subplots import make_subplots\n",
    "\n",
    "import seaborn as sns\n",
    "import matplotlib\n",
    "from matplotlib import pyplot as plt\n",
    "%matplotlib inline\n",
    "\n",
    "pd.pandas.set_option('display.max_columns',None)\n",
    "pd.pandas.set_option('display.max_rows',None)\n",
    "import warnings\n",
    "warnings.filterwarnings('ignore')"
   ]
  },
  {
   "attachments": {},
   "cell_type": "markdown",
   "metadata": {},
   "source": [
    "1. What is the general outlook and statistics of the data?\n",
    "The data you've linked to is an insurance dataset that contains information about insurance customers, including their age, gender, bmi (body mass index), children, smoker status, region, and charges for insurance.\n",
    "* a. Data types\n",
    "Ans: There are integer and float number and object types\n",
    "* b. Number of rows and columns\n",
    "Ans: There are 1337 rows and 7 columns\n",
    "* c. Description of attributes\n",
    "Ans: There are categorical value for examples; sex, region, smoker. \n",
    "* d. Statistical outlook\n",
    "Ans: Data looks normal as statiscal for example childeren min 0 ad max 5. That is quite normal.\n",
    "But charges differs huge. We should look into why there is so much difference. There are continues and integer number as well\n",
    "* e. NaN values\n",
    "Ans: There is no missing number."
   ]
  },
  {
   "cell_type": "code",
   "execution_count": 3,
   "metadata": {},
   "outputs": [],
   "source": [
    "data = pd.read_csv('insurance.csv')\n",
    "df = data.copy()"
   ]
  },
  {
   "cell_type": "code",
   "execution_count": 4,
   "metadata": {},
   "outputs": [
    {
     "data": {
      "text/html": [
       "<div>\n",
       "<style scoped>\n",
       "    .dataframe tbody tr th:only-of-type {\n",
       "        vertical-align: middle;\n",
       "    }\n",
       "\n",
       "    .dataframe tbody tr th {\n",
       "        vertical-align: top;\n",
       "    }\n",
       "\n",
       "    .dataframe thead th {\n",
       "        text-align: right;\n",
       "    }\n",
       "</style>\n",
       "<table border=\"1\" class=\"dataframe\">\n",
       "  <thead>\n",
       "    <tr style=\"text-align: right;\">\n",
       "      <th></th>\n",
       "      <th>age</th>\n",
       "      <th>sex</th>\n",
       "      <th>bmi</th>\n",
       "      <th>children</th>\n",
       "      <th>smoker</th>\n",
       "      <th>region</th>\n",
       "      <th>charges</th>\n",
       "    </tr>\n",
       "  </thead>\n",
       "  <tbody>\n",
       "    <tr>\n",
       "      <th>0</th>\n",
       "      <td>19</td>\n",
       "      <td>female</td>\n",
       "      <td>27.900</td>\n",
       "      <td>0</td>\n",
       "      <td>yes</td>\n",
       "      <td>southwest</td>\n",
       "      <td>16884.92400</td>\n",
       "    </tr>\n",
       "    <tr>\n",
       "      <th>1</th>\n",
       "      <td>18</td>\n",
       "      <td>male</td>\n",
       "      <td>33.770</td>\n",
       "      <td>1</td>\n",
       "      <td>no</td>\n",
       "      <td>southeast</td>\n",
       "      <td>1725.55230</td>\n",
       "    </tr>\n",
       "    <tr>\n",
       "      <th>2</th>\n",
       "      <td>28</td>\n",
       "      <td>male</td>\n",
       "      <td>33.000</td>\n",
       "      <td>3</td>\n",
       "      <td>no</td>\n",
       "      <td>southeast</td>\n",
       "      <td>4449.46200</td>\n",
       "    </tr>\n",
       "    <tr>\n",
       "      <th>3</th>\n",
       "      <td>33</td>\n",
       "      <td>male</td>\n",
       "      <td>22.705</td>\n",
       "      <td>0</td>\n",
       "      <td>no</td>\n",
       "      <td>northwest</td>\n",
       "      <td>21984.47061</td>\n",
       "    </tr>\n",
       "    <tr>\n",
       "      <th>4</th>\n",
       "      <td>32</td>\n",
       "      <td>male</td>\n",
       "      <td>28.880</td>\n",
       "      <td>0</td>\n",
       "      <td>no</td>\n",
       "      <td>northwest</td>\n",
       "      <td>3866.85520</td>\n",
       "    </tr>\n",
       "  </tbody>\n",
       "</table>\n",
       "</div>"
      ],
      "text/plain": [
       "   age     sex     bmi  children smoker     region      charges\n",
       "0   19  female  27.900         0    yes  southwest  16884.92400\n",
       "1   18    male  33.770         1     no  southeast   1725.55230\n",
       "2   28    male  33.000         3     no  southeast   4449.46200\n",
       "3   33    male  22.705         0     no  northwest  21984.47061\n",
       "4   32    male  28.880         0     no  northwest   3866.85520"
      ]
     },
     "execution_count": 4,
     "metadata": {},
     "output_type": "execute_result"
    }
   ],
   "source": [
    "df.head()"
   ]
  },
  {
   "cell_type": "code",
   "execution_count": 5,
   "metadata": {},
   "outputs": [
    {
     "data": {
      "text/html": [
       "<div>\n",
       "<style scoped>\n",
       "    .dataframe tbody tr th:only-of-type {\n",
       "        vertical-align: middle;\n",
       "    }\n",
       "\n",
       "    .dataframe tbody tr th {\n",
       "        vertical-align: top;\n",
       "    }\n",
       "\n",
       "    .dataframe thead th {\n",
       "        text-align: right;\n",
       "    }\n",
       "</style>\n",
       "<table border=\"1\" class=\"dataframe\">\n",
       "  <thead>\n",
       "    <tr style=\"text-align: right;\">\n",
       "      <th></th>\n",
       "      <th>count</th>\n",
       "      <th>mean</th>\n",
       "      <th>std</th>\n",
       "      <th>min</th>\n",
       "      <th>25%</th>\n",
       "      <th>50%</th>\n",
       "      <th>75%</th>\n",
       "      <th>max</th>\n",
       "    </tr>\n",
       "  </thead>\n",
       "  <tbody>\n",
       "    <tr>\n",
       "      <th>age</th>\n",
       "      <td>1338.0</td>\n",
       "      <td>39.207025</td>\n",
       "      <td>14.049960</td>\n",
       "      <td>18.0000</td>\n",
       "      <td>27.00000</td>\n",
       "      <td>39.000</td>\n",
       "      <td>51.000000</td>\n",
       "      <td>64.00000</td>\n",
       "    </tr>\n",
       "    <tr>\n",
       "      <th>bmi</th>\n",
       "      <td>1338.0</td>\n",
       "      <td>30.663397</td>\n",
       "      <td>6.098187</td>\n",
       "      <td>15.9600</td>\n",
       "      <td>26.29625</td>\n",
       "      <td>30.400</td>\n",
       "      <td>34.693750</td>\n",
       "      <td>53.13000</td>\n",
       "    </tr>\n",
       "    <tr>\n",
       "      <th>children</th>\n",
       "      <td>1338.0</td>\n",
       "      <td>1.094918</td>\n",
       "      <td>1.205493</td>\n",
       "      <td>0.0000</td>\n",
       "      <td>0.00000</td>\n",
       "      <td>1.000</td>\n",
       "      <td>2.000000</td>\n",
       "      <td>5.00000</td>\n",
       "    </tr>\n",
       "    <tr>\n",
       "      <th>charges</th>\n",
       "      <td>1338.0</td>\n",
       "      <td>13270.422265</td>\n",
       "      <td>12110.011237</td>\n",
       "      <td>1121.8739</td>\n",
       "      <td>4740.28715</td>\n",
       "      <td>9382.033</td>\n",
       "      <td>16639.912515</td>\n",
       "      <td>63770.42801</td>\n",
       "    </tr>\n",
       "  </tbody>\n",
       "</table>\n",
       "</div>"
      ],
      "text/plain": [
       "           count          mean           std        min         25%       50%  \\\n",
       "age       1338.0     39.207025     14.049960    18.0000    27.00000    39.000   \n",
       "bmi       1338.0     30.663397      6.098187    15.9600    26.29625    30.400   \n",
       "children  1338.0      1.094918      1.205493     0.0000     0.00000     1.000   \n",
       "charges   1338.0  13270.422265  12110.011237  1121.8739  4740.28715  9382.033   \n",
       "\n",
       "                   75%          max  \n",
       "age          51.000000     64.00000  \n",
       "bmi          34.693750     53.13000  \n",
       "children      2.000000      5.00000  \n",
       "charges   16639.912515  63770.42801  "
      ]
     },
     "execution_count": 5,
     "metadata": {},
     "output_type": "execute_result"
    }
   ],
   "source": [
    "df.describe().T"
   ]
  },
  {
   "cell_type": "code",
   "execution_count": 6,
   "metadata": {},
   "outputs": [
    {
     "data": {
      "text/plain": [
       "<bound method DataFrame.info of       age     sex     bmi  children smoker     region       charges\n",
       "0      19  female  27.900         0    yes  southwest  16884.924000\n",
       "1      18    male  33.770         1     no  southeast   1725.552300\n",
       "2      28    male  33.000         3     no  southeast   4449.462000\n",
       "3      33    male  22.705         0     no  northwest  21984.470610\n",
       "4      32    male  28.880         0     no  northwest   3866.855200\n",
       "5      31  female  25.740         0     no  southeast   3756.621600\n",
       "6      46  female  33.440         1     no  southeast   8240.589600\n",
       "7      37  female  27.740         3     no  northwest   7281.505600\n",
       "8      37    male  29.830         2     no  northeast   6406.410700\n",
       "9      60  female  25.840         0     no  northwest  28923.136920\n",
       "10     25    male  26.220         0     no  northeast   2721.320800\n",
       "11     62  female  26.290         0    yes  southeast  27808.725100\n",
       "12     23    male  34.400         0     no  southwest   1826.843000\n",
       "13     56  female  39.820         0     no  southeast  11090.717800\n",
       "14     27    male  42.130         0    yes  southeast  39611.757700\n",
       "15     19    male  24.600         1     no  southwest   1837.237000\n",
       "16     52  female  30.780         1     no  northeast  10797.336200\n",
       "17     23    male  23.845         0     no  northeast   2395.171550\n",
       "18     56    male  40.300         0     no  southwest  10602.385000\n",
       "19     30    male  35.300         0    yes  southwest  36837.467000\n",
       "20     60  female  36.005         0     no  northeast  13228.846950\n",
       "21     30  female  32.400         1     no  southwest   4149.736000\n",
       "22     18    male  34.100         0     no  southeast   1137.011000\n",
       "23     34  female  31.920         1    yes  northeast  37701.876800\n",
       "24     37    male  28.025         2     no  northwest   6203.901750\n",
       "25     59  female  27.720         3     no  southeast  14001.133800\n",
       "26     63  female  23.085         0     no  northeast  14451.835150\n",
       "27     55  female  32.775         2     no  northwest  12268.632250\n",
       "28     23    male  17.385         1     no  northwest   2775.192150\n",
       "29     31    male  36.300         2    yes  southwest  38711.000000\n",
       "30     22    male  35.600         0    yes  southwest  35585.576000\n",
       "31     18  female  26.315         0     no  northeast   2198.189850\n",
       "32     19  female  28.600         5     no  southwest   4687.797000\n",
       "33     63    male  28.310         0     no  northwest  13770.097900\n",
       "34     28    male  36.400         1    yes  southwest  51194.559140\n",
       "35     19    male  20.425         0     no  northwest   1625.433750\n",
       "36     62  female  32.965         3     no  northwest  15612.193350\n",
       "37     26    male  20.800         0     no  southwest   2302.300000\n",
       "38     35    male  36.670         1    yes  northeast  39774.276300\n",
       "39     60    male  39.900         0    yes  southwest  48173.361000\n",
       "40     24  female  26.600         0     no  northeast   3046.062000\n",
       "41     31  female  36.630         2     no  southeast   4949.758700\n",
       "42     41    male  21.780         1     no  southeast   6272.477200\n",
       "43     37  female  30.800         2     no  southeast   6313.759000\n",
       "44     38    male  37.050         1     no  northeast   6079.671500\n",
       "45     55    male  37.300         0     no  southwest  20630.283510\n",
       "46     18  female  38.665         2     no  northeast   3393.356350\n",
       "47     28  female  34.770         0     no  northwest   3556.922300\n",
       "48     60  female  24.530         0     no  southeast  12629.896700\n",
       "49     36    male  35.200         1    yes  southeast  38709.176000\n",
       "50     18  female  35.625         0     no  northeast   2211.130750\n",
       "51     21  female  33.630         2     no  northwest   3579.828700\n",
       "52     48    male  28.000         1    yes  southwest  23568.272000\n",
       "53     36    male  34.430         0    yes  southeast  37742.575700\n",
       "54     40  female  28.690         3     no  northwest   8059.679100\n",
       "55     58    male  36.955         2    yes  northwest  47496.494450\n",
       "56     58  female  31.825         2     no  northeast  13607.368750\n",
       "57     18    male  31.680         2    yes  southeast  34303.167200\n",
       "58     53  female  22.880         1    yes  southeast  23244.790200\n",
       "59     34  female  37.335         2     no  northwest   5989.523650\n",
       "60     43    male  27.360         3     no  northeast   8606.217400\n",
       "61     25    male  33.660         4     no  southeast   4504.662400\n",
       "62     64    male  24.700         1     no  northwest  30166.618170\n",
       "63     28  female  25.935         1     no  northwest   4133.641650\n",
       "64     20  female  22.420         0    yes  northwest  14711.743800\n",
       "65     19  female  28.900         0     no  southwest   1743.214000\n",
       "66     61  female  39.100         2     no  southwest  14235.072000\n",
       "67     40    male  26.315         1     no  northwest   6389.377850\n",
       "68     40  female  36.190         0     no  southeast   5920.104100\n",
       "69     28    male  23.980         3    yes  southeast  17663.144200\n",
       "70     27  female  24.750         0    yes  southeast  16577.779500\n",
       "71     31    male  28.500         5     no  northeast   6799.458000\n",
       "72     53  female  28.100         3     no  southwest  11741.726000\n",
       "73     58    male  32.010         1     no  southeast  11946.625900\n",
       "74     44    male  27.400         2     no  southwest   7726.854000\n",
       "75     57    male  34.010         0     no  northwest  11356.660900\n",
       "76     29  female  29.590         1     no  southeast   3947.413100\n",
       "77     21    male  35.530         0     no  southeast   1532.469700\n",
       "78     22  female  39.805         0     no  northeast   2755.020950\n",
       "79     41  female  32.965         0     no  northwest   6571.024350\n",
       "80     31    male  26.885         1     no  northeast   4441.213150\n",
       "81     45  female  38.285         0     no  northeast   7935.291150\n",
       "82     22    male  37.620         1    yes  southeast  37165.163800\n",
       "83     48  female  41.230         4     no  northwest  11033.661700\n",
       "84     37  female  34.800         2    yes  southwest  39836.519000\n",
       "85     45    male  22.895         2    yes  northwest  21098.554050\n",
       "86     57  female  31.160         0    yes  northwest  43578.939400\n",
       "87     56  female  27.200         0     no  southwest  11073.176000\n",
       "88     46  female  27.740         0     no  northwest   8026.666600\n",
       "89     55  female  26.980         0     no  northwest  11082.577200\n",
       "90     21  female  39.490         0     no  southeast   2026.974100\n",
       "91     53  female  24.795         1     no  northwest  10942.132050\n",
       "92     59    male  29.830         3    yes  northeast  30184.936700\n",
       "93     35    male  34.770         2     no  northwest   5729.005300\n",
       "94     64  female  31.300         2    yes  southwest  47291.055000\n",
       "95     28  female  37.620         1     no  southeast   3766.883800\n",
       "96     54  female  30.800         3     no  southwest  12105.320000\n",
       "97     55    male  38.280         0     no  southeast  10226.284200\n",
       "98     56    male  19.950         0    yes  northeast  22412.648500\n",
       "99     38    male  19.300         0    yes  southwest  15820.699000\n",
       "100    41  female  31.600         0     no  southwest   6186.127000\n",
       "101    30    male  25.460         0     no  northeast   3645.089400\n",
       "102    18  female  30.115         0     no  northeast  21344.846700\n",
       "103    61  female  29.920         3    yes  southeast  30942.191800\n",
       "104    34  female  27.500         1     no  southwest   5003.853000\n",
       "105    20    male  28.025         1    yes  northwest  17560.379750\n",
       "106    19  female  28.400         1     no  southwest   2331.519000\n",
       "107    26    male  30.875         2     no  northwest   3877.304250\n",
       "108    29    male  27.940         0     no  southeast   2867.119600\n",
       "109    63    male  35.090         0    yes  southeast  47055.532100\n",
       "110    54    male  33.630         1     no  northwest  10825.253700\n",
       "111    55  female  29.700         2     no  southwest  11881.358000\n",
       "112    37    male  30.800         0     no  southwest   4646.759000\n",
       "113    21  female  35.720         0     no  northwest   2404.733800\n",
       "114    52    male  32.205         3     no  northeast  11488.316950\n",
       "115    60    male  28.595         0     no  northeast  30259.995560\n",
       "116    58    male  49.060         0     no  southeast  11381.325400\n",
       "117    29  female  27.940         1    yes  southeast  19107.779600\n",
       "118    49  female  27.170         0     no  southeast   8601.329300\n",
       "119    37  female  23.370         2     no  northwest   6686.431300\n",
       "120    44    male  37.100         2     no  southwest   7740.337000\n",
       "121    18    male  23.750         0     no  northeast   1705.624500\n",
       "122    20  female  28.975         0     no  northwest   2257.475250\n",
       "123    44    male  31.350         1    yes  northeast  39556.494500\n",
       "124    47  female  33.915         3     no  northwest  10115.008850\n",
       "125    26  female  28.785         0     no  northeast   3385.399150\n",
       "126    19  female  28.300         0    yes  southwest  17081.080000\n",
       "127    52  female  37.400         0     no  southwest   9634.538000\n",
       "128    32  female  17.765         2    yes  northwest  32734.186300\n",
       "129    38    male  34.700         2     no  southwest   6082.405000\n",
       "130    59  female  26.505         0     no  northeast  12815.444950\n",
       "131    61  female  22.040         0     no  northeast  13616.358600\n",
       "132    53  female  35.900         2     no  southwest  11163.568000\n",
       "133    19    male  25.555         0     no  northwest   1632.564450\n",
       "134    20  female  28.785         0     no  northeast   2457.211150\n",
       "135    22  female  28.050         0     no  southeast   2155.681500\n",
       "136    19    male  34.100         0     no  southwest   1261.442000\n",
       "137    22    male  25.175         0     no  northwest   2045.685250\n",
       "138    54  female  31.900         3     no  southeast  27322.733860\n",
       "139    22  female  36.000         0     no  southwest   2166.732000\n",
       "140    34    male  22.420         2     no  northeast  27375.904780\n",
       "141    26    male  32.490         1     no  northeast   3490.549100\n",
       "142    34    male  25.300         2    yes  southeast  18972.495000\n",
       "143    29    male  29.735         2     no  northwest  18157.876000\n",
       "144    30    male  28.690         3    yes  northwest  20745.989100\n",
       "145    29  female  38.830         3     no  southeast   5138.256700\n",
       "146    46    male  30.495         3    yes  northwest  40720.551050\n",
       "147    51  female  37.730         1     no  southeast   9877.607700\n",
       "148    53  female  37.430         1     no  northwest  10959.694700\n",
       "149    19    male  28.400         1     no  southwest   1842.519000\n",
       "150    35    male  24.130         1     no  northwest   5125.215700\n",
       "151    48    male  29.700         0     no  southeast   7789.635000\n",
       "152    32  female  37.145         3     no  northeast   6334.343550\n",
       "153    42  female  23.370         0    yes  northeast  19964.746300\n",
       "154    40  female  25.460         1     no  northeast   7077.189400\n",
       "155    44    male  39.520         0     no  northwest   6948.700800\n",
       "156    48    male  24.420         0    yes  southeast  21223.675800\n",
       "157    18    male  25.175         0    yes  northeast  15518.180250\n",
       "158    30    male  35.530         0    yes  southeast  36950.256700\n",
       "159    50  female  27.830         3     no  southeast  19749.383380\n",
       "160    42  female  26.600         0    yes  northwest  21348.706000\n",
       "161    18  female  36.850         0    yes  southeast  36149.483500\n",
       "162    54    male  39.600         1     no  southwest  10450.552000\n",
       "163    32  female  29.800         2     no  southwest   5152.134000\n",
       "164    37    male  29.640         0     no  northwest   5028.146600\n",
       "165    47    male  28.215         4     no  northeast  10407.085850\n",
       "166    20  female  37.000         5     no  southwest   4830.630000\n",
       "167    32  female  33.155         3     no  northwest   6128.797450\n",
       "168    19  female  31.825         1     no  northwest   2719.279750\n",
       "169    27    male  18.905         3     no  northeast   4827.904950\n",
       "170    63    male  41.470         0     no  southeast  13405.390300\n",
       "171    49    male  30.300         0     no  southwest   8116.680000\n",
       "172    18    male  15.960         0     no  northeast   1694.796400\n",
       "173    35  female  34.800         1     no  southwest   5246.047000\n",
       "174    24  female  33.345         0     no  northwest   2855.437550\n",
       "175    63  female  37.700         0    yes  southwest  48824.450000\n",
       "176    38    male  27.835         2     no  northwest   6455.862650\n",
       "177    54    male  29.200         1     no  southwest  10436.096000\n",
       "178    46  female  28.900         2     no  southwest   8823.279000\n",
       "179    41  female  33.155         3     no  northeast   8538.288450\n",
       "180    58    male  28.595         0     no  northwest  11735.879050\n",
       "181    18  female  38.280         0     no  southeast   1631.821200\n",
       "182    22    male  19.950         3     no  northeast   4005.422500\n",
       "183    44  female  26.410         0     no  northwest   7419.477900\n",
       "184    44    male  30.690         2     no  southeast   7731.427100\n",
       "185    36    male  41.895         3    yes  northeast  43753.337050\n",
       "186    26  female  29.920         2     no  southeast   3981.976800\n",
       "187    30  female  30.900         3     no  southwest   5325.651000\n",
       "188    41  female  32.200         1     no  southwest   6775.961000\n",
       "189    29  female  32.110         2     no  northwest   4922.915900\n",
       "190    61    male  31.570         0     no  southeast  12557.605300\n",
       "191    36  female  26.200         0     no  southwest   4883.866000\n",
       "192    25    male  25.740         0     no  southeast   2137.653600\n",
       "193    56  female  26.600         1     no  northwest  12044.342000\n",
       "194    18    male  34.430         0     no  southeast   1137.469700\n",
       "195    19    male  30.590         0     no  northwest   1639.563100\n",
       "196    39  female  32.800         0     no  southwest   5649.715000\n",
       "197    45  female  28.600         2     no  southeast   8516.829000\n",
       "198    51  female  18.050         0     no  northwest   9644.252500\n",
       "199    64  female  39.330         0     no  northeast  14901.516700\n",
       "200    19  female  32.110         0     no  northwest   2130.675900\n",
       "201    48  female  32.230         1     no  southeast   8871.151700\n",
       "202    60  female  24.035         0     no  northwest  13012.208650\n",
       "203    27  female  36.080         0    yes  southeast  37133.898200\n",
       "204    46    male  22.300         0     no  southwest   7147.105000\n",
       "205    28  female  28.880         1     no  northeast   4337.735200\n",
       "206    59    male  26.400         0     no  southeast  11743.299000\n",
       "207    35    male  27.740         2    yes  northeast  20984.093600\n",
       "208    63  female  31.800         0     no  southwest  13880.949000\n",
       "209    40    male  41.230         1     no  northeast   6610.109700\n",
       "210    20    male  33.000         1     no  southwest   1980.070000\n",
       "211    40    male  30.875         4     no  northwest   8162.716250\n",
       "212    24    male  28.500         2     no  northwest   3537.703000\n",
       "213    34  female  26.730         1     no  southeast   5002.782700\n",
       "214    45  female  30.900         2     no  southwest   8520.026000\n",
       "215    41  female  37.100         2     no  southwest   7371.772000\n",
       "216    53  female  26.600         0     no  northwest  10355.641000\n",
       "217    27    male  23.100         0     no  southeast   2483.736000\n",
       "218    26  female  29.920         1     no  southeast   3392.976800\n",
       "219    24  female  23.210         0     no  southeast  25081.767840\n",
       "220    34  female  33.700         1     no  southwest   5012.471000\n",
       "221    53  female  33.250         0     no  northeast  10564.884500\n",
       "222    32    male  30.800         3     no  southwest   5253.524000\n",
       "223    19    male  34.800         0    yes  southwest  34779.615000\n",
       "224    42    male  24.640         0    yes  southeast  19515.541600\n",
       "225    55    male  33.880         3     no  southeast  11987.168200\n",
       "226    28    male  38.060         0     no  southeast   2689.495400\n",
       "227    58  female  41.910         0     no  southeast  24227.337240\n",
       "228    41  female  31.635         1     no  northeast   7358.175650\n",
       "229    47    male  25.460         2     no  northeast   9225.256400\n",
       "230    42  female  36.195         1     no  northwest   7443.643050\n",
       "231    59  female  27.830         3     no  southeast  14001.286700\n",
       "232    19  female  17.800         0     no  southwest   1727.785000\n",
       "233    59    male  27.500         1     no  southwest  12333.828000\n",
       "234    39    male  24.510         2     no  northwest   6710.191900\n",
       "235    40  female  22.220         2    yes  southeast  19444.265800\n",
       "236    18  female  26.730         0     no  southeast   1615.766700\n",
       "237    31    male  38.390         2     no  southeast   4463.205100\n",
       "238    19    male  29.070         0    yes  northwest  17352.680300\n",
       "239    44    male  38.060         1     no  southeast   7152.671400\n",
       "240    23  female  36.670         2    yes  northeast  38511.628300\n",
       "241    33  female  22.135         1     no  northeast   5354.074650\n",
       "242    55  female  26.800         1     no  southwest  35160.134570\n",
       "243    40    male  35.300         3     no  southwest   7196.867000\n",
       "244    63  female  27.740         0    yes  northeast  29523.165600\n",
       "245    54    male  30.020         0     no  northwest  24476.478510\n",
       "246    60  female  38.060         0     no  southeast  12648.703400\n",
       "247    24    male  35.860         0     no  southeast   1986.933400\n",
       "248    19    male  20.900         1     no  southwest   1832.094000\n",
       "249    29    male  28.975         1     no  northeast   4040.558250\n",
       "250    18    male  17.290         2    yes  northeast  12829.455100\n",
       "251    63  female  32.200         2    yes  southwest  47305.305000\n",
       "252    54    male  34.210         2    yes  southeast  44260.749900\n",
       "253    27    male  30.300         3     no  southwest   4260.744000\n",
       "254    50    male  31.825         0    yes  northeast  41097.161750\n",
       "255    55  female  25.365         3     no  northeast  13047.332350\n",
       "256    56    male  33.630         0    yes  northwest  43921.183700\n",
       "257    38  female  40.150         0     no  southeast   5400.980500\n",
       "258    51    male  24.415         4     no  northwest  11520.099850\n",
       "259    19    male  31.920         0    yes  northwest  33750.291800\n",
       "260    58  female  25.200         0     no  southwest  11837.160000\n",
       "261    20  female  26.840         1    yes  southeast  17085.267600\n",
       "262    52    male  24.320         3    yes  northeast  24869.836800\n",
       "263    19    male  36.955         0    yes  northwest  36219.405450\n",
       "264    53  female  38.060         3     no  southeast  20462.997660\n",
       "265    46    male  42.350         3    yes  southeast  46151.124500\n",
       "266    40    male  19.800         1    yes  southeast  17179.522000\n",
       "267    59  female  32.395         3     no  northeast  14590.632050\n",
       "268    45    male  30.200         1     no  southwest   7441.053000\n",
       "269    49    male  25.840         1     no  northeast   9282.480600\n",
       "270    18    male  29.370         1     no  southeast   1719.436300\n",
       "271    50    male  34.200         2    yes  southwest  42856.838000\n",
       "272    41    male  37.050         2     no  northwest   7265.702500\n",
       "273    50    male  27.455         1     no  northeast   9617.662450\n",
       "274    25    male  27.550         0     no  northwest   2523.169500\n",
       "275    47  female  26.600         2     no  northeast   9715.841000\n",
       "276    19    male  20.615         2     no  northwest   2803.697850\n",
       "277    22  female  24.300         0     no  southwest   2150.469000\n",
       "278    59    male  31.790         2     no  southeast  12928.791100\n",
       "279    51  female  21.560         1     no  southeast   9855.131400\n",
       "280    40  female  28.120         1    yes  northeast  22331.566800\n",
       "281    54    male  40.565         3    yes  northeast  48549.178350\n",
       "282    30    male  27.645         1     no  northeast   4237.126550\n",
       "283    55  female  32.395         1     no  northeast  11879.104050\n",
       "284    52  female  31.200         0     no  southwest   9625.920000\n",
       "285    46    male  26.620         1     no  southeast   7742.109800\n",
       "286    46  female  48.070         2     no  northeast   9432.925300\n",
       "287    63  female  26.220         0     no  northwest  14256.192800\n",
       "288    59  female  36.765         1    yes  northeast  47896.791350\n",
       "289    52    male  26.400         3     no  southeast  25992.821040\n",
       "290    28  female  33.400         0     no  southwest   3172.018000\n",
       "291    29    male  29.640         1     no  northeast  20277.807510\n",
       "292    25    male  45.540         2    yes  southeast  42112.235600\n",
       "293    22  female  28.820         0     no  southeast   2156.751800\n",
       "294    25    male  26.800         3     no  southwest   3906.127000\n",
       "295    18    male  22.990         0     no  northeast   1704.568100\n",
       "296    19    male  27.700         0    yes  southwest  16297.846000\n",
       "297    47    male  25.410         1    yes  southeast  21978.676900\n",
       "298    31    male  34.390         3    yes  northwest  38746.355100\n",
       "299    48  female  28.880         1     no  northwest   9249.495200\n",
       "300    36    male  27.550         3     no  northeast   6746.742500\n",
       "301    53  female  22.610         3    yes  northeast  24873.384900\n",
       "302    56  female  37.510         2     no  southeast  12265.506900\n",
       "303    28  female  33.000         2     no  southeast   4349.462000\n",
       "304    57  female  38.000         2     no  southwest  12646.207000\n",
       "305    29    male  33.345         2     no  northwest  19442.353500\n",
       "306    28  female  27.500         2     no  southwest  20177.671130\n",
       "307    30  female  33.330         1     no  southeast   4151.028700\n",
       "308    58    male  34.865         0     no  northeast  11944.594350\n",
       "309    41  female  33.060         2     no  northwest   7749.156400\n",
       "310    50    male  26.600         0     no  southwest   8444.474000\n",
       "311    19  female  24.700         0     no  southwest   1737.376000\n",
       "312    43    male  35.970         3    yes  southeast  42124.515300\n",
       "313    49    male  35.860         0     no  southeast   8124.408400\n",
       "314    27  female  31.400         0    yes  southwest  34838.873000\n",
       "315    52    male  33.250         0     no  northeast   9722.769500\n",
       "316    50    male  32.205         0     no  northwest   8835.264950\n",
       "317    54    male  32.775         0     no  northeast  10435.065250\n",
       "318    44  female  27.645         0     no  northwest   7421.194550\n",
       "319    32    male  37.335         1     no  northeast   4667.607650\n",
       "320    34    male  25.270         1     no  northwest   4894.753300\n",
       "321    26  female  29.640         4     no  northeast  24671.663340\n",
       "322    34    male  30.800         0    yes  southwest  35491.640000\n",
       "323    57    male  40.945         0     no  northeast  11566.300550\n",
       "324    29    male  27.200         0     no  southwest   2866.091000\n",
       "325    40    male  34.105         1     no  northeast   6600.205950\n",
       "326    27  female  23.210         1     no  southeast   3561.888900\n",
       "327    45    male  36.480         2    yes  northwest  42760.502200\n",
       "328    64  female  33.800         1    yes  southwest  47928.030000\n",
       "329    52    male  36.700         0     no  southwest   9144.565000\n",
       "330    61  female  36.385         1    yes  northeast  48517.563150\n",
       "331    52    male  27.360         0    yes  northwest  24393.622400\n",
       "332    61  female  31.160         0     no  northwest  13429.035400\n",
       "333    56  female  28.785         0     no  northeast  11658.379150\n",
       "334    43  female  35.720         2     no  northeast  19144.576520\n",
       "335    64    male  34.500         0     no  southwest  13822.803000\n",
       "336    60    male  25.740         0     no  southeast  12142.578600\n",
       "337    62    male  27.550         1     no  northwest  13937.666500\n",
       "338    50    male  32.300         1    yes  northeast  41919.097000\n",
       "339    46  female  27.720         1     no  southeast   8232.638800\n",
       "340    24  female  27.600         0     no  southwest  18955.220170\n",
       "341    62    male  30.020         0     no  northwest  13352.099800\n",
       "342    60  female  27.550         0     no  northeast  13217.094500\n",
       "343    63    male  36.765         0     no  northeast  13981.850350\n",
       "344    49  female  41.470         4     no  southeast  10977.206300\n",
       "345    34  female  29.260         3     no  southeast   6184.299400\n",
       "346    33    male  35.750         2     no  southeast   4889.999500\n",
       "347    46    male  33.345         1     no  northeast   8334.457550\n",
       "348    36  female  29.920         1     no  southeast   5478.036800\n",
       "349    19    male  27.835         0     no  northwest   1635.733650\n",
       "350    57  female  23.180         0     no  northwest  11830.607200\n",
       "351    50  female  25.600         0     no  southwest   8932.084000\n",
       "352    30  female  27.700         0     no  southwest   3554.203000\n",
       "353    33    male  35.245         0     no  northeast  12404.879100\n",
       "354    18  female  38.280         0     no  southeast  14133.037750\n",
       "355    46    male  27.600         0     no  southwest  24603.048370\n",
       "356    46    male  43.890         3     no  southeast   8944.115100\n",
       "357    47    male  29.830         3     no  northwest   9620.330700\n",
       "358    23    male  41.910         0     no  southeast   1837.281900\n",
       "359    18  female  20.790         0     no  southeast   1607.510100\n",
       "360    48  female  32.300         2     no  northeast  10043.249000\n",
       "361    35    male  30.500         1     no  southwest   4751.070000\n",
       "362    19  female  21.700         0    yes  southwest  13844.506000\n",
       "363    21  female  26.400         1     no  southwest   2597.779000\n",
       "364    21  female  21.890         2     no  southeast   3180.510100\n",
       "365    49  female  30.780         1     no  northeast   9778.347200\n",
       "366    56  female  32.300         3     no  northeast  13430.265000\n",
       "367    42  female  24.985         2     no  northwest   8017.061150\n",
       "368    44    male  32.015         2     no  northwest   8116.268850\n",
       "369    18    male  30.400         3     no  northeast   3481.868000\n",
       "370    61  female  21.090         0     no  northwest  13415.038100\n",
       "371    57  female  22.230         0     no  northeast  12029.286700\n",
       "372    42  female  33.155         1     no  northeast   7639.417450\n",
       "373    26    male  32.900         2    yes  southwest  36085.219000\n",
       "374    20    male  33.330         0     no  southeast   1391.528700\n",
       "375    23  female  28.310         0    yes  northwest  18033.967900\n",
       "376    39  female  24.890         3    yes  northeast  21659.930100\n",
       "377    24    male  40.150         0    yes  southeast  38126.246500\n",
       "378    64  female  30.115         3     no  northwest  16455.707850\n",
       "379    62    male  31.460         1     no  southeast  27000.984730\n",
       "380    27  female  17.955         2    yes  northeast  15006.579450\n",
       "381    55    male  30.685         0    yes  northeast  42303.692150\n",
       "382    55    male  33.000         0     no  southeast  20781.488920\n",
       "383    35  female  43.340         2     no  southeast   5846.917600\n",
       "384    44    male  22.135         2     no  northeast   8302.535650\n",
       "385    19    male  34.400         0     no  southwest   1261.859000\n",
       "386    58  female  39.050         0     no  southeast  11856.411500\n",
       "387    50    male  25.365         2     no  northwest  30284.642940\n",
       "388    26  female  22.610         0     no  northwest   3176.815900\n",
       "389    24  female  30.210         3     no  northwest   4618.079900\n",
       "390    48    male  35.625         4     no  northeast  10736.870750\n",
       "391    19  female  37.430         0     no  northwest   2138.070700\n",
       "392    48    male  31.445         1     no  northeast   8964.060550\n",
       "393    49    male  31.350         1     no  northeast   9290.139500\n",
       "394    46  female  32.300         2     no  northeast   9411.005000\n",
       "395    46    male  19.855         0     no  northwest   7526.706450\n",
       "396    43  female  34.400         3     no  southwest   8522.003000\n",
       "397    21    male  31.020         0     no  southeast  16586.497710\n",
       "398    64    male  25.600         2     no  southwest  14988.432000\n",
       "399    18  female  38.170         0     no  southeast   1631.668300\n",
       "400    51  female  20.600         0     no  southwest   9264.797000\n",
       "401    47    male  47.520         1     no  southeast   8083.919800\n",
       "402    64  female  32.965         0     no  northwest  14692.669350\n",
       "403    49    male  32.300         3     no  northwest  10269.460000\n",
       "404    31    male  20.400         0     no  southwest   3260.199000\n",
       "405    52  female  38.380         2     no  northeast  11396.900200\n",
       "406    33  female  24.310         0     no  southeast   4185.097900\n",
       "407    47  female  23.600         1     no  southwest   8539.671000\n",
       "408    38    male  21.120         3     no  southeast   6652.528800\n",
       "409    32    male  30.030         1     no  southeast   4074.453700\n",
       "410    19    male  17.480         0     no  northwest   1621.340200\n",
       "411    44  female  20.235         1    yes  northeast  19594.809650\n",
       "412    26  female  17.195         2    yes  northeast  14455.644050\n",
       "413    25    male  23.900         5     no  southwest   5080.096000\n",
       "414    19  female  35.150         0     no  northwest   2134.901500\n",
       "415    43  female  35.640         1     no  southeast   7345.726600\n",
       "416    52    male  34.100         0     no  southeast   9140.951000\n",
       "417    36  female  22.600         2    yes  southwest  18608.262000\n",
       "418    64    male  39.160         1     no  southeast  14418.280400\n",
       "419    63  female  26.980         0    yes  northwest  28950.469200\n",
       "420    64    male  33.880         0    yes  southeast  46889.261200\n",
       "421    61    male  35.860         0    yes  southeast  46599.108400\n",
       "422    40    male  32.775         1    yes  northeast  39125.332250\n",
       "423    25    male  30.590         0     no  northeast   2727.395100\n",
       "424    48    male  30.200         2     no  southwest   8968.330000\n",
       "425    45    male  24.310         5     no  southeast   9788.865900\n",
       "426    38  female  27.265         1     no  northeast   6555.070350\n",
       "427    18  female  29.165         0     no  northeast   7323.734819\n",
       "428    21  female  16.815         1     no  northeast   3167.455850\n",
       "429    27  female  30.400         3     no  northwest  18804.752400\n",
       "430    19    male  33.100         0     no  southwest  23082.955330\n",
       "431    29  female  20.235         2     no  northwest   4906.409650\n",
       "432    42    male  26.900         0     no  southwest   5969.723000\n",
       "433    60  female  30.500         0     no  southwest  12638.195000\n",
       "434    31    male  28.595         1     no  northwest   4243.590050\n",
       "435    60    male  33.110         3     no  southeast  13919.822900\n",
       "436    22    male  31.730         0     no  northeast   2254.796700\n",
       "437    35    male  28.900         3     no  southwest   5926.846000\n",
       "438    52  female  46.750         5     no  southeast  12592.534500\n",
       "439    26    male  29.450         0     no  northeast   2897.323500\n",
       "440    31  female  32.680         1     no  northwest   4738.268200\n",
       "441    33  female  33.500         0    yes  southwest  37079.372000\n",
       "442    18    male  43.010         0     no  southeast   1149.395900\n",
       "443    59  female  36.520         1     no  southeast  28287.897660\n",
       "444    56    male  26.695         1    yes  northwest  26109.329050\n",
       "445    45  female  33.100         0     no  southwest   7345.084000\n",
       "446    60    male  29.640         0     no  northeast  12730.999600\n",
       "447    56  female  25.650         0     no  northwest  11454.021500\n",
       "448    40  female  29.600         0     no  southwest   5910.944000\n",
       "449    35    male  38.600         1     no  southwest   4762.329000\n",
       "450    39    male  29.600         4     no  southwest   7512.267000\n",
       "451    30    male  24.130         1     no  northwest   4032.240700\n",
       "452    24    male  23.400         0     no  southwest   1969.614000\n",
       "453    20    male  29.735         0     no  northwest   1769.531650\n",
       "454    32    male  46.530         2     no  southeast   4686.388700\n",
       "455    59    male  37.400         0     no  southwest  21797.000400\n",
       "456    55  female  30.140         2     no  southeast  11881.969600\n",
       "457    57  female  30.495         0     no  northwest  11840.775050\n",
       "458    56    male  39.600         0     no  southwest  10601.412000\n",
       "459    40  female  33.000         3     no  southeast   7682.670000\n",
       "460    49  female  36.630         3     no  southeast  10381.478700\n",
       "461    42    male  30.000         0    yes  southwest  22144.032000\n",
       "462    62  female  38.095         2     no  northeast  15230.324050\n",
       "463    56    male  25.935         0     no  northeast  11165.417650\n",
       "464    19    male  25.175         0     no  northwest   1632.036250\n",
       "465    30  female  28.380         1    yes  southeast  19521.968200\n",
       "466    60  female  28.700         1     no  southwest  13224.693000\n",
       "467    56  female  33.820         2     no  northwest  12643.377800\n",
       "468    28  female  24.320         1     no  northeast  23288.928400\n",
       "469    18  female  24.090         1     no  southeast   2201.097100\n",
       "470    27    male  32.670         0     no  southeast   2497.038300\n",
       "471    18  female  30.115         0     no  northeast   2203.471850\n",
       "472    19  female  29.800         0     no  southwest   1744.465000\n",
       "473    47  female  33.345         0     no  northeast  20878.784430\n",
       "474    54    male  25.100         3    yes  southwest  25382.297000\n",
       "475    61    male  28.310         1    yes  northwest  28868.663900\n",
       "476    24    male  28.500         0    yes  northeast  35147.528480\n",
       "477    25    male  35.625         0     no  northwest   2534.393750\n",
       "478    21    male  36.850         0     no  southeast   1534.304500\n",
       "479    23    male  32.560         0     no  southeast   1824.285400\n",
       "480    63    male  41.325         3     no  northwest  15555.188750\n",
       "481    49    male  37.510         2     no  southeast   9304.701900\n",
       "482    18  female  31.350         0     no  southeast   1622.188500\n",
       "483    51  female  39.500         1     no  southwest   9880.068000\n",
       "484    48    male  34.300         3     no  southwest   9563.029000\n",
       "485    31  female  31.065         0     no  northeast   4347.023350\n",
       "486    54  female  21.470         3     no  northwest  12475.351300\n",
       "487    19    male  28.700         0     no  southwest   1253.936000\n",
       "488    44  female  38.060         0    yes  southeast  48885.135610\n",
       "489    53    male  31.160         1     no  northwest  10461.979400\n",
       "490    19  female  32.900         0     no  southwest   1748.774000\n",
       "491    61  female  25.080         0     no  southeast  24513.091260\n",
       "492    18  female  25.080         0     no  northeast   2196.473200\n",
       "493    61    male  43.400         0     no  southwest  12574.049000\n",
       "494    21    male  25.700         4    yes  southwest  17942.106000\n",
       "495    20    male  27.930         0     no  northeast   1967.022700\n",
       "496    31  female  23.600         2     no  southwest   4931.647000\n",
       "497    45    male  28.700         2     no  southwest   8027.968000\n",
       "498    44  female  23.980         2     no  southeast   8211.100200\n",
       "499    62  female  39.200         0     no  southwest  13470.860000\n",
       "500    29    male  34.400         0    yes  southwest  36197.699000\n",
       "501    43    male  26.030         0     no  northeast   6837.368700\n",
       "502    51    male  23.210         1    yes  southeast  22218.114900\n",
       "503    19    male  30.250         0    yes  southeast  32548.340500\n",
       "504    38  female  28.930         1     no  southeast   5974.384700\n",
       "505    37    male  30.875         3     no  northwest   6796.863250\n",
       "506    22    male  31.350         1     no  northwest   2643.268500\n",
       "507    21    male  23.750         2     no  northwest   3077.095500\n",
       "508    24  female  25.270         0     no  northeast   3044.213300\n",
       "509    57  female  28.700         0     no  southwest  11455.280000\n",
       "510    56    male  32.110         1     no  northeast  11763.000900\n",
       "511    27    male  33.660         0     no  southeast   2498.414400\n",
       "512    51    male  22.420         0     no  northeast   9361.326800\n",
       "513    19    male  30.400         0     no  southwest   1256.299000\n",
       "514    39    male  28.300         1    yes  southwest  21082.160000\n",
       "515    58    male  35.700         0     no  southwest  11362.755000\n",
       "516    20    male  35.310         1     no  southeast  27724.288750\n",
       "517    45    male  30.495         2     no  northwest   8413.463050\n",
       "518    35  female  31.000         1     no  southwest   5240.765000\n",
       "519    31    male  30.875         0     no  northeast   3857.759250\n",
       "520    50  female  27.360         0     no  northeast  25656.575260\n",
       "521    32  female  44.220         0     no  southeast   3994.177800\n",
       "522    51  female  33.915         0     no  northeast   9866.304850\n",
       "523    38  female  37.730         0     no  southeast   5397.616700\n",
       "524    42    male  26.070         1    yes  southeast  38245.593270\n",
       "525    18  female  33.880         0     no  southeast  11482.634850\n",
       "526    19  female  30.590         2     no  northwest  24059.680190\n",
       "527    51  female  25.800         1     no  southwest   9861.025000\n",
       "528    46    male  39.425         1     no  northeast   8342.908750\n",
       "529    18    male  25.460         0     no  northeast   1708.001400\n",
       "530    57    male  42.130         1    yes  southeast  48675.517700\n",
       "531    62  female  31.730         0     no  northeast  14043.476700\n",
       "532    59    male  29.700         2     no  southeast  12925.886000\n",
       "533    37    male  36.190         0     no  southeast  19214.705530\n",
       "534    64    male  40.480         0     no  southeast  13831.115200\n",
       "535    38    male  28.025         1     no  northeast   6067.126750\n",
       "536    33  female  38.900         3     no  southwest   5972.378000\n",
       "537    46  female  30.200         2     no  southwest   8825.086000\n",
       "538    46  female  28.050         1     no  southeast   8233.097500\n",
       "539    53    male  31.350         0     no  southeast  27346.042070\n",
       "540    34  female  38.000         3     no  southwest   6196.448000\n",
       "541    20  female  31.790         2     no  southeast   3056.388100\n",
       "542    63  female  36.300         0     no  southeast  13887.204000\n",
       "543    54  female  47.410         0    yes  southeast  63770.428010\n",
       "544    54    male  30.210         0     no  northwest  10231.499900\n",
       "545    49    male  25.840         2    yes  northwest  23807.240600\n",
       "546    28    male  35.435         0     no  northeast   3268.846650\n",
       "547    54  female  46.700         2     no  southwest  11538.421000\n",
       "548    25  female  28.595         0     no  northeast   3213.622050\n",
       "549    43  female  46.200         0    yes  southeast  45863.205000\n",
       "550    63    male  30.800         0     no  southwest  13390.559000\n",
       "551    32  female  28.930         0     no  southeast   3972.924700\n",
       "552    62    male  21.400         0     no  southwest  12957.118000\n",
       "553    52  female  31.730         2     no  northwest  11187.656700\n",
       "554    25  female  41.325         0     no  northeast  17878.900680\n",
       "555    28    male  23.800         2     no  southwest   3847.674000\n",
       "556    46    male  33.440         1     no  northeast   8334.589600\n",
       "557    34    male  34.210         0     no  southeast   3935.179900\n",
       "558    35  female  34.105         3    yes  northwest  39983.425950\n",
       "559    19    male  35.530         0     no  northwest   1646.429700\n",
       "560    46  female  19.950         2     no  northwest   9193.838500\n",
       "561    54  female  32.680         0     no  northeast  10923.933200\n",
       "562    27    male  30.500         0     no  southwest   2494.022000\n",
       "563    50    male  44.770         1     no  southeast   9058.730300\n",
       "564    18  female  32.120         2     no  southeast   2801.258800\n",
       "565    19  female  30.495         0     no  northwest   2128.431050\n",
       "566    38  female  40.565         1     no  northwest   6373.557350\n",
       "567    41    male  30.590         2     no  northwest   7256.723100\n",
       "568    49  female  31.900         5     no  southwest  11552.904000\n",
       "569    48    male  40.565         2    yes  northwest  45702.022350\n",
       "570    31  female  29.100         0     no  southwest   3761.292000\n",
       "571    18  female  37.290         1     no  southeast   2219.445100\n",
       "572    30  female  43.120         2     no  southeast   4753.636800\n",
       "573    62  female  36.860         1     no  northeast  31620.001060\n",
       "574    57  female  34.295         2     no  northeast  13224.057050\n",
       "575    58  female  27.170         0     no  northwest  12222.898300\n",
       "576    22    male  26.840         0     no  southeast   1664.999600\n",
       "577    31  female  38.095         1    yes  northeast  58571.074480\n",
       "578    52    male  30.200         1     no  southwest   9724.530000\n",
       "579    25  female  23.465         0     no  northeast   3206.491350\n",
       "580    59    male  25.460         1     no  northeast  12913.992400\n",
       "581    19    male  30.590         0     no  northwest   1639.563100\n",
       "582    39    male  45.430         2     no  southeast   6356.270700\n",
       "583    32  female  23.650         1     no  southeast  17626.239510\n",
       "584    19    male  20.700         0     no  southwest   1242.816000\n",
       "585    33  female  28.270         1     no  southeast   4779.602300\n",
       "586    21    male  20.235         3     no  northeast   3861.209650\n",
       "587    34  female  30.210         1    yes  northwest  43943.876100\n",
       "588    61  female  35.910         0     no  northeast  13635.637900\n",
       "589    38  female  30.690         1     no  southeast   5976.831100\n",
       "590    58  female  29.000         0     no  southwest  11842.442000\n",
       "591    47    male  19.570         1     no  northwest   8428.069300\n",
       "592    20    male  31.130         2     no  southeast   2566.470700\n",
       "593    21  female  21.850         1    yes  northeast  15359.104500\n",
       "594    41    male  40.260         0     no  southeast   5709.164400\n",
       "595    46  female  33.725         1     no  northeast   8823.985750\n",
       "596    42  female  29.480         2     no  southeast   7640.309200\n",
       "597    34  female  33.250         1     no  northeast   5594.845500\n",
       "598    43    male  32.600         2     no  southwest   7441.501000\n",
       "599    52  female  37.525         2     no  northwest  33471.971890\n",
       "600    18  female  39.160         0     no  southeast   1633.044400\n",
       "601    51    male  31.635         0     no  northwest   9174.135650\n",
       "602    56  female  25.300         0     no  southwest  11070.535000\n",
       "603    64  female  39.050         3     no  southeast  16085.127500\n",
       "604    19  female  28.310         0    yes  northwest  17468.983900\n",
       "605    51  female  34.100         0     no  southeast   9283.562000\n",
       "606    27  female  25.175         0     no  northeast   3558.620250\n",
       "607    59  female  23.655         0    yes  northwest  25678.778450\n",
       "608    28    male  26.980         2     no  northeast   4435.094200\n",
       "609    30    male  37.800         2    yes  southwest  39241.442000\n",
       "610    47  female  29.370         1     no  southeast   8547.691300\n",
       "611    38  female  34.800         2     no  southwest   6571.544000\n",
       "612    18  female  33.155         0     no  northeast   2207.697450\n",
       "613    34  female  19.000         3     no  northeast   6753.038000\n",
       "614    20  female  33.000         0     no  southeast   1880.070000\n",
       "615    47  female  36.630         1    yes  southeast  42969.852700\n",
       "616    56  female  28.595         0     no  northeast  11658.115050\n",
       "617    49    male  25.600         2    yes  southwest  23306.547000\n",
       "618    19  female  33.110         0    yes  southeast  34439.855900\n",
       "619    55  female  37.100         0     no  southwest  10713.644000\n",
       "620    30    male  31.400         1     no  southwest   3659.346000\n",
       "621    37    male  34.100         4    yes  southwest  40182.246000\n",
       "622    49  female  21.300         1     no  southwest   9182.170000\n",
       "623    18    male  33.535         0    yes  northeast  34617.840650\n",
       "624    59    male  28.785         0     no  northwest  12129.614150\n",
       "625    29  female  26.030         0     no  northwest   3736.464700\n",
       "626    36    male  28.880         3     no  northeast   6748.591200\n",
       "627    33    male  42.460         1     no  southeast  11326.714870\n",
       "628    58    male  38.000         0     no  southwest  11365.952000\n",
       "629    44  female  38.950         0    yes  northwest  42983.458500\n",
       "630    53    male  36.100         1     no  southwest  10085.846000\n",
       "631    24    male  29.300         0     no  southwest   1977.815000\n",
       "632    29  female  35.530         0     no  southeast   3366.669700\n",
       "633    40    male  22.705         2     no  northeast   7173.359950\n",
       "634    51    male  39.700         1     no  southwest   9391.346000\n",
       "635    64    male  38.190         0     no  northeast  14410.932100\n",
       "636    19  female  24.510         1     no  northwest   2709.111900\n",
       "637    35  female  38.095         2     no  northeast  24915.046260\n",
       "638    39    male  26.410         0    yes  northeast  20149.322900\n",
       "639    56    male  33.660         4     no  southeast  12949.155400\n",
       "640    33    male  42.400         5     no  southwest   6666.243000\n",
       "641    42    male  28.310         3    yes  northwest  32787.458590\n",
       "642    61    male  33.915         0     no  northeast  13143.864850\n",
       "643    23  female  34.960         3     no  northwest   4466.621400\n",
       "644    43    male  35.310         2     no  southeast  18806.145470\n",
       "645    48    male  30.780         3     no  northeast  10141.136200\n",
       "646    39    male  26.220         1     no  northwest   6123.568800\n",
       "647    40  female  23.370         3     no  northeast   8252.284300\n",
       "648    18    male  28.500         0     no  northeast   1712.227000\n",
       "649    58  female  32.965         0     no  northeast  12430.953350\n",
       "650    49  female  42.680         2     no  southeast   9800.888200\n",
       "651    53  female  39.600         1     no  southeast  10579.711000\n",
       "652    48  female  31.130         0     no  southeast   8280.622700\n",
       "653    45  female  36.300         2     no  southeast   8527.532000\n",
       "654    59  female  35.200         0     no  southeast  12244.531000\n",
       "655    52  female  25.300         2    yes  southeast  24667.419000\n",
       "656    26  female  42.400         1     no  southwest   3410.324000\n",
       "657    27    male  33.155         2     no  northwest   4058.712450\n",
       "658    48  female  35.910         1     no  northeast  26392.260290\n",
       "659    57  female  28.785         4     no  northeast  14394.398150\n",
       "660    37    male  46.530         3     no  southeast   6435.623700\n",
       "661    57  female  23.980         1     no  southeast  22192.437110\n",
       "662    32  female  31.540         1     no  northeast   5148.552600\n",
       "663    18    male  33.660         0     no  southeast   1136.399400\n",
       "664    64  female  22.990         0    yes  southeast  27037.914100\n",
       "665    43    male  38.060         2    yes  southeast  42560.430400\n",
       "666    49    male  28.700         1     no  southwest   8703.456000\n",
       "667    40  female  32.775         2    yes  northwest  40003.332250\n",
       "668    62    male  32.015         0    yes  northeast  45710.207850\n",
       "669    40  female  29.810         1     no  southeast   6500.235900\n",
       "670    30    male  31.570         3     no  southeast   4837.582300\n",
       "671    29  female  31.160         0     no  northeast   3943.595400\n",
       "672    36    male  29.700         0     no  southeast   4399.731000\n",
       "673    41  female  31.020         0     no  southeast   6185.320800\n",
       "674    44  female  43.890         2    yes  southeast  46200.985100\n",
       "675    45    male  21.375         0     no  northwest   7222.786250\n",
       "676    55  female  40.810         3     no  southeast  12485.800900\n",
       "677    60    male  31.350         3    yes  northwest  46130.526500\n",
       "678    56    male  36.100         3     no  southwest  12363.547000\n",
       "679    49  female  23.180         2     no  northwest  10156.783200\n",
       "680    21  female  17.400         1     no  southwest   2585.269000\n",
       "681    19    male  20.300         0     no  southwest   1242.260000\n",
       "682    39    male  35.300         2    yes  southwest  40103.890000\n",
       "683    53    male  24.320         0     no  northwest   9863.471800\n",
       "684    33  female  18.500         1     no  southwest   4766.022000\n",
       "685    53    male  26.410         2     no  northeast  11244.376900\n",
       "686    42    male  26.125         2     no  northeast   7729.645750\n",
       "687    40    male  41.690         0     no  southeast   5438.749100\n",
       "688    47  female  24.100         1     no  southwest  26236.579970\n",
       "689    27    male  31.130         1    yes  southeast  34806.467700\n",
       "690    21    male  27.360         0     no  northeast   2104.113400\n",
       "691    47    male  36.200         1     no  southwest   8068.185000\n",
       "692    20    male  32.395         1     no  northwest   2362.229050\n",
       "693    24    male  23.655         0     no  northwest   2352.968450\n",
       "694    27  female  34.800         1     no  southwest   3577.999000\n",
       "695    26  female  40.185         0     no  northwest   3201.245150\n",
       "696    53  female  32.300         2     no  northeast  29186.482360\n",
       "697    41    male  35.750         1    yes  southeast  40273.645500\n",
       "698    56    male  33.725         0     no  northwest  10976.245750\n",
       "699    23  female  39.270         2     no  southeast   3500.612300\n",
       "700    21  female  34.870         0     no  southeast   2020.552300\n",
       "701    50  female  44.745         0     no  northeast   9541.695550\n",
       "702    53    male  41.470         0     no  southeast   9504.310300\n",
       "703    34  female  26.410         1     no  northwest   5385.337900\n",
       "704    47  female  29.545         1     no  northwest   8930.934550\n",
       "705    33  female  32.900         2     no  southwest   5375.038000\n",
       "706    51  female  38.060         0    yes  southeast  44400.406400\n",
       "707    49    male  28.690         3     no  northwest  10264.442100\n",
       "708    31  female  30.495         3     no  northeast   6113.231050\n",
       "709    36  female  27.740         0     no  northeast   5469.006600\n",
       "710    18    male  35.200         1     no  southeast   1727.540000\n",
       "711    50  female  23.540         2     no  southeast  10107.220600\n",
       "712    43  female  30.685         2     no  northwest   8310.839150\n",
       "713    20    male  40.470         0     no  northeast   1984.453300\n",
       "714    24  female  22.600         0     no  southwest   2457.502000\n",
       "715    60    male  28.900         0     no  southwest  12146.971000\n",
       "716    49  female  22.610         1     no  northwest   9566.990900\n",
       "717    60    male  24.320         1     no  northwest  13112.604800\n",
       "718    51  female  36.670         2     no  northwest  10848.134300\n",
       "719    58  female  33.440         0     no  northwest  12231.613600\n",
       "720    51  female  40.660         0     no  northeast   9875.680400\n",
       "721    53    male  36.600         3     no  southwest  11264.541000\n",
       "722    62    male  37.400         0     no  southwest  12979.358000\n",
       "723    19    male  35.400         0     no  southwest   1263.249000\n",
       "724    50  female  27.075         1     no  northeast  10106.134250\n",
       "725    30  female  39.050         3    yes  southeast  40932.429500\n",
       "726    41    male  28.405         1     no  northwest   6664.685950\n",
       "727    29  female  21.755         1    yes  northeast  16657.717450\n",
       "728    18  female  40.280         0     no  northeast   2217.601200\n",
       "729    41  female  36.080         1     no  southeast   6781.354200\n",
       "730    35    male  24.420         3    yes  southeast  19361.998800\n",
       "731    53    male  21.400         1     no  southwest  10065.413000\n",
       "732    24  female  30.100         3     no  southwest   4234.927000\n",
       "733    48  female  27.265         1     no  northeast   9447.250350\n",
       "734    59  female  32.100         3     no  southwest  14007.222000\n",
       "735    49  female  34.770         1     no  northwest   9583.893300\n",
       "736    37  female  38.390         0    yes  southeast  40419.019100\n",
       "737    26    male  23.700         2     no  southwest   3484.331000\n",
       "738    23    male  31.730         3    yes  northeast  36189.101700\n",
       "739    29    male  35.500         2    yes  southwest  44585.455870\n",
       "740    45    male  24.035         2     no  northeast   8604.483650\n",
       "741    27    male  29.150         0    yes  southeast  18246.495500\n",
       "742    53    male  34.105         0    yes  northeast  43254.417950\n",
       "743    31  female  26.620         0     no  southeast   3757.844800\n",
       "744    50    male  26.410         0     no  northwest   8827.209900\n",
       "745    50  female  30.115         1     no  northwest   9910.359850\n",
       "746    34    male  27.000         2     no  southwest  11737.848840\n",
       "747    19    male  21.755         0     no  northwest   1627.282450\n",
       "748    47  female  36.000         1     no  southwest   8556.907000\n",
       "749    28    male  30.875         0     no  northwest   3062.508250\n",
       "750    37  female  26.400         0    yes  southeast  19539.243000\n",
       "751    21    male  28.975         0     no  northwest   1906.358250\n",
       "752    64    male  37.905         0     no  northwest  14210.535950\n",
       "753    58  female  22.770         0     no  southeast  11833.782300\n",
       "754    24    male  33.630         4     no  northeast  17128.426080\n",
       "755    31    male  27.645         2     no  northeast   5031.269550\n",
       "756    39  female  22.800         3     no  northeast   7985.815000\n",
       "757    47  female  27.830         0    yes  southeast  23065.420700\n",
       "758    30    male  37.430         3     no  northeast   5428.727700\n",
       "759    18    male  38.170         0    yes  southeast  36307.798300\n",
       "760    22  female  34.580         2     no  northeast   3925.758200\n",
       "761    23    male  35.200         1     no  southwest   2416.955000\n",
       "762    33    male  27.100         1    yes  southwest  19040.876000\n",
       "763    27    male  26.030         0     no  northeast   3070.808700\n",
       "764    45  female  25.175         2     no  northeast   9095.068250\n",
       "765    57  female  31.825         0     no  northwest  11842.623750\n",
       "766    47    male  32.300         1     no  southwest   8062.764000\n",
       "767    42  female  29.000         1     no  southwest   7050.642000\n",
       "768    64  female  39.700         0     no  southwest  14319.031000\n",
       "769    38  female  19.475         2     no  northwest   6933.242250\n",
       "770    61    male  36.100         3     no  southwest  27941.287580\n",
       "771    53  female  26.700         2     no  southwest  11150.780000\n",
       "772    44  female  36.480         0     no  northeast  12797.209620\n",
       "773    19  female  28.880         0    yes  northwest  17748.506200\n",
       "774    41    male  34.200         2     no  northwest   7261.741000\n",
       "775    51    male  33.330         3     no  southeast  10560.491700\n",
       "776    40    male  32.300         2     no  northwest   6986.697000\n",
       "777    45    male  39.805         0     no  northeast   7448.403950\n",
       "778    35    male  34.320         3     no  southeast   5934.379800\n",
       "779    53    male  28.880         0     no  northwest   9869.810200\n",
       "780    30    male  24.400         3    yes  southwest  18259.216000\n",
       "781    18    male  41.140         0     no  southeast   1146.796600\n",
       "782    51    male  35.970         1     no  southeast   9386.161300\n",
       "783    50  female  27.600         1    yes  southwest  24520.264000\n",
       "784    31  female  29.260         1     no  southeast   4350.514400\n",
       "785    35  female  27.700         3     no  southwest   6414.178000\n",
       "786    60    male  36.955         0     no  northeast  12741.167450\n",
       "787    21    male  36.860         0     no  northwest   1917.318400\n",
       "788    29    male  22.515         3     no  northeast   5209.578850\n",
       "789    62  female  29.920         0     no  southeast  13457.960800\n",
       "790    39  female  41.800         0     no  southeast   5662.225000\n",
       "791    19    male  27.600         0     no  southwest   1252.407000\n",
       "792    22  female  23.180         0     no  northeast   2731.912200\n",
       "793    53    male  20.900         0    yes  southeast  21195.818000\n",
       "794    39  female  31.920         2     no  northwest   7209.491800\n",
       "795    27    male  28.500         0    yes  northwest  18310.742000\n",
       "796    30    male  44.220         2     no  southeast   4266.165800\n",
       "797    30  female  22.895         1     no  northeast   4719.524050\n",
       "798    58  female  33.100         0     no  southwest  11848.141000\n",
       "799    33    male  24.795         0    yes  northeast  17904.527050\n",
       "800    42  female  26.180         1     no  southeast   7046.722200\n",
       "801    64  female  35.970         0     no  southeast  14313.846300\n",
       "802    21    male  22.300         1     no  southwest   2103.080000\n",
       "803    18  female  42.240         0    yes  southeast  38792.685600\n",
       "804    23    male  26.510         0     no  southeast   1815.875900\n",
       "805    45  female  35.815         0     no  northwest   7731.857850\n",
       "806    40  female  41.420         1     no  northwest  28476.734990\n",
       "807    19  female  36.575         0     no  northwest   2136.882250\n",
       "808    18    male  30.140         0     no  southeast   1131.506600\n",
       "809    25    male  25.840         1     no  northeast   3309.792600\n",
       "810    46  female  30.800         3     no  southwest   9414.920000\n",
       "811    33  female  42.940         3     no  northwest   6360.993600\n",
       "812    54    male  21.010         2     no  southeast  11013.711900\n",
       "813    28    male  22.515         2     no  northeast   4428.887850\n",
       "814    36    male  34.430         2     no  southeast   5584.305700\n",
       "815    20  female  31.460         0     no  southeast   1877.929400\n",
       "816    24  female  24.225         0     no  northwest   2842.760750\n",
       "817    23    male  37.100         3     no  southwest   3597.596000\n",
       "818    47  female  26.125         1    yes  northeast  23401.305750\n",
       "819    33  female  35.530         0    yes  northwest  55135.402090\n",
       "820    45    male  33.700         1     no  southwest   7445.918000\n",
       "821    26    male  17.670         0     no  northwest   2680.949300\n",
       "822    18  female  31.130         0     no  southeast   1621.882700\n",
       "823    44  female  29.810         2     no  southeast   8219.203900\n",
       "824    60    male  24.320         0     no  northwest  12523.604800\n",
       "825    64  female  31.825         2     no  northeast  16069.084750\n",
       "826    56    male  31.790         2    yes  southeast  43813.866100\n",
       "827    36    male  28.025         1    yes  northeast  20773.627750\n",
       "828    41    male  30.780         3    yes  northeast  39597.407200\n",
       "829    39    male  21.850         1     no  northwest   6117.494500\n",
       "830    63    male  33.100         0     no  southwest  13393.756000\n",
       "831    36  female  25.840         0     no  northwest   5266.365600\n",
       "832    28  female  23.845         2     no  northwest   4719.736550\n",
       "833    58    male  34.390         0     no  northwest  11743.934100\n",
       "834    36    male  33.820         1     no  northwest   5377.457800\n",
       "835    42    male  35.970         2     no  southeast   7160.330300\n",
       "836    36    male  31.500         0     no  southwest   4402.233000\n",
       "837    56  female  28.310         0     no  northeast  11657.718900\n",
       "838    35  female  23.465         2     no  northeast   6402.291350\n",
       "839    59  female  31.350         0     no  northwest  12622.179500\n",
       "840    21    male  31.100         0     no  southwest   1526.312000\n",
       "841    59    male  24.700         0     no  northeast  12323.936000\n",
       "842    23  female  32.780         2    yes  southeast  36021.011200\n",
       "843    57  female  29.810         0    yes  southeast  27533.912900\n",
       "844    53    male  30.495         0     no  northeast  10072.055050\n",
       "845    60  female  32.450         0    yes  southeast  45008.955500\n",
       "846    51  female  34.200         1     no  southwest   9872.701000\n",
       "847    23    male  50.380         1     no  southeast   2438.055200\n",
       "848    27  female  24.100         0     no  southwest   2974.126000\n",
       "849    55    male  32.775         0     no  northwest  10601.632250\n",
       "850    37  female  30.780         0    yes  northeast  37270.151200\n",
       "851    61    male  32.300         2     no  northwest  14119.620000\n",
       "852    46  female  35.530         0    yes  northeast  42111.664700\n",
       "853    53  female  23.750         2     no  northeast  11729.679500\n",
       "854    49  female  23.845         3    yes  northeast  24106.912550\n",
       "855    20  female  29.600         0     no  southwest   1875.344000\n",
       "856    48  female  33.110         0    yes  southeast  40974.164900\n",
       "857    25    male  24.130         0    yes  northwest  15817.985700\n",
       "858    25  female  32.230         1     no  southeast  18218.161390\n",
       "859    57    male  28.100         0     no  southwest  10965.446000\n",
       "860    37  female  47.600         2    yes  southwest  46113.511000\n",
       "861    38  female  28.000         3     no  southwest   7151.092000\n",
       "862    55  female  33.535         2     no  northwest  12269.688650\n",
       "863    36  female  19.855         0     no  northeast   5458.046450\n",
       "864    51    male  25.400         0     no  southwest   8782.469000\n",
       "865    40    male  29.900         2     no  southwest   6600.361000\n",
       "866    18    male  37.290         0     no  southeast   1141.445100\n",
       "867    57    male  43.700         1     no  southwest  11576.130000\n",
       "868    61    male  23.655         0     no  northeast  13129.603450\n",
       "869    25  female  24.300         3     no  southwest   4391.652000\n",
       "870    50    male  36.200         0     no  southwest   8457.818000\n",
       "871    26  female  29.480         1     no  southeast   3392.365200\n",
       "872    42    male  24.860         0     no  southeast   5966.887400\n",
       "873    43    male  30.100         1     no  southwest   6849.026000\n",
       "874    44    male  21.850         3     no  northeast   8891.139500\n",
       "875    23  female  28.120         0     no  northwest   2690.113800\n",
       "876    49  female  27.100         1     no  southwest  26140.360300\n",
       "877    33    male  33.440         5     no  southeast   6653.788600\n",
       "878    41    male  28.800         1     no  southwest   6282.235000\n",
       "879    37  female  29.500         2     no  southwest   6311.952000\n",
       "880    22    male  34.800         3     no  southwest   3443.064000\n",
       "881    23    male  27.360         1     no  northwest   2789.057400\n",
       "882    21  female  22.135         0     no  northeast   2585.850650\n",
       "883    51  female  37.050         3    yes  northeast  46255.112500\n",
       "884    25    male  26.695         4     no  northwest   4877.981050\n",
       "885    32    male  28.930         1    yes  southeast  19719.694700\n",
       "886    57    male  28.975         0    yes  northeast  27218.437250\n",
       "887    36  female  30.020         0     no  northwest   5272.175800\n",
       "888    22    male  39.500         0     no  southwest   1682.597000\n",
       "889    57    male  33.630         1     no  northwest  11945.132700\n",
       "890    64  female  26.885         0    yes  northwest  29330.983150\n",
       "891    36  female  29.040         4     no  southeast   7243.813600\n",
       "892    54    male  24.035         0     no  northeast  10422.916650\n",
       "893    47    male  38.940         2    yes  southeast  44202.653600\n",
       "894    62    male  32.110         0     no  northeast  13555.004900\n",
       "895    61  female  44.000         0     no  southwest  13063.883000\n",
       "896    43  female  20.045         2    yes  northeast  19798.054550\n",
       "897    19    male  25.555         1     no  northwest   2221.564450\n",
       "898    18  female  40.260         0     no  southeast   1634.573400\n",
       "899    19  female  22.515         0     no  northwest   2117.338850\n",
       "900    49    male  22.515         0     no  northeast   8688.858850\n",
       "901    60    male  40.920         0    yes  southeast  48673.558800\n",
       "902    26    male  27.265         3     no  northeast   4661.286350\n",
       "903    49    male  36.850         0     no  southeast   8125.784500\n",
       "904    60  female  35.100         0     no  southwest  12644.589000\n",
       "905    26  female  29.355         2     no  northeast   4564.191450\n",
       "906    27    male  32.585         3     no  northeast   4846.920150\n",
       "907    44  female  32.340         1     no  southeast   7633.720600\n",
       "908    63    male  39.800         3     no  southwest  15170.069000\n",
       "909    32  female  24.600         0    yes  southwest  17496.306000\n",
       "910    22    male  28.310         1     no  northwest   2639.042900\n",
       "911    18    male  31.730         0    yes  northeast  33732.686700\n",
       "912    59  female  26.695         3     no  northwest  14382.709050\n",
       "913    44  female  27.500         1     no  southwest   7626.993000\n",
       "914    33    male  24.605         2     no  northwest   5257.507950\n",
       "915    24  female  33.990         0     no  southeast   2473.334100\n",
       "916    43  female  26.885         0    yes  northwest  21774.322150\n",
       "917    45    male  22.895         0    yes  northeast  35069.374520\n",
       "918    61  female  28.200         0     no  southwest  13041.921000\n",
       "919    35  female  34.210         1     no  southeast   5245.226900\n",
       "920    62  female  25.000         0     no  southwest  13451.122000\n",
       "921    62  female  33.200         0     no  southwest  13462.520000\n",
       "922    38    male  31.000         1     no  southwest   5488.262000\n",
       "923    34    male  35.815         0     no  northwest   4320.410850\n",
       "924    43    male  23.200         0     no  southwest   6250.435000\n",
       "925    50    male  32.110         2     no  northeast  25333.332840\n",
       "926    19  female  23.400         2     no  southwest   2913.569000\n",
       "927    57  female  20.100         1     no  southwest  12032.326000\n",
       "928    62  female  39.160         0     no  southeast  13470.804400\n",
       "929    41    male  34.210         1     no  southeast   6289.754900\n",
       "930    26    male  46.530         1     no  southeast   2927.064700\n",
       "931    39  female  32.500         1     no  southwest   6238.298000\n",
       "932    46    male  25.800         5     no  southwest  10096.970000\n",
       "933    45  female  35.300         0     no  southwest   7348.142000\n",
       "934    32    male  37.180         2     no  southeast   4673.392200\n",
       "935    59  female  27.500         0     no  southwest  12233.828000\n",
       "936    44    male  29.735         2     no  northeast  32108.662820\n",
       "937    39  female  24.225         5     no  northwest   8965.795750\n",
       "938    18    male  26.180         2     no  southeast   2304.002200\n",
       "939    53    male  29.480         0     no  southeast   9487.644200\n",
       "940    18    male  23.210         0     no  southeast   1121.873900\n",
       "941    50  female  46.090         1     no  southeast   9549.565100\n",
       "942    18  female  40.185         0     no  northeast   2217.469150\n",
       "943    19    male  22.610         0     no  northwest   1628.470900\n",
       "944    62    male  39.930         0     no  southeast  12982.874700\n",
       "945    56  female  35.800         1     no  southwest  11674.130000\n",
       "946    42    male  35.800         2     no  southwest   7160.094000\n",
       "947    37    male  34.200         1    yes  northeast  39047.285000\n",
       "948    42    male  31.255         0     no  northwest   6358.776450\n",
       "949    25    male  29.700         3    yes  southwest  19933.458000\n",
       "950    57    male  18.335         0     no  northeast  11534.872650\n",
       "951    51    male  42.900         2    yes  southeast  47462.894000\n",
       "952    30  female  28.405         1     no  northwest   4527.182950\n",
       "953    44    male  30.200         2    yes  southwest  38998.546000\n",
       "954    34    male  27.835         1    yes  northwest  20009.633650\n",
       "955    31    male  39.490         1     no  southeast   3875.734100\n",
       "956    54    male  30.800         1    yes  southeast  41999.520000\n",
       "957    24    male  26.790         1     no  northwest  12609.887020\n",
       "958    43    male  34.960         1    yes  northeast  41034.221400\n",
       "959    48    male  36.670         1     no  northwest  28468.919010\n",
       "960    19  female  39.615         1     no  northwest   2730.107850\n",
       "961    29  female  25.900         0     no  southwest   3353.284000\n",
       "962    63  female  35.200         1     no  southeast  14474.675000\n",
       "963    46    male  24.795         3     no  northeast   9500.573050\n",
       "964    52    male  36.765         2     no  northwest  26467.097370\n",
       "965    35    male  27.100         1     no  southwest   4746.344000\n",
       "966    51    male  24.795         2    yes  northwest  23967.383050\n",
       "967    44    male  25.365         1     no  northwest   7518.025350\n",
       "968    21    male  25.745         2     no  northeast   3279.868550\n",
       "969    39  female  34.320         5     no  southeast   8596.827800\n",
       "970    50  female  28.160         3     no  southeast  10702.642400\n",
       "971    34  female  23.560         0     no  northeast   4992.376400\n",
       "972    22  female  20.235         0     no  northwest   2527.818650\n",
       "973    19  female  40.500         0     no  southwest   1759.338000\n",
       "974    26    male  35.420         0     no  southeast   2322.621800\n",
       "975    29    male  22.895         0    yes  northeast  16138.762050\n",
       "976    48    male  40.150         0     no  southeast   7804.160500\n",
       "977    26    male  29.150         1     no  southeast   2902.906500\n",
       "978    45  female  39.995         3     no  northeast   9704.668050\n",
       "979    36  female  29.920         0     no  southeast   4889.036800\n",
       "980    54    male  25.460         1     no  northeast  25517.113630\n",
       "981    34    male  21.375         0     no  northeast   4500.339250\n",
       "982    31    male  25.900         3    yes  southwest  19199.944000\n",
       "983    27  female  30.590         1     no  northeast  16796.411940\n",
       "984    20    male  30.115         5     no  northeast   4915.059850\n",
       "985    44  female  25.800         1     no  southwest   7624.630000\n",
       "986    43    male  30.115         3     no  northwest   8410.046850\n",
       "987    45  female  27.645         1     no  northwest  28340.188850\n",
       "988    34    male  34.675         0     no  northeast   4518.826250\n",
       "989    24  female  20.520         0    yes  northeast  14571.890800\n",
       "990    26  female  19.800         1     no  southwest   3378.910000\n",
       "991    38  female  27.835         2     no  northeast   7144.862650\n",
       "992    50  female  31.600         2     no  southwest  10118.424000\n",
       "993    38    male  28.270         1     no  southeast   5484.467300\n",
       "994    27  female  20.045         3    yes  northwest  16420.494550\n",
       "995    39  female  23.275         3     no  northeast   7986.475250\n",
       "996    39  female  34.100         3     no  southwest   7418.522000\n",
       "997    63  female  36.850         0     no  southeast  13887.968500\n",
       "998    33  female  36.290         3     no  northeast   6551.750100\n",
       "999    36  female  26.885         0     no  northwest   5267.818150\n",
       "1000   30    male  22.990         2    yes  northwest  17361.766100\n",
       "1001   24    male  32.700         0    yes  southwest  34472.841000\n",
       "1002   24    male  25.800         0     no  southwest   1972.950000\n",
       "1003   48    male  29.600         0     no  southwest  21232.182260\n",
       "1004   47    male  19.190         1     no  northeast   8627.541100\n",
       "1005   29    male  31.730         2     no  northwest   4433.387700\n",
       "1006   28    male  29.260         2     no  northeast   4438.263400\n",
       "1007   47    male  28.215         3    yes  northwest  24915.220850\n",
       "1008   25    male  24.985         2     no  northeast  23241.474530\n",
       "1009   51    male  27.740         1     no  northeast   9957.721600\n",
       "1010   48  female  22.800         0     no  southwest   8269.044000\n",
       "1011   43    male  20.130         2    yes  southeast  18767.737700\n",
       "1012   61  female  33.330         4     no  southeast  36580.282160\n",
       "1013   48    male  32.300         1     no  northwest   8765.249000\n",
       "1014   38  female  27.600         0     no  southwest   5383.536000\n",
       "1015   59    male  25.460         0     no  northwest  12124.992400\n",
       "1016   19  female  24.605         1     no  northwest   2709.243950\n",
       "1017   26  female  34.200         2     no  southwest   3987.926000\n",
       "1018   54  female  35.815         3     no  northwest  12495.290850\n",
       "1019   21  female  32.680         2     no  northwest  26018.950520\n",
       "1020   51    male  37.000         0     no  southwest   8798.593000\n",
       "1021   22  female  31.020         3    yes  southeast  35595.589800\n",
       "1022   47    male  36.080         1    yes  southeast  42211.138200\n",
       "1023   18    male  23.320         1     no  southeast   1711.026800\n",
       "1024   47  female  45.320         1     no  southeast   8569.861800\n",
       "1025   21  female  34.600         0     no  southwest   2020.177000\n",
       "1026   19    male  26.030         1    yes  northwest  16450.894700\n",
       "1027   23    male  18.715         0     no  northwest  21595.382290\n",
       "1028   54    male  31.600         0     no  southwest   9850.432000\n",
       "1029   37  female  17.290         2     no  northeast   6877.980100\n",
       "1030   46  female  23.655         1    yes  northwest  21677.283450\n",
       "1031   55  female  35.200         0    yes  southeast  44423.803000\n",
       "1032   30  female  27.930         0     no  northeast   4137.522700\n",
       "1033   18    male  21.565         0    yes  northeast  13747.872350\n",
       "1034   61    male  38.380         0     no  northwest  12950.071200\n",
       "1035   54  female  23.000         3     no  southwest  12094.478000\n",
       "1036   22    male  37.070         2    yes  southeast  37484.449300\n",
       "1037   45  female  30.495         1    yes  northwest  39725.518050\n",
       "1038   22    male  28.880         0     no  northeast   2250.835200\n",
       "1039   19    male  27.265         2     no  northwest  22493.659640\n",
       "1040   35  female  28.025         0    yes  northwest  20234.854750\n",
       "1041   18    male  23.085         0     no  northeast   1704.700150\n",
       "1042   20    male  30.685         0    yes  northeast  33475.817150\n",
       "1043   28  female  25.800         0     no  southwest   3161.454000\n",
       "1044   55    male  35.245         1     no  northeast  11394.065550\n",
       "1045   43  female  24.700         2    yes  northwest  21880.820000\n",
       "1046   43  female  25.080         0     no  northeast   7325.048200\n",
       "1047   22    male  52.580         1    yes  southeast  44501.398200\n",
       "1048   25  female  22.515         1     no  northwest   3594.170850\n",
       "1049   49    male  30.900         0    yes  southwest  39727.614000\n",
       "1050   44  female  36.955         1     no  northwest   8023.135450\n",
       "1051   64    male  26.410         0     no  northeast  14394.557900\n",
       "1052   49    male  29.830         1     no  northeast   9288.026700\n",
       "1053   47    male  29.800         3    yes  southwest  25309.489000\n",
       "1054   27  female  21.470         0     no  northwest   3353.470300\n",
       "1055   55    male  27.645         0     no  northwest  10594.501550\n",
       "1056   48  female  28.900         0     no  southwest   8277.523000\n",
       "1057   45  female  31.790         0     no  southeast  17929.303370\n",
       "1058   24  female  39.490         0     no  southeast   2480.979100\n",
       "1059   32    male  33.820         1     no  northwest   4462.721800\n",
       "1060   24    male  32.010         0     no  southeast   1981.581900\n",
       "1061   57    male  27.940         1     no  southeast  11554.223600\n",
       "1062   59    male  41.140         1    yes  southeast  48970.247600\n",
       "1063   36    male  28.595         3     no  northwest   6548.195050\n",
       "1064   29  female  25.600         4     no  southwest   5708.867000\n",
       "1065   42  female  25.300         1     no  southwest   7045.499000\n",
       "1066   48    male  37.290         2     no  southeast   8978.185100\n",
       "1067   39    male  42.655         0     no  northeast   5757.413450\n",
       "1068   63    male  21.660         1     no  northwest  14349.854400\n",
       "1069   54  female  31.900         1     no  southeast  10928.849000\n",
       "1070   37    male  37.070         1    yes  southeast  39871.704300\n",
       "1071   63    male  31.445         0     no  northeast  13974.455550\n",
       "1072   21    male  31.255         0     no  northwest   1909.527450\n",
       "1073   54  female  28.880         2     no  northeast  12096.651200\n",
       "1074   60  female  18.335         0     no  northeast  13204.285650\n",
       "1075   32  female  29.590         1     no  southeast   4562.842100\n",
       "1076   47  female  32.000         1     no  southwest   8551.347000\n",
       "1077   21    male  26.030         0     no  northeast   2102.264700\n",
       "1078   28    male  31.680         0    yes  southeast  34672.147200\n",
       "1079   63    male  33.660         3     no  southeast  15161.534400\n",
       "1080   18    male  21.780         2     no  southeast  11884.048580\n",
       "1081   32    male  27.835         1     no  northwest   4454.402650\n",
       "1082   38    male  19.950         1     no  northwest   5855.902500\n",
       "1083   32    male  31.500         1     no  southwest   4076.497000\n",
       "1084   62  female  30.495         2     no  northwest  15019.760050\n",
       "1085   39  female  18.300         5    yes  southwest  19023.260000\n",
       "1086   55    male  28.975         0     no  northeast  10796.350250\n",
       "1087   57    male  31.540         0     no  northwest  11353.227600\n",
       "1088   52    male  47.740         1     no  southeast   9748.910600\n",
       "1089   56    male  22.100         0     no  southwest  10577.087000\n",
       "1090   47    male  36.190         0    yes  southeast  41676.081100\n",
       "1091   55  female  29.830         0     no  northeast  11286.538700\n",
       "1092   23    male  32.700         3     no  southwest   3591.480000\n",
       "1093   22  female  30.400         0    yes  northwest  33907.548000\n",
       "1094   50  female  33.700         4     no  southwest  11299.343000\n",
       "1095   18  female  31.350         4     no  northeast   4561.188500\n",
       "1096   51  female  34.960         2    yes  northeast  44641.197400\n",
       "1097   22    male  33.770         0     no  southeast   1674.632300\n",
       "1098   52  female  30.875         0     no  northeast  23045.566160\n",
       "1099   25  female  33.990         1     no  southeast   3227.121100\n",
       "1100   33  female  19.095         2    yes  northeast  16776.304050\n",
       "1101   53    male  28.600         3     no  southwest  11253.421000\n",
       "1102   29    male  38.940         1     no  southeast   3471.409600\n",
       "1103   58    male  36.080         0     no  southeast  11363.283200\n",
       "1104   37    male  29.800         0     no  southwest  20420.604650\n",
       "1105   54  female  31.240         0     no  southeast  10338.931600\n",
       "1106   49  female  29.925         0     no  northwest   8988.158750\n",
       "1107   50  female  26.220         2     no  northwest  10493.945800\n",
       "1108   26    male  30.000         1     no  southwest   2904.088000\n",
       "1109   45    male  20.350         3     no  southeast   8605.361500\n",
       "1110   54  female  32.300         1     no  northeast  11512.405000\n",
       "1111   38    male  38.390         3    yes  southeast  41949.244100\n",
       "1112   48  female  25.850         3    yes  southeast  24180.933500\n",
       "1113   28  female  26.315         3     no  northwest   5312.169850\n",
       "1114   23    male  24.510         0     no  northeast   2396.095900\n",
       "1115   55    male  32.670         1     no  southeast  10807.486300\n",
       "1116   41    male  29.640         5     no  northeast   9222.402600\n",
       "1117   25    male  33.330         2    yes  southeast  36124.573700\n",
       "1118   33    male  35.750         1    yes  southeast  38282.749500\n",
       "1119   30  female  19.950         3     no  northwest   5693.430500\n",
       "1120   23  female  31.400         0    yes  southwest  34166.273000\n",
       "1121   46    male  38.170         2     no  southeast   8347.164300\n",
       "1122   53  female  36.860         3    yes  northwest  46661.442400\n",
       "1123   27  female  32.395         1     no  northeast  18903.491410\n",
       "1124   23  female  42.750         1    yes  northeast  40904.199500\n",
       "1125   63  female  25.080         0     no  northwest  14254.608200\n",
       "1126   55    male  29.900         0     no  southwest  10214.636000\n",
       "1127   35  female  35.860         2     no  southeast   5836.520400\n",
       "1128   34    male  32.800         1     no  southwest  14358.364370\n",
       "1129   19  female  18.600         0     no  southwest   1728.897000\n",
       "1130   39  female  23.870         5     no  southeast   8582.302300\n",
       "1131   27    male  45.900         2     no  southwest   3693.428000\n",
       "1132   57    male  40.280         0     no  northeast  20709.020340\n",
       "1133   52  female  18.335         0     no  northwest   9991.037650\n",
       "1134   28    male  33.820         0     no  northwest  19673.335730\n",
       "1135   50  female  28.120         3     no  northwest  11085.586800\n",
       "1136   44  female  25.000         1     no  southwest   7623.518000\n",
       "1137   26  female  22.230         0     no  northwest   3176.287700\n",
       "1138   33    male  30.250         0     no  southeast   3704.354500\n",
       "1139   19  female  32.490         0    yes  northwest  36898.733080\n",
       "1140   50    male  37.070         1     no  southeast   9048.027300\n",
       "1141   41  female  32.600         3     no  southwest   7954.517000\n",
       "1142   52  female  24.860         0     no  southeast  27117.993780\n",
       "1143   39    male  32.340         2     no  southeast   6338.075600\n",
       "1144   50    male  32.300         2     no  southwest   9630.397000\n",
       "1145   52    male  32.775         3     no  northwest  11289.109250\n",
       "1146   60    male  32.800         0    yes  southwest  52590.829390\n",
       "1147   20  female  31.920         0     no  northwest   2261.568800\n",
       "1148   55    male  21.500         1     no  southwest  10791.960000\n",
       "1149   42    male  34.100         0     no  southwest   5979.731000\n",
       "1150   18  female  30.305         0     no  northeast   2203.735950\n",
       "1151   58  female  36.480         0     no  northwest  12235.839200\n",
       "1152   43  female  32.560         3    yes  southeast  40941.285400\n",
       "1153   35  female  35.815         1     no  northwest   5630.457850\n",
       "1154   48  female  27.930         4     no  northwest  11015.174700\n",
       "1155   36  female  22.135         3     no  northeast   7228.215650\n",
       "1156   19    male  44.880         0    yes  southeast  39722.746200\n",
       "1157   23  female  23.180         2     no  northwest  14426.073850\n",
       "1158   20  female  30.590         0     no  northeast   2459.720100\n",
       "1159   32  female  41.100         0     no  southwest   3989.841000\n",
       "1160   43  female  34.580         1     no  northwest   7727.253200\n",
       "1161   34    male  42.130         2     no  southeast   5124.188700\n",
       "1162   30    male  38.830         1     no  southeast  18963.171920\n",
       "1163   18  female  28.215         0     no  northeast   2200.830850\n",
       "1164   41  female  28.310         1     no  northwest   7153.553900\n",
       "1165   35  female  26.125         0     no  northeast   5227.988750\n",
       "1166   57    male  40.370         0     no  southeast  10982.501300\n",
       "1167   29  female  24.600         2     no  southwest   4529.477000\n",
       "1168   32    male  35.200         2     no  southwest   4670.640000\n",
       "1169   37  female  34.105         1     no  northwest   6112.352950\n",
       "1170   18    male  27.360         1    yes  northeast  17178.682400\n",
       "1171   43  female  26.700         2    yes  southwest  22478.600000\n",
       "1172   56  female  41.910         0     no  southeast  11093.622900\n",
       "1173   38    male  29.260         2     no  northwest   6457.843400\n",
       "1174   29    male  32.110         2     no  northwest   4433.915900\n",
       "1175   22  female  27.100         0     no  southwest   2154.361000\n",
       "1176   52  female  24.130         1    yes  northwest  23887.662700\n",
       "1177   40  female  27.400         1     no  southwest   6496.886000\n",
       "1178   23  female  34.865         0     no  northeast   2899.489350\n",
       "1179   31    male  29.810         0    yes  southeast  19350.368900\n",
       "1180   42  female  41.325         1     no  northeast   7650.773750\n",
       "1181   24  female  29.925         0     no  northwest   2850.683750\n",
       "1182   25  female  30.300         0     no  southwest   2632.992000\n",
       "1183   48  female  27.360         1     no  northeast   9447.382400\n",
       "1184   23  female  28.490         1    yes  southeast  18328.238100\n",
       "1185   45    male  23.560         2     no  northeast   8603.823400\n",
       "1186   20    male  35.625         3    yes  northwest  37465.343750\n",
       "1187   62  female  32.680         0     no  northwest  13844.797200\n",
       "1188   43  female  25.270         1    yes  northeast  21771.342300\n",
       "1189   23  female  28.000         0     no  southwest  13126.677450\n",
       "1190   31  female  32.775         2     no  northwest   5327.400250\n",
       "1191   41  female  21.755         1     no  northeast  13725.471840\n",
       "1192   58  female  32.395         1     no  northeast  13019.161050\n",
       "1193   48  female  36.575         0     no  northwest   8671.191250\n",
       "1194   31  female  21.755         0     no  northwest   4134.082450\n",
       "1195   19  female  27.930         3     no  northwest  18838.703660\n",
       "1196   19  female  30.020         0    yes  northwest  33307.550800\n",
       "1197   41    male  33.550         0     no  southeast   5699.837500\n",
       "1198   40    male  29.355         1     no  northwest   6393.603450\n",
       "1199   31  female  25.800         2     no  southwest   4934.705000\n",
       "1200   37    male  24.320         2     no  northwest   6198.751800\n",
       "1201   46    male  40.375         2     no  northwest   8733.229250\n",
       "1202   22    male  32.110         0     no  northwest   2055.324900\n",
       "1203   51    male  32.300         1     no  northeast   9964.060000\n",
       "1204   18  female  27.280         3    yes  southeast  18223.451200\n",
       "1205   35    male  17.860         1     no  northwest   5116.500400\n",
       "1206   59  female  34.800         2     no  southwest  36910.608030\n",
       "1207   36    male  33.400         2    yes  southwest  38415.474000\n",
       "1208   37  female  25.555         1    yes  northeast  20296.863450\n",
       "1209   59    male  37.100         1     no  southwest  12347.172000\n",
       "1210   36    male  30.875         1     no  northwest   5373.364250\n",
       "1211   39    male  34.100         2     no  southeast  23563.016180\n",
       "1212   18    male  21.470         0     no  northeast   1702.455300\n",
       "1213   52  female  33.300         2     no  southwest  10806.839000\n",
       "1214   27  female  31.255         1     no  northwest   3956.071450\n",
       "1215   18    male  39.140         0     no  northeast  12890.057650\n",
       "1216   40    male  25.080         0     no  southeast   5415.661200\n",
       "1217   29    male  37.290         2     no  southeast   4058.116100\n",
       "1218   46  female  34.600         1    yes  southwest  41661.602000\n",
       "1219   38  female  30.210         3     no  northwest   7537.163900\n",
       "1220   30  female  21.945         1     no  northeast   4718.203550\n",
       "1221   40    male  24.970         2     no  southeast   6593.508300\n",
       "1222   50    male  25.300         0     no  southeast   8442.667000\n",
       "1223   20  female  24.420         0    yes  southeast  26125.674770\n",
       "1224   41    male  23.940         1     no  northeast   6858.479600\n",
       "1225   33  female  39.820         1     no  southeast   4795.656800\n",
       "1226   38    male  16.815         2     no  northeast   6640.544850\n",
       "1227   42    male  37.180         2     no  southeast   7162.012200\n",
       "1228   56    male  34.430         0     no  southeast  10594.225700\n",
       "1229   58    male  30.305         0     no  northeast  11938.255950\n",
       "1230   52    male  34.485         3    yes  northwest  60021.398970\n",
       "1231   20  female  21.800         0    yes  southwest  20167.336030\n",
       "1232   54  female  24.605         3     no  northwest  12479.708950\n",
       "1233   58    male  23.300         0     no  southwest  11345.519000\n",
       "1234   45  female  27.830         2     no  southeast   8515.758700\n",
       "1235   26    male  31.065         0     no  northwest   2699.568350\n",
       "1236   63  female  21.660         0     no  northeast  14449.854400\n",
       "1237   58  female  28.215         0     no  northwest  12224.350850\n",
       "1238   37    male  22.705         3     no  northeast   6985.506950\n",
       "1239   25  female  42.130         1     no  southeast   3238.435700\n",
       "1240   52    male  41.800         2    yes  southeast  47269.854000\n",
       "1241   64    male  36.960         2    yes  southeast  49577.662400\n",
       "1242   22  female  21.280         3     no  northwest   4296.271200\n",
       "1243   28  female  33.110         0     no  southeast   3171.614900\n",
       "1244   18    male  33.330         0     no  southeast   1135.940700\n",
       "1245   28    male  24.300         5     no  southwest   5615.369000\n",
       "1246   45  female  25.700         3     no  southwest   9101.798000\n",
       "1247   33    male  29.400         4     no  southwest   6059.173000\n",
       "1248   18  female  39.820         0     no  southeast   1633.961800\n",
       "1249   32    male  33.630         1    yes  northeast  37607.527700\n",
       "1250   24    male  29.830         0    yes  northeast  18648.421700\n",
       "1251   19    male  19.800         0     no  southwest   1241.565000\n",
       "1252   20    male  27.300         0    yes  southwest  16232.847000\n",
       "1253   40  female  29.300         4     no  southwest  15828.821730\n",
       "1254   34  female  27.720         0     no  southeast   4415.158800\n",
       "1255   42  female  37.900         0     no  southwest   6474.013000\n",
       "1256   51  female  36.385         3     no  northwest  11436.738150\n",
       "1257   54  female  27.645         1     no  northwest  11305.934550\n",
       "1258   55    male  37.715         3     no  northwest  30063.580550\n",
       "1259   52  female  23.180         0     no  northeast  10197.772200\n",
       "1260   32  female  20.520         0     no  northeast   4544.234800\n",
       "1261   28    male  37.100         1     no  southwest   3277.161000\n",
       "1262   41  female  28.050         1     no  southeast   6770.192500\n",
       "1263   43  female  29.900         1     no  southwest   7337.748000\n",
       "1264   49  female  33.345         2     no  northeast  10370.912550\n",
       "1265   64    male  23.760         0    yes  southeast  26926.514400\n",
       "1266   55  female  30.500         0     no  southwest  10704.470000\n",
       "1267   24    male  31.065         0    yes  northeast  34254.053350\n",
       "1268   20  female  33.300         0     no  southwest   1880.487000\n",
       "1269   45    male  27.500         3     no  southwest   8615.300000\n",
       "1270   26    male  33.915         1     no  northwest   3292.529850\n",
       "1271   25  female  34.485         0     no  northwest   3021.809150\n",
       "1272   43    male  25.520         5     no  southeast  14478.330150\n",
       "1273   35    male  27.610         1     no  southeast   4747.052900\n",
       "1274   26    male  27.060         0    yes  southeast  17043.341400\n",
       "1275   57    male  23.700         0     no  southwest  10959.330000\n",
       "1276   22  female  30.400         0     no  northeast   2741.948000\n",
       "1277   32  female  29.735         0     no  northwest   4357.043650\n",
       "1278   39    male  29.925         1    yes  northeast  22462.043750\n",
       "1279   25  female  26.790         2     no  northwest   4189.113100\n",
       "1280   48  female  33.330         0     no  southeast   8283.680700\n",
       "1281   47  female  27.645         2    yes  northwest  24535.698550\n",
       "1282   18  female  21.660         0    yes  northeast  14283.459400\n",
       "1283   18    male  30.030         1     no  southeast   1720.353700\n",
       "1284   61    male  36.300         1    yes  southwest  47403.880000\n",
       "1285   47  female  24.320         0     no  northeast   8534.671800\n",
       "1286   28  female  17.290         0     no  northeast   3732.625100\n",
       "1287   36  female  25.900         1     no  southwest   5472.449000\n",
       "1288   20    male  39.400         2    yes  southwest  38344.566000\n",
       "1289   44    male  34.320         1     no  southeast   7147.472800\n",
       "1290   38  female  19.950         2     no  northeast   7133.902500\n",
       "1291   19    male  34.900         0    yes  southwest  34828.654000\n",
       "1292   21    male  23.210         0     no  southeast   1515.344900\n",
       "1293   46    male  25.745         3     no  northwest   9301.893550\n",
       "1294   58    male  25.175         0     no  northeast  11931.125250\n",
       "1295   20    male  22.000         1     no  southwest   1964.780000\n",
       "1296   18    male  26.125         0     no  northeast   1708.925750\n",
       "1297   28  female  26.510         2     no  southeast   4340.440900\n",
       "1298   33    male  27.455         2     no  northwest   5261.469450\n",
       "1299   19  female  25.745         1     no  northwest   2710.828550\n",
       "1300   45    male  30.360         0    yes  southeast  62592.873090\n",
       "1301   62    male  30.875         3    yes  northwest  46718.163250\n",
       "1302   25  female  20.800         1     no  southwest   3208.787000\n",
       "1303   43    male  27.800         0    yes  southwest  37829.724200\n",
       "1304   42    male  24.605         2    yes  northeast  21259.377950\n",
       "1305   24  female  27.720         0     no  southeast   2464.618800\n",
       "1306   29  female  21.850         0    yes  northeast  16115.304500\n",
       "1307   32    male  28.120         4    yes  northwest  21472.478800\n",
       "1308   25  female  30.200         0    yes  southwest  33900.653000\n",
       "1309   41    male  32.200         2     no  southwest   6875.961000\n",
       "1310   42    male  26.315         1     no  northwest   6940.909850\n",
       "1311   33  female  26.695         0     no  northwest   4571.413050\n",
       "1312   34    male  42.900         1     no  southwest   4536.259000\n",
       "1313   19  female  34.700         2    yes  southwest  36397.576000\n",
       "1314   30  female  23.655         3    yes  northwest  18765.875450\n",
       "1315   18    male  28.310         1     no  northeast  11272.331390\n",
       "1316   19  female  20.600         0     no  southwest   1731.677000\n",
       "1317   18    male  53.130         0     no  southeast   1163.462700\n",
       "1318   35    male  39.710         4     no  northeast  19496.719170\n",
       "1319   39  female  26.315         2     no  northwest   7201.700850\n",
       "1320   31    male  31.065         3     no  northwest   5425.023350\n",
       "1321   62    male  26.695         0    yes  northeast  28101.333050\n",
       "1322   62    male  38.830         0     no  southeast  12981.345700\n",
       "1323   42  female  40.370         2    yes  southeast  43896.376300\n",
       "1324   31    male  25.935         1     no  northwest   4239.892650\n",
       "1325   61    male  33.535         0     no  northeast  13143.336650\n",
       "1326   42  female  32.870         0     no  northeast   7050.021300\n",
       "1327   51    male  30.030         1     no  southeast   9377.904700\n",
       "1328   23  female  24.225         2     no  northeast  22395.744240\n",
       "1329   52    male  38.600         2     no  southwest  10325.206000\n",
       "1330   57  female  25.740         2     no  southeast  12629.165600\n",
       "1331   23  female  33.400         0     no  southwest  10795.937330\n",
       "1332   52  female  44.700         3     no  southwest  11411.685000\n",
       "1333   50    male  30.970         3     no  northwest  10600.548300\n",
       "1334   18  female  31.920         0     no  northeast   2205.980800\n",
       "1335   18  female  36.850         0     no  southeast   1629.833500\n",
       "1336   21  female  25.800         0     no  southwest   2007.945000\n",
       "1337   61  female  29.070         0    yes  northwest  29141.360300>"
      ]
     },
     "execution_count": 6,
     "metadata": {},
     "output_type": "execute_result"
    }
   ],
   "source": [
    "df.info"
   ]
  },
  {
   "cell_type": "code",
   "execution_count": 7,
   "metadata": {},
   "outputs": [
    {
     "data": {
      "text/plain": [
       "age           int64\n",
       "sex          object\n",
       "bmi         float64\n",
       "children      int64\n",
       "smoker       object\n",
       "region       object\n",
       "charges     float64\n",
       "dtype: object"
      ]
     },
     "execution_count": 7,
     "metadata": {},
     "output_type": "execute_result"
    }
   ],
   "source": [
    "df.dtypes"
   ]
  },
  {
   "cell_type": "code",
   "execution_count": 8,
   "metadata": {},
   "outputs": [
    {
     "data": {
      "text/html": [
       "<div>\n",
       "<style scoped>\n",
       "    .dataframe tbody tr th:only-of-type {\n",
       "        vertical-align: middle;\n",
       "    }\n",
       "\n",
       "    .dataframe tbody tr th {\n",
       "        vertical-align: top;\n",
       "    }\n",
       "\n",
       "    .dataframe thead th {\n",
       "        text-align: right;\n",
       "    }\n",
       "</style>\n",
       "<table border=\"1\" class=\"dataframe\">\n",
       "  <thead>\n",
       "    <tr style=\"text-align: right;\">\n",
       "      <th></th>\n",
       "      <th>No. of unique values</th>\n",
       "    </tr>\n",
       "  </thead>\n",
       "  <tbody>\n",
       "    <tr>\n",
       "      <th>age</th>\n",
       "      <td>47</td>\n",
       "    </tr>\n",
       "    <tr>\n",
       "      <th>sex</th>\n",
       "      <td>2</td>\n",
       "    </tr>\n",
       "    <tr>\n",
       "      <th>bmi</th>\n",
       "      <td>548</td>\n",
       "    </tr>\n",
       "    <tr>\n",
       "      <th>children</th>\n",
       "      <td>6</td>\n",
       "    </tr>\n",
       "    <tr>\n",
       "      <th>smoker</th>\n",
       "      <td>2</td>\n",
       "    </tr>\n",
       "    <tr>\n",
       "      <th>region</th>\n",
       "      <td>4</td>\n",
       "    </tr>\n",
       "    <tr>\n",
       "      <th>charges</th>\n",
       "      <td>1337</td>\n",
       "    </tr>\n",
       "  </tbody>\n",
       "</table>\n",
       "</div>"
      ],
      "text/plain": [
       "          No. of unique values\n",
       "age                         47\n",
       "sex                          2\n",
       "bmi                        548\n",
       "children                     6\n",
       "smoker                       2\n",
       "region                       4\n",
       "charges                   1337"
      ]
     },
     "execution_count": 8,
     "metadata": {},
     "output_type": "execute_result"
    }
   ],
   "source": [
    "unique_val = []\n",
    "for i in df.columns:\n",
    "    u = df[i].nunique()\n",
    "    unique_val.append(u)\n",
    "    \n",
    "pd.DataFrame({\"No. of unique values\": unique_val}, index=df.columns)"
   ]
  },
  {
   "cell_type": "code",
   "execution_count": 9,
   "metadata": {},
   "outputs": [
    {
     "data": {
      "text/plain": [
       "age         0\n",
       "sex         0\n",
       "bmi         0\n",
       "children    0\n",
       "smoker      0\n",
       "region      0\n",
       "charges     0\n",
       "dtype: int64"
      ]
     },
     "execution_count": 9,
     "metadata": {},
     "output_type": "execute_result"
    }
   ],
   "source": [
    "df.isnull().sum()"
   ]
  },
  {
   "attachments": {},
   "cell_type": "markdown",
   "metadata": {},
   "source": [
    "2. What is the frequency of categorical variables? Is there any significant difference in frequencies?\n",
    "\n",
    "Tip: You can use bar chart and pie chart with subplots."
   ]
  },
  {
   "cell_type": "code",
   "execution_count": 10,
   "metadata": {},
   "outputs": [
    {
     "data": {
      "application/vnd.plotly.v1+json": {
       "config": {
        "plotlyServerURL": "https://plot.ly"
       },
       "data": [
        {
         "alignmentgroup": "True",
         "bingroup": "x",
         "hovertemplate": "sex=%{x}<br>count=%{y}<extra></extra>",
         "legendgroup": "",
         "marker": {
          "color": "#636efa",
          "pattern": {
           "shape": ""
          }
         },
         "name": "",
         "offsetgroup": "",
         "orientation": "v",
         "showlegend": false,
         "type": "histogram",
         "x": [
          "female",
          "male",
          "male",
          "male",
          "male",
          "female",
          "female",
          "female",
          "male",
          "female",
          "male",
          "female",
          "male",
          "female",
          "male",
          "male",
          "female",
          "male",
          "male",
          "male",
          "female",
          "female",
          "male",
          "female",
          "male",
          "female",
          "female",
          "female",
          "male",
          "male",
          "male",
          "female",
          "female",
          "male",
          "male",
          "male",
          "female",
          "male",
          "male",
          "male",
          "female",
          "female",
          "male",
          "female",
          "male",
          "male",
          "female",
          "female",
          "female",
          "male",
          "female",
          "female",
          "male",
          "male",
          "female",
          "male",
          "female",
          "male",
          "female",
          "female",
          "male",
          "male",
          "male",
          "female",
          "female",
          "female",
          "female",
          "male",
          "female",
          "male",
          "female",
          "male",
          "female",
          "male",
          "male",
          "male",
          "female",
          "male",
          "female",
          "female",
          "male",
          "female",
          "male",
          "female",
          "female",
          "male",
          "female",
          "female",
          "female",
          "female",
          "female",
          "female",
          "male",
          "male",
          "female",
          "female",
          "female",
          "male",
          "male",
          "male",
          "female",
          "male",
          "female",
          "female",
          "female",
          "male",
          "female",
          "male",
          "male",
          "male",
          "male",
          "female",
          "male",
          "female",
          "male",
          "male",
          "male",
          "female",
          "female",
          "female",
          "male",
          "male",
          "female",
          "male",
          "female",
          "female",
          "female",
          "female",
          "female",
          "male",
          "female",
          "female",
          "female",
          "male",
          "female",
          "female",
          "male",
          "male",
          "female",
          "female",
          "male",
          "male",
          "male",
          "male",
          "male",
          "female",
          "male",
          "female",
          "female",
          "male",
          "male",
          "male",
          "female",
          "female",
          "female",
          "male",
          "male",
          "male",
          "male",
          "female",
          "female",
          "female",
          "male",
          "female",
          "male",
          "male",
          "female",
          "female",
          "female",
          "male",
          "male",
          "male",
          "male",
          "female",
          "female",
          "female",
          "male",
          "male",
          "female",
          "female",
          "male",
          "female",
          "male",
          "female",
          "male",
          "male",
          "female",
          "female",
          "female",
          "female",
          "male",
          "female",
          "male",
          "female",
          "male",
          "male",
          "female",
          "female",
          "female",
          "female",
          "female",
          "female",
          "female",
          "female",
          "male",
          "female",
          "male",
          "male",
          "female",
          "male",
          "male",
          "male",
          "male",
          "female",
          "female",
          "female",
          "female",
          "male",
          "female",
          "female",
          "female",
          "female",
          "male",
          "male",
          "male",
          "male",
          "male",
          "female",
          "female",
          "male",
          "female",
          "female",
          "female",
          "male",
          "male",
          "female",
          "female",
          "male",
          "male",
          "male",
          "female",
          "female",
          "female",
          "male",
          "female",
          "male",
          "female",
          "male",
          "male",
          "male",
          "male",
          "female",
          "male",
          "male",
          "male",
          "female",
          "male",
          "female",
          "male",
          "male",
          "female",
          "female",
          "male",
          "male",
          "female",
          "male",
          "male",
          "female",
          "male",
          "male",
          "male",
          "male",
          "male",
          "male",
          "male",
          "female",
          "male",
          "female",
          "male",
          "female",
          "female",
          "male",
          "male",
          "female",
          "female",
          "male",
          "female",
          "female",
          "female",
          "male",
          "female",
          "male",
          "male",
          "female",
          "male",
          "male",
          "male",
          "male",
          "male",
          "female",
          "male",
          "female",
          "female",
          "female",
          "female",
          "male",
          "female",
          "female",
          "male",
          "female",
          "male",
          "female",
          "male",
          "male",
          "female",
          "male",
          "male",
          "male",
          "female",
          "male",
          "male",
          "female",
          "male",
          "male",
          "male",
          "male",
          "female",
          "male",
          "female",
          "male",
          "female",
          "male",
          "female",
          "female",
          "female",
          "male",
          "male",
          "male",
          "male",
          "female",
          "female",
          "male",
          "female",
          "male",
          "female",
          "female",
          "male",
          "male",
          "female",
          "male",
          "female",
          "female",
          "female",
          "male",
          "female",
          "male",
          "male",
          "male",
          "male",
          "female",
          "female",
          "male",
          "female",
          "female",
          "female",
          "female",
          "female",
          "female",
          "male",
          "male",
          "female",
          "female",
          "female",
          "male",
          "male",
          "female",
          "female",
          "male",
          "female",
          "male",
          "female",
          "male",
          "male",
          "female",
          "male",
          "male",
          "female",
          "male",
          "female",
          "female",
          "male",
          "female",
          "male",
          "male",
          "female",
          "male",
          "female",
          "male",
          "male",
          "female",
          "female",
          "male",
          "female",
          "male",
          "male",
          "female",
          "female",
          "female",
          "male",
          "male",
          "male",
          "female",
          "female",
          "male",
          "female",
          "female",
          "male",
          "female",
          "male",
          "female",
          "male",
          "male",
          "male",
          "male",
          "male",
          "male",
          "female",
          "female",
          "female",
          "female",
          "male",
          "female",
          "male",
          "female",
          "male",
          "male",
          "male",
          "male",
          "female",
          "male",
          "female",
          "female",
          "male",
          "female",
          "male",
          "female",
          "male",
          "female",
          "female",
          "male",
          "male",
          "male",
          "male",
          "male",
          "male",
          "male",
          "female",
          "female",
          "male",
          "female",
          "female",
          "male",
          "female",
          "male",
          "male",
          "female",
          "female",
          "female",
          "female",
          "female",
          "male",
          "female",
          "female",
          "female",
          "male",
          "male",
          "male",
          "male",
          "male",
          "male",
          "male",
          "male",
          "female",
          "female",
          "male",
          "female",
          "female",
          "male",
          "female",
          "male",
          "female",
          "female",
          "female",
          "male",
          "male",
          "male",
          "female",
          "male",
          "female",
          "female",
          "male",
          "male",
          "male",
          "male",
          "female",
          "male",
          "male",
          "male",
          "female",
          "female",
          "male",
          "male",
          "male",
          "male",
          "male",
          "male",
          "male",
          "male",
          "female",
          "male",
          "female",
          "female",
          "female",
          "female",
          "male",
          "female",
          "female",
          "female",
          "male",
          "male",
          "male",
          "female",
          "male",
          "male",
          "male",
          "male",
          "female",
          "female",
          "female",
          "male",
          "female",
          "female",
          "female",
          "female",
          "male",
          "male",
          "male",
          "female",
          "female",
          "female",
          "male",
          "female",
          "male",
          "female",
          "female",
          "male",
          "male",
          "male",
          "female",
          "male",
          "female",
          "female",
          "male",
          "male",
          "female",
          "female",
          "female",
          "male",
          "female",
          "male",
          "female",
          "female",
          "female",
          "female",
          "female",
          "female",
          "male",
          "female",
          "male",
          "female",
          "male",
          "male",
          "male",
          "female",
          "male",
          "female",
          "male",
          "female",
          "female",
          "female",
          "female",
          "male",
          "male",
          "female",
          "male",
          "female",
          "female",
          "female",
          "male",
          "female",
          "female",
          "male",
          "female",
          "female",
          "female",
          "female",
          "female",
          "female",
          "male",
          "male",
          "female",
          "female",
          "female",
          "female",
          "female",
          "female",
          "female",
          "male",
          "female",
          "female",
          "male",
          "male",
          "female",
          "male",
          "male",
          "female",
          "male",
          "male",
          "male",
          "female",
          "male",
          "male",
          "female",
          "male",
          "male",
          "male",
          "female",
          "female",
          "male",
          "male",
          "male",
          "male",
          "male",
          "female",
          "male",
          "male",
          "male",
          "female",
          "male",
          "female",
          "female",
          "female",
          "female",
          "female",
          "female",
          "female",
          "female",
          "male",
          "female",
          "female",
          "male",
          "female",
          "female",
          "male",
          "female",
          "male",
          "male",
          "female",
          "male",
          "female",
          "male",
          "female",
          "male",
          "female",
          "female",
          "male",
          "female",
          "male",
          "male",
          "female",
          "female",
          "male",
          "male",
          "male",
          "female",
          "male",
          "male",
          "male",
          "female",
          "male",
          "male",
          "male",
          "male",
          "male",
          "female",
          "female",
          "female",
          "male",
          "male",
          "female",
          "female",
          "female",
          "male",
          "female",
          "female",
          "female",
          "female",
          "male",
          "female",
          "female",
          "male",
          "female",
          "female",
          "male",
          "female",
          "male",
          "female",
          "male",
          "female",
          "female",
          "female",
          "male",
          "male",
          "male",
          "female",
          "female",
          "male",
          "female",
          "female",
          "female",
          "male",
          "male",
          "female",
          "female",
          "female",
          "female",
          "female",
          "male",
          "male",
          "male",
          "male",
          "male",
          "male",
          "female",
          "male",
          "female",
          "male",
          "male",
          "female",
          "male",
          "female",
          "male",
          "male",
          "female",
          "male",
          "male",
          "female",
          "female",
          "male",
          "male",
          "female",
          "male",
          "male",
          "male",
          "female",
          "female",
          "male",
          "female",
          "female",
          "female",
          "male",
          "female",
          "female",
          "female",
          "male",
          "male",
          "male",
          "male",
          "male",
          "male",
          "male",
          "male",
          "male",
          "female",
          "female",
          "female",
          "male",
          "male",
          "male",
          "female",
          "female",
          "male",
          "female",
          "male",
          "female",
          "male",
          "male",
          "female",
          "female",
          "male",
          "female",
          "female",
          "male",
          "female",
          "male",
          "female",
          "female",
          "female",
          "male",
          "male",
          "female",
          "female",
          "male",
          "male",
          "male",
          "female",
          "female",
          "male",
          "female",
          "female",
          "male",
          "male",
          "female",
          "female",
          "male",
          "female",
          "male",
          "male",
          "male",
          "male",
          "male",
          "female",
          "female",
          "male",
          "male",
          "male",
          "male",
          "female",
          "female",
          "female",
          "male",
          "male",
          "female",
          "female",
          "male",
          "female",
          "female",
          "male",
          "female",
          "male",
          "female",
          "male",
          "female",
          "female",
          "female",
          "female",
          "female",
          "male",
          "female",
          "male",
          "female",
          "female",
          "female",
          "female",
          "male",
          "male",
          "male",
          "male",
          "male",
          "female",
          "male",
          "female",
          "male",
          "male",
          "male",
          "female",
          "female",
          "male",
          "male",
          "female",
          "male",
          "male",
          "female",
          "female",
          "male",
          "male",
          "male",
          "female",
          "male",
          "male",
          "female",
          "female",
          "male",
          "male",
          "male",
          "female",
          "female",
          "male",
          "female",
          "female",
          "male",
          "male",
          "male",
          "male",
          "female",
          "female",
          "male",
          "female",
          "male",
          "female",
          "male",
          "male",
          "female",
          "female",
          "male",
          "female",
          "female",
          "male",
          "female",
          "female",
          "female",
          "female",
          "male",
          "male",
          "male",
          "male",
          "female",
          "female",
          "female",
          "male",
          "male",
          "female",
          "male",
          "female",
          "male",
          "female",
          "male",
          "female",
          "male",
          "male",
          "male",
          "female",
          "female",
          "male",
          "male",
          "female",
          "male",
          "male",
          "male",
          "male",
          "male",
          "male",
          "female",
          "male",
          "male",
          "male",
          "male",
          "male",
          "male",
          "male",
          "female",
          "female",
          "female",
          "male",
          "male",
          "male",
          "male",
          "male",
          "male",
          "female",
          "female",
          "female",
          "female",
          "female",
          "male",
          "male",
          "male",
          "male",
          "female",
          "female",
          "male",
          "male",
          "male",
          "female",
          "male",
          "female",
          "male",
          "female",
          "male",
          "female",
          "female",
          "female",
          "female",
          "male",
          "female",
          "female",
          "female",
          "female",
          "female",
          "female",
          "male",
          "male",
          "male",
          "male",
          "male",
          "male",
          "male",
          "male",
          "male",
          "male",
          "female",
          "male",
          "female",
          "male",
          "female",
          "male",
          "female",
          "female",
          "female",
          "female",
          "male",
          "female",
          "male",
          "male",
          "female",
          "female",
          "male",
          "male",
          "male",
          "female",
          "female",
          "female",
          "female",
          "male",
          "male",
          "female",
          "male",
          "female",
          "male",
          "male",
          "female",
          "male",
          "male",
          "female",
          "male",
          "female",
          "female",
          "male",
          "female",
          "male",
          "female",
          "male",
          "male",
          "male",
          "female",
          "male",
          "female",
          "female",
          "female",
          "male",
          "male",
          "male",
          "male",
          "male",
          "female",
          "female",
          "male",
          "male",
          "male",
          "female",
          "male",
          "male",
          "male",
          "female",
          "female",
          "female",
          "female",
          "male",
          "male",
          "male",
          "male",
          "male",
          "male",
          "male",
          "female",
          "female",
          "male",
          "male",
          "male",
          "male",
          "male",
          "female",
          "male",
          "female",
          "female",
          "female",
          "female",
          "male",
          "female",
          "female",
          "female",
          "male",
          "male",
          "male",
          "male",
          "female",
          "female",
          "female",
          "male",
          "male",
          "female",
          "male",
          "female",
          "female",
          "male",
          "male",
          "male",
          "male",
          "male",
          "female",
          "female",
          "male",
          "female",
          "female",
          "female",
          "female",
          "male",
          "female",
          "male",
          "female",
          "female",
          "male",
          "male",
          "female",
          "male",
          "female",
          "female",
          "female",
          "male",
          "female",
          "male",
          "female",
          "female",
          "male",
          "male",
          "male",
          "male",
          "female",
          "male",
          "male",
          "female",
          "female",
          "female",
          "female",
          "female",
          "female",
          "male",
          "female",
          "female",
          "female",
          "female",
          "male",
          "male",
          "female",
          "female",
          "female",
          "male",
          "female",
          "male",
          "female",
          "male",
          "female",
          "female",
          "male",
          "male",
          "female",
          "female",
          "female",
          "female",
          "male",
          "female",
          "female",
          "female",
          "female",
          "female",
          "male",
          "male",
          "female",
          "female",
          "female",
          "female",
          "female",
          "female",
          "female",
          "female",
          "female",
          "female",
          "male",
          "male",
          "female",
          "male",
          "male",
          "male",
          "male",
          "female",
          "male",
          "female",
          "male",
          "female",
          "male",
          "male",
          "male",
          "male",
          "female",
          "female",
          "male",
          "male",
          "male",
          "female",
          "female",
          "female",
          "male",
          "male",
          "female",
          "male",
          "female",
          "male",
          "male",
          "male",
          "male",
          "male",
          "female",
          "female",
          "male",
          "female",
          "male",
          "female",
          "female",
          "male",
          "female",
          "male",
          "male",
          "female",
          "female",
          "male",
          "male",
          "female",
          "male",
          "female",
          "male",
          "male",
          "male",
          "male",
          "female",
          "female",
          "female",
          "female",
          "female",
          "male",
          "female",
          "female",
          "male",
          "female",
          "female",
          "female",
          "male",
          "female",
          "male",
          "female",
          "male",
          "male",
          "female",
          "male",
          "male",
          "male",
          "male",
          "female",
          "female",
          "male",
          "female",
          "female",
          "female",
          "female",
          "male",
          "male",
          "female",
          "female",
          "female",
          "male",
          "male",
          "female",
          "male",
          "male",
          "male",
          "male",
          "male",
          "male",
          "female",
          "male",
          "female",
          "male",
          "male",
          "female",
          "male",
          "male",
          "female",
          "female",
          "male",
          "female",
          "male",
          "male",
          "female",
          "male",
          "female",
          "female",
          "male",
          "female",
          "male",
          "male",
          "female",
          "male",
          "male",
          "male",
          "female",
          "male",
          "male",
          "female",
          "male",
          "female",
          "male",
          "female",
          "female",
          "female",
          "male",
          "female",
          "female",
          "female",
          "female"
         ],
         "xaxis": "x",
         "yaxis": "y"
        }
       ],
       "layout": {
        "barmode": "relative",
        "legend": {
         "tracegroupgap": 0
        },
        "margin": {
         "t": 60
        },
        "template": {
         "data": {
          "bar": [
           {
            "error_x": {
             "color": "#2a3f5f"
            },
            "error_y": {
             "color": "#2a3f5f"
            },
            "marker": {
             "line": {
              "color": "#E5ECF6",
              "width": 0.5
             },
             "pattern": {
              "fillmode": "overlay",
              "size": 10,
              "solidity": 0.2
             }
            },
            "type": "bar"
           }
          ],
          "barpolar": [
           {
            "marker": {
             "line": {
              "color": "#E5ECF6",
              "width": 0.5
             },
             "pattern": {
              "fillmode": "overlay",
              "size": 10,
              "solidity": 0.2
             }
            },
            "type": "barpolar"
           }
          ],
          "carpet": [
           {
            "aaxis": {
             "endlinecolor": "#2a3f5f",
             "gridcolor": "white",
             "linecolor": "white",
             "minorgridcolor": "white",
             "startlinecolor": "#2a3f5f"
            },
            "baxis": {
             "endlinecolor": "#2a3f5f",
             "gridcolor": "white",
             "linecolor": "white",
             "minorgridcolor": "white",
             "startlinecolor": "#2a3f5f"
            },
            "type": "carpet"
           }
          ],
          "choropleth": [
           {
            "colorbar": {
             "outlinewidth": 0,
             "ticks": ""
            },
            "type": "choropleth"
           }
          ],
          "contour": [
           {
            "colorbar": {
             "outlinewidth": 0,
             "ticks": ""
            },
            "colorscale": [
             [
              0,
              "#0d0887"
             ],
             [
              0.1111111111111111,
              "#46039f"
             ],
             [
              0.2222222222222222,
              "#7201a8"
             ],
             [
              0.3333333333333333,
              "#9c179e"
             ],
             [
              0.4444444444444444,
              "#bd3786"
             ],
             [
              0.5555555555555556,
              "#d8576b"
             ],
             [
              0.6666666666666666,
              "#ed7953"
             ],
             [
              0.7777777777777778,
              "#fb9f3a"
             ],
             [
              0.8888888888888888,
              "#fdca26"
             ],
             [
              1,
              "#f0f921"
             ]
            ],
            "type": "contour"
           }
          ],
          "contourcarpet": [
           {
            "colorbar": {
             "outlinewidth": 0,
             "ticks": ""
            },
            "type": "contourcarpet"
           }
          ],
          "heatmap": [
           {
            "colorbar": {
             "outlinewidth": 0,
             "ticks": ""
            },
            "colorscale": [
             [
              0,
              "#0d0887"
             ],
             [
              0.1111111111111111,
              "#46039f"
             ],
             [
              0.2222222222222222,
              "#7201a8"
             ],
             [
              0.3333333333333333,
              "#9c179e"
             ],
             [
              0.4444444444444444,
              "#bd3786"
             ],
             [
              0.5555555555555556,
              "#d8576b"
             ],
             [
              0.6666666666666666,
              "#ed7953"
             ],
             [
              0.7777777777777778,
              "#fb9f3a"
             ],
             [
              0.8888888888888888,
              "#fdca26"
             ],
             [
              1,
              "#f0f921"
             ]
            ],
            "type": "heatmap"
           }
          ],
          "heatmapgl": [
           {
            "colorbar": {
             "outlinewidth": 0,
             "ticks": ""
            },
            "colorscale": [
             [
              0,
              "#0d0887"
             ],
             [
              0.1111111111111111,
              "#46039f"
             ],
             [
              0.2222222222222222,
              "#7201a8"
             ],
             [
              0.3333333333333333,
              "#9c179e"
             ],
             [
              0.4444444444444444,
              "#bd3786"
             ],
             [
              0.5555555555555556,
              "#d8576b"
             ],
             [
              0.6666666666666666,
              "#ed7953"
             ],
             [
              0.7777777777777778,
              "#fb9f3a"
             ],
             [
              0.8888888888888888,
              "#fdca26"
             ],
             [
              1,
              "#f0f921"
             ]
            ],
            "type": "heatmapgl"
           }
          ],
          "histogram": [
           {
            "marker": {
             "pattern": {
              "fillmode": "overlay",
              "size": 10,
              "solidity": 0.2
             }
            },
            "type": "histogram"
           }
          ],
          "histogram2d": [
           {
            "colorbar": {
             "outlinewidth": 0,
             "ticks": ""
            },
            "colorscale": [
             [
              0,
              "#0d0887"
             ],
             [
              0.1111111111111111,
              "#46039f"
             ],
             [
              0.2222222222222222,
              "#7201a8"
             ],
             [
              0.3333333333333333,
              "#9c179e"
             ],
             [
              0.4444444444444444,
              "#bd3786"
             ],
             [
              0.5555555555555556,
              "#d8576b"
             ],
             [
              0.6666666666666666,
              "#ed7953"
             ],
             [
              0.7777777777777778,
              "#fb9f3a"
             ],
             [
              0.8888888888888888,
              "#fdca26"
             ],
             [
              1,
              "#f0f921"
             ]
            ],
            "type": "histogram2d"
           }
          ],
          "histogram2dcontour": [
           {
            "colorbar": {
             "outlinewidth": 0,
             "ticks": ""
            },
            "colorscale": [
             [
              0,
              "#0d0887"
             ],
             [
              0.1111111111111111,
              "#46039f"
             ],
             [
              0.2222222222222222,
              "#7201a8"
             ],
             [
              0.3333333333333333,
              "#9c179e"
             ],
             [
              0.4444444444444444,
              "#bd3786"
             ],
             [
              0.5555555555555556,
              "#d8576b"
             ],
             [
              0.6666666666666666,
              "#ed7953"
             ],
             [
              0.7777777777777778,
              "#fb9f3a"
             ],
             [
              0.8888888888888888,
              "#fdca26"
             ],
             [
              1,
              "#f0f921"
             ]
            ],
            "type": "histogram2dcontour"
           }
          ],
          "mesh3d": [
           {
            "colorbar": {
             "outlinewidth": 0,
             "ticks": ""
            },
            "type": "mesh3d"
           }
          ],
          "parcoords": [
           {
            "line": {
             "colorbar": {
              "outlinewidth": 0,
              "ticks": ""
             }
            },
            "type": "parcoords"
           }
          ],
          "pie": [
           {
            "automargin": true,
            "type": "pie"
           }
          ],
          "scatter": [
           {
            "fillpattern": {
             "fillmode": "overlay",
             "size": 10,
             "solidity": 0.2
            },
            "type": "scatter"
           }
          ],
          "scatter3d": [
           {
            "line": {
             "colorbar": {
              "outlinewidth": 0,
              "ticks": ""
             }
            },
            "marker": {
             "colorbar": {
              "outlinewidth": 0,
              "ticks": ""
             }
            },
            "type": "scatter3d"
           }
          ],
          "scattercarpet": [
           {
            "marker": {
             "colorbar": {
              "outlinewidth": 0,
              "ticks": ""
             }
            },
            "type": "scattercarpet"
           }
          ],
          "scattergeo": [
           {
            "marker": {
             "colorbar": {
              "outlinewidth": 0,
              "ticks": ""
             }
            },
            "type": "scattergeo"
           }
          ],
          "scattergl": [
           {
            "marker": {
             "colorbar": {
              "outlinewidth": 0,
              "ticks": ""
             }
            },
            "type": "scattergl"
           }
          ],
          "scattermapbox": [
           {
            "marker": {
             "colorbar": {
              "outlinewidth": 0,
              "ticks": ""
             }
            },
            "type": "scattermapbox"
           }
          ],
          "scatterpolar": [
           {
            "marker": {
             "colorbar": {
              "outlinewidth": 0,
              "ticks": ""
             }
            },
            "type": "scatterpolar"
           }
          ],
          "scatterpolargl": [
           {
            "marker": {
             "colorbar": {
              "outlinewidth": 0,
              "ticks": ""
             }
            },
            "type": "scatterpolargl"
           }
          ],
          "scatterternary": [
           {
            "marker": {
             "colorbar": {
              "outlinewidth": 0,
              "ticks": ""
             }
            },
            "type": "scatterternary"
           }
          ],
          "surface": [
           {
            "colorbar": {
             "outlinewidth": 0,
             "ticks": ""
            },
            "colorscale": [
             [
              0,
              "#0d0887"
             ],
             [
              0.1111111111111111,
              "#46039f"
             ],
             [
              0.2222222222222222,
              "#7201a8"
             ],
             [
              0.3333333333333333,
              "#9c179e"
             ],
             [
              0.4444444444444444,
              "#bd3786"
             ],
             [
              0.5555555555555556,
              "#d8576b"
             ],
             [
              0.6666666666666666,
              "#ed7953"
             ],
             [
              0.7777777777777778,
              "#fb9f3a"
             ],
             [
              0.8888888888888888,
              "#fdca26"
             ],
             [
              1,
              "#f0f921"
             ]
            ],
            "type": "surface"
           }
          ],
          "table": [
           {
            "cells": {
             "fill": {
              "color": "#EBF0F8"
             },
             "line": {
              "color": "white"
             }
            },
            "header": {
             "fill": {
              "color": "#C8D4E3"
             },
             "line": {
              "color": "white"
             }
            },
            "type": "table"
           }
          ]
         },
         "layout": {
          "annotationdefaults": {
           "arrowcolor": "#2a3f5f",
           "arrowhead": 0,
           "arrowwidth": 1
          },
          "autotypenumbers": "strict",
          "coloraxis": {
           "colorbar": {
            "outlinewidth": 0,
            "ticks": ""
           }
          },
          "colorscale": {
           "diverging": [
            [
             0,
             "#8e0152"
            ],
            [
             0.1,
             "#c51b7d"
            ],
            [
             0.2,
             "#de77ae"
            ],
            [
             0.3,
             "#f1b6da"
            ],
            [
             0.4,
             "#fde0ef"
            ],
            [
             0.5,
             "#f7f7f7"
            ],
            [
             0.6,
             "#e6f5d0"
            ],
            [
             0.7,
             "#b8e186"
            ],
            [
             0.8,
             "#7fbc41"
            ],
            [
             0.9,
             "#4d9221"
            ],
            [
             1,
             "#276419"
            ]
           ],
           "sequential": [
            [
             0,
             "#0d0887"
            ],
            [
             0.1111111111111111,
             "#46039f"
            ],
            [
             0.2222222222222222,
             "#7201a8"
            ],
            [
             0.3333333333333333,
             "#9c179e"
            ],
            [
             0.4444444444444444,
             "#bd3786"
            ],
            [
             0.5555555555555556,
             "#d8576b"
            ],
            [
             0.6666666666666666,
             "#ed7953"
            ],
            [
             0.7777777777777778,
             "#fb9f3a"
            ],
            [
             0.8888888888888888,
             "#fdca26"
            ],
            [
             1,
             "#f0f921"
            ]
           ],
           "sequentialminus": [
            [
             0,
             "#0d0887"
            ],
            [
             0.1111111111111111,
             "#46039f"
            ],
            [
             0.2222222222222222,
             "#7201a8"
            ],
            [
             0.3333333333333333,
             "#9c179e"
            ],
            [
             0.4444444444444444,
             "#bd3786"
            ],
            [
             0.5555555555555556,
             "#d8576b"
            ],
            [
             0.6666666666666666,
             "#ed7953"
            ],
            [
             0.7777777777777778,
             "#fb9f3a"
            ],
            [
             0.8888888888888888,
             "#fdca26"
            ],
            [
             1,
             "#f0f921"
            ]
           ]
          },
          "colorway": [
           "#636efa",
           "#EF553B",
           "#00cc96",
           "#ab63fa",
           "#FFA15A",
           "#19d3f3",
           "#FF6692",
           "#B6E880",
           "#FF97FF",
           "#FECB52"
          ],
          "font": {
           "color": "#2a3f5f"
          },
          "geo": {
           "bgcolor": "white",
           "lakecolor": "white",
           "landcolor": "#E5ECF6",
           "showlakes": true,
           "showland": true,
           "subunitcolor": "white"
          },
          "hoverlabel": {
           "align": "left"
          },
          "hovermode": "closest",
          "mapbox": {
           "style": "light"
          },
          "paper_bgcolor": "white",
          "plot_bgcolor": "#E5ECF6",
          "polar": {
           "angularaxis": {
            "gridcolor": "white",
            "linecolor": "white",
            "ticks": ""
           },
           "bgcolor": "#E5ECF6",
           "radialaxis": {
            "gridcolor": "white",
            "linecolor": "white",
            "ticks": ""
           }
          },
          "scene": {
           "xaxis": {
            "backgroundcolor": "#E5ECF6",
            "gridcolor": "white",
            "gridwidth": 2,
            "linecolor": "white",
            "showbackground": true,
            "ticks": "",
            "zerolinecolor": "white"
           },
           "yaxis": {
            "backgroundcolor": "#E5ECF6",
            "gridcolor": "white",
            "gridwidth": 2,
            "linecolor": "white",
            "showbackground": true,
            "ticks": "",
            "zerolinecolor": "white"
           },
           "zaxis": {
            "backgroundcolor": "#E5ECF6",
            "gridcolor": "white",
            "gridwidth": 2,
            "linecolor": "white",
            "showbackground": true,
            "ticks": "",
            "zerolinecolor": "white"
           }
          },
          "shapedefaults": {
           "line": {
            "color": "#2a3f5f"
           }
          },
          "ternary": {
           "aaxis": {
            "gridcolor": "white",
            "linecolor": "white",
            "ticks": ""
           },
           "baxis": {
            "gridcolor": "white",
            "linecolor": "white",
            "ticks": ""
           },
           "bgcolor": "#E5ECF6",
           "caxis": {
            "gridcolor": "white",
            "linecolor": "white",
            "ticks": ""
           }
          },
          "title": {
           "x": 0.05
          },
          "xaxis": {
           "automargin": true,
           "gridcolor": "white",
           "linecolor": "white",
           "ticks": "",
           "title": {
            "standoff": 15
           },
           "zerolinecolor": "white",
           "zerolinewidth": 2
          },
          "yaxis": {
           "automargin": true,
           "gridcolor": "white",
           "linecolor": "white",
           "ticks": "",
           "title": {
            "standoff": 15
           },
           "zerolinecolor": "white",
           "zerolinewidth": 2
          }
         }
        },
        "xaxis": {
         "anchor": "y",
         "domain": [
          0,
          1
         ],
         "title": {
          "text": "sex"
         }
        },
        "yaxis": {
         "anchor": "x",
         "domain": [
          0,
          1
         ],
         "title": {
          "text": "count"
         }
        }
       }
      }
     },
     "metadata": {},
     "output_type": "display_data"
    }
   ],
   "source": [
    "fig = px.histogram(df, x='sex')\n",
    "fig.show()\n"
   ]
  },
  {
   "cell_type": "code",
   "execution_count": 11,
   "metadata": {},
   "outputs": [
    {
     "data": {
      "application/vnd.plotly.v1+json": {
       "config": {
        "plotlyServerURL": "https://plot.ly"
       },
       "data": [
        {
         "alignmentgroup": "True",
         "bingroup": "x",
         "hovertemplate": "smoker=%{x}<br>count=%{y}<extra></extra>",
         "legendgroup": "",
         "marker": {
          "color": "#636efa",
          "pattern": {
           "shape": ""
          }
         },
         "name": "",
         "offsetgroup": "",
         "orientation": "v",
         "showlegend": false,
         "type": "histogram",
         "x": [
          "yes",
          "no",
          "no",
          "no",
          "no",
          "no",
          "no",
          "no",
          "no",
          "no",
          "no",
          "yes",
          "no",
          "no",
          "yes",
          "no",
          "no",
          "no",
          "no",
          "yes",
          "no",
          "no",
          "no",
          "yes",
          "no",
          "no",
          "no",
          "no",
          "no",
          "yes",
          "yes",
          "no",
          "no",
          "no",
          "yes",
          "no",
          "no",
          "no",
          "yes",
          "yes",
          "no",
          "no",
          "no",
          "no",
          "no",
          "no",
          "no",
          "no",
          "no",
          "yes",
          "no",
          "no",
          "yes",
          "yes",
          "no",
          "yes",
          "no",
          "yes",
          "yes",
          "no",
          "no",
          "no",
          "no",
          "no",
          "yes",
          "no",
          "no",
          "no",
          "no",
          "yes",
          "yes",
          "no",
          "no",
          "no",
          "no",
          "no",
          "no",
          "no",
          "no",
          "no",
          "no",
          "no",
          "yes",
          "no",
          "yes",
          "yes",
          "yes",
          "no",
          "no",
          "no",
          "no",
          "no",
          "yes",
          "no",
          "yes",
          "no",
          "no",
          "no",
          "yes",
          "yes",
          "no",
          "no",
          "no",
          "yes",
          "no",
          "yes",
          "no",
          "no",
          "no",
          "yes",
          "no",
          "no",
          "no",
          "no",
          "no",
          "no",
          "no",
          "yes",
          "no",
          "no",
          "no",
          "no",
          "no",
          "yes",
          "no",
          "no",
          "yes",
          "no",
          "yes",
          "no",
          "no",
          "no",
          "no",
          "no",
          "no",
          "no",
          "no",
          "no",
          "no",
          "no",
          "no",
          "no",
          "yes",
          "no",
          "yes",
          "no",
          "yes",
          "no",
          "no",
          "no",
          "no",
          "no",
          "no",
          "yes",
          "no",
          "no",
          "yes",
          "yes",
          "yes",
          "no",
          "yes",
          "yes",
          "no",
          "no",
          "no",
          "no",
          "no",
          "no",
          "no",
          "no",
          "no",
          "no",
          "no",
          "no",
          "no",
          "yes",
          "no",
          "no",
          "no",
          "no",
          "no",
          "no",
          "no",
          "no",
          "no",
          "yes",
          "no",
          "no",
          "no",
          "no",
          "no",
          "no",
          "no",
          "no",
          "no",
          "no",
          "no",
          "no",
          "no",
          "no",
          "no",
          "no",
          "no",
          "yes",
          "no",
          "no",
          "no",
          "yes",
          "no",
          "no",
          "no",
          "no",
          "no",
          "no",
          "no",
          "no",
          "no",
          "no",
          "no",
          "no",
          "no",
          "no",
          "no",
          "yes",
          "yes",
          "no",
          "no",
          "no",
          "no",
          "no",
          "no",
          "no",
          "no",
          "no",
          "no",
          "yes",
          "no",
          "no",
          "yes",
          "no",
          "yes",
          "no",
          "no",
          "no",
          "yes",
          "no",
          "no",
          "no",
          "no",
          "no",
          "yes",
          "yes",
          "yes",
          "no",
          "yes",
          "no",
          "yes",
          "no",
          "no",
          "yes",
          "no",
          "yes",
          "yes",
          "yes",
          "no",
          "yes",
          "yes",
          "no",
          "no",
          "no",
          "no",
          "yes",
          "no",
          "no",
          "no",
          "no",
          "no",
          "no",
          "no",
          "no",
          "yes",
          "yes",
          "no",
          "no",
          "no",
          "no",
          "no",
          "no",
          "yes",
          "no",
          "no",
          "no",
          "yes",
          "no",
          "no",
          "no",
          "yes",
          "yes",
          "yes",
          "no",
          "no",
          "yes",
          "no",
          "no",
          "no",
          "no",
          "no",
          "no",
          "no",
          "no",
          "no",
          "no",
          "yes",
          "no",
          "yes",
          "no",
          "no",
          "no",
          "no",
          "no",
          "no",
          "no",
          "yes",
          "no",
          "no",
          "no",
          "no",
          "yes",
          "yes",
          "no",
          "yes",
          "yes",
          "no",
          "no",
          "no",
          "no",
          "no",
          "no",
          "yes",
          "no",
          "no",
          "no",
          "no",
          "no",
          "no",
          "no",
          "no",
          "no",
          "no",
          "no",
          "no",
          "no",
          "no",
          "no",
          "no",
          "no",
          "no",
          "no",
          "no",
          "no",
          "no",
          "no",
          "yes",
          "no",
          "no",
          "no",
          "no",
          "no",
          "no",
          "no",
          "no",
          "no",
          "no",
          "yes",
          "no",
          "yes",
          "yes",
          "yes",
          "no",
          "no",
          "yes",
          "yes",
          "no",
          "no",
          "no",
          "no",
          "no",
          "no",
          "no",
          "no",
          "no",
          "no",
          "no",
          "no",
          "no",
          "no",
          "no",
          "no",
          "no",
          "no",
          "no",
          "no",
          "no",
          "no",
          "no",
          "no",
          "no",
          "no",
          "no",
          "no",
          "no",
          "yes",
          "yes",
          "no",
          "no",
          "no",
          "no",
          "yes",
          "no",
          "yes",
          "yes",
          "yes",
          "yes",
          "no",
          "no",
          "no",
          "no",
          "no",
          "no",
          "no",
          "no",
          "no",
          "no",
          "no",
          "no",
          "no",
          "no",
          "no",
          "no",
          "no",
          "no",
          "yes",
          "no",
          "no",
          "yes",
          "no",
          "no",
          "no",
          "no",
          "no",
          "no",
          "no",
          "no",
          "no",
          "no",
          "no",
          "no",
          "no",
          "no",
          "no",
          "no",
          "yes",
          "no",
          "no",
          "no",
          "yes",
          "no",
          "no",
          "no",
          "no",
          "no",
          "no",
          "no",
          "no",
          "yes",
          "yes",
          "yes",
          "no",
          "no",
          "no",
          "no",
          "no",
          "no",
          "no",
          "no",
          "no",
          "no",
          "no",
          "yes",
          "no",
          "no",
          "no",
          "no",
          "no",
          "yes",
          "no",
          "no",
          "no",
          "no",
          "no",
          "yes",
          "no",
          "yes",
          "yes",
          "no",
          "no",
          "no",
          "no",
          "no",
          "no",
          "no",
          "no",
          "no",
          "no",
          "yes",
          "no",
          "no",
          "no",
          "no",
          "no",
          "no",
          "no",
          "no",
          "no",
          "yes",
          "no",
          "no",
          "no",
          "no",
          "no",
          "yes",
          "no",
          "no",
          "no",
          "no",
          "no",
          "no",
          "no",
          "no",
          "no",
          "no",
          "no",
          "no",
          "yes",
          "no",
          "yes",
          "no",
          "no",
          "no",
          "yes",
          "no",
          "no",
          "no",
          "no",
          "no",
          "no",
          "no",
          "no",
          "yes",
          "no",
          "no",
          "no",
          "no",
          "no",
          "no",
          "no",
          "no",
          "no",
          "no",
          "yes",
          "no",
          "no",
          "no",
          "no",
          "no",
          "no",
          "no",
          "yes",
          "no",
          "no",
          "no",
          "no",
          "no",
          "no",
          "no",
          "no",
          "no",
          "yes",
          "no",
          "no",
          "no",
          "no",
          "no",
          "yes",
          "no",
          "no",
          "no",
          "no",
          "no",
          "no",
          "no",
          "no",
          "no",
          "no",
          "yes",
          "no",
          "no",
          "yes",
          "no",
          "yes",
          "no",
          "no",
          "no",
          "no",
          "no",
          "yes",
          "no",
          "yes",
          "yes",
          "no",
          "no",
          "yes",
          "no",
          "yes",
          "no",
          "no",
          "no",
          "no",
          "no",
          "yes",
          "no",
          "no",
          "no",
          "no",
          "no",
          "no",
          "no",
          "no",
          "yes",
          "no",
          "no",
          "yes",
          "no",
          "no",
          "no",
          "no",
          "no",
          "no",
          "no",
          "no",
          "no",
          "no",
          "no",
          "no",
          "no",
          "yes",
          "no",
          "no",
          "no",
          "no",
          "no",
          "no",
          "no",
          "no",
          "yes",
          "yes",
          "no",
          "yes",
          "yes",
          "no",
          "no",
          "no",
          "no",
          "no",
          "yes",
          "no",
          "no",
          "yes",
          "no",
          "no",
          "no",
          "no",
          "yes",
          "no",
          "no",
          "no",
          "no",
          "no",
          "no",
          "yes",
          "no",
          "no",
          "no",
          "no",
          "no",
          "no",
          "no",
          "yes",
          "no",
          "no",
          "no",
          "no",
          "no",
          "no",
          "no",
          "no",
          "yes",
          "no",
          "no",
          "no",
          "no",
          "no",
          "no",
          "no",
          "no",
          "no",
          "no",
          "no",
          "no",
          "no",
          "no",
          "no",
          "no",
          "no",
          "no",
          "yes",
          "no",
          "yes",
          "no",
          "no",
          "yes",
          "no",
          "no",
          "no",
          "no",
          "no",
          "yes",
          "no",
          "yes",
          "yes",
          "no",
          "yes",
          "yes",
          "no",
          "no",
          "no",
          "no",
          "no",
          "no",
          "no",
          "yes",
          "no",
          "no",
          "no",
          "no",
          "no",
          "no",
          "yes",
          "no",
          "yes",
          "no",
          "no",
          "yes",
          "no",
          "no",
          "no",
          "no",
          "no",
          "no",
          "no",
          "no",
          "no",
          "no",
          "yes",
          "no",
          "no",
          "no",
          "no",
          "no",
          "no",
          "yes",
          "no",
          "no",
          "yes",
          "no",
          "no",
          "no",
          "no",
          "no",
          "no",
          "no",
          "no",
          "no",
          "yes",
          "no",
          "yes",
          "no",
          "no",
          "no",
          "yes",
          "no",
          "no",
          "no",
          "yes",
          "no",
          "no",
          "no",
          "no",
          "no",
          "no",
          "no",
          "no",
          "no",
          "no",
          "no",
          "no",
          "no",
          "no",
          "yes",
          "yes",
          "no",
          "no",
          "no",
          "no",
          "no",
          "no",
          "yes",
          "yes",
          "yes",
          "no",
          "no",
          "no",
          "no",
          "no",
          "no",
          "no",
          "no",
          "no",
          "no",
          "no",
          "no",
          "no",
          "yes",
          "yes",
          "no",
          "yes",
          "no",
          "no",
          "no",
          "no",
          "yes",
          "no",
          "yes",
          "no",
          "yes",
          "no",
          "yes",
          "yes",
          "no",
          "no",
          "yes",
          "no",
          "no",
          "no",
          "no",
          "no",
          "no",
          "no",
          "no",
          "no",
          "no",
          "no",
          "no",
          "no",
          "no",
          "no",
          "no",
          "no",
          "no",
          "no",
          "no",
          "no",
          "no",
          "yes",
          "no",
          "yes",
          "yes",
          "no",
          "no",
          "no",
          "yes",
          "no",
          "no",
          "yes",
          "no",
          "no",
          "yes",
          "no",
          "no",
          "no",
          "no",
          "yes",
          "no",
          "no",
          "no",
          "no",
          "no",
          "no",
          "no",
          "yes",
          "no",
          "yes",
          "no",
          "no",
          "no",
          "no",
          "yes",
          "yes",
          "no",
          "no",
          "no",
          "no",
          "no",
          "no",
          "no",
          "no",
          "no",
          "no",
          "no",
          "no",
          "no",
          "no",
          "no",
          "no",
          "no",
          "no",
          "no",
          "no",
          "no",
          "no",
          "no",
          "no",
          "no",
          "no",
          "no",
          "no",
          "no",
          "yes",
          "no",
          "yes",
          "no",
          "yes",
          "no",
          "yes",
          "yes",
          "no",
          "yes",
          "no",
          "yes",
          "no",
          "no",
          "no",
          "no",
          "no",
          "no",
          "no",
          "yes",
          "no",
          "no",
          "no",
          "no",
          "no",
          "no",
          "no",
          "no",
          "yes",
          "no",
          "no",
          "no",
          "no",
          "no",
          "no",
          "yes",
          "no",
          "no",
          "no",
          "no",
          "no",
          "no",
          "yes",
          "no",
          "no",
          "no",
          "no",
          "yes",
          "no",
          "no",
          "no",
          "no",
          "no",
          "yes",
          "yes",
          "no",
          "no",
          "no",
          "no",
          "no",
          "yes",
          "no",
          "no",
          "no",
          "yes",
          "no",
          "no",
          "no",
          "no",
          "no",
          "no",
          "no",
          "no",
          "no",
          "yes",
          "yes",
          "no",
          "no",
          "no",
          "yes",
          "no",
          "no",
          "no",
          "yes",
          "yes",
          "no",
          "yes",
          "no",
          "no",
          "yes",
          "yes",
          "no",
          "no",
          "yes",
          "no",
          "yes",
          "no",
          "no",
          "yes",
          "no",
          "yes",
          "no",
          "yes",
          "no",
          "no",
          "no",
          "yes",
          "no",
          "no",
          "no",
          "no",
          "no",
          "no",
          "no",
          "no",
          "yes",
          "no",
          "no",
          "no",
          "no",
          "no",
          "no",
          "no",
          "yes",
          "no",
          "no",
          "no",
          "no",
          "no",
          "no",
          "no",
          "yes",
          "no",
          "no",
          "no",
          "no",
          "no",
          "no",
          "yes",
          "no",
          "no",
          "no",
          "no",
          "yes",
          "no",
          "no",
          "yes",
          "no",
          "no",
          "yes",
          "no",
          "no",
          "no",
          "yes",
          "no",
          "no",
          "no",
          "no",
          "no",
          "no",
          "no",
          "no",
          "no",
          "no",
          "yes",
          "yes",
          "no",
          "no",
          "no",
          "no",
          "yes",
          "yes",
          "no",
          "yes",
          "no",
          "yes",
          "no",
          "yes",
          "no",
          "no",
          "no",
          "no",
          "no",
          "no",
          "no",
          "no",
          "no",
          "no",
          "no",
          "no",
          "no",
          "no",
          "yes",
          "no",
          "no",
          "no",
          "no",
          "no",
          "no",
          "yes",
          "no",
          "no",
          "no",
          "no",
          "no",
          "yes",
          "no",
          "no",
          "no",
          "yes",
          "no",
          "no",
          "no",
          "no",
          "no",
          "no",
          "no",
          "no",
          "no",
          "no",
          "no",
          "no",
          "no",
          "yes",
          "yes",
          "no",
          "no",
          "no",
          "no",
          "yes",
          "no",
          "no",
          "yes",
          "no",
          "no",
          "no",
          "no",
          "yes",
          "no",
          "yes",
          "no",
          "yes",
          "no",
          "no",
          "no",
          "no",
          "no",
          "no",
          "no",
          "yes",
          "no",
          "no",
          "no",
          "no",
          "no",
          "no",
          "no",
          "yes",
          "no",
          "no",
          "yes",
          "yes",
          "no",
          "no",
          "no",
          "no",
          "no",
          "no",
          "no",
          "no",
          "no",
          "yes",
          "no",
          "no",
          "no",
          "no",
          "yes",
          "no",
          "no",
          "no",
          "no",
          "no",
          "no",
          "yes",
          "yes",
          "no",
          "no",
          "no",
          "no",
          "no",
          "no",
          "no",
          "no",
          "yes",
          "yes",
          "no",
          "no",
          "no",
          "no",
          "no",
          "no",
          "no",
          "yes",
          "yes",
          "no",
          "yes",
          "no",
          "no",
          "no",
          "no",
          "no",
          "no",
          "no",
          "no",
          "no",
          "no",
          "no",
          "no",
          "yes",
          "no",
          "yes",
          "no",
          "no",
          "no",
          "no",
          "no",
          "no",
          "yes",
          "no",
          "no",
          "no",
          "yes",
          "no",
          "no",
          "yes",
          "yes",
          "no",
          "yes",
          "no",
          "no",
          "no",
          "yes",
          "no",
          "no",
          "yes",
          "no",
          "no",
          "no",
          "no",
          "no",
          "no",
          "no",
          "no",
          "yes",
          "yes",
          "no",
          "yes",
          "yes",
          "no",
          "yes",
          "yes",
          "yes",
          "no",
          "no",
          "no",
          "no",
          "yes",
          "yes",
          "no",
          "no",
          "no",
          "no",
          "no",
          "no",
          "yes",
          "no",
          "yes",
          "no",
          "no",
          "no",
          "no",
          "no",
          "no",
          "no",
          "no",
          "no",
          "no",
          "no",
          "no",
          "no",
          "yes"
         ],
         "xaxis": "x",
         "yaxis": "y"
        }
       ],
       "layout": {
        "barmode": "relative",
        "legend": {
         "tracegroupgap": 0
        },
        "margin": {
         "t": 60
        },
        "template": {
         "data": {
          "bar": [
           {
            "error_x": {
             "color": "#2a3f5f"
            },
            "error_y": {
             "color": "#2a3f5f"
            },
            "marker": {
             "line": {
              "color": "#E5ECF6",
              "width": 0.5
             },
             "pattern": {
              "fillmode": "overlay",
              "size": 10,
              "solidity": 0.2
             }
            },
            "type": "bar"
           }
          ],
          "barpolar": [
           {
            "marker": {
             "line": {
              "color": "#E5ECF6",
              "width": 0.5
             },
             "pattern": {
              "fillmode": "overlay",
              "size": 10,
              "solidity": 0.2
             }
            },
            "type": "barpolar"
           }
          ],
          "carpet": [
           {
            "aaxis": {
             "endlinecolor": "#2a3f5f",
             "gridcolor": "white",
             "linecolor": "white",
             "minorgridcolor": "white",
             "startlinecolor": "#2a3f5f"
            },
            "baxis": {
             "endlinecolor": "#2a3f5f",
             "gridcolor": "white",
             "linecolor": "white",
             "minorgridcolor": "white",
             "startlinecolor": "#2a3f5f"
            },
            "type": "carpet"
           }
          ],
          "choropleth": [
           {
            "colorbar": {
             "outlinewidth": 0,
             "ticks": ""
            },
            "type": "choropleth"
           }
          ],
          "contour": [
           {
            "colorbar": {
             "outlinewidth": 0,
             "ticks": ""
            },
            "colorscale": [
             [
              0,
              "#0d0887"
             ],
             [
              0.1111111111111111,
              "#46039f"
             ],
             [
              0.2222222222222222,
              "#7201a8"
             ],
             [
              0.3333333333333333,
              "#9c179e"
             ],
             [
              0.4444444444444444,
              "#bd3786"
             ],
             [
              0.5555555555555556,
              "#d8576b"
             ],
             [
              0.6666666666666666,
              "#ed7953"
             ],
             [
              0.7777777777777778,
              "#fb9f3a"
             ],
             [
              0.8888888888888888,
              "#fdca26"
             ],
             [
              1,
              "#f0f921"
             ]
            ],
            "type": "contour"
           }
          ],
          "contourcarpet": [
           {
            "colorbar": {
             "outlinewidth": 0,
             "ticks": ""
            },
            "type": "contourcarpet"
           }
          ],
          "heatmap": [
           {
            "colorbar": {
             "outlinewidth": 0,
             "ticks": ""
            },
            "colorscale": [
             [
              0,
              "#0d0887"
             ],
             [
              0.1111111111111111,
              "#46039f"
             ],
             [
              0.2222222222222222,
              "#7201a8"
             ],
             [
              0.3333333333333333,
              "#9c179e"
             ],
             [
              0.4444444444444444,
              "#bd3786"
             ],
             [
              0.5555555555555556,
              "#d8576b"
             ],
             [
              0.6666666666666666,
              "#ed7953"
             ],
             [
              0.7777777777777778,
              "#fb9f3a"
             ],
             [
              0.8888888888888888,
              "#fdca26"
             ],
             [
              1,
              "#f0f921"
             ]
            ],
            "type": "heatmap"
           }
          ],
          "heatmapgl": [
           {
            "colorbar": {
             "outlinewidth": 0,
             "ticks": ""
            },
            "colorscale": [
             [
              0,
              "#0d0887"
             ],
             [
              0.1111111111111111,
              "#46039f"
             ],
             [
              0.2222222222222222,
              "#7201a8"
             ],
             [
              0.3333333333333333,
              "#9c179e"
             ],
             [
              0.4444444444444444,
              "#bd3786"
             ],
             [
              0.5555555555555556,
              "#d8576b"
             ],
             [
              0.6666666666666666,
              "#ed7953"
             ],
             [
              0.7777777777777778,
              "#fb9f3a"
             ],
             [
              0.8888888888888888,
              "#fdca26"
             ],
             [
              1,
              "#f0f921"
             ]
            ],
            "type": "heatmapgl"
           }
          ],
          "histogram": [
           {
            "marker": {
             "pattern": {
              "fillmode": "overlay",
              "size": 10,
              "solidity": 0.2
             }
            },
            "type": "histogram"
           }
          ],
          "histogram2d": [
           {
            "colorbar": {
             "outlinewidth": 0,
             "ticks": ""
            },
            "colorscale": [
             [
              0,
              "#0d0887"
             ],
             [
              0.1111111111111111,
              "#46039f"
             ],
             [
              0.2222222222222222,
              "#7201a8"
             ],
             [
              0.3333333333333333,
              "#9c179e"
             ],
             [
              0.4444444444444444,
              "#bd3786"
             ],
             [
              0.5555555555555556,
              "#d8576b"
             ],
             [
              0.6666666666666666,
              "#ed7953"
             ],
             [
              0.7777777777777778,
              "#fb9f3a"
             ],
             [
              0.8888888888888888,
              "#fdca26"
             ],
             [
              1,
              "#f0f921"
             ]
            ],
            "type": "histogram2d"
           }
          ],
          "histogram2dcontour": [
           {
            "colorbar": {
             "outlinewidth": 0,
             "ticks": ""
            },
            "colorscale": [
             [
              0,
              "#0d0887"
             ],
             [
              0.1111111111111111,
              "#46039f"
             ],
             [
              0.2222222222222222,
              "#7201a8"
             ],
             [
              0.3333333333333333,
              "#9c179e"
             ],
             [
              0.4444444444444444,
              "#bd3786"
             ],
             [
              0.5555555555555556,
              "#d8576b"
             ],
             [
              0.6666666666666666,
              "#ed7953"
             ],
             [
              0.7777777777777778,
              "#fb9f3a"
             ],
             [
              0.8888888888888888,
              "#fdca26"
             ],
             [
              1,
              "#f0f921"
             ]
            ],
            "type": "histogram2dcontour"
           }
          ],
          "mesh3d": [
           {
            "colorbar": {
             "outlinewidth": 0,
             "ticks": ""
            },
            "type": "mesh3d"
           }
          ],
          "parcoords": [
           {
            "line": {
             "colorbar": {
              "outlinewidth": 0,
              "ticks": ""
             }
            },
            "type": "parcoords"
           }
          ],
          "pie": [
           {
            "automargin": true,
            "type": "pie"
           }
          ],
          "scatter": [
           {
            "fillpattern": {
             "fillmode": "overlay",
             "size": 10,
             "solidity": 0.2
            },
            "type": "scatter"
           }
          ],
          "scatter3d": [
           {
            "line": {
             "colorbar": {
              "outlinewidth": 0,
              "ticks": ""
             }
            },
            "marker": {
             "colorbar": {
              "outlinewidth": 0,
              "ticks": ""
             }
            },
            "type": "scatter3d"
           }
          ],
          "scattercarpet": [
           {
            "marker": {
             "colorbar": {
              "outlinewidth": 0,
              "ticks": ""
             }
            },
            "type": "scattercarpet"
           }
          ],
          "scattergeo": [
           {
            "marker": {
             "colorbar": {
              "outlinewidth": 0,
              "ticks": ""
             }
            },
            "type": "scattergeo"
           }
          ],
          "scattergl": [
           {
            "marker": {
             "colorbar": {
              "outlinewidth": 0,
              "ticks": ""
             }
            },
            "type": "scattergl"
           }
          ],
          "scattermapbox": [
           {
            "marker": {
             "colorbar": {
              "outlinewidth": 0,
              "ticks": ""
             }
            },
            "type": "scattermapbox"
           }
          ],
          "scatterpolar": [
           {
            "marker": {
             "colorbar": {
              "outlinewidth": 0,
              "ticks": ""
             }
            },
            "type": "scatterpolar"
           }
          ],
          "scatterpolargl": [
           {
            "marker": {
             "colorbar": {
              "outlinewidth": 0,
              "ticks": ""
             }
            },
            "type": "scatterpolargl"
           }
          ],
          "scatterternary": [
           {
            "marker": {
             "colorbar": {
              "outlinewidth": 0,
              "ticks": ""
             }
            },
            "type": "scatterternary"
           }
          ],
          "surface": [
           {
            "colorbar": {
             "outlinewidth": 0,
             "ticks": ""
            },
            "colorscale": [
             [
              0,
              "#0d0887"
             ],
             [
              0.1111111111111111,
              "#46039f"
             ],
             [
              0.2222222222222222,
              "#7201a8"
             ],
             [
              0.3333333333333333,
              "#9c179e"
             ],
             [
              0.4444444444444444,
              "#bd3786"
             ],
             [
              0.5555555555555556,
              "#d8576b"
             ],
             [
              0.6666666666666666,
              "#ed7953"
             ],
             [
              0.7777777777777778,
              "#fb9f3a"
             ],
             [
              0.8888888888888888,
              "#fdca26"
             ],
             [
              1,
              "#f0f921"
             ]
            ],
            "type": "surface"
           }
          ],
          "table": [
           {
            "cells": {
             "fill": {
              "color": "#EBF0F8"
             },
             "line": {
              "color": "white"
             }
            },
            "header": {
             "fill": {
              "color": "#C8D4E3"
             },
             "line": {
              "color": "white"
             }
            },
            "type": "table"
           }
          ]
         },
         "layout": {
          "annotationdefaults": {
           "arrowcolor": "#2a3f5f",
           "arrowhead": 0,
           "arrowwidth": 1
          },
          "autotypenumbers": "strict",
          "coloraxis": {
           "colorbar": {
            "outlinewidth": 0,
            "ticks": ""
           }
          },
          "colorscale": {
           "diverging": [
            [
             0,
             "#8e0152"
            ],
            [
             0.1,
             "#c51b7d"
            ],
            [
             0.2,
             "#de77ae"
            ],
            [
             0.3,
             "#f1b6da"
            ],
            [
             0.4,
             "#fde0ef"
            ],
            [
             0.5,
             "#f7f7f7"
            ],
            [
             0.6,
             "#e6f5d0"
            ],
            [
             0.7,
             "#b8e186"
            ],
            [
             0.8,
             "#7fbc41"
            ],
            [
             0.9,
             "#4d9221"
            ],
            [
             1,
             "#276419"
            ]
           ],
           "sequential": [
            [
             0,
             "#0d0887"
            ],
            [
             0.1111111111111111,
             "#46039f"
            ],
            [
             0.2222222222222222,
             "#7201a8"
            ],
            [
             0.3333333333333333,
             "#9c179e"
            ],
            [
             0.4444444444444444,
             "#bd3786"
            ],
            [
             0.5555555555555556,
             "#d8576b"
            ],
            [
             0.6666666666666666,
             "#ed7953"
            ],
            [
             0.7777777777777778,
             "#fb9f3a"
            ],
            [
             0.8888888888888888,
             "#fdca26"
            ],
            [
             1,
             "#f0f921"
            ]
           ],
           "sequentialminus": [
            [
             0,
             "#0d0887"
            ],
            [
             0.1111111111111111,
             "#46039f"
            ],
            [
             0.2222222222222222,
             "#7201a8"
            ],
            [
             0.3333333333333333,
             "#9c179e"
            ],
            [
             0.4444444444444444,
             "#bd3786"
            ],
            [
             0.5555555555555556,
             "#d8576b"
            ],
            [
             0.6666666666666666,
             "#ed7953"
            ],
            [
             0.7777777777777778,
             "#fb9f3a"
            ],
            [
             0.8888888888888888,
             "#fdca26"
            ],
            [
             1,
             "#f0f921"
            ]
           ]
          },
          "colorway": [
           "#636efa",
           "#EF553B",
           "#00cc96",
           "#ab63fa",
           "#FFA15A",
           "#19d3f3",
           "#FF6692",
           "#B6E880",
           "#FF97FF",
           "#FECB52"
          ],
          "font": {
           "color": "#2a3f5f"
          },
          "geo": {
           "bgcolor": "white",
           "lakecolor": "white",
           "landcolor": "#E5ECF6",
           "showlakes": true,
           "showland": true,
           "subunitcolor": "white"
          },
          "hoverlabel": {
           "align": "left"
          },
          "hovermode": "closest",
          "mapbox": {
           "style": "light"
          },
          "paper_bgcolor": "white",
          "plot_bgcolor": "#E5ECF6",
          "polar": {
           "angularaxis": {
            "gridcolor": "white",
            "linecolor": "white",
            "ticks": ""
           },
           "bgcolor": "#E5ECF6",
           "radialaxis": {
            "gridcolor": "white",
            "linecolor": "white",
            "ticks": ""
           }
          },
          "scene": {
           "xaxis": {
            "backgroundcolor": "#E5ECF6",
            "gridcolor": "white",
            "gridwidth": 2,
            "linecolor": "white",
            "showbackground": true,
            "ticks": "",
            "zerolinecolor": "white"
           },
           "yaxis": {
            "backgroundcolor": "#E5ECF6",
            "gridcolor": "white",
            "gridwidth": 2,
            "linecolor": "white",
            "showbackground": true,
            "ticks": "",
            "zerolinecolor": "white"
           },
           "zaxis": {
            "backgroundcolor": "#E5ECF6",
            "gridcolor": "white",
            "gridwidth": 2,
            "linecolor": "white",
            "showbackground": true,
            "ticks": "",
            "zerolinecolor": "white"
           }
          },
          "shapedefaults": {
           "line": {
            "color": "#2a3f5f"
           }
          },
          "ternary": {
           "aaxis": {
            "gridcolor": "white",
            "linecolor": "white",
            "ticks": ""
           },
           "baxis": {
            "gridcolor": "white",
            "linecolor": "white",
            "ticks": ""
           },
           "bgcolor": "#E5ECF6",
           "caxis": {
            "gridcolor": "white",
            "linecolor": "white",
            "ticks": ""
           }
          },
          "title": {
           "x": 0.05
          },
          "xaxis": {
           "automargin": true,
           "gridcolor": "white",
           "linecolor": "white",
           "ticks": "",
           "title": {
            "standoff": 15
           },
           "zerolinecolor": "white",
           "zerolinewidth": 2
          },
          "yaxis": {
           "automargin": true,
           "gridcolor": "white",
           "linecolor": "white",
           "ticks": "",
           "title": {
            "standoff": 15
           },
           "zerolinecolor": "white",
           "zerolinewidth": 2
          }
         }
        },
        "xaxis": {
         "anchor": "y",
         "domain": [
          0,
          1
         ],
         "title": {
          "text": "smoker"
         }
        },
        "yaxis": {
         "anchor": "x",
         "domain": [
          0,
          1
         ],
         "title": {
          "text": "count"
         }
        }
       }
      }
     },
     "metadata": {},
     "output_type": "display_data"
    }
   ],
   "source": [
    "fig = px.histogram(df, x='smoker')\n",
    "fig.show()"
   ]
  },
  {
   "cell_type": "code",
   "execution_count": 12,
   "metadata": {},
   "outputs": [
    {
     "data": {
      "application/vnd.plotly.v1+json": {
       "config": {
        "plotlyServerURL": "https://plot.ly"
       },
       "data": [
        {
         "alignmentgroup": "True",
         "bingroup": "x",
         "hovertemplate": "sex=female<br>smoker=%{x}<br>count=%{y}<extra></extra>",
         "legendgroup": "female",
         "marker": {
          "color": "#636efa",
          "pattern": {
           "shape": ""
          }
         },
         "name": "female",
         "offsetgroup": "female",
         "orientation": "v",
         "showlegend": true,
         "type": "histogram",
         "x": [
          "yes",
          "no",
          "no",
          "no",
          "no",
          "yes",
          "no",
          "no",
          "no",
          "no",
          "yes",
          "no",
          "no",
          "no",
          "no",
          "no",
          "no",
          "no",
          "no",
          "no",
          "no",
          "no",
          "no",
          "no",
          "no",
          "no",
          "no",
          "yes",
          "no",
          "no",
          "yes",
          "no",
          "no",
          "no",
          "yes",
          "no",
          "no",
          "no",
          "no",
          "no",
          "no",
          "yes",
          "yes",
          "no",
          "no",
          "no",
          "no",
          "no",
          "yes",
          "no",
          "no",
          "no",
          "no",
          "yes",
          "no",
          "no",
          "no",
          "no",
          "yes",
          "no",
          "no",
          "no",
          "no",
          "no",
          "yes",
          "no",
          "yes",
          "no",
          "no",
          "no",
          "no",
          "no",
          "no",
          "no",
          "no",
          "no",
          "no",
          "no",
          "yes",
          "no",
          "no",
          "yes",
          "yes",
          "no",
          "no",
          "no",
          "no",
          "no",
          "no",
          "yes",
          "no",
          "no",
          "no",
          "no",
          "no",
          "no",
          "no",
          "no",
          "no",
          "no",
          "no",
          "no",
          "no",
          "no",
          "no",
          "no",
          "no",
          "yes",
          "no",
          "no",
          "no",
          "no",
          "no",
          "no",
          "no",
          "no",
          "no",
          "no",
          "no",
          "no",
          "no",
          "no",
          "no",
          "yes",
          "no",
          "yes",
          "no",
          "no",
          "yes",
          "no",
          "yes",
          "no",
          "no",
          "no",
          "yes",
          "no",
          "no",
          "no",
          "no",
          "no",
          "yes",
          "no",
          "no",
          "no",
          "no",
          "yes",
          "no",
          "no",
          "no",
          "yes",
          "no",
          "no",
          "no",
          "no",
          "no",
          "no",
          "no",
          "yes",
          "no",
          "no",
          "no",
          "yes",
          "yes",
          "no",
          "no",
          "no",
          "no",
          "no",
          "no",
          "no",
          "no",
          "no",
          "no",
          "no",
          "no",
          "no",
          "no",
          "no",
          "yes",
          "no",
          "no",
          "no",
          "no",
          "no",
          "no",
          "no",
          "no",
          "yes",
          "yes",
          "no",
          "yes",
          "no",
          "no",
          "no",
          "no",
          "no",
          "no",
          "no",
          "no",
          "no",
          "no",
          "no",
          "no",
          "no",
          "yes",
          "yes",
          "no",
          "no",
          "yes",
          "yes",
          "no",
          "no",
          "no",
          "no",
          "no",
          "no",
          "no",
          "no",
          "yes",
          "no",
          "no",
          "no",
          "no",
          "no",
          "no",
          "no",
          "no",
          "no",
          "yes",
          "no",
          "no",
          "no",
          "no",
          "no",
          "no",
          "no",
          "no",
          "no",
          "no",
          "no",
          "yes",
          "no",
          "no",
          "no",
          "no",
          "no",
          "no",
          "no",
          "no",
          "no",
          "no",
          "no",
          "no",
          "no",
          "no",
          "no",
          "no",
          "no",
          "no",
          "no",
          "no",
          "no",
          "no",
          "no",
          "no",
          "yes",
          "no",
          "no",
          "yes",
          "no",
          "no",
          "no",
          "yes",
          "no",
          "no",
          "no",
          "no",
          "no",
          "no",
          "no",
          "no",
          "no",
          "no",
          "no",
          "no",
          "yes",
          "no",
          "no",
          "no",
          "yes",
          "no",
          "no",
          "no",
          "yes",
          "no",
          "no",
          "no",
          "no",
          "no",
          "no",
          "no",
          "yes",
          "no",
          "no",
          "yes",
          "no",
          "no",
          "no",
          "no",
          "no",
          "yes",
          "no",
          "yes",
          "no",
          "no",
          "no",
          "yes",
          "no",
          "no",
          "no",
          "no",
          "no",
          "no",
          "no",
          "no",
          "no",
          "no",
          "no",
          "yes",
          "no",
          "no",
          "no",
          "no",
          "no",
          "yes",
          "yes",
          "no",
          "no",
          "no",
          "yes",
          "no",
          "no",
          "no",
          "no",
          "no",
          "no",
          "no",
          "no",
          "no",
          "no",
          "no",
          "no",
          "no",
          "no",
          "yes",
          "no",
          "no",
          "no",
          "no",
          "no",
          "no",
          "no",
          "no",
          "no",
          "no",
          "yes",
          "yes",
          "no",
          "no",
          "no",
          "no",
          "no",
          "no",
          "yes",
          "no",
          "no",
          "no",
          "yes",
          "no",
          "no",
          "yes",
          "no",
          "no",
          "no",
          "no",
          "no",
          "no",
          "no",
          "no",
          "yes",
          "yes",
          "no",
          "no",
          "no",
          "no",
          "no",
          "no",
          "no",
          "no",
          "no",
          "no",
          "yes",
          "no",
          "no",
          "no",
          "no",
          "no",
          "no",
          "no",
          "yes",
          "yes",
          "no",
          "no",
          "no",
          "no",
          "no",
          "no",
          "no",
          "no",
          "yes",
          "yes",
          "yes",
          "no",
          "no",
          "yes",
          "yes",
          "no",
          "yes",
          "no",
          "yes",
          "no",
          "yes",
          "no",
          "no",
          "no",
          "no",
          "no",
          "no",
          "no",
          "no",
          "no",
          "yes",
          "no",
          "yes",
          "no",
          "no",
          "yes",
          "no",
          "no",
          "no",
          "no",
          "no",
          "yes",
          "no",
          "no",
          "no",
          "yes",
          "no",
          "no",
          "no",
          "no",
          "no",
          "no",
          "no",
          "no",
          "no",
          "no",
          "no",
          "no",
          "no",
          "no",
          "no",
          "no",
          "no",
          "no",
          "no",
          "no",
          "no",
          "no",
          "no",
          "no",
          "no",
          "no",
          "no",
          "no",
          "yes",
          "no",
          "no",
          "no",
          "yes",
          "no",
          "no",
          "no",
          "no",
          "no",
          "no",
          "no",
          "no",
          "no",
          "no",
          "no",
          "no",
          "yes",
          "no",
          "no",
          "no",
          "yes",
          "yes",
          "no",
          "no",
          "yes",
          "yes",
          "no",
          "yes",
          "no",
          "no",
          "no",
          "no",
          "no",
          "no",
          "no",
          "no",
          "no",
          "no",
          "no",
          "no",
          "no",
          "no",
          "no",
          "yes",
          "no",
          "yes",
          "no",
          "no",
          "yes",
          "no",
          "no",
          "yes",
          "no",
          "no",
          "no",
          "no",
          "yes",
          "no",
          "no",
          "yes",
          "yes",
          "no",
          "yes",
          "no",
          "no",
          "no",
          "no",
          "no",
          "no",
          "no",
          "no",
          "yes",
          "no",
          "no",
          "no",
          "no",
          "no",
          "yes",
          "no",
          "no",
          "no",
          "no",
          "no",
          "no",
          "no",
          "no",
          "no",
          "no",
          "no",
          "no",
          "yes",
          "no",
          "no",
          "yes",
          "no",
          "no",
          "no",
          "no",
          "no",
          "no",
          "yes",
          "no",
          "yes",
          "no",
          "no",
          "no",
          "no",
          "no",
          "no",
          "no",
          "yes",
          "no",
          "yes",
          "no",
          "yes",
          "no",
          "no",
          "yes",
          "no",
          "no",
          "yes",
          "no",
          "yes",
          "no",
          "no",
          "no",
          "no",
          "no",
          "no",
          "no",
          "no",
          "no",
          "no",
          "no",
          "no",
          "no",
          "no",
          "no",
          "no",
          "no",
          "no",
          "no",
          "no",
          "no",
          "no",
          "no",
          "no",
          "no",
          "no",
          "yes",
          "yes",
          "no",
          "no",
          "no",
          "no",
          "no",
          "no",
          "no",
          "no",
          "yes",
          "yes",
          "no",
          "yes",
          "yes",
          "no",
          "no",
          "yes",
          "no",
          "no",
          "no",
          "no",
          "no",
          "no",
          "no",
          "no",
          "yes"
         ],
         "xaxis": "x",
         "yaxis": "y"
        },
        {
         "alignmentgroup": "True",
         "bingroup": "x",
         "hovertemplate": "sex=male<br>smoker=%{x}<br>count=%{y}<extra></extra>",
         "legendgroup": "male",
         "marker": {
          "color": "#EF553B",
          "pattern": {
           "shape": ""
          }
         },
         "name": "male",
         "offsetgroup": "male",
         "orientation": "v",
         "showlegend": true,
         "type": "histogram",
         "x": [
          "no",
          "no",
          "no",
          "no",
          "no",
          "no",
          "no",
          "yes",
          "no",
          "no",
          "no",
          "yes",
          "no",
          "no",
          "no",
          "yes",
          "yes",
          "no",
          "yes",
          "no",
          "no",
          "yes",
          "yes",
          "no",
          "no",
          "no",
          "yes",
          "yes",
          "yes",
          "yes",
          "yes",
          "no",
          "no",
          "no",
          "no",
          "yes",
          "no",
          "no",
          "no",
          "no",
          "no",
          "no",
          "yes",
          "yes",
          "yes",
          "no",
          "no",
          "yes",
          "yes",
          "no",
          "yes",
          "no",
          "no",
          "yes",
          "no",
          "no",
          "no",
          "no",
          "no",
          "no",
          "no",
          "yes",
          "no",
          "no",
          "no",
          "no",
          "no",
          "no",
          "yes",
          "no",
          "yes",
          "yes",
          "no",
          "no",
          "no",
          "no",
          "yes",
          "yes",
          "yes",
          "no",
          "no",
          "no",
          "no",
          "no",
          "no",
          "no",
          "no",
          "no",
          "no",
          "no",
          "no",
          "yes",
          "no",
          "no",
          "no",
          "no",
          "no",
          "no",
          "yes",
          "no",
          "no",
          "no",
          "no",
          "no",
          "no",
          "yes",
          "yes",
          "no",
          "no",
          "no",
          "no",
          "no",
          "no",
          "yes",
          "no",
          "no",
          "no",
          "no",
          "no",
          "no",
          "yes",
          "yes",
          "no",
          "yes",
          "yes",
          "no",
          "yes",
          "yes",
          "yes",
          "yes",
          "yes",
          "no",
          "no",
          "no",
          "yes",
          "no",
          "no",
          "no",
          "no",
          "no",
          "yes",
          "no",
          "no",
          "no",
          "no",
          "yes",
          "no",
          "no",
          "yes",
          "yes",
          "yes",
          "no",
          "no",
          "no",
          "no",
          "yes",
          "no",
          "no",
          "no",
          "no",
          "no",
          "no",
          "yes",
          "no",
          "no",
          "no",
          "yes",
          "no",
          "yes",
          "no",
          "no",
          "no",
          "yes",
          "no",
          "no",
          "no",
          "no",
          "no",
          "no",
          "no",
          "no",
          "no",
          "no",
          "no",
          "no",
          "no",
          "yes",
          "no",
          "yes",
          "no",
          "yes",
          "no",
          "no",
          "no",
          "no",
          "no",
          "no",
          "no",
          "no",
          "no",
          "no",
          "no",
          "no",
          "no",
          "no",
          "no",
          "no",
          "no",
          "no",
          "no",
          "yes",
          "yes",
          "yes",
          "no",
          "no",
          "no",
          "no",
          "no",
          "no",
          "no",
          "no",
          "no",
          "no",
          "no",
          "yes",
          "no",
          "no",
          "no",
          "no",
          "no",
          "no",
          "no",
          "no",
          "no",
          "yes",
          "no",
          "no",
          "no",
          "yes",
          "yes",
          "yes",
          "no",
          "no",
          "no",
          "no",
          "no",
          "no",
          "no",
          "no",
          "no",
          "yes",
          "no",
          "no",
          "yes",
          "no",
          "yes",
          "yes",
          "no",
          "no",
          "no",
          "no",
          "no",
          "no",
          "no",
          "yes",
          "no",
          "no",
          "no",
          "no",
          "yes",
          "no",
          "no",
          "yes",
          "no",
          "no",
          "no",
          "no",
          "no",
          "no",
          "yes",
          "no",
          "no",
          "no",
          "no",
          "no",
          "no",
          "no",
          "no",
          "no",
          "no",
          "yes",
          "no",
          "no",
          "no",
          "no",
          "no",
          "no",
          "no",
          "no",
          "no",
          "no",
          "no",
          "no",
          "no",
          "yes",
          "yes",
          "no",
          "yes",
          "yes",
          "no",
          "no",
          "no",
          "no",
          "no",
          "no",
          "no",
          "no",
          "no",
          "yes",
          "no",
          "no",
          "yes",
          "no",
          "no",
          "no",
          "no",
          "no",
          "no",
          "no",
          "no",
          "yes",
          "no",
          "yes",
          "no",
          "no",
          "no",
          "yes",
          "no",
          "no",
          "yes",
          "no",
          "no",
          "no",
          "no",
          "yes",
          "no",
          "no",
          "no",
          "no",
          "yes",
          "no",
          "no",
          "no",
          "no",
          "no",
          "no",
          "no",
          "no",
          "no",
          "no",
          "no",
          "yes",
          "no",
          "no",
          "yes",
          "yes",
          "no",
          "yes",
          "yes",
          "no",
          "no",
          "no",
          "no",
          "no",
          "no",
          "no",
          "no",
          "no",
          "yes",
          "no",
          "yes",
          "no",
          "no",
          "no",
          "no",
          "no",
          "no",
          "no",
          "no",
          "no",
          "yes",
          "no",
          "no",
          "no",
          "no",
          "no",
          "no",
          "yes",
          "yes",
          "no",
          "yes",
          "no",
          "no",
          "no",
          "no",
          "no",
          "no",
          "no",
          "no",
          "no",
          "no",
          "no",
          "yes",
          "yes",
          "yes",
          "no",
          "no",
          "no",
          "no",
          "no",
          "no",
          "no",
          "no",
          "no",
          "no",
          "no",
          "no",
          "yes",
          "no",
          "no",
          "no",
          "no",
          "no",
          "no",
          "no",
          "no",
          "no",
          "no",
          "no",
          "no",
          "no",
          "no",
          "no",
          "yes",
          "yes",
          "no",
          "no",
          "no",
          "yes",
          "no",
          "no",
          "no",
          "yes",
          "no",
          "no",
          "no",
          "no",
          "no",
          "yes",
          "no",
          "yes",
          "no",
          "no",
          "no",
          "no",
          "no",
          "no",
          "no",
          "no",
          "no",
          "no",
          "no",
          "no",
          "no",
          "no",
          "no",
          "yes",
          "no",
          "yes",
          "no",
          "yes",
          "yes",
          "yes",
          "no",
          "yes",
          "no",
          "yes",
          "no",
          "no",
          "no",
          "no",
          "yes",
          "no",
          "no",
          "no",
          "yes",
          "no",
          "no",
          "no",
          "no",
          "yes",
          "no",
          "no",
          "no",
          "no",
          "yes",
          "yes",
          "no",
          "no",
          "no",
          "no",
          "no",
          "yes",
          "no",
          "no",
          "yes",
          "no",
          "no",
          "no",
          "yes",
          "no",
          "yes",
          "no",
          "no",
          "yes",
          "no",
          "yes",
          "no",
          "no",
          "no",
          "yes",
          "no",
          "yes",
          "yes",
          "no",
          "no",
          "yes",
          "no",
          "no",
          "no",
          "no",
          "yes",
          "no",
          "no",
          "no",
          "no",
          "yes",
          "no",
          "no",
          "no",
          "yes",
          "no",
          "no",
          "no",
          "no",
          "no",
          "no",
          "no",
          "no",
          "no",
          "yes",
          "no",
          "no",
          "no",
          "no",
          "no",
          "no",
          "no",
          "no",
          "yes",
          "no",
          "no",
          "no",
          "yes",
          "yes",
          "no",
          "no",
          "no",
          "no",
          "no",
          "no",
          "no",
          "no",
          "no",
          "no",
          "no",
          "yes",
          "no",
          "no",
          "yes",
          "no",
          "no",
          "no",
          "no",
          "yes",
          "no",
          "no",
          "yes",
          "no",
          "yes",
          "no",
          "no",
          "no",
          "no",
          "no",
          "no",
          "no",
          "yes",
          "no",
          "no",
          "no",
          "no",
          "no",
          "no",
          "no",
          "no",
          "no",
          "no",
          "no",
          "no",
          "no",
          "no",
          "yes",
          "no",
          "no",
          "no",
          "yes",
          "yes",
          "no",
          "no",
          "no",
          "yes",
          "yes",
          "no",
          "yes",
          "no",
          "no",
          "yes",
          "yes",
          "no",
          "no",
          "no",
          "no",
          "yes",
          "no",
          "yes",
          "no",
          "yes",
          "yes",
          "no",
          "yes",
          "no",
          "no",
          "no",
          "no",
          "no",
          "no",
          "yes",
          "yes",
          "yes",
          "yes",
          "yes",
          "no",
          "no",
          "no",
          "no",
          "no",
          "no",
          "no",
          "yes",
          "no",
          "no",
          "no",
          "no",
          "no",
          "no"
         ],
         "xaxis": "x",
         "yaxis": "y"
        }
       ],
       "layout": {
        "barmode": "relative",
        "legend": {
         "title": {
          "text": "sex"
         },
         "tracegroupgap": 0
        },
        "margin": {
         "t": 60
        },
        "template": {
         "data": {
          "bar": [
           {
            "error_x": {
             "color": "#2a3f5f"
            },
            "error_y": {
             "color": "#2a3f5f"
            },
            "marker": {
             "line": {
              "color": "#E5ECF6",
              "width": 0.5
             },
             "pattern": {
              "fillmode": "overlay",
              "size": 10,
              "solidity": 0.2
             }
            },
            "type": "bar"
           }
          ],
          "barpolar": [
           {
            "marker": {
             "line": {
              "color": "#E5ECF6",
              "width": 0.5
             },
             "pattern": {
              "fillmode": "overlay",
              "size": 10,
              "solidity": 0.2
             }
            },
            "type": "barpolar"
           }
          ],
          "carpet": [
           {
            "aaxis": {
             "endlinecolor": "#2a3f5f",
             "gridcolor": "white",
             "linecolor": "white",
             "minorgridcolor": "white",
             "startlinecolor": "#2a3f5f"
            },
            "baxis": {
             "endlinecolor": "#2a3f5f",
             "gridcolor": "white",
             "linecolor": "white",
             "minorgridcolor": "white",
             "startlinecolor": "#2a3f5f"
            },
            "type": "carpet"
           }
          ],
          "choropleth": [
           {
            "colorbar": {
             "outlinewidth": 0,
             "ticks": ""
            },
            "type": "choropleth"
           }
          ],
          "contour": [
           {
            "colorbar": {
             "outlinewidth": 0,
             "ticks": ""
            },
            "colorscale": [
             [
              0,
              "#0d0887"
             ],
             [
              0.1111111111111111,
              "#46039f"
             ],
             [
              0.2222222222222222,
              "#7201a8"
             ],
             [
              0.3333333333333333,
              "#9c179e"
             ],
             [
              0.4444444444444444,
              "#bd3786"
             ],
             [
              0.5555555555555556,
              "#d8576b"
             ],
             [
              0.6666666666666666,
              "#ed7953"
             ],
             [
              0.7777777777777778,
              "#fb9f3a"
             ],
             [
              0.8888888888888888,
              "#fdca26"
             ],
             [
              1,
              "#f0f921"
             ]
            ],
            "type": "contour"
           }
          ],
          "contourcarpet": [
           {
            "colorbar": {
             "outlinewidth": 0,
             "ticks": ""
            },
            "type": "contourcarpet"
           }
          ],
          "heatmap": [
           {
            "colorbar": {
             "outlinewidth": 0,
             "ticks": ""
            },
            "colorscale": [
             [
              0,
              "#0d0887"
             ],
             [
              0.1111111111111111,
              "#46039f"
             ],
             [
              0.2222222222222222,
              "#7201a8"
             ],
             [
              0.3333333333333333,
              "#9c179e"
             ],
             [
              0.4444444444444444,
              "#bd3786"
             ],
             [
              0.5555555555555556,
              "#d8576b"
             ],
             [
              0.6666666666666666,
              "#ed7953"
             ],
             [
              0.7777777777777778,
              "#fb9f3a"
             ],
             [
              0.8888888888888888,
              "#fdca26"
             ],
             [
              1,
              "#f0f921"
             ]
            ],
            "type": "heatmap"
           }
          ],
          "heatmapgl": [
           {
            "colorbar": {
             "outlinewidth": 0,
             "ticks": ""
            },
            "colorscale": [
             [
              0,
              "#0d0887"
             ],
             [
              0.1111111111111111,
              "#46039f"
             ],
             [
              0.2222222222222222,
              "#7201a8"
             ],
             [
              0.3333333333333333,
              "#9c179e"
             ],
             [
              0.4444444444444444,
              "#bd3786"
             ],
             [
              0.5555555555555556,
              "#d8576b"
             ],
             [
              0.6666666666666666,
              "#ed7953"
             ],
             [
              0.7777777777777778,
              "#fb9f3a"
             ],
             [
              0.8888888888888888,
              "#fdca26"
             ],
             [
              1,
              "#f0f921"
             ]
            ],
            "type": "heatmapgl"
           }
          ],
          "histogram": [
           {
            "marker": {
             "pattern": {
              "fillmode": "overlay",
              "size": 10,
              "solidity": 0.2
             }
            },
            "type": "histogram"
           }
          ],
          "histogram2d": [
           {
            "colorbar": {
             "outlinewidth": 0,
             "ticks": ""
            },
            "colorscale": [
             [
              0,
              "#0d0887"
             ],
             [
              0.1111111111111111,
              "#46039f"
             ],
             [
              0.2222222222222222,
              "#7201a8"
             ],
             [
              0.3333333333333333,
              "#9c179e"
             ],
             [
              0.4444444444444444,
              "#bd3786"
             ],
             [
              0.5555555555555556,
              "#d8576b"
             ],
             [
              0.6666666666666666,
              "#ed7953"
             ],
             [
              0.7777777777777778,
              "#fb9f3a"
             ],
             [
              0.8888888888888888,
              "#fdca26"
             ],
             [
              1,
              "#f0f921"
             ]
            ],
            "type": "histogram2d"
           }
          ],
          "histogram2dcontour": [
           {
            "colorbar": {
             "outlinewidth": 0,
             "ticks": ""
            },
            "colorscale": [
             [
              0,
              "#0d0887"
             ],
             [
              0.1111111111111111,
              "#46039f"
             ],
             [
              0.2222222222222222,
              "#7201a8"
             ],
             [
              0.3333333333333333,
              "#9c179e"
             ],
             [
              0.4444444444444444,
              "#bd3786"
             ],
             [
              0.5555555555555556,
              "#d8576b"
             ],
             [
              0.6666666666666666,
              "#ed7953"
             ],
             [
              0.7777777777777778,
              "#fb9f3a"
             ],
             [
              0.8888888888888888,
              "#fdca26"
             ],
             [
              1,
              "#f0f921"
             ]
            ],
            "type": "histogram2dcontour"
           }
          ],
          "mesh3d": [
           {
            "colorbar": {
             "outlinewidth": 0,
             "ticks": ""
            },
            "type": "mesh3d"
           }
          ],
          "parcoords": [
           {
            "line": {
             "colorbar": {
              "outlinewidth": 0,
              "ticks": ""
             }
            },
            "type": "parcoords"
           }
          ],
          "pie": [
           {
            "automargin": true,
            "type": "pie"
           }
          ],
          "scatter": [
           {
            "fillpattern": {
             "fillmode": "overlay",
             "size": 10,
             "solidity": 0.2
            },
            "type": "scatter"
           }
          ],
          "scatter3d": [
           {
            "line": {
             "colorbar": {
              "outlinewidth": 0,
              "ticks": ""
             }
            },
            "marker": {
             "colorbar": {
              "outlinewidth": 0,
              "ticks": ""
             }
            },
            "type": "scatter3d"
           }
          ],
          "scattercarpet": [
           {
            "marker": {
             "colorbar": {
              "outlinewidth": 0,
              "ticks": ""
             }
            },
            "type": "scattercarpet"
           }
          ],
          "scattergeo": [
           {
            "marker": {
             "colorbar": {
              "outlinewidth": 0,
              "ticks": ""
             }
            },
            "type": "scattergeo"
           }
          ],
          "scattergl": [
           {
            "marker": {
             "colorbar": {
              "outlinewidth": 0,
              "ticks": ""
             }
            },
            "type": "scattergl"
           }
          ],
          "scattermapbox": [
           {
            "marker": {
             "colorbar": {
              "outlinewidth": 0,
              "ticks": ""
             }
            },
            "type": "scattermapbox"
           }
          ],
          "scatterpolar": [
           {
            "marker": {
             "colorbar": {
              "outlinewidth": 0,
              "ticks": ""
             }
            },
            "type": "scatterpolar"
           }
          ],
          "scatterpolargl": [
           {
            "marker": {
             "colorbar": {
              "outlinewidth": 0,
              "ticks": ""
             }
            },
            "type": "scatterpolargl"
           }
          ],
          "scatterternary": [
           {
            "marker": {
             "colorbar": {
              "outlinewidth": 0,
              "ticks": ""
             }
            },
            "type": "scatterternary"
           }
          ],
          "surface": [
           {
            "colorbar": {
             "outlinewidth": 0,
             "ticks": ""
            },
            "colorscale": [
             [
              0,
              "#0d0887"
             ],
             [
              0.1111111111111111,
              "#46039f"
             ],
             [
              0.2222222222222222,
              "#7201a8"
             ],
             [
              0.3333333333333333,
              "#9c179e"
             ],
             [
              0.4444444444444444,
              "#bd3786"
             ],
             [
              0.5555555555555556,
              "#d8576b"
             ],
             [
              0.6666666666666666,
              "#ed7953"
             ],
             [
              0.7777777777777778,
              "#fb9f3a"
             ],
             [
              0.8888888888888888,
              "#fdca26"
             ],
             [
              1,
              "#f0f921"
             ]
            ],
            "type": "surface"
           }
          ],
          "table": [
           {
            "cells": {
             "fill": {
              "color": "#EBF0F8"
             },
             "line": {
              "color": "white"
             }
            },
            "header": {
             "fill": {
              "color": "#C8D4E3"
             },
             "line": {
              "color": "white"
             }
            },
            "type": "table"
           }
          ]
         },
         "layout": {
          "annotationdefaults": {
           "arrowcolor": "#2a3f5f",
           "arrowhead": 0,
           "arrowwidth": 1
          },
          "autotypenumbers": "strict",
          "coloraxis": {
           "colorbar": {
            "outlinewidth": 0,
            "ticks": ""
           }
          },
          "colorscale": {
           "diverging": [
            [
             0,
             "#8e0152"
            ],
            [
             0.1,
             "#c51b7d"
            ],
            [
             0.2,
             "#de77ae"
            ],
            [
             0.3,
             "#f1b6da"
            ],
            [
             0.4,
             "#fde0ef"
            ],
            [
             0.5,
             "#f7f7f7"
            ],
            [
             0.6,
             "#e6f5d0"
            ],
            [
             0.7,
             "#b8e186"
            ],
            [
             0.8,
             "#7fbc41"
            ],
            [
             0.9,
             "#4d9221"
            ],
            [
             1,
             "#276419"
            ]
           ],
           "sequential": [
            [
             0,
             "#0d0887"
            ],
            [
             0.1111111111111111,
             "#46039f"
            ],
            [
             0.2222222222222222,
             "#7201a8"
            ],
            [
             0.3333333333333333,
             "#9c179e"
            ],
            [
             0.4444444444444444,
             "#bd3786"
            ],
            [
             0.5555555555555556,
             "#d8576b"
            ],
            [
             0.6666666666666666,
             "#ed7953"
            ],
            [
             0.7777777777777778,
             "#fb9f3a"
            ],
            [
             0.8888888888888888,
             "#fdca26"
            ],
            [
             1,
             "#f0f921"
            ]
           ],
           "sequentialminus": [
            [
             0,
             "#0d0887"
            ],
            [
             0.1111111111111111,
             "#46039f"
            ],
            [
             0.2222222222222222,
             "#7201a8"
            ],
            [
             0.3333333333333333,
             "#9c179e"
            ],
            [
             0.4444444444444444,
             "#bd3786"
            ],
            [
             0.5555555555555556,
             "#d8576b"
            ],
            [
             0.6666666666666666,
             "#ed7953"
            ],
            [
             0.7777777777777778,
             "#fb9f3a"
            ],
            [
             0.8888888888888888,
             "#fdca26"
            ],
            [
             1,
             "#f0f921"
            ]
           ]
          },
          "colorway": [
           "#636efa",
           "#EF553B",
           "#00cc96",
           "#ab63fa",
           "#FFA15A",
           "#19d3f3",
           "#FF6692",
           "#B6E880",
           "#FF97FF",
           "#FECB52"
          ],
          "font": {
           "color": "#2a3f5f"
          },
          "geo": {
           "bgcolor": "white",
           "lakecolor": "white",
           "landcolor": "#E5ECF6",
           "showlakes": true,
           "showland": true,
           "subunitcolor": "white"
          },
          "hoverlabel": {
           "align": "left"
          },
          "hovermode": "closest",
          "mapbox": {
           "style": "light"
          },
          "paper_bgcolor": "white",
          "plot_bgcolor": "#E5ECF6",
          "polar": {
           "angularaxis": {
            "gridcolor": "white",
            "linecolor": "white",
            "ticks": ""
           },
           "bgcolor": "#E5ECF6",
           "radialaxis": {
            "gridcolor": "white",
            "linecolor": "white",
            "ticks": ""
           }
          },
          "scene": {
           "xaxis": {
            "backgroundcolor": "#E5ECF6",
            "gridcolor": "white",
            "gridwidth": 2,
            "linecolor": "white",
            "showbackground": true,
            "ticks": "",
            "zerolinecolor": "white"
           },
           "yaxis": {
            "backgroundcolor": "#E5ECF6",
            "gridcolor": "white",
            "gridwidth": 2,
            "linecolor": "white",
            "showbackground": true,
            "ticks": "",
            "zerolinecolor": "white"
           },
           "zaxis": {
            "backgroundcolor": "#E5ECF6",
            "gridcolor": "white",
            "gridwidth": 2,
            "linecolor": "white",
            "showbackground": true,
            "ticks": "",
            "zerolinecolor": "white"
           }
          },
          "shapedefaults": {
           "line": {
            "color": "#2a3f5f"
           }
          },
          "ternary": {
           "aaxis": {
            "gridcolor": "white",
            "linecolor": "white",
            "ticks": ""
           },
           "baxis": {
            "gridcolor": "white",
            "linecolor": "white",
            "ticks": ""
           },
           "bgcolor": "#E5ECF6",
           "caxis": {
            "gridcolor": "white",
            "linecolor": "white",
            "ticks": ""
           }
          },
          "title": {
           "x": 0.05
          },
          "xaxis": {
           "automargin": true,
           "gridcolor": "white",
           "linecolor": "white",
           "ticks": "",
           "title": {
            "standoff": 15
           },
           "zerolinecolor": "white",
           "zerolinewidth": 2
          },
          "yaxis": {
           "automargin": true,
           "gridcolor": "white",
           "linecolor": "white",
           "ticks": "",
           "title": {
            "standoff": 15
           },
           "zerolinecolor": "white",
           "zerolinewidth": 2
          }
         }
        },
        "xaxis": {
         "anchor": "y",
         "domain": [
          0,
          1
         ],
         "title": {
          "text": "smoker"
         }
        },
        "yaxis": {
         "anchor": "x",
         "domain": [
          0,
          1
         ],
         "title": {
          "text": "count"
         }
        }
       }
      }
     },
     "metadata": {},
     "output_type": "display_data"
    }
   ],
   "source": [
    "fig = px.histogram(df, x='smoker', color='sex')\n",
    "fig.show()"
   ]
  },
  {
   "cell_type": "code",
   "execution_count": 13,
   "metadata": {},
   "outputs": [
    {
     "data": {
      "application/vnd.plotly.v1+json": {
       "config": {
        "plotlyServerURL": "https://plot.ly"
       },
       "data": [
        {
         "alignmentgroup": "True",
         "bingroup": "x",
         "hovertemplate": "region=%{x}<br>count=%{y}<extra></extra>",
         "legendgroup": "",
         "marker": {
          "color": "#636efa",
          "pattern": {
           "shape": ""
          }
         },
         "name": "",
         "offsetgroup": "",
         "orientation": "v",
         "showlegend": false,
         "type": "histogram",
         "x": [
          "southwest",
          "southeast",
          "southeast",
          "northwest",
          "northwest",
          "southeast",
          "southeast",
          "northwest",
          "northeast",
          "northwest",
          "northeast",
          "southeast",
          "southwest",
          "southeast",
          "southeast",
          "southwest",
          "northeast",
          "northeast",
          "southwest",
          "southwest",
          "northeast",
          "southwest",
          "southeast",
          "northeast",
          "northwest",
          "southeast",
          "northeast",
          "northwest",
          "northwest",
          "southwest",
          "southwest",
          "northeast",
          "southwest",
          "northwest",
          "southwest",
          "northwest",
          "northwest",
          "southwest",
          "northeast",
          "southwest",
          "northeast",
          "southeast",
          "southeast",
          "southeast",
          "northeast",
          "southwest",
          "northeast",
          "northwest",
          "southeast",
          "southeast",
          "northeast",
          "northwest",
          "southwest",
          "southeast",
          "northwest",
          "northwest",
          "northeast",
          "southeast",
          "southeast",
          "northwest",
          "northeast",
          "southeast",
          "northwest",
          "northwest",
          "northwest",
          "southwest",
          "southwest",
          "northwest",
          "southeast",
          "southeast",
          "southeast",
          "northeast",
          "southwest",
          "southeast",
          "southwest",
          "northwest",
          "southeast",
          "southeast",
          "northeast",
          "northwest",
          "northeast",
          "northeast",
          "southeast",
          "northwest",
          "southwest",
          "northwest",
          "northwest",
          "southwest",
          "northwest",
          "northwest",
          "southeast",
          "northwest",
          "northeast",
          "northwest",
          "southwest",
          "southeast",
          "southwest",
          "southeast",
          "northeast",
          "southwest",
          "southwest",
          "northeast",
          "northeast",
          "southeast",
          "southwest",
          "northwest",
          "southwest",
          "northwest",
          "southeast",
          "southeast",
          "northwest",
          "southwest",
          "southwest",
          "northwest",
          "northeast",
          "northeast",
          "southeast",
          "southeast",
          "southeast",
          "northwest",
          "southwest",
          "northeast",
          "northwest",
          "northeast",
          "northwest",
          "northeast",
          "southwest",
          "southwest",
          "northwest",
          "southwest",
          "northeast",
          "northeast",
          "southwest",
          "northwest",
          "northeast",
          "southeast",
          "southwest",
          "northwest",
          "southeast",
          "southwest",
          "northeast",
          "northeast",
          "southeast",
          "northwest",
          "northwest",
          "southeast",
          "northwest",
          "southeast",
          "northwest",
          "southwest",
          "northwest",
          "southeast",
          "northeast",
          "northeast",
          "northeast",
          "northwest",
          "southeast",
          "northeast",
          "southeast",
          "southeast",
          "northwest",
          "southeast",
          "southwest",
          "southwest",
          "northwest",
          "northeast",
          "southwest",
          "northwest",
          "northwest",
          "northeast",
          "southeast",
          "southwest",
          "northeast",
          "southwest",
          "northwest",
          "southwest",
          "northwest",
          "southwest",
          "southwest",
          "northeast",
          "northwest",
          "southeast",
          "northeast",
          "northwest",
          "southeast",
          "northeast",
          "southeast",
          "southwest",
          "southwest",
          "northwest",
          "southeast",
          "southwest",
          "southeast",
          "northwest",
          "southeast",
          "northwest",
          "southwest",
          "southeast",
          "northwest",
          "northeast",
          "northwest",
          "southeast",
          "northwest",
          "southeast",
          "southwest",
          "northeast",
          "southeast",
          "northeast",
          "southwest",
          "northeast",
          "southwest",
          "northwest",
          "northwest",
          "southeast",
          "southwest",
          "southwest",
          "northwest",
          "southeast",
          "southeast",
          "southeast",
          "southwest",
          "northeast",
          "southwest",
          "southwest",
          "southeast",
          "southeast",
          "southeast",
          "southeast",
          "northeast",
          "northeast",
          "northwest",
          "southeast",
          "southwest",
          "southwest",
          "northwest",
          "southeast",
          "southeast",
          "southeast",
          "northwest",
          "southeast",
          "northeast",
          "northeast",
          "southwest",
          "southwest",
          "northeast",
          "northwest",
          "southeast",
          "southeast",
          "southwest",
          "northeast",
          "northeast",
          "southwest",
          "southeast",
          "southwest",
          "northeast",
          "northeast",
          "northwest",
          "southeast",
          "northwest",
          "northwest",
          "southwest",
          "southeast",
          "northeast",
          "northwest",
          "southeast",
          "southeast",
          "southeast",
          "northeast",
          "southwest",
          "northeast",
          "southeast",
          "southwest",
          "northwest",
          "northeast",
          "northwest",
          "northeast",
          "northwest",
          "southwest",
          "southeast",
          "southeast",
          "northeast",
          "northeast",
          "northeast",
          "northeast",
          "southwest",
          "southeast",
          "northeast",
          "northwest",
          "northeast",
          "southeast",
          "southwest",
          "northeast",
          "southeast",
          "southeast",
          "southwest",
          "northeast",
          "southwest",
          "southeast",
          "northwest",
          "northwest",
          "northeast",
          "northeast",
          "southeast",
          "southeast",
          "southwest",
          "northwest",
          "southwest",
          "southeast",
          "northeast",
          "northwest",
          "southwest",
          "southwest",
          "southeast",
          "southeast",
          "southwest",
          "northeast",
          "northwest",
          "northeast",
          "northwest",
          "northeast",
          "northwest",
          "northeast",
          "southwest",
          "northeast",
          "southwest",
          "northeast",
          "southeast",
          "northwest",
          "southwest",
          "southwest",
          "northeast",
          "northwest",
          "northwest",
          "northeast",
          "northeast",
          "southwest",
          "southeast",
          "northwest",
          "northeast",
          "southeast",
          "southwest",
          "northwest",
          "northeast",
          "northeast",
          "southeast",
          "southeast",
          "southeast",
          "northeast",
          "southeast",
          "northwest",
          "northwest",
          "southwest",
          "southwest",
          "northeast",
          "southeast",
          "southwest",
          "southeast",
          "northwest",
          "southeast",
          "southeast",
          "northeast",
          "southwest",
          "southwest",
          "southwest",
          "southeast",
          "northeast",
          "northeast",
          "northwest",
          "northwest",
          "northeast",
          "northwest",
          "northeast",
          "northeast",
          "southwest",
          "southeast",
          "northwest",
          "northeast",
          "southeast",
          "northwest",
          "southeast",
          "northeast",
          "northeast",
          "southeast",
          "southeast",
          "northeast",
          "southwest",
          "southeast",
          "northwest",
          "northwest",
          "northwest",
          "northeast",
          "northwest",
          "northeast",
          "northeast",
          "northeast",
          "northwest",
          "southwest",
          "southeast",
          "southwest",
          "southeast",
          "southwest",
          "southeast",
          "northwest",
          "northwest",
          "southwest",
          "northeast",
          "southeast",
          "southwest",
          "southeast",
          "southeast",
          "northwest",
          "northeast",
          "northeast",
          "southwest",
          "northwest",
          "southeast",
          "southeast",
          "southwest",
          "southeast",
          "northwest",
          "southeast",
          "southeast",
          "northeast",
          "northeast",
          "southwest",
          "southeast",
          "northeast",
          "northeast",
          "northeast",
          "northwest",
          "southwest",
          "northwest",
          "southwest",
          "southwest",
          "northwest",
          "southeast",
          "northeast",
          "southwest",
          "southeast",
          "northeast",
          "northwest",
          "southwest",
          "southeast",
          "southeast",
          "northwest",
          "southwest",
          "northeast",
          "northwest",
          "southwest",
          "southwest",
          "southwest",
          "northwest",
          "southwest",
          "northwest",
          "southeast",
          "southwest",
          "southeast",
          "northwest",
          "southwest",
          "southeast",
          "southeast",
          "southwest",
          "northeast",
          "northeast",
          "northwest",
          "southeast",
          "southwest",
          "northwest",
          "northeast",
          "southeast",
          "southeast",
          "northeast",
          "southwest",
          "northeast",
          "southwest",
          "northwest",
          "northeast",
          "northwest",
          "southeast",
          "southeast",
          "northwest",
          "southeast",
          "southeast",
          "southwest",
          "southwest",
          "northeast",
          "northwest",
          "southwest",
          "southeast",
          "northwest",
          "southwest",
          "southeast",
          "northeast",
          "southwest",
          "southwest",
          "northeast",
          "southwest",
          "southwest",
          "southeast",
          "southwest",
          "southwest",
          "northeast",
          "southeast",
          "southeast",
          "southeast",
          "northwest",
          "northwest",
          "northwest",
          "northeast",
          "southwest",
          "northeast",
          "southeast",
          "northeast",
          "southwest",
          "southwest",
          "southwest",
          "southeast",
          "northwest",
          "southwest",
          "northeast",
          "northeast",
          "southeast",
          "northeast",
          "southeast",
          "southeast",
          "southeast",
          "northwest",
          "southwest",
          "northeast",
          "northeast",
          "southeast",
          "northeast",
          "southeast",
          "southeast",
          "southeast",
          "northeast",
          "southwest",
          "southwest",
          "southeast",
          "southeast",
          "southwest",
          "southeast",
          "southeast",
          "southeast",
          "northwest",
          "northwest",
          "northeast",
          "southwest",
          "northeast",
          "southeast",
          "southwest",
          "southeast",
          "southwest",
          "northwest",
          "northeast",
          "southwest",
          "northeast",
          "southeast",
          "northwest",
          "northwest",
          "northwest",
          "northeast",
          "southwest",
          "southeast",
          "southeast",
          "northwest",
          "northwest",
          "northwest",
          "southwest",
          "northwest",
          "southwest",
          "southeast",
          "southeast",
          "northeast",
          "northeast",
          "northwest",
          "southeast",
          "northeast",
          "southwest",
          "northeast",
          "northeast",
          "northwest",
          "southeast",
          "southeast",
          "southwest",
          "southeast",
          "northeast",
          "northwest",
          "northeast",
          "southeast",
          "southwest",
          "northwest",
          "southeast",
          "northeast",
          "southeast",
          "northeast",
          "southeast",
          "northeast",
          "southwest",
          "northwest",
          "southeast",
          "northwest",
          "southwest",
          "southeast",
          "northwest",
          "southeast",
          "northeast",
          "northwest",
          "northeast",
          "southwest",
          "southeast",
          "southwest",
          "northeast",
          "northeast",
          "southeast",
          "southeast",
          "northeast",
          "southwest",
          "southeast",
          "southwest",
          "southwest",
          "southwest",
          "southwest",
          "northeast",
          "northwest",
          "northwest",
          "northeast",
          "southeast",
          "southwest",
          "northwest",
          "southwest",
          "southwest",
          "southeast",
          "northeast",
          "southwest",
          "northeast",
          "northwest",
          "northeast",
          "northeast",
          "southeast",
          "southwest",
          "northwest",
          "northeast",
          "northwest",
          "southeast",
          "northeast",
          "northwest",
          "northeast",
          "northeast",
          "northeast",
          "southeast",
          "southeast",
          "southeast",
          "southeast",
          "southeast",
          "southeast",
          "southwest",
          "northwest",
          "northeast",
          "northeast",
          "southeast",
          "southeast",
          "northeast",
          "southeast",
          "southeast",
          "southeast",
          "southwest",
          "northwest",
          "northeast",
          "southeast",
          "southeast",
          "northeast",
          "southeast",
          "southeast",
          "southeast",
          "northwest",
          "southeast",
          "northwest",
          "southwest",
          "northwest",
          "southwest",
          "southwest",
          "southwest",
          "northwest",
          "southwest",
          "northeast",
          "northeast",
          "southeast",
          "southwest",
          "southeast",
          "northeast",
          "southwest",
          "northwest",
          "northwest",
          "southwest",
          "northwest",
          "northeast",
          "southeast",
          "northwest",
          "southeast",
          "southeast",
          "northeast",
          "southeast",
          "northwest",
          "northwest",
          "southwest",
          "southeast",
          "northwest",
          "northeast",
          "northeast",
          "southeast",
          "southeast",
          "northwest",
          "northeast",
          "southwest",
          "southwest",
          "northwest",
          "northwest",
          "northwest",
          "northwest",
          "northeast",
          "southwest",
          "southwest",
          "southwest",
          "northeast",
          "southeast",
          "northwest",
          "northeast",
          "northeast",
          "southeast",
          "southeast",
          "southwest",
          "southwest",
          "northeast",
          "southwest",
          "northwest",
          "southeast",
          "southwest",
          "northeast",
          "southwest",
          "northeast",
          "southeast",
          "northeast",
          "southeast",
          "northwest",
          "northwest",
          "southwest",
          "northwest",
          "southwest",
          "northwest",
          "southeast",
          "northwest",
          "northwest",
          "southeast",
          "northeast",
          "northeast",
          "northeast",
          "southeast",
          "northeast",
          "southeast",
          "northeast",
          "southwest",
          "southwest",
          "northeast",
          "northeast",
          "northwest",
          "southwest",
          "southwest",
          "southwest",
          "northwest",
          "southwest",
          "southwest",
          "northeast",
          "northwest",
          "northwest",
          "southeast",
          "northwest",
          "northeast",
          "southeast",
          "northwest",
          "southwest",
          "southeast",
          "southeast",
          "southwest",
          "southeast",
          "southwest",
          "northeast",
          "northwest",
          "northeast",
          "southeast",
          "southeast",
          "southwest",
          "northeast",
          "southeast",
          "northwest",
          "northwest",
          "southeast",
          "northeast",
          "southwest",
          "northeast",
          "southeast",
          "southeast",
          "southwest",
          "southeast",
          "southeast",
          "northwest",
          "northwest",
          "northwest",
          "southeast",
          "northeast",
          "southwest",
          "northwest",
          "southeast",
          "northeast",
          "southeast",
          "southeast",
          "northwest",
          "southwest",
          "northeast",
          "northwest",
          "southwest",
          "northwest",
          "southeast",
          "southeast",
          "northwest",
          "northeast",
          "southeast",
          "northeast",
          "northeast",
          "northwest",
          "southwest",
          "northwest",
          "northwest",
          "northwest",
          "northwest",
          "southeast",
          "southwest",
          "northeast",
          "northeast",
          "northwest",
          "southwest",
          "northeast",
          "southeast",
          "southeast",
          "northeast",
          "southeast",
          "southwest",
          "southeast",
          "southwest",
          "northwest",
          "northeast",
          "northwest",
          "northeast",
          "northeast",
          "northeast",
          "southwest",
          "southeast",
          "northwest",
          "southeast",
          "southwest",
          "southwest",
          "southwest",
          "northwest",
          "northeast",
          "southwest",
          "southwest",
          "southeast",
          "southwest",
          "northeast",
          "southwest",
          "southwest",
          "southeast",
          "southeast",
          "southwest",
          "northeast",
          "northwest",
          "southwest",
          "southeast",
          "southwest",
          "southwest",
          "southwest",
          "northwest",
          "northeast",
          "northeast",
          "northwest",
          "southeast",
          "northeast",
          "northwest",
          "southwest",
          "northwest",
          "northwest",
          "southeast",
          "northeast",
          "southeast",
          "northeast",
          "southwest",
          "northeast",
          "northwest",
          "southeast",
          "northwest",
          "northeast",
          "southeast",
          "northeast",
          "southeast",
          "southwest",
          "northeast",
          "northeast",
          "southeast",
          "southwest",
          "southwest",
          "northwest",
          "northeast",
          "northwest",
          "southwest",
          "northwest",
          "southeast",
          "northwest",
          "northeast",
          "southwest",
          "southeast",
          "southwest",
          "southwest",
          "southwest",
          "northwest",
          "southwest",
          "northeast",
          "southwest",
          "southwest",
          "southeast",
          "southeast",
          "southeast",
          "southwest",
          "southwest",
          "southwest",
          "southeast",
          "southwest",
          "northeast",
          "northwest",
          "southeast",
          "southeast",
          "southeast",
          "southeast",
          "northeast",
          "northwest",
          "southeast",
          "southwest",
          "southwest",
          "northeast",
          "northwest",
          "southwest",
          "northeast",
          "southeast",
          "northwest",
          "southwest",
          "northwest",
          "southeast",
          "southeast",
          "northwest",
          "northeast",
          "northwest",
          "northwest",
          "southwest",
          "southeast",
          "northeast",
          "northwest",
          "southwest",
          "northwest",
          "northwest",
          "northeast",
          "southeast",
          "southeast",
          "northeast",
          "northwest",
          "southwest",
          "southeast",
          "northeast",
          "southeast",
          "southeast",
          "northeast",
          "southeast",
          "northeast",
          "northeast",
          "southwest",
          "northeast",
          "northeast",
          "southwest",
          "northwest",
          "northwest",
          "northeast",
          "northeast",
          "southwest",
          "northeast",
          "southwest",
          "southeast",
          "northwest",
          "northeast",
          "southwest",
          "southeast",
          "northeast",
          "northwest",
          "northwest",
          "southwest",
          "southwest",
          "southwest",
          "northeast",
          "northwest",
          "northeast",
          "northwest",
          "northeast",
          "northeast",
          "southwest",
          "southeast",
          "southeast",
          "northwest",
          "southwest",
          "northwest",
          "northwest",
          "southwest",
          "northwest",
          "northwest",
          "southwest",
          "southeast",
          "southeast",
          "southeast",
          "southeast",
          "southwest",
          "northwest",
          "northwest",
          "southwest",
          "northeast",
          "northwest",
          "southeast",
          "northeast",
          "northeast",
          "northwest",
          "southwest",
          "southeast",
          "northwest",
          "northeast",
          "northwest",
          "northwest",
          "northeast",
          "northeast",
          "southwest",
          "northeast",
          "northwest",
          "northeast",
          "southeast",
          "northwest",
          "southwest",
          "northwest",
          "northeast",
          "northeast",
          "southwest",
          "northwest",
          "northwest",
          "southwest",
          "southeast",
          "southeast",
          "northwest",
          "southeast",
          "southeast",
          "southeast",
          "northwest",
          "southwest",
          "southwest",
          "southeast",
          "northeast",
          "northwest",
          "southeast",
          "southeast",
          "northeast",
          "northwest",
          "northeast",
          "northeast",
          "southeast",
          "southwest",
          "northeast",
          "southeast",
          "southeast",
          "southeast",
          "northwest",
          "northwest",
          "southwest",
          "northwest",
          "southwest",
          "northeast",
          "northwest",
          "southeast",
          "southwest",
          "southeast",
          "northeast",
          "southwest",
          "northwest",
          "southwest",
          "northeast",
          "northeast",
          "southeast",
          "northeast",
          "southeast",
          "northeast",
          "southwest",
          "southeast",
          "southeast",
          "southwest",
          "southeast",
          "northwest",
          "northwest",
          "southwest",
          "southeast",
          "northeast",
          "southeast",
          "southeast",
          "northwest",
          "northeast",
          "southeast",
          "northeast",
          "southeast",
          "southeast",
          "northwest",
          "southwest",
          "southeast",
          "northwest",
          "northeast",
          "northeast",
          "northwest",
          "southwest",
          "southeast",
          "southwest",
          "southwest",
          "southeast",
          "southwest",
          "northeast",
          "northwest",
          "northwest",
          "northwest",
          "southwest",
          "northwest",
          "southeast",
          "northwest",
          "southeast",
          "southwest",
          "southeast",
          "southeast",
          "southwest",
          "northwest",
          "southwest",
          "northwest",
          "southwest",
          "southwest",
          "northeast",
          "northwest",
          "southeast",
          "northwest",
          "northwest",
          "northeast",
          "southeast",
          "northwest",
          "northeast",
          "southwest",
          "northwest",
          "southeast",
          "southeast",
          "northeast",
          "northwest",
          "northeast",
          "southeast",
          "southwest",
          "southwest",
          "northwest",
          "northeast",
          "southwest",
          "southeast",
          "northwest",
          "northwest",
          "southwest",
          "northwest",
          "southwest",
          "northeast",
          "southeast",
          "northeast",
          "northwest",
          "southwest",
          "northeast",
          "southeast",
          "northeast",
          "northwest",
          "northwest",
          "northeast",
          "southwest",
          "northwest",
          "northeast",
          "northeast",
          "northwest",
          "northwest",
          "northwest",
          "northwest",
          "southeast",
          "northwest",
          "southwest",
          "northwest",
          "northwest",
          "northwest",
          "northeast",
          "southeast",
          "northwest",
          "southwest",
          "southwest",
          "northeast",
          "southwest",
          "northwest",
          "southeast",
          "northeast",
          "southwest",
          "northwest",
          "northeast",
          "southeast",
          "southeast",
          "southwest",
          "northwest",
          "northeast",
          "southeast",
          "southeast",
          "southeast",
          "northeast",
          "southeast",
          "northeast",
          "southeast",
          "southeast",
          "northeast",
          "northwest",
          "southwest",
          "northwest",
          "southwest",
          "southeast",
          "northwest",
          "northeast",
          "northwest",
          "northeast",
          "southeast",
          "southeast",
          "southeast",
          "northwest",
          "southeast",
          "southeast",
          "southwest",
          "southwest",
          "southwest",
          "southeast",
          "northeast",
          "northeast",
          "southwest",
          "southwest",
          "southwest",
          "southeast",
          "southwest",
          "northwest",
          "northwest",
          "northwest",
          "northeast",
          "northeast",
          "southwest",
          "southeast",
          "southwest",
          "northeast",
          "southeast",
          "southwest",
          "northeast",
          "southwest",
          "southwest",
          "northwest",
          "northwest",
          "southeast",
          "southeast",
          "southeast",
          "southwest",
          "northeast",
          "northwest",
          "northeast",
          "northwest",
          "southeast",
          "northwest",
          "northeast",
          "southeast",
          "southwest",
          "northeast",
          "northeast",
          "southwest",
          "southwest",
          "southeast",
          "northeast",
          "southwest",
          "southeast",
          "northwest",
          "northeast",
          "southwest",
          "northeast",
          "southeast",
          "northwest",
          "northwest",
          "southeast",
          "northwest",
          "southwest",
          "southwest",
          "northeast",
          "southeast",
          "northeast",
          "northwest",
          "southwest",
          "southwest",
          "northwest",
          "northwest",
          "southwest",
          "southwest",
          "northwest",
          "northeast",
          "southwest",
          "southeast",
          "northeast",
          "northwest",
          "northwest",
          "northeast",
          "southeast",
          "southeast",
          "northwest",
          "northeast",
          "northeast",
          "southeast",
          "northeast",
          "southwest",
          "southeast",
          "southwest",
          "southwest",
          "northwest",
          "northeast",
          "southeast",
          "southwest",
          "northwest"
         ],
         "xaxis": "x",
         "yaxis": "y"
        }
       ],
       "layout": {
        "barmode": "relative",
        "legend": {
         "tracegroupgap": 0
        },
        "margin": {
         "t": 60
        },
        "template": {
         "data": {
          "bar": [
           {
            "error_x": {
             "color": "#2a3f5f"
            },
            "error_y": {
             "color": "#2a3f5f"
            },
            "marker": {
             "line": {
              "color": "#E5ECF6",
              "width": 0.5
             },
             "pattern": {
              "fillmode": "overlay",
              "size": 10,
              "solidity": 0.2
             }
            },
            "type": "bar"
           }
          ],
          "barpolar": [
           {
            "marker": {
             "line": {
              "color": "#E5ECF6",
              "width": 0.5
             },
             "pattern": {
              "fillmode": "overlay",
              "size": 10,
              "solidity": 0.2
             }
            },
            "type": "barpolar"
           }
          ],
          "carpet": [
           {
            "aaxis": {
             "endlinecolor": "#2a3f5f",
             "gridcolor": "white",
             "linecolor": "white",
             "minorgridcolor": "white",
             "startlinecolor": "#2a3f5f"
            },
            "baxis": {
             "endlinecolor": "#2a3f5f",
             "gridcolor": "white",
             "linecolor": "white",
             "minorgridcolor": "white",
             "startlinecolor": "#2a3f5f"
            },
            "type": "carpet"
           }
          ],
          "choropleth": [
           {
            "colorbar": {
             "outlinewidth": 0,
             "ticks": ""
            },
            "type": "choropleth"
           }
          ],
          "contour": [
           {
            "colorbar": {
             "outlinewidth": 0,
             "ticks": ""
            },
            "colorscale": [
             [
              0,
              "#0d0887"
             ],
             [
              0.1111111111111111,
              "#46039f"
             ],
             [
              0.2222222222222222,
              "#7201a8"
             ],
             [
              0.3333333333333333,
              "#9c179e"
             ],
             [
              0.4444444444444444,
              "#bd3786"
             ],
             [
              0.5555555555555556,
              "#d8576b"
             ],
             [
              0.6666666666666666,
              "#ed7953"
             ],
             [
              0.7777777777777778,
              "#fb9f3a"
             ],
             [
              0.8888888888888888,
              "#fdca26"
             ],
             [
              1,
              "#f0f921"
             ]
            ],
            "type": "contour"
           }
          ],
          "contourcarpet": [
           {
            "colorbar": {
             "outlinewidth": 0,
             "ticks": ""
            },
            "type": "contourcarpet"
           }
          ],
          "heatmap": [
           {
            "colorbar": {
             "outlinewidth": 0,
             "ticks": ""
            },
            "colorscale": [
             [
              0,
              "#0d0887"
             ],
             [
              0.1111111111111111,
              "#46039f"
             ],
             [
              0.2222222222222222,
              "#7201a8"
             ],
             [
              0.3333333333333333,
              "#9c179e"
             ],
             [
              0.4444444444444444,
              "#bd3786"
             ],
             [
              0.5555555555555556,
              "#d8576b"
             ],
             [
              0.6666666666666666,
              "#ed7953"
             ],
             [
              0.7777777777777778,
              "#fb9f3a"
             ],
             [
              0.8888888888888888,
              "#fdca26"
             ],
             [
              1,
              "#f0f921"
             ]
            ],
            "type": "heatmap"
           }
          ],
          "heatmapgl": [
           {
            "colorbar": {
             "outlinewidth": 0,
             "ticks": ""
            },
            "colorscale": [
             [
              0,
              "#0d0887"
             ],
             [
              0.1111111111111111,
              "#46039f"
             ],
             [
              0.2222222222222222,
              "#7201a8"
             ],
             [
              0.3333333333333333,
              "#9c179e"
             ],
             [
              0.4444444444444444,
              "#bd3786"
             ],
             [
              0.5555555555555556,
              "#d8576b"
             ],
             [
              0.6666666666666666,
              "#ed7953"
             ],
             [
              0.7777777777777778,
              "#fb9f3a"
             ],
             [
              0.8888888888888888,
              "#fdca26"
             ],
             [
              1,
              "#f0f921"
             ]
            ],
            "type": "heatmapgl"
           }
          ],
          "histogram": [
           {
            "marker": {
             "pattern": {
              "fillmode": "overlay",
              "size": 10,
              "solidity": 0.2
             }
            },
            "type": "histogram"
           }
          ],
          "histogram2d": [
           {
            "colorbar": {
             "outlinewidth": 0,
             "ticks": ""
            },
            "colorscale": [
             [
              0,
              "#0d0887"
             ],
             [
              0.1111111111111111,
              "#46039f"
             ],
             [
              0.2222222222222222,
              "#7201a8"
             ],
             [
              0.3333333333333333,
              "#9c179e"
             ],
             [
              0.4444444444444444,
              "#bd3786"
             ],
             [
              0.5555555555555556,
              "#d8576b"
             ],
             [
              0.6666666666666666,
              "#ed7953"
             ],
             [
              0.7777777777777778,
              "#fb9f3a"
             ],
             [
              0.8888888888888888,
              "#fdca26"
             ],
             [
              1,
              "#f0f921"
             ]
            ],
            "type": "histogram2d"
           }
          ],
          "histogram2dcontour": [
           {
            "colorbar": {
             "outlinewidth": 0,
             "ticks": ""
            },
            "colorscale": [
             [
              0,
              "#0d0887"
             ],
             [
              0.1111111111111111,
              "#46039f"
             ],
             [
              0.2222222222222222,
              "#7201a8"
             ],
             [
              0.3333333333333333,
              "#9c179e"
             ],
             [
              0.4444444444444444,
              "#bd3786"
             ],
             [
              0.5555555555555556,
              "#d8576b"
             ],
             [
              0.6666666666666666,
              "#ed7953"
             ],
             [
              0.7777777777777778,
              "#fb9f3a"
             ],
             [
              0.8888888888888888,
              "#fdca26"
             ],
             [
              1,
              "#f0f921"
             ]
            ],
            "type": "histogram2dcontour"
           }
          ],
          "mesh3d": [
           {
            "colorbar": {
             "outlinewidth": 0,
             "ticks": ""
            },
            "type": "mesh3d"
           }
          ],
          "parcoords": [
           {
            "line": {
             "colorbar": {
              "outlinewidth": 0,
              "ticks": ""
             }
            },
            "type": "parcoords"
           }
          ],
          "pie": [
           {
            "automargin": true,
            "type": "pie"
           }
          ],
          "scatter": [
           {
            "fillpattern": {
             "fillmode": "overlay",
             "size": 10,
             "solidity": 0.2
            },
            "type": "scatter"
           }
          ],
          "scatter3d": [
           {
            "line": {
             "colorbar": {
              "outlinewidth": 0,
              "ticks": ""
             }
            },
            "marker": {
             "colorbar": {
              "outlinewidth": 0,
              "ticks": ""
             }
            },
            "type": "scatter3d"
           }
          ],
          "scattercarpet": [
           {
            "marker": {
             "colorbar": {
              "outlinewidth": 0,
              "ticks": ""
             }
            },
            "type": "scattercarpet"
           }
          ],
          "scattergeo": [
           {
            "marker": {
             "colorbar": {
              "outlinewidth": 0,
              "ticks": ""
             }
            },
            "type": "scattergeo"
           }
          ],
          "scattergl": [
           {
            "marker": {
             "colorbar": {
              "outlinewidth": 0,
              "ticks": ""
             }
            },
            "type": "scattergl"
           }
          ],
          "scattermapbox": [
           {
            "marker": {
             "colorbar": {
              "outlinewidth": 0,
              "ticks": ""
             }
            },
            "type": "scattermapbox"
           }
          ],
          "scatterpolar": [
           {
            "marker": {
             "colorbar": {
              "outlinewidth": 0,
              "ticks": ""
             }
            },
            "type": "scatterpolar"
           }
          ],
          "scatterpolargl": [
           {
            "marker": {
             "colorbar": {
              "outlinewidth": 0,
              "ticks": ""
             }
            },
            "type": "scatterpolargl"
           }
          ],
          "scatterternary": [
           {
            "marker": {
             "colorbar": {
              "outlinewidth": 0,
              "ticks": ""
             }
            },
            "type": "scatterternary"
           }
          ],
          "surface": [
           {
            "colorbar": {
             "outlinewidth": 0,
             "ticks": ""
            },
            "colorscale": [
             [
              0,
              "#0d0887"
             ],
             [
              0.1111111111111111,
              "#46039f"
             ],
             [
              0.2222222222222222,
              "#7201a8"
             ],
             [
              0.3333333333333333,
              "#9c179e"
             ],
             [
              0.4444444444444444,
              "#bd3786"
             ],
             [
              0.5555555555555556,
              "#d8576b"
             ],
             [
              0.6666666666666666,
              "#ed7953"
             ],
             [
              0.7777777777777778,
              "#fb9f3a"
             ],
             [
              0.8888888888888888,
              "#fdca26"
             ],
             [
              1,
              "#f0f921"
             ]
            ],
            "type": "surface"
           }
          ],
          "table": [
           {
            "cells": {
             "fill": {
              "color": "#EBF0F8"
             },
             "line": {
              "color": "white"
             }
            },
            "header": {
             "fill": {
              "color": "#C8D4E3"
             },
             "line": {
              "color": "white"
             }
            },
            "type": "table"
           }
          ]
         },
         "layout": {
          "annotationdefaults": {
           "arrowcolor": "#2a3f5f",
           "arrowhead": 0,
           "arrowwidth": 1
          },
          "autotypenumbers": "strict",
          "coloraxis": {
           "colorbar": {
            "outlinewidth": 0,
            "ticks": ""
           }
          },
          "colorscale": {
           "diverging": [
            [
             0,
             "#8e0152"
            ],
            [
             0.1,
             "#c51b7d"
            ],
            [
             0.2,
             "#de77ae"
            ],
            [
             0.3,
             "#f1b6da"
            ],
            [
             0.4,
             "#fde0ef"
            ],
            [
             0.5,
             "#f7f7f7"
            ],
            [
             0.6,
             "#e6f5d0"
            ],
            [
             0.7,
             "#b8e186"
            ],
            [
             0.8,
             "#7fbc41"
            ],
            [
             0.9,
             "#4d9221"
            ],
            [
             1,
             "#276419"
            ]
           ],
           "sequential": [
            [
             0,
             "#0d0887"
            ],
            [
             0.1111111111111111,
             "#46039f"
            ],
            [
             0.2222222222222222,
             "#7201a8"
            ],
            [
             0.3333333333333333,
             "#9c179e"
            ],
            [
             0.4444444444444444,
             "#bd3786"
            ],
            [
             0.5555555555555556,
             "#d8576b"
            ],
            [
             0.6666666666666666,
             "#ed7953"
            ],
            [
             0.7777777777777778,
             "#fb9f3a"
            ],
            [
             0.8888888888888888,
             "#fdca26"
            ],
            [
             1,
             "#f0f921"
            ]
           ],
           "sequentialminus": [
            [
             0,
             "#0d0887"
            ],
            [
             0.1111111111111111,
             "#46039f"
            ],
            [
             0.2222222222222222,
             "#7201a8"
            ],
            [
             0.3333333333333333,
             "#9c179e"
            ],
            [
             0.4444444444444444,
             "#bd3786"
            ],
            [
             0.5555555555555556,
             "#d8576b"
            ],
            [
             0.6666666666666666,
             "#ed7953"
            ],
            [
             0.7777777777777778,
             "#fb9f3a"
            ],
            [
             0.8888888888888888,
             "#fdca26"
            ],
            [
             1,
             "#f0f921"
            ]
           ]
          },
          "colorway": [
           "#636efa",
           "#EF553B",
           "#00cc96",
           "#ab63fa",
           "#FFA15A",
           "#19d3f3",
           "#FF6692",
           "#B6E880",
           "#FF97FF",
           "#FECB52"
          ],
          "font": {
           "color": "#2a3f5f"
          },
          "geo": {
           "bgcolor": "white",
           "lakecolor": "white",
           "landcolor": "#E5ECF6",
           "showlakes": true,
           "showland": true,
           "subunitcolor": "white"
          },
          "hoverlabel": {
           "align": "left"
          },
          "hovermode": "closest",
          "mapbox": {
           "style": "light"
          },
          "paper_bgcolor": "white",
          "plot_bgcolor": "#E5ECF6",
          "polar": {
           "angularaxis": {
            "gridcolor": "white",
            "linecolor": "white",
            "ticks": ""
           },
           "bgcolor": "#E5ECF6",
           "radialaxis": {
            "gridcolor": "white",
            "linecolor": "white",
            "ticks": ""
           }
          },
          "scene": {
           "xaxis": {
            "backgroundcolor": "#E5ECF6",
            "gridcolor": "white",
            "gridwidth": 2,
            "linecolor": "white",
            "showbackground": true,
            "ticks": "",
            "zerolinecolor": "white"
           },
           "yaxis": {
            "backgroundcolor": "#E5ECF6",
            "gridcolor": "white",
            "gridwidth": 2,
            "linecolor": "white",
            "showbackground": true,
            "ticks": "",
            "zerolinecolor": "white"
           },
           "zaxis": {
            "backgroundcolor": "#E5ECF6",
            "gridcolor": "white",
            "gridwidth": 2,
            "linecolor": "white",
            "showbackground": true,
            "ticks": "",
            "zerolinecolor": "white"
           }
          },
          "shapedefaults": {
           "line": {
            "color": "#2a3f5f"
           }
          },
          "ternary": {
           "aaxis": {
            "gridcolor": "white",
            "linecolor": "white",
            "ticks": ""
           },
           "baxis": {
            "gridcolor": "white",
            "linecolor": "white",
            "ticks": ""
           },
           "bgcolor": "#E5ECF6",
           "caxis": {
            "gridcolor": "white",
            "linecolor": "white",
            "ticks": ""
           }
          },
          "title": {
           "x": 0.05
          },
          "xaxis": {
           "automargin": true,
           "gridcolor": "white",
           "linecolor": "white",
           "ticks": "",
           "title": {
            "standoff": 15
           },
           "zerolinecolor": "white",
           "zerolinewidth": 2
          },
          "yaxis": {
           "automargin": true,
           "gridcolor": "white",
           "linecolor": "white",
           "ticks": "",
           "title": {
            "standoff": 15
           },
           "zerolinecolor": "white",
           "zerolinewidth": 2
          }
         }
        },
        "xaxis": {
         "anchor": "y",
         "domain": [
          0,
          1
         ],
         "title": {
          "text": "region"
         }
        },
        "yaxis": {
         "anchor": "x",
         "domain": [
          0,
          1
         ],
         "title": {
          "text": "count"
         }
        }
       }
      }
     },
     "metadata": {},
     "output_type": "display_data"
    }
   ],
   "source": [
    "fig = px.histogram(df, x='region')\n",
    "fig.show()"
   ]
  },
  {
   "cell_type": "code",
   "execution_count": 14,
   "metadata": {},
   "outputs": [
    {
     "data": {
      "application/vnd.plotly.v1+json": {
       "config": {
        "plotlyServerURL": "https://plot.ly"
       },
       "data": [
        {
         "alignmentgroup": "True",
         "bingroup": "x",
         "hovertemplate": "smoker=yes<br>region=%{x}<br>count=%{y}<extra></extra>",
         "legendgroup": "yes",
         "marker": {
          "color": "#636efa",
          "pattern": {
           "shape": ""
          }
         },
         "name": "yes",
         "offsetgroup": "yes",
         "orientation": "v",
         "showlegend": true,
         "type": "histogram",
         "x": [
          "southwest",
          "southeast",
          "southeast",
          "southwest",
          "northeast",
          "southwest",
          "southwest",
          "southwest",
          "northeast",
          "southwest",
          "southeast",
          "southwest",
          "southeast",
          "northwest",
          "southeast",
          "southeast",
          "northwest",
          "southeast",
          "southeast",
          "southeast",
          "southwest",
          "northwest",
          "northwest",
          "northeast",
          "southwest",
          "northeast",
          "southwest",
          "southeast",
          "northwest",
          "southeast",
          "southeast",
          "northeast",
          "southwest",
          "northwest",
          "southeast",
          "northwest",
          "northwest",
          "northeast",
          "southeast",
          "northeast",
          "southeast",
          "northwest",
          "southeast",
          "southwest",
          "northeast",
          "southeast",
          "northeast",
          "southwest",
          "southeast",
          "southeast",
          "northwest",
          "northeast",
          "northeast",
          "northeast",
          "southwest",
          "southeast",
          "northeast",
          "northwest",
          "northwest",
          "southeast",
          "northeast",
          "northwest",
          "southeast",
          "southeast",
          "southwest",
          "northeast",
          "northeast",
          "northeast",
          "southeast",
          "southwest",
          "southeast",
          "northwest",
          "northeast",
          "southeast",
          "southwest",
          "southwest",
          "northwest",
          "southwest",
          "northeast",
          "northwest",
          "northeast",
          "southwest",
          "southwest",
          "northwest",
          "northeast",
          "southeast",
          "northeast",
          "northeast",
          "northeast",
          "northeast",
          "southwest",
          "northwest",
          "southeast",
          "southeast",
          "northeast",
          "southwest",
          "northwest",
          "southwest",
          "southeast",
          "southwest",
          "northwest",
          "northeast",
          "southeast",
          "southwest",
          "southwest",
          "southeast",
          "southeast",
          "southwest",
          "southeast",
          "southeast",
          "southeast",
          "northwest",
          "southeast",
          "northwest",
          "northwest",
          "northeast",
          "northwest",
          "northeast",
          "northwest",
          "northwest",
          "southwest",
          "southeast",
          "southwest",
          "southeast",
          "southwest",
          "northeast",
          "northwest",
          "northeast",
          "northwest",
          "southeast",
          "southeast",
          "southeast",
          "northwest",
          "northeast",
          "southeast",
          "northwest",
          "southwest",
          "southeast",
          "southeast",
          "southeast",
          "southeast",
          "northeast",
          "southeast",
          "southeast",
          "northeast",
          "southwest",
          "southeast",
          "northeast",
          "southeast",
          "southeast",
          "southeast",
          "southwest",
          "northwest",
          "southwest",
          "southwest",
          "southeast",
          "northwest",
          "northeast",
          "southeast",
          "northeast",
          "northwest",
          "southeast",
          "northeast",
          "northeast",
          "southeast",
          "southeast",
          "southeast",
          "northeast",
          "northeast",
          "northeast",
          "southeast",
          "northwest",
          "southwest",
          "northeast",
          "southeast",
          "northeast",
          "northwest",
          "southeast",
          "northeast",
          "southeast",
          "southwest",
          "northeast",
          "northwest",
          "northeast",
          "northeast",
          "southwest",
          "southeast",
          "southwest",
          "northwest",
          "southeast",
          "northeast",
          "northwest",
          "northeast",
          "southwest",
          "northeast",
          "northwest",
          "northwest",
          "southwest",
          "northwest",
          "southeast",
          "southeast",
          "southeast",
          "northwest",
          "northwest",
          "southeast",
          "northeast",
          "southeast",
          "northwest",
          "northwest",
          "northeast",
          "northwest",
          "southeast",
          "southwest",
          "southwest",
          "southeast",
          "southeast",
          "southeast",
          "southwest",
          "southeast",
          "northwest",
          "northeast",
          "northeast",
          "southeast",
          "southeast",
          "southeast",
          "southeast",
          "southwest",
          "northwest",
          "northeast",
          "northwest",
          "southwest",
          "southeast",
          "southeast",
          "northeast",
          "southwest",
          "northwest",
          "southeast",
          "southeast",
          "northwest",
          "northeast",
          "northwest",
          "southeast",
          "southwest",
          "northeast",
          "southwest",
          "southeast",
          "northwest",
          "southwest",
          "southeast",
          "southeast",
          "northeast",
          "northeast",
          "southwest",
          "southeast",
          "northeast",
          "southeast",
          "northeast",
          "northwest",
          "northeast",
          "southwest",
          "southwest",
          "southwest",
          "southeast",
          "northwest",
          "southwest",
          "northeast",
          "northeast",
          "northwest",
          "southwest",
          "southwest",
          "northwest",
          "northeast",
          "southeast",
          "northwest"
         ],
         "xaxis": "x",
         "yaxis": "y"
        },
        {
         "alignmentgroup": "True",
         "bingroup": "x",
         "hovertemplate": "smoker=no<br>region=%{x}<br>count=%{y}<extra></extra>",
         "legendgroup": "no",
         "marker": {
          "color": "#EF553B",
          "pattern": {
           "shape": ""
          }
         },
         "name": "no",
         "offsetgroup": "no",
         "orientation": "v",
         "showlegend": true,
         "type": "histogram",
         "x": [
          "southeast",
          "southeast",
          "northwest",
          "northwest",
          "southeast",
          "southeast",
          "northwest",
          "northeast",
          "northwest",
          "northeast",
          "southwest",
          "southeast",
          "southwest",
          "northeast",
          "northeast",
          "southwest",
          "northeast",
          "southwest",
          "southeast",
          "northwest",
          "southeast",
          "northeast",
          "northwest",
          "northwest",
          "northeast",
          "southwest",
          "northwest",
          "northwest",
          "northwest",
          "southwest",
          "northeast",
          "southeast",
          "southeast",
          "southeast",
          "northeast",
          "southwest",
          "northeast",
          "northwest",
          "southeast",
          "northeast",
          "northwest",
          "northwest",
          "northeast",
          "northwest",
          "northeast",
          "southeast",
          "northwest",
          "northwest",
          "southwest",
          "southwest",
          "northwest",
          "southeast",
          "northeast",
          "southwest",
          "southeast",
          "southwest",
          "northwest",
          "southeast",
          "southeast",
          "northeast",
          "northwest",
          "northeast",
          "northeast",
          "northwest",
          "southwest",
          "northwest",
          "northwest",
          "southeast",
          "northwest",
          "northwest",
          "southeast",
          "southwest",
          "southeast",
          "southwest",
          "northeast",
          "northeast",
          "southwest",
          "southwest",
          "northwest",
          "southeast",
          "northwest",
          "southwest",
          "southwest",
          "northwest",
          "northeast",
          "northeast",
          "southeast",
          "southeast",
          "northwest",
          "southwest",
          "northeast",
          "northwest",
          "northwest",
          "northeast",
          "southwest",
          "southwest",
          "northeast",
          "northeast",
          "southwest",
          "northwest",
          "northeast",
          "southeast",
          "southwest",
          "northwest",
          "southeast",
          "southwest",
          "northeast",
          "northeast",
          "northwest",
          "southeast",
          "southeast",
          "northwest",
          "southwest",
          "northwest",
          "southeast",
          "northeast",
          "northeast",
          "northwest",
          "southeast",
          "southwest",
          "southwest",
          "northwest",
          "northeast",
          "southwest",
          "northwest",
          "northwest",
          "northeast",
          "southeast",
          "southwest",
          "northeast",
          "southwest",
          "northwest",
          "northwest",
          "southwest",
          "southwest",
          "northeast",
          "northwest",
          "southeast",
          "northeast",
          "northwest",
          "southeast",
          "southeast",
          "southwest",
          "southwest",
          "northwest",
          "southeast",
          "southwest",
          "southeast",
          "northwest",
          "southeast",
          "northwest",
          "southwest",
          "southeast",
          "northwest",
          "northeast",
          "northwest",
          "southeast",
          "northwest",
          "southwest",
          "northeast",
          "southeast",
          "southwest",
          "northeast",
          "southwest",
          "northwest",
          "northwest",
          "southeast",
          "southwest",
          "southwest",
          "northwest",
          "southeast",
          "southeast",
          "southeast",
          "southwest",
          "northeast",
          "southwest",
          "southeast",
          "southeast",
          "southeast",
          "northeast",
          "northeast",
          "northwest",
          "southeast",
          "southwest",
          "southwest",
          "northwest",
          "southeast",
          "southeast",
          "southeast",
          "northeast",
          "southwest",
          "southwest",
          "northwest",
          "southeast",
          "southeast",
          "southwest",
          "northeast",
          "southwest",
          "northeast",
          "southeast",
          "northwest",
          "southwest",
          "southeast",
          "northeast",
          "southwest",
          "northeast",
          "southeast",
          "northwest",
          "northeast",
          "northwest",
          "northeast",
          "northwest",
          "southwest",
          "southeast",
          "southeast",
          "northeast",
          "northeast",
          "southwest",
          "southeast",
          "northeast",
          "northwest",
          "southeast",
          "southwest",
          "northeast",
          "southeast",
          "southwest",
          "northeast",
          "northwest",
          "northeast",
          "southeast",
          "southeast",
          "southwest",
          "northwest",
          "southwest",
          "southeast",
          "northeast",
          "northwest",
          "southwest",
          "southwest",
          "southeast",
          "northeast",
          "northwest",
          "northeast",
          "northwest",
          "northeast",
          "northwest",
          "northeast",
          "northeast",
          "southwest",
          "northeast",
          "southeast",
          "southwest",
          "northwest",
          "northeast",
          "northeast",
          "southwest",
          "southeast",
          "northwest",
          "southeast",
          "southwest",
          "northwest",
          "northeast",
          "northeast",
          "southeast",
          "southeast",
          "southeast",
          "northeast",
          "southeast",
          "northwest",
          "northwest",
          "southwest",
          "southwest",
          "northeast",
          "southeast",
          "southwest",
          "southeast",
          "northwest",
          "southeast",
          "southeast",
          "northeast",
          "southwest",
          "southwest",
          "southeast",
          "northeast",
          "northeast",
          "northwest",
          "northwest",
          "northeast",
          "northwest",
          "northeast",
          "northeast",
          "southeast",
          "northwest",
          "southeast",
          "southeast",
          "southeast",
          "northeast",
          "southwest",
          "southeast",
          "northwest",
          "northwest",
          "northwest",
          "northeast",
          "northwest",
          "northeast",
          "northeast",
          "northeast",
          "northwest",
          "southwest",
          "southeast",
          "southwest",
          "southeast",
          "southwest",
          "southeast",
          "northwest",
          "northwest",
          "southwest",
          "northeast",
          "southeast",
          "southwest",
          "southeast",
          "southeast",
          "northwest",
          "southwest",
          "northwest",
          "southeast",
          "southeast",
          "southeast",
          "northeast",
          "southwest",
          "southeast",
          "northeast",
          "northeast",
          "northeast",
          "northwest",
          "southwest",
          "northwest",
          "southwest",
          "southwest",
          "northwest",
          "southeast",
          "northeast",
          "southwest",
          "southeast",
          "northeast",
          "northwest",
          "southeast",
          "southeast",
          "southwest",
          "northeast",
          "northwest",
          "southwest",
          "southwest",
          "southwest",
          "northwest",
          "southwest",
          "northwest",
          "southeast",
          "southwest",
          "southeast",
          "northwest",
          "southwest",
          "southeast",
          "southeast",
          "northeast",
          "northeast",
          "northwest",
          "southwest",
          "northwest",
          "northeast",
          "southeast",
          "southeast",
          "northeast",
          "southwest",
          "northeast",
          "northwest",
          "southeast",
          "southeast",
          "northwest",
          "southeast",
          "southeast",
          "southwest",
          "southwest",
          "northeast",
          "northwest",
          "southwest",
          "northwest",
          "southwest",
          "southeast",
          "northeast",
          "southwest",
          "northeast",
          "southwest",
          "southwest",
          "southeast",
          "southwest",
          "northeast",
          "southeast",
          "northwest",
          "northwest",
          "northwest",
          "northeast",
          "southwest",
          "northeast",
          "southeast",
          "northeast",
          "southwest",
          "southwest",
          "southeast",
          "northwest",
          "southwest",
          "northeast",
          "northeast",
          "southeast",
          "northeast",
          "southeast",
          "southeast",
          "northwest",
          "southwest",
          "northeast",
          "northeast",
          "northeast",
          "southeast",
          "southeast",
          "southeast",
          "northeast",
          "southwest",
          "southwest",
          "southeast",
          "southeast",
          "southwest",
          "southeast",
          "southeast",
          "northwest",
          "northeast",
          "southwest",
          "northeast",
          "southwest",
          "southeast",
          "southwest",
          "northwest",
          "northeast",
          "southwest",
          "northeast",
          "southeast",
          "northwest",
          "northwest",
          "northeast",
          "southwest",
          "southeast",
          "southeast",
          "northwest",
          "northwest",
          "northwest",
          "southwest",
          "southwest",
          "southeast",
          "southeast",
          "northeast",
          "northeast",
          "northwest",
          "southeast",
          "southwest",
          "northeast",
          "northeast",
          "northwest",
          "southeast",
          "southeast",
          "southwest",
          "southeast",
          "northeast",
          "northeast",
          "southeast",
          "southwest",
          "northwest",
          "southeast",
          "southeast",
          "northeast",
          "southeast",
          "northeast",
          "southwest",
          "northwest",
          "southeast",
          "northwest",
          "southwest",
          "southeast",
          "southeast",
          "northeast",
          "northeast",
          "southeast",
          "southwest",
          "northeast",
          "northeast",
          "southeast",
          "northeast",
          "southwest",
          "southwest",
          "southwest",
          "northwest",
          "northwest",
          "northeast",
          "southeast",
          "southwest",
          "southwest",
          "southwest",
          "southeast",
          "northeast",
          "southwest",
          "northeast",
          "northwest",
          "northeast",
          "southeast",
          "southwest",
          "northeast",
          "northwest",
          "southeast",
          "northeast",
          "northwest",
          "northeast",
          "northeast",
          "northeast",
          "southeast",
          "southeast",
          "southeast",
          "southeast",
          "southeast",
          "southwest",
          "northwest",
          "northeast",
          "northeast",
          "southeast",
          "southeast",
          "northeast",
          "southeast",
          "southwest",
          "southeast",
          "southeast",
          "northeast",
          "southeast",
          "southeast",
          "northwest",
          "southeast",
          "southwest",
          "northwest",
          "southwest",
          "southwest",
          "northwest",
          "southwest",
          "northeast",
          "northeast",
          "southeast",
          "southwest",
          "northeast",
          "southwest",
          "northwest",
          "northwest",
          "southwest",
          "northwest",
          "northeast",
          "northwest",
          "southeast",
          "southeast",
          "northeast",
          "southeast",
          "northwest",
          "northwest",
          "southwest",
          "northwest",
          "northeast",
          "northeast",
          "southeast",
          "southeast",
          "northwest",
          "northeast",
          "southwest",
          "southwest",
          "northwest",
          "northwest",
          "northwest",
          "northwest",
          "northeast",
          "southwest",
          "southwest",
          "southwest",
          "northeast",
          "northwest",
          "northeast",
          "southeast",
          "southwest",
          "southwest",
          "northeast",
          "southwest",
          "northwest",
          "southwest",
          "northeast",
          "southeast",
          "northwest",
          "northwest",
          "southwest",
          "northwest",
          "southwest",
          "northwest",
          "northwest",
          "northwest",
          "southeast",
          "northeast",
          "northeast",
          "northeast",
          "northeast",
          "northeast",
          "southwest",
          "northeast",
          "northeast",
          "northwest",
          "southwest",
          "southwest",
          "southwest",
          "northwest",
          "southwest",
          "southwest",
          "northeast",
          "northwest",
          "southeast",
          "northwest",
          "northeast",
          "southeast",
          "northwest",
          "southeast",
          "southeast",
          "southeast",
          "southwest",
          "northeast",
          "northwest",
          "northeast",
          "southeast",
          "southeast",
          "southwest",
          "northeast",
          "northwest",
          "southeast",
          "northeast",
          "southwest",
          "southeast",
          "southeast",
          "southwest",
          "southeast",
          "northwest",
          "northwest",
          "northwest",
          "southeast",
          "northeast",
          "southwest",
          "northwest",
          "southeast",
          "northeast",
          "southeast",
          "southeast",
          "northwest",
          "southwest",
          "southwest",
          "northwest",
          "southeast",
          "southeast",
          "northwest",
          "northeast",
          "northwest",
          "southwest",
          "northwest",
          "northwest",
          "northwest",
          "northwest",
          "southeast",
          "southwest",
          "northeast",
          "northeast",
          "northwest",
          "southwest",
          "northeast",
          "northeast",
          "southwest",
          "southeast",
          "southwest",
          "northwest",
          "northwest",
          "northeast",
          "southwest",
          "southeast",
          "southwest",
          "southwest",
          "northwest",
          "northeast",
          "southwest",
          "southwest",
          "southeast",
          "southwest",
          "northeast",
          "southwest",
          "southwest",
          "southeast",
          "southeast",
          "southwest",
          "northeast",
          "northwest",
          "southwest",
          "southeast",
          "southwest",
          "southwest",
          "southwest",
          "northwest",
          "northeast",
          "northwest",
          "northwest",
          "southwest",
          "northwest",
          "southeast",
          "northeast",
          "northeast",
          "southwest",
          "northwest",
          "southeast",
          "northwest",
          "northeast",
          "northeast",
          "southeast",
          "southwest",
          "northeast",
          "northeast",
          "southeast",
          "southwest",
          "northwest",
          "northwest",
          "southwest",
          "northwest",
          "southeast",
          "southwest",
          "southeast",
          "southwest",
          "southwest",
          "southwest",
          "northwest",
          "southwest",
          "northeast",
          "southwest",
          "southwest",
          "southeast",
          "southeast",
          "southeast",
          "southwest",
          "southwest",
          "southwest",
          "southeast",
          "southwest",
          "northeast",
          "northwest",
          "southeast",
          "southeast",
          "southeast",
          "southeast",
          "northeast",
          "northwest",
          "southeast",
          "southwest",
          "southwest",
          "northwest",
          "northeast",
          "northwest",
          "southeast",
          "northwest",
          "northwest",
          "northwest",
          "southwest",
          "southeast",
          "northeast",
          "northwest",
          "southwest",
          "northwest",
          "northeast",
          "southeast",
          "southeast",
          "northeast",
          "northwest",
          "southwest",
          "southeast",
          "southeast",
          "southeast",
          "northeast",
          "southeast",
          "northeast",
          "northeast",
          "northeast",
          "northeast",
          "southwest",
          "northwest",
          "northwest",
          "northeast",
          "southwest",
          "northeast",
          "southwest",
          "southeast",
          "northeast",
          "southwest",
          "southeast",
          "northeast",
          "northwest",
          "southwest",
          "southwest",
          "northeast",
          "northwest",
          "northeast",
          "northeast",
          "northeast",
          "southwest",
          "southeast",
          "northwest",
          "southwest",
          "northwest",
          "northwest",
          "southwest",
          "northwest",
          "northwest",
          "southwest",
          "southeast",
          "southeast",
          "southwest",
          "northwest",
          "southwest",
          "northeast",
          "northeast",
          "northwest",
          "southwest",
          "northeast",
          "northwest",
          "northeast",
          "southwest",
          "northeast",
          "northeast",
          "northwest",
          "northwest",
          "northeast",
          "northeast",
          "northwest",
          "northwest",
          "southwest",
          "southeast",
          "southeast",
          "northwest",
          "southeast",
          "southeast",
          "northwest",
          "southwest",
          "southwest",
          "southeast",
          "northeast",
          "northwest",
          "southeast",
          "northeast",
          "northwest",
          "northeast",
          "northeast",
          "southeast",
          "southwest",
          "northeast",
          "southeast",
          "southeast",
          "northwest",
          "northwest",
          "southwest",
          "northwest",
          "northeast",
          "northwest",
          "southeast",
          "southwest",
          "northeast",
          "southwest",
          "southwest",
          "northeast",
          "southeast",
          "northeast",
          "southeast",
          "southwest",
          "southeast",
          "southeast",
          "southwest",
          "southeast",
          "northwest",
          "northwest",
          "southwest",
          "southeast",
          "northeast",
          "northwest",
          "northeast",
          "southeast",
          "northeast",
          "northwest",
          "southeast",
          "northeast",
          "northwest",
          "southwest",
          "southeast",
          "southwest",
          "southwest",
          "southeast",
          "southwest",
          "northeast",
          "northwest",
          "northwest",
          "northwest",
          "southwest",
          "northwest",
          "southeast",
          "southeast",
          "southwest",
          "southeast",
          "southeast",
          "southwest",
          "northwest",
          "northwest",
          "southwest",
          "southwest",
          "northeast",
          "northwest",
          "northwest",
          "northwest",
          "northeast",
          "northwest",
          "northeast",
          "southwest",
          "northwest",
          "southeast",
          "southeast",
          "northeast",
          "northwest",
          "northeast",
          "southeast",
          "southwest",
          "southwest",
          "northwest",
          "southeast",
          "northwest",
          "northwest",
          "southwest",
          "southwest",
          "northeast",
          "northeast",
          "northwest",
          "southwest",
          "northeast",
          "northeast",
          "northwest",
          "southwest",
          "northwest",
          "northeast",
          "northeast",
          "northwest",
          "northwest",
          "northwest",
          "southeast",
          "northwest",
          "southwest",
          "northwest",
          "northwest",
          "northwest",
          "northeast",
          "northwest",
          "southwest",
          "southwest",
          "northwest",
          "southeast",
          "northeast",
          "southwest",
          "northwest",
          "northeast",
          "southeast",
          "southeast",
          "northwest",
          "northeast",
          "southeast",
          "southeast",
          "northeast",
          "southeast",
          "northeast",
          "southeast",
          "southeast",
          "northeast",
          "northwest",
          "southwest",
          "southeast",
          "northwest",
          "northeast",
          "northwest",
          "northeast",
          "southeast",
          "northwest",
          "southeast",
          "southeast",
          "southwest",
          "southwest",
          "southwest",
          "southeast",
          "southwest",
          "southwest",
          "southeast",
          "southwest",
          "northwest",
          "northwest",
          "northwest",
          "northeast",
          "northeast",
          "southwest",
          "southeast",
          "southwest",
          "northeast",
          "southwest",
          "southwest",
          "southwest",
          "northwest",
          "northwest",
          "southeast",
          "southeast",
          "southwest",
          "northeast",
          "northwest",
          "northwest",
          "southeast",
          "southeast",
          "northeast",
          "northeast",
          "southwest",
          "southeast",
          "northeast",
          "southeast",
          "northwest",
          "northeast",
          "southwest",
          "northeast",
          "southeast",
          "northwest",
          "northwest",
          "southwest",
          "southeast",
          "southwest",
          "northwest",
          "northwest",
          "southwest",
          "northeast",
          "southwest",
          "southeast",
          "northeast",
          "northwest",
          "northwest",
          "southeast",
          "northwest",
          "northeast",
          "northeast",
          "southeast",
          "northeast",
          "southwest",
          "southeast",
          "southwest",
          "southwest",
          "northwest",
          "northeast",
          "southeast",
          "southwest"
         ],
         "xaxis": "x",
         "yaxis": "y"
        }
       ],
       "layout": {
        "barmode": "relative",
        "legend": {
         "title": {
          "text": "smoker"
         },
         "tracegroupgap": 0
        },
        "margin": {
         "t": 60
        },
        "template": {
         "data": {
          "bar": [
           {
            "error_x": {
             "color": "#2a3f5f"
            },
            "error_y": {
             "color": "#2a3f5f"
            },
            "marker": {
             "line": {
              "color": "#E5ECF6",
              "width": 0.5
             },
             "pattern": {
              "fillmode": "overlay",
              "size": 10,
              "solidity": 0.2
             }
            },
            "type": "bar"
           }
          ],
          "barpolar": [
           {
            "marker": {
             "line": {
              "color": "#E5ECF6",
              "width": 0.5
             },
             "pattern": {
              "fillmode": "overlay",
              "size": 10,
              "solidity": 0.2
             }
            },
            "type": "barpolar"
           }
          ],
          "carpet": [
           {
            "aaxis": {
             "endlinecolor": "#2a3f5f",
             "gridcolor": "white",
             "linecolor": "white",
             "minorgridcolor": "white",
             "startlinecolor": "#2a3f5f"
            },
            "baxis": {
             "endlinecolor": "#2a3f5f",
             "gridcolor": "white",
             "linecolor": "white",
             "minorgridcolor": "white",
             "startlinecolor": "#2a3f5f"
            },
            "type": "carpet"
           }
          ],
          "choropleth": [
           {
            "colorbar": {
             "outlinewidth": 0,
             "ticks": ""
            },
            "type": "choropleth"
           }
          ],
          "contour": [
           {
            "colorbar": {
             "outlinewidth": 0,
             "ticks": ""
            },
            "colorscale": [
             [
              0,
              "#0d0887"
             ],
             [
              0.1111111111111111,
              "#46039f"
             ],
             [
              0.2222222222222222,
              "#7201a8"
             ],
             [
              0.3333333333333333,
              "#9c179e"
             ],
             [
              0.4444444444444444,
              "#bd3786"
             ],
             [
              0.5555555555555556,
              "#d8576b"
             ],
             [
              0.6666666666666666,
              "#ed7953"
             ],
             [
              0.7777777777777778,
              "#fb9f3a"
             ],
             [
              0.8888888888888888,
              "#fdca26"
             ],
             [
              1,
              "#f0f921"
             ]
            ],
            "type": "contour"
           }
          ],
          "contourcarpet": [
           {
            "colorbar": {
             "outlinewidth": 0,
             "ticks": ""
            },
            "type": "contourcarpet"
           }
          ],
          "heatmap": [
           {
            "colorbar": {
             "outlinewidth": 0,
             "ticks": ""
            },
            "colorscale": [
             [
              0,
              "#0d0887"
             ],
             [
              0.1111111111111111,
              "#46039f"
             ],
             [
              0.2222222222222222,
              "#7201a8"
             ],
             [
              0.3333333333333333,
              "#9c179e"
             ],
             [
              0.4444444444444444,
              "#bd3786"
             ],
             [
              0.5555555555555556,
              "#d8576b"
             ],
             [
              0.6666666666666666,
              "#ed7953"
             ],
             [
              0.7777777777777778,
              "#fb9f3a"
             ],
             [
              0.8888888888888888,
              "#fdca26"
             ],
             [
              1,
              "#f0f921"
             ]
            ],
            "type": "heatmap"
           }
          ],
          "heatmapgl": [
           {
            "colorbar": {
             "outlinewidth": 0,
             "ticks": ""
            },
            "colorscale": [
             [
              0,
              "#0d0887"
             ],
             [
              0.1111111111111111,
              "#46039f"
             ],
             [
              0.2222222222222222,
              "#7201a8"
             ],
             [
              0.3333333333333333,
              "#9c179e"
             ],
             [
              0.4444444444444444,
              "#bd3786"
             ],
             [
              0.5555555555555556,
              "#d8576b"
             ],
             [
              0.6666666666666666,
              "#ed7953"
             ],
             [
              0.7777777777777778,
              "#fb9f3a"
             ],
             [
              0.8888888888888888,
              "#fdca26"
             ],
             [
              1,
              "#f0f921"
             ]
            ],
            "type": "heatmapgl"
           }
          ],
          "histogram": [
           {
            "marker": {
             "pattern": {
              "fillmode": "overlay",
              "size": 10,
              "solidity": 0.2
             }
            },
            "type": "histogram"
           }
          ],
          "histogram2d": [
           {
            "colorbar": {
             "outlinewidth": 0,
             "ticks": ""
            },
            "colorscale": [
             [
              0,
              "#0d0887"
             ],
             [
              0.1111111111111111,
              "#46039f"
             ],
             [
              0.2222222222222222,
              "#7201a8"
             ],
             [
              0.3333333333333333,
              "#9c179e"
             ],
             [
              0.4444444444444444,
              "#bd3786"
             ],
             [
              0.5555555555555556,
              "#d8576b"
             ],
             [
              0.6666666666666666,
              "#ed7953"
             ],
             [
              0.7777777777777778,
              "#fb9f3a"
             ],
             [
              0.8888888888888888,
              "#fdca26"
             ],
             [
              1,
              "#f0f921"
             ]
            ],
            "type": "histogram2d"
           }
          ],
          "histogram2dcontour": [
           {
            "colorbar": {
             "outlinewidth": 0,
             "ticks": ""
            },
            "colorscale": [
             [
              0,
              "#0d0887"
             ],
             [
              0.1111111111111111,
              "#46039f"
             ],
             [
              0.2222222222222222,
              "#7201a8"
             ],
             [
              0.3333333333333333,
              "#9c179e"
             ],
             [
              0.4444444444444444,
              "#bd3786"
             ],
             [
              0.5555555555555556,
              "#d8576b"
             ],
             [
              0.6666666666666666,
              "#ed7953"
             ],
             [
              0.7777777777777778,
              "#fb9f3a"
             ],
             [
              0.8888888888888888,
              "#fdca26"
             ],
             [
              1,
              "#f0f921"
             ]
            ],
            "type": "histogram2dcontour"
           }
          ],
          "mesh3d": [
           {
            "colorbar": {
             "outlinewidth": 0,
             "ticks": ""
            },
            "type": "mesh3d"
           }
          ],
          "parcoords": [
           {
            "line": {
             "colorbar": {
              "outlinewidth": 0,
              "ticks": ""
             }
            },
            "type": "parcoords"
           }
          ],
          "pie": [
           {
            "automargin": true,
            "type": "pie"
           }
          ],
          "scatter": [
           {
            "fillpattern": {
             "fillmode": "overlay",
             "size": 10,
             "solidity": 0.2
            },
            "type": "scatter"
           }
          ],
          "scatter3d": [
           {
            "line": {
             "colorbar": {
              "outlinewidth": 0,
              "ticks": ""
             }
            },
            "marker": {
             "colorbar": {
              "outlinewidth": 0,
              "ticks": ""
             }
            },
            "type": "scatter3d"
           }
          ],
          "scattercarpet": [
           {
            "marker": {
             "colorbar": {
              "outlinewidth": 0,
              "ticks": ""
             }
            },
            "type": "scattercarpet"
           }
          ],
          "scattergeo": [
           {
            "marker": {
             "colorbar": {
              "outlinewidth": 0,
              "ticks": ""
             }
            },
            "type": "scattergeo"
           }
          ],
          "scattergl": [
           {
            "marker": {
             "colorbar": {
              "outlinewidth": 0,
              "ticks": ""
             }
            },
            "type": "scattergl"
           }
          ],
          "scattermapbox": [
           {
            "marker": {
             "colorbar": {
              "outlinewidth": 0,
              "ticks": ""
             }
            },
            "type": "scattermapbox"
           }
          ],
          "scatterpolar": [
           {
            "marker": {
             "colorbar": {
              "outlinewidth": 0,
              "ticks": ""
             }
            },
            "type": "scatterpolar"
           }
          ],
          "scatterpolargl": [
           {
            "marker": {
             "colorbar": {
              "outlinewidth": 0,
              "ticks": ""
             }
            },
            "type": "scatterpolargl"
           }
          ],
          "scatterternary": [
           {
            "marker": {
             "colorbar": {
              "outlinewidth": 0,
              "ticks": ""
             }
            },
            "type": "scatterternary"
           }
          ],
          "surface": [
           {
            "colorbar": {
             "outlinewidth": 0,
             "ticks": ""
            },
            "colorscale": [
             [
              0,
              "#0d0887"
             ],
             [
              0.1111111111111111,
              "#46039f"
             ],
             [
              0.2222222222222222,
              "#7201a8"
             ],
             [
              0.3333333333333333,
              "#9c179e"
             ],
             [
              0.4444444444444444,
              "#bd3786"
             ],
             [
              0.5555555555555556,
              "#d8576b"
             ],
             [
              0.6666666666666666,
              "#ed7953"
             ],
             [
              0.7777777777777778,
              "#fb9f3a"
             ],
             [
              0.8888888888888888,
              "#fdca26"
             ],
             [
              1,
              "#f0f921"
             ]
            ],
            "type": "surface"
           }
          ],
          "table": [
           {
            "cells": {
             "fill": {
              "color": "#EBF0F8"
             },
             "line": {
              "color": "white"
             }
            },
            "header": {
             "fill": {
              "color": "#C8D4E3"
             },
             "line": {
              "color": "white"
             }
            },
            "type": "table"
           }
          ]
         },
         "layout": {
          "annotationdefaults": {
           "arrowcolor": "#2a3f5f",
           "arrowhead": 0,
           "arrowwidth": 1
          },
          "autotypenumbers": "strict",
          "coloraxis": {
           "colorbar": {
            "outlinewidth": 0,
            "ticks": ""
           }
          },
          "colorscale": {
           "diverging": [
            [
             0,
             "#8e0152"
            ],
            [
             0.1,
             "#c51b7d"
            ],
            [
             0.2,
             "#de77ae"
            ],
            [
             0.3,
             "#f1b6da"
            ],
            [
             0.4,
             "#fde0ef"
            ],
            [
             0.5,
             "#f7f7f7"
            ],
            [
             0.6,
             "#e6f5d0"
            ],
            [
             0.7,
             "#b8e186"
            ],
            [
             0.8,
             "#7fbc41"
            ],
            [
             0.9,
             "#4d9221"
            ],
            [
             1,
             "#276419"
            ]
           ],
           "sequential": [
            [
             0,
             "#0d0887"
            ],
            [
             0.1111111111111111,
             "#46039f"
            ],
            [
             0.2222222222222222,
             "#7201a8"
            ],
            [
             0.3333333333333333,
             "#9c179e"
            ],
            [
             0.4444444444444444,
             "#bd3786"
            ],
            [
             0.5555555555555556,
             "#d8576b"
            ],
            [
             0.6666666666666666,
             "#ed7953"
            ],
            [
             0.7777777777777778,
             "#fb9f3a"
            ],
            [
             0.8888888888888888,
             "#fdca26"
            ],
            [
             1,
             "#f0f921"
            ]
           ],
           "sequentialminus": [
            [
             0,
             "#0d0887"
            ],
            [
             0.1111111111111111,
             "#46039f"
            ],
            [
             0.2222222222222222,
             "#7201a8"
            ],
            [
             0.3333333333333333,
             "#9c179e"
            ],
            [
             0.4444444444444444,
             "#bd3786"
            ],
            [
             0.5555555555555556,
             "#d8576b"
            ],
            [
             0.6666666666666666,
             "#ed7953"
            ],
            [
             0.7777777777777778,
             "#fb9f3a"
            ],
            [
             0.8888888888888888,
             "#fdca26"
            ],
            [
             1,
             "#f0f921"
            ]
           ]
          },
          "colorway": [
           "#636efa",
           "#EF553B",
           "#00cc96",
           "#ab63fa",
           "#FFA15A",
           "#19d3f3",
           "#FF6692",
           "#B6E880",
           "#FF97FF",
           "#FECB52"
          ],
          "font": {
           "color": "#2a3f5f"
          },
          "geo": {
           "bgcolor": "white",
           "lakecolor": "white",
           "landcolor": "#E5ECF6",
           "showlakes": true,
           "showland": true,
           "subunitcolor": "white"
          },
          "hoverlabel": {
           "align": "left"
          },
          "hovermode": "closest",
          "mapbox": {
           "style": "light"
          },
          "paper_bgcolor": "white",
          "plot_bgcolor": "#E5ECF6",
          "polar": {
           "angularaxis": {
            "gridcolor": "white",
            "linecolor": "white",
            "ticks": ""
           },
           "bgcolor": "#E5ECF6",
           "radialaxis": {
            "gridcolor": "white",
            "linecolor": "white",
            "ticks": ""
           }
          },
          "scene": {
           "xaxis": {
            "backgroundcolor": "#E5ECF6",
            "gridcolor": "white",
            "gridwidth": 2,
            "linecolor": "white",
            "showbackground": true,
            "ticks": "",
            "zerolinecolor": "white"
           },
           "yaxis": {
            "backgroundcolor": "#E5ECF6",
            "gridcolor": "white",
            "gridwidth": 2,
            "linecolor": "white",
            "showbackground": true,
            "ticks": "",
            "zerolinecolor": "white"
           },
           "zaxis": {
            "backgroundcolor": "#E5ECF6",
            "gridcolor": "white",
            "gridwidth": 2,
            "linecolor": "white",
            "showbackground": true,
            "ticks": "",
            "zerolinecolor": "white"
           }
          },
          "shapedefaults": {
           "line": {
            "color": "#2a3f5f"
           }
          },
          "ternary": {
           "aaxis": {
            "gridcolor": "white",
            "linecolor": "white",
            "ticks": ""
           },
           "baxis": {
            "gridcolor": "white",
            "linecolor": "white",
            "ticks": ""
           },
           "bgcolor": "#E5ECF6",
           "caxis": {
            "gridcolor": "white",
            "linecolor": "white",
            "ticks": ""
           }
          },
          "title": {
           "x": 0.05
          },
          "xaxis": {
           "automargin": true,
           "gridcolor": "white",
           "linecolor": "white",
           "ticks": "",
           "title": {
            "standoff": 15
           },
           "zerolinecolor": "white",
           "zerolinewidth": 2
          },
          "yaxis": {
           "automargin": true,
           "gridcolor": "white",
           "linecolor": "white",
           "ticks": "",
           "title": {
            "standoff": 15
           },
           "zerolinecolor": "white",
           "zerolinewidth": 2
          }
         }
        },
        "title": {
         "font": {
          "size": 24
         },
         "text": "Frequency of Categorical Variables",
         "x": 0.5,
         "xanchor": "center"
        },
        "xaxis": {
         "anchor": "y",
         "domain": [
          0,
          1
         ],
         "title": {
          "text": "region"
         }
        },
        "yaxis": {
         "anchor": "x",
         "domain": [
          0,
          1
         ],
         "title": {
          "text": "count"
         }
        }
       }
      }
     },
     "metadata": {},
     "output_type": "display_data"
    }
   ],
   "source": [
    "fig = px.histogram(df, x='region', color='smoker')\n",
    "fig.update_layout(title={\n",
    "    'text': \"Frequency of Categorical Variables\",\n",
    "    'font': {'size': 24},\n",
    "    'x':0.5,\n",
    "    'xanchor': 'center'\n",
    "})\n",
    "fig.show()"
   ]
  },
  {
   "attachments": {},
   "cell_type": "markdown",
   "metadata": {},
   "source": [
    "3. What is the dispersion of medical costs regarding the categorical variables? Is there any observation that stands out? Do you see any significant change if you add a third categorical variable?\n",
    "\n",
    "Tip: You can use bar chart and compare the total and average values of numerical variables across the categorical variables. "
   ]
  },
  {
   "cell_type": "code",
   "execution_count": 15,
   "metadata": {},
   "outputs": [
    {
     "data": {
      "application/vnd.plotly.v1+json": {
       "config": {
        "plotlyServerURL": "https://plot.ly"
       },
       "data": [
        {
         "alignmentgroup": "True",
         "bingroup": "x",
         "histfunc": "avg",
         "hovertemplate": "sex=%{x}<br>avg of charges=%{y}<extra></extra>",
         "legendgroup": "",
         "marker": {
          "color": "#636efa",
          "pattern": {
           "shape": ""
          }
         },
         "name": "",
         "offsetgroup": "",
         "orientation": "v",
         "showlegend": false,
         "type": "histogram",
         "x": [
          "female",
          "male",
          "male",
          "male",
          "male",
          "female",
          "female",
          "female",
          "male",
          "female",
          "male",
          "female",
          "male",
          "female",
          "male",
          "male",
          "female",
          "male",
          "male",
          "male",
          "female",
          "female",
          "male",
          "female",
          "male",
          "female",
          "female",
          "female",
          "male",
          "male",
          "male",
          "female",
          "female",
          "male",
          "male",
          "male",
          "female",
          "male",
          "male",
          "male",
          "female",
          "female",
          "male",
          "female",
          "male",
          "male",
          "female",
          "female",
          "female",
          "male",
          "female",
          "female",
          "male",
          "male",
          "female",
          "male",
          "female",
          "male",
          "female",
          "female",
          "male",
          "male",
          "male",
          "female",
          "female",
          "female",
          "female",
          "male",
          "female",
          "male",
          "female",
          "male",
          "female",
          "male",
          "male",
          "male",
          "female",
          "male",
          "female",
          "female",
          "male",
          "female",
          "male",
          "female",
          "female",
          "male",
          "female",
          "female",
          "female",
          "female",
          "female",
          "female",
          "male",
          "male",
          "female",
          "female",
          "female",
          "male",
          "male",
          "male",
          "female",
          "male",
          "female",
          "female",
          "female",
          "male",
          "female",
          "male",
          "male",
          "male",
          "male",
          "female",
          "male",
          "female",
          "male",
          "male",
          "male",
          "female",
          "female",
          "female",
          "male",
          "male",
          "female",
          "male",
          "female",
          "female",
          "female",
          "female",
          "female",
          "male",
          "female",
          "female",
          "female",
          "male",
          "female",
          "female",
          "male",
          "male",
          "female",
          "female",
          "male",
          "male",
          "male",
          "male",
          "male",
          "female",
          "male",
          "female",
          "female",
          "male",
          "male",
          "male",
          "female",
          "female",
          "female",
          "male",
          "male",
          "male",
          "male",
          "female",
          "female",
          "female",
          "male",
          "female",
          "male",
          "male",
          "female",
          "female",
          "female",
          "male",
          "male",
          "male",
          "male",
          "female",
          "female",
          "female",
          "male",
          "male",
          "female",
          "female",
          "male",
          "female",
          "male",
          "female",
          "male",
          "male",
          "female",
          "female",
          "female",
          "female",
          "male",
          "female",
          "male",
          "female",
          "male",
          "male",
          "female",
          "female",
          "female",
          "female",
          "female",
          "female",
          "female",
          "female",
          "male",
          "female",
          "male",
          "male",
          "female",
          "male",
          "male",
          "male",
          "male",
          "female",
          "female",
          "female",
          "female",
          "male",
          "female",
          "female",
          "female",
          "female",
          "male",
          "male",
          "male",
          "male",
          "male",
          "female",
          "female",
          "male",
          "female",
          "female",
          "female",
          "male",
          "male",
          "female",
          "female",
          "male",
          "male",
          "male",
          "female",
          "female",
          "female",
          "male",
          "female",
          "male",
          "female",
          "male",
          "male",
          "male",
          "male",
          "female",
          "male",
          "male",
          "male",
          "female",
          "male",
          "female",
          "male",
          "male",
          "female",
          "female",
          "male",
          "male",
          "female",
          "male",
          "male",
          "female",
          "male",
          "male",
          "male",
          "male",
          "male",
          "male",
          "male",
          "female",
          "male",
          "female",
          "male",
          "female",
          "female",
          "male",
          "male",
          "female",
          "female",
          "male",
          "female",
          "female",
          "female",
          "male",
          "female",
          "male",
          "male",
          "female",
          "male",
          "male",
          "male",
          "male",
          "male",
          "female",
          "male",
          "female",
          "female",
          "female",
          "female",
          "male",
          "female",
          "female",
          "male",
          "female",
          "male",
          "female",
          "male",
          "male",
          "female",
          "male",
          "male",
          "male",
          "female",
          "male",
          "male",
          "female",
          "male",
          "male",
          "male",
          "male",
          "female",
          "male",
          "female",
          "male",
          "female",
          "male",
          "female",
          "female",
          "female",
          "male",
          "male",
          "male",
          "male",
          "female",
          "female",
          "male",
          "female",
          "male",
          "female",
          "female",
          "male",
          "male",
          "female",
          "male",
          "female",
          "female",
          "female",
          "male",
          "female",
          "male",
          "male",
          "male",
          "male",
          "female",
          "female",
          "male",
          "female",
          "female",
          "female",
          "female",
          "female",
          "female",
          "male",
          "male",
          "female",
          "female",
          "female",
          "male",
          "male",
          "female",
          "female",
          "male",
          "female",
          "male",
          "female",
          "male",
          "male",
          "female",
          "male",
          "male",
          "female",
          "male",
          "female",
          "female",
          "male",
          "female",
          "male",
          "male",
          "female",
          "male",
          "female",
          "male",
          "male",
          "female",
          "female",
          "male",
          "female",
          "male",
          "male",
          "female",
          "female",
          "female",
          "male",
          "male",
          "male",
          "female",
          "female",
          "male",
          "female",
          "female",
          "male",
          "female",
          "male",
          "female",
          "male",
          "male",
          "male",
          "male",
          "male",
          "male",
          "female",
          "female",
          "female",
          "female",
          "male",
          "female",
          "male",
          "female",
          "male",
          "male",
          "male",
          "male",
          "female",
          "male",
          "female",
          "female",
          "male",
          "female",
          "male",
          "female",
          "male",
          "female",
          "female",
          "male",
          "male",
          "male",
          "male",
          "male",
          "male",
          "male",
          "female",
          "female",
          "male",
          "female",
          "female",
          "male",
          "female",
          "male",
          "male",
          "female",
          "female",
          "female",
          "female",
          "female",
          "male",
          "female",
          "female",
          "female",
          "male",
          "male",
          "male",
          "male",
          "male",
          "male",
          "male",
          "male",
          "female",
          "female",
          "male",
          "female",
          "female",
          "male",
          "female",
          "male",
          "female",
          "female",
          "female",
          "male",
          "male",
          "male",
          "female",
          "male",
          "female",
          "female",
          "male",
          "male",
          "male",
          "male",
          "female",
          "male",
          "male",
          "male",
          "female",
          "female",
          "male",
          "male",
          "male",
          "male",
          "male",
          "male",
          "male",
          "male",
          "female",
          "male",
          "female",
          "female",
          "female",
          "female",
          "male",
          "female",
          "female",
          "female",
          "male",
          "male",
          "male",
          "female",
          "male",
          "male",
          "male",
          "male",
          "female",
          "female",
          "female",
          "male",
          "female",
          "female",
          "female",
          "female",
          "male",
          "male",
          "male",
          "female",
          "female",
          "female",
          "male",
          "female",
          "male",
          "female",
          "female",
          "male",
          "male",
          "male",
          "female",
          "male",
          "female",
          "female",
          "male",
          "male",
          "female",
          "female",
          "female",
          "male",
          "female",
          "male",
          "female",
          "female",
          "female",
          "female",
          "female",
          "female",
          "male",
          "female",
          "male",
          "female",
          "male",
          "male",
          "male",
          "female",
          "male",
          "female",
          "male",
          "female",
          "female",
          "female",
          "female",
          "male",
          "male",
          "female",
          "male",
          "female",
          "female",
          "female",
          "male",
          "female",
          "female",
          "male",
          "female",
          "female",
          "female",
          "female",
          "female",
          "female",
          "male",
          "male",
          "female",
          "female",
          "female",
          "female",
          "female",
          "female",
          "female",
          "male",
          "female",
          "female",
          "male",
          "male",
          "female",
          "male",
          "male",
          "female",
          "male",
          "male",
          "male",
          "female",
          "male",
          "male",
          "female",
          "male",
          "male",
          "male",
          "female",
          "female",
          "male",
          "male",
          "male",
          "male",
          "male",
          "female",
          "male",
          "male",
          "male",
          "female",
          "male",
          "female",
          "female",
          "female",
          "female",
          "female",
          "female",
          "female",
          "female",
          "male",
          "female",
          "female",
          "male",
          "female",
          "female",
          "male",
          "female",
          "male",
          "male",
          "female",
          "male",
          "female",
          "male",
          "female",
          "male",
          "female",
          "female",
          "male",
          "female",
          "male",
          "male",
          "female",
          "female",
          "male",
          "male",
          "male",
          "female",
          "male",
          "male",
          "male",
          "female",
          "male",
          "male",
          "male",
          "male",
          "male",
          "female",
          "female",
          "female",
          "male",
          "male",
          "female",
          "female",
          "female",
          "male",
          "female",
          "female",
          "female",
          "female",
          "male",
          "female",
          "female",
          "male",
          "female",
          "female",
          "male",
          "female",
          "male",
          "female",
          "male",
          "female",
          "female",
          "female",
          "male",
          "male",
          "male",
          "female",
          "female",
          "male",
          "female",
          "female",
          "female",
          "male",
          "male",
          "female",
          "female",
          "female",
          "female",
          "female",
          "male",
          "male",
          "male",
          "male",
          "male",
          "male",
          "female",
          "male",
          "female",
          "male",
          "male",
          "female",
          "male",
          "female",
          "male",
          "male",
          "female",
          "male",
          "male",
          "female",
          "female",
          "male",
          "male",
          "female",
          "male",
          "male",
          "male",
          "female",
          "female",
          "male",
          "female",
          "female",
          "female",
          "male",
          "female",
          "female",
          "female",
          "male",
          "male",
          "male",
          "male",
          "male",
          "male",
          "male",
          "male",
          "male",
          "female",
          "female",
          "female",
          "male",
          "male",
          "male",
          "female",
          "female",
          "male",
          "female",
          "male",
          "female",
          "male",
          "male",
          "female",
          "female",
          "male",
          "female",
          "female",
          "male",
          "female",
          "male",
          "female",
          "female",
          "female",
          "male",
          "male",
          "female",
          "female",
          "male",
          "male",
          "male",
          "female",
          "female",
          "male",
          "female",
          "female",
          "male",
          "male",
          "female",
          "female",
          "male",
          "female",
          "male",
          "male",
          "male",
          "male",
          "male",
          "female",
          "female",
          "male",
          "male",
          "male",
          "male",
          "female",
          "female",
          "female",
          "male",
          "male",
          "female",
          "female",
          "male",
          "female",
          "female",
          "male",
          "female",
          "male",
          "female",
          "male",
          "female",
          "female",
          "female",
          "female",
          "female",
          "male",
          "female",
          "male",
          "female",
          "female",
          "female",
          "female",
          "male",
          "male",
          "male",
          "male",
          "male",
          "female",
          "male",
          "female",
          "male",
          "male",
          "male",
          "female",
          "female",
          "male",
          "male",
          "female",
          "male",
          "male",
          "female",
          "female",
          "male",
          "male",
          "male",
          "female",
          "male",
          "male",
          "female",
          "female",
          "male",
          "male",
          "male",
          "female",
          "female",
          "male",
          "female",
          "female",
          "male",
          "male",
          "male",
          "male",
          "female",
          "female",
          "male",
          "female",
          "male",
          "female",
          "male",
          "male",
          "female",
          "female",
          "male",
          "female",
          "female",
          "male",
          "female",
          "female",
          "female",
          "female",
          "male",
          "male",
          "male",
          "male",
          "female",
          "female",
          "female",
          "male",
          "male",
          "female",
          "male",
          "female",
          "male",
          "female",
          "male",
          "female",
          "male",
          "male",
          "male",
          "female",
          "female",
          "male",
          "male",
          "female",
          "male",
          "male",
          "male",
          "male",
          "male",
          "male",
          "female",
          "male",
          "male",
          "male",
          "male",
          "male",
          "male",
          "male",
          "female",
          "female",
          "female",
          "male",
          "male",
          "male",
          "male",
          "male",
          "male",
          "female",
          "female",
          "female",
          "female",
          "female",
          "male",
          "male",
          "male",
          "male",
          "female",
          "female",
          "male",
          "male",
          "male",
          "female",
          "male",
          "female",
          "male",
          "female",
          "male",
          "female",
          "female",
          "female",
          "female",
          "male",
          "female",
          "female",
          "female",
          "female",
          "female",
          "female",
          "male",
          "male",
          "male",
          "male",
          "male",
          "male",
          "male",
          "male",
          "male",
          "male",
          "female",
          "male",
          "female",
          "male",
          "female",
          "male",
          "female",
          "female",
          "female",
          "female",
          "male",
          "female",
          "male",
          "male",
          "female",
          "female",
          "male",
          "male",
          "male",
          "female",
          "female",
          "female",
          "female",
          "male",
          "male",
          "female",
          "male",
          "female",
          "male",
          "male",
          "female",
          "male",
          "male",
          "female",
          "male",
          "female",
          "female",
          "male",
          "female",
          "male",
          "female",
          "male",
          "male",
          "male",
          "female",
          "male",
          "female",
          "female",
          "female",
          "male",
          "male",
          "male",
          "male",
          "male",
          "female",
          "female",
          "male",
          "male",
          "male",
          "female",
          "male",
          "male",
          "male",
          "female",
          "female",
          "female",
          "female",
          "male",
          "male",
          "male",
          "male",
          "male",
          "male",
          "male",
          "female",
          "female",
          "male",
          "male",
          "male",
          "male",
          "male",
          "female",
          "male",
          "female",
          "female",
          "female",
          "female",
          "male",
          "female",
          "female",
          "female",
          "male",
          "male",
          "male",
          "male",
          "female",
          "female",
          "female",
          "male",
          "male",
          "female",
          "male",
          "female",
          "female",
          "male",
          "male",
          "male",
          "male",
          "male",
          "female",
          "female",
          "male",
          "female",
          "female",
          "female",
          "female",
          "male",
          "female",
          "male",
          "female",
          "female",
          "male",
          "male",
          "female",
          "male",
          "female",
          "female",
          "female",
          "male",
          "female",
          "male",
          "female",
          "female",
          "male",
          "male",
          "male",
          "male",
          "female",
          "male",
          "male",
          "female",
          "female",
          "female",
          "female",
          "female",
          "female",
          "male",
          "female",
          "female",
          "female",
          "female",
          "male",
          "male",
          "female",
          "female",
          "female",
          "male",
          "female",
          "male",
          "female",
          "male",
          "female",
          "female",
          "male",
          "male",
          "female",
          "female",
          "female",
          "female",
          "male",
          "female",
          "female",
          "female",
          "female",
          "female",
          "male",
          "male",
          "female",
          "female",
          "female",
          "female",
          "female",
          "female",
          "female",
          "female",
          "female",
          "female",
          "male",
          "male",
          "female",
          "male",
          "male",
          "male",
          "male",
          "female",
          "male",
          "female",
          "male",
          "female",
          "male",
          "male",
          "male",
          "male",
          "female",
          "female",
          "male",
          "male",
          "male",
          "female",
          "female",
          "female",
          "male",
          "male",
          "female",
          "male",
          "female",
          "male",
          "male",
          "male",
          "male",
          "male",
          "female",
          "female",
          "male",
          "female",
          "male",
          "female",
          "female",
          "male",
          "female",
          "male",
          "male",
          "female",
          "female",
          "male",
          "male",
          "female",
          "male",
          "female",
          "male",
          "male",
          "male",
          "male",
          "female",
          "female",
          "female",
          "female",
          "female",
          "male",
          "female",
          "female",
          "male",
          "female",
          "female",
          "female",
          "male",
          "female",
          "male",
          "female",
          "male",
          "male",
          "female",
          "male",
          "male",
          "male",
          "male",
          "female",
          "female",
          "male",
          "female",
          "female",
          "female",
          "female",
          "male",
          "male",
          "female",
          "female",
          "female",
          "male",
          "male",
          "female",
          "male",
          "male",
          "male",
          "male",
          "male",
          "male",
          "female",
          "male",
          "female",
          "male",
          "male",
          "female",
          "male",
          "male",
          "female",
          "female",
          "male",
          "female",
          "male",
          "male",
          "female",
          "male",
          "female",
          "female",
          "male",
          "female",
          "male",
          "male",
          "female",
          "male",
          "male",
          "male",
          "female",
          "male",
          "male",
          "female",
          "male",
          "female",
          "male",
          "female",
          "female",
          "female",
          "male",
          "female",
          "female",
          "female",
          "female"
         ],
         "xaxis": "x",
         "y": [
          16884.924,
          1725.5523,
          4449.462,
          21984.47061,
          3866.8552,
          3756.6216,
          8240.5896,
          7281.5056,
          6406.4107,
          28923.13692,
          2721.3208,
          27808.7251,
          1826.843,
          11090.7178,
          39611.7577,
          1837.237,
          10797.3362,
          2395.17155,
          10602.385,
          36837.467,
          13228.84695,
          4149.736,
          1137.011,
          37701.8768,
          6203.90175,
          14001.1338,
          14451.83515,
          12268.63225,
          2775.19215,
          38711,
          35585.576,
          2198.18985,
          4687.797,
          13770.0979,
          51194.55914,
          1625.43375,
          15612.19335,
          2302.3,
          39774.2763,
          48173.361,
          3046.062,
          4949.7587,
          6272.4772,
          6313.759,
          6079.6715,
          20630.28351,
          3393.35635,
          3556.9223,
          12629.8967,
          38709.176,
          2211.13075,
          3579.8287,
          23568.272,
          37742.5757,
          8059.6791,
          47496.49445,
          13607.36875,
          34303.1672,
          23244.7902,
          5989.52365,
          8606.2174,
          4504.6624,
          30166.61817,
          4133.64165,
          14711.7438,
          1743.214,
          14235.072,
          6389.37785,
          5920.1041,
          17663.1442,
          16577.7795,
          6799.458,
          11741.726,
          11946.6259,
          7726.854,
          11356.6609,
          3947.4131,
          1532.4697,
          2755.02095,
          6571.02435,
          4441.21315,
          7935.29115,
          37165.1638,
          11033.6617,
          39836.519,
          21098.55405,
          43578.9394,
          11073.176,
          8026.6666,
          11082.5772,
          2026.9741,
          10942.13205,
          30184.9367,
          5729.0053,
          47291.055,
          3766.8838,
          12105.32,
          10226.2842,
          22412.6485,
          15820.699,
          6186.127,
          3645.0894,
          21344.8467,
          30942.1918,
          5003.853,
          17560.37975,
          2331.519,
          3877.30425,
          2867.1196,
          47055.5321,
          10825.2537,
          11881.358,
          4646.759,
          2404.7338,
          11488.31695,
          30259.99556,
          11381.3254,
          19107.7796,
          8601.3293,
          6686.4313,
          7740.337,
          1705.6245,
          2257.47525,
          39556.4945,
          10115.00885,
          3385.39915,
          17081.08,
          9634.538,
          32734.1863,
          6082.405,
          12815.44495,
          13616.3586,
          11163.568,
          1632.56445,
          2457.21115,
          2155.6815,
          1261.442,
          2045.68525,
          27322.73386,
          2166.732,
          27375.90478,
          3490.5491,
          18972.495,
          18157.876,
          20745.9891,
          5138.2567,
          40720.55105,
          9877.6077,
          10959.6947,
          1842.519,
          5125.2157,
          7789.635,
          6334.34355,
          19964.7463,
          7077.1894,
          6948.7008,
          21223.6758,
          15518.18025,
          36950.2567,
          19749.38338,
          21348.706,
          36149.4835,
          10450.552,
          5152.134,
          5028.1466,
          10407.08585,
          4830.63,
          6128.79745,
          2719.27975,
          4827.90495,
          13405.3903,
          8116.68,
          1694.7964,
          5246.047,
          2855.43755,
          48824.45,
          6455.86265,
          10436.096,
          8823.279,
          8538.28845,
          11735.87905,
          1631.8212,
          4005.4225,
          7419.4779,
          7731.4271,
          43753.33705,
          3981.9768,
          5325.651,
          6775.961,
          4922.9159,
          12557.6053,
          4883.866,
          2137.6536,
          12044.342,
          1137.4697,
          1639.5631,
          5649.715,
          8516.829,
          9644.2525,
          14901.5167,
          2130.6759,
          8871.1517,
          13012.20865,
          37133.8982,
          7147.105,
          4337.7352,
          11743.299,
          20984.0936,
          13880.949,
          6610.1097,
          1980.07,
          8162.71625,
          3537.703,
          5002.7827,
          8520.026,
          7371.772,
          10355.641,
          2483.736,
          3392.9768,
          25081.76784,
          5012.471,
          10564.8845,
          5253.524,
          34779.615,
          19515.5416,
          11987.1682,
          2689.4954,
          24227.33724,
          7358.17565,
          9225.2564,
          7443.64305,
          14001.2867,
          1727.785,
          12333.828,
          6710.1919,
          19444.2658,
          1615.7667,
          4463.2051,
          17352.6803,
          7152.6714,
          38511.6283,
          5354.07465,
          35160.13457,
          7196.867,
          29523.1656,
          24476.47851,
          12648.7034,
          1986.9334,
          1832.094,
          4040.55825,
          12829.4551,
          47305.305,
          44260.7499,
          4260.744,
          41097.16175,
          13047.33235,
          43921.1837,
          5400.9805,
          11520.09985,
          33750.2918,
          11837.16,
          17085.2676,
          24869.8368,
          36219.40545,
          20462.99766,
          46151.1245,
          17179.522,
          14590.63205,
          7441.053,
          9282.4806,
          1719.4363,
          42856.838,
          7265.7025,
          9617.66245,
          2523.1695,
          9715.841,
          2803.69785,
          2150.469,
          12928.7911,
          9855.1314,
          22331.5668,
          48549.17835,
          4237.12655,
          11879.10405,
          9625.92,
          7742.1098,
          9432.9253,
          14256.1928,
          47896.79135,
          25992.82104,
          3172.018,
          20277.80751,
          42112.2356,
          2156.7518,
          3906.127,
          1704.5681,
          16297.846,
          21978.6769,
          38746.3551,
          9249.4952,
          6746.7425,
          24873.3849,
          12265.5069,
          4349.462,
          12646.207,
          19442.3535,
          20177.67113,
          4151.0287,
          11944.59435,
          7749.1564,
          8444.474,
          1737.376,
          42124.5153,
          8124.4084,
          34838.873,
          9722.7695,
          8835.26495,
          10435.06525,
          7421.19455,
          4667.60765,
          4894.7533,
          24671.66334,
          35491.64,
          11566.30055,
          2866.091,
          6600.20595,
          3561.8889,
          42760.5022,
          47928.03,
          9144.565,
          48517.56315,
          24393.6224,
          13429.0354,
          11658.37915,
          19144.57652,
          13822.803,
          12142.5786,
          13937.6665,
          41919.097,
          8232.6388,
          18955.22017,
          13352.0998,
          13217.0945,
          13981.85035,
          10977.2063,
          6184.2994,
          4889.9995,
          8334.45755,
          5478.0368,
          1635.73365,
          11830.6072,
          8932.084,
          3554.203,
          12404.8791,
          14133.03775,
          24603.04837,
          8944.1151,
          9620.3307,
          1837.2819,
          1607.5101,
          10043.249,
          4751.07,
          13844.506,
          2597.779,
          3180.5101,
          9778.3472,
          13430.265,
          8017.06115,
          8116.26885,
          3481.868,
          13415.0381,
          12029.2867,
          7639.41745,
          36085.219,
          1391.5287,
          18033.9679,
          21659.9301,
          38126.2465,
          16455.70785,
          27000.98473,
          15006.57945,
          42303.69215,
          20781.48892,
          5846.9176,
          8302.53565,
          1261.859,
          11856.4115,
          30284.64294,
          3176.8159,
          4618.0799,
          10736.87075,
          2138.0707,
          8964.06055,
          9290.1395,
          9411.005,
          7526.70645,
          8522.003,
          16586.49771,
          14988.432,
          1631.6683,
          9264.797,
          8083.9198,
          14692.66935,
          10269.46,
          3260.199,
          11396.9002,
          4185.0979,
          8539.671,
          6652.5288,
          4074.4537,
          1621.3402,
          19594.80965,
          14455.64405,
          5080.096,
          2134.9015,
          7345.7266,
          9140.951,
          18608.262,
          14418.2804,
          28950.4692,
          46889.2612,
          46599.1084,
          39125.33225,
          2727.3951,
          8968.33,
          9788.8659,
          6555.07035,
          7323.734819,
          3167.45585,
          18804.7524,
          23082.95533,
          4906.40965,
          5969.723,
          12638.195,
          4243.59005,
          13919.8229,
          2254.7967,
          5926.846,
          12592.5345,
          2897.3235,
          4738.2682,
          37079.372,
          1149.3959,
          28287.89766,
          26109.32905,
          7345.084,
          12730.9996,
          11454.0215,
          5910.944,
          4762.329,
          7512.267,
          4032.2407,
          1969.614,
          1769.53165,
          4686.3887,
          21797.0004,
          11881.9696,
          11840.77505,
          10601.412,
          7682.67,
          10381.4787,
          22144.032,
          15230.32405,
          11165.41765,
          1632.03625,
          19521.9682,
          13224.693,
          12643.3778,
          23288.9284,
          2201.0971,
          2497.0383,
          2203.47185,
          1744.465,
          20878.78443,
          25382.297,
          28868.6639,
          35147.52848,
          2534.39375,
          1534.3045,
          1824.2854,
          15555.18875,
          9304.7019,
          1622.1885,
          9880.068,
          9563.029,
          4347.02335,
          12475.3513,
          1253.936,
          48885.13561,
          10461.9794,
          1748.774,
          24513.09126,
          2196.4732,
          12574.049,
          17942.106,
          1967.0227,
          4931.647,
          8027.968,
          8211.1002,
          13470.86,
          36197.699,
          6837.3687,
          22218.1149,
          32548.3405,
          5974.3847,
          6796.86325,
          2643.2685,
          3077.0955,
          3044.2133,
          11455.28,
          11763.0009,
          2498.4144,
          9361.3268,
          1256.299,
          21082.16,
          11362.755,
          27724.28875,
          8413.46305,
          5240.765,
          3857.75925,
          25656.57526,
          3994.1778,
          9866.30485,
          5397.6167,
          38245.59327,
          11482.63485,
          24059.68019,
          9861.025,
          8342.90875,
          1708.0014,
          48675.5177,
          14043.4767,
          12925.886,
          19214.70553,
          13831.1152,
          6067.12675,
          5972.378,
          8825.086,
          8233.0975,
          27346.04207,
          6196.448,
          3056.3881,
          13887.204,
          63770.42801,
          10231.4999,
          23807.2406,
          3268.84665,
          11538.421,
          3213.62205,
          45863.205,
          13390.559,
          3972.9247,
          12957.118,
          11187.6567,
          17878.90068,
          3847.674,
          8334.5896,
          3935.1799,
          39983.42595,
          1646.4297,
          9193.8385,
          10923.9332,
          2494.022,
          9058.7303,
          2801.2588,
          2128.43105,
          6373.55735,
          7256.7231,
          11552.904,
          45702.02235,
          3761.292,
          2219.4451,
          4753.6368,
          31620.00106,
          13224.05705,
          12222.8983,
          1664.9996,
          58571.07448,
          9724.53,
          3206.49135,
          12913.9924,
          1639.5631,
          6356.2707,
          17626.23951,
          1242.816,
          4779.6023,
          3861.20965,
          43943.8761,
          13635.6379,
          5976.8311,
          11842.442,
          8428.0693,
          2566.4707,
          15359.1045,
          5709.1644,
          8823.98575,
          7640.3092,
          5594.8455,
          7441.501,
          33471.97189,
          1633.0444,
          9174.13565,
          11070.535,
          16085.1275,
          17468.9839,
          9283.562,
          3558.62025,
          25678.77845,
          4435.0942,
          39241.442,
          8547.6913,
          6571.544,
          2207.69745,
          6753.038,
          1880.07,
          42969.8527,
          11658.11505,
          23306.547,
          34439.8559,
          10713.644,
          3659.346,
          40182.246,
          9182.17,
          34617.84065,
          12129.61415,
          3736.4647,
          6748.5912,
          11326.71487,
          11365.952,
          42983.4585,
          10085.846,
          1977.815,
          3366.6697,
          7173.35995,
          9391.346,
          14410.9321,
          2709.1119,
          24915.04626,
          20149.3229,
          12949.1554,
          6666.243,
          32787.45859,
          13143.86485,
          4466.6214,
          18806.14547,
          10141.1362,
          6123.5688,
          8252.2843,
          1712.227,
          12430.95335,
          9800.8882,
          10579.711,
          8280.6227,
          8527.532,
          12244.531,
          24667.419,
          3410.324,
          4058.71245,
          26392.26029,
          14394.39815,
          6435.6237,
          22192.43711,
          5148.5526,
          1136.3994,
          27037.9141,
          42560.4304,
          8703.456,
          40003.33225,
          45710.20785,
          6500.2359,
          4837.5823,
          3943.5954,
          4399.731,
          6185.3208,
          46200.9851,
          7222.78625,
          12485.8009,
          46130.5265,
          12363.547,
          10156.7832,
          2585.269,
          1242.26,
          40103.89,
          9863.4718,
          4766.022,
          11244.3769,
          7729.64575,
          5438.7491,
          26236.57997,
          34806.4677,
          2104.1134,
          8068.185,
          2362.22905,
          2352.96845,
          3577.999,
          3201.24515,
          29186.48236,
          40273.6455,
          10976.24575,
          3500.6123,
          2020.5523,
          9541.69555,
          9504.3103,
          5385.3379,
          8930.93455,
          5375.038,
          44400.4064,
          10264.4421,
          6113.23105,
          5469.0066,
          1727.54,
          10107.2206,
          8310.83915,
          1984.4533,
          2457.502,
          12146.971,
          9566.9909,
          13112.6048,
          10848.1343,
          12231.6136,
          9875.6804,
          11264.541,
          12979.358,
          1263.249,
          10106.13425,
          40932.4295,
          6664.68595,
          16657.71745,
          2217.6012,
          6781.3542,
          19361.9988,
          10065.413,
          4234.927,
          9447.25035,
          14007.222,
          9583.8933,
          40419.0191,
          3484.331,
          36189.1017,
          44585.45587,
          8604.48365,
          18246.4955,
          43254.41795,
          3757.8448,
          8827.2099,
          9910.35985,
          11737.84884,
          1627.28245,
          8556.907,
          3062.50825,
          19539.243,
          1906.35825,
          14210.53595,
          11833.7823,
          17128.42608,
          5031.26955,
          7985.815,
          23065.4207,
          5428.7277,
          36307.7983,
          3925.7582,
          2416.955,
          19040.876,
          3070.8087,
          9095.06825,
          11842.62375,
          8062.764,
          7050.642,
          14319.031,
          6933.24225,
          27941.28758,
          11150.78,
          12797.20962,
          17748.5062,
          7261.741,
          10560.4917,
          6986.697,
          7448.40395,
          5934.3798,
          9869.8102,
          18259.216,
          1146.7966,
          9386.1613,
          24520.264,
          4350.5144,
          6414.178,
          12741.16745,
          1917.3184,
          5209.57885,
          13457.9608,
          5662.225,
          1252.407,
          2731.9122,
          21195.818,
          7209.4918,
          18310.742,
          4266.1658,
          4719.52405,
          11848.141,
          17904.52705,
          7046.7222,
          14313.8463,
          2103.08,
          38792.6856,
          1815.8759,
          7731.85785,
          28476.73499,
          2136.88225,
          1131.5066,
          3309.7926,
          9414.92,
          6360.9936,
          11013.7119,
          4428.88785,
          5584.3057,
          1877.9294,
          2842.76075,
          3597.596,
          23401.30575,
          55135.40209,
          7445.918,
          2680.9493,
          1621.8827,
          8219.2039,
          12523.6048,
          16069.08475,
          43813.8661,
          20773.62775,
          39597.4072,
          6117.4945,
          13393.756,
          5266.3656,
          4719.73655,
          11743.9341,
          5377.4578,
          7160.3303,
          4402.233,
          11657.7189,
          6402.29135,
          12622.1795,
          1526.312,
          12323.936,
          36021.0112,
          27533.9129,
          10072.05505,
          45008.9555,
          9872.701,
          2438.0552,
          2974.126,
          10601.63225,
          37270.1512,
          14119.62,
          42111.6647,
          11729.6795,
          24106.91255,
          1875.344,
          40974.1649,
          15817.9857,
          18218.16139,
          10965.446,
          46113.511,
          7151.092,
          12269.68865,
          5458.04645,
          8782.469,
          6600.361,
          1141.4451,
          11576.13,
          13129.60345,
          4391.652,
          8457.818,
          3392.3652,
          5966.8874,
          6849.026,
          8891.1395,
          2690.1138,
          26140.3603,
          6653.7886,
          6282.235,
          6311.952,
          3443.064,
          2789.0574,
          2585.85065,
          46255.1125,
          4877.98105,
          19719.6947,
          27218.43725,
          5272.1758,
          1682.597,
          11945.1327,
          29330.98315,
          7243.8136,
          10422.91665,
          44202.6536,
          13555.0049,
          13063.883,
          19798.05455,
          2221.56445,
          1634.5734,
          2117.33885,
          8688.85885,
          48673.5588,
          4661.28635,
          8125.7845,
          12644.589,
          4564.19145,
          4846.92015,
          7633.7206,
          15170.069,
          17496.306,
          2639.0429,
          33732.6867,
          14382.70905,
          7626.993,
          5257.50795,
          2473.3341,
          21774.32215,
          35069.37452,
          13041.921,
          5245.2269,
          13451.122,
          13462.52,
          5488.262,
          4320.41085,
          6250.435,
          25333.33284,
          2913.569,
          12032.326,
          13470.8044,
          6289.7549,
          2927.0647,
          6238.298,
          10096.97,
          7348.142,
          4673.3922,
          12233.828,
          32108.66282,
          8965.79575,
          2304.0022,
          9487.6442,
          1121.8739,
          9549.5651,
          2217.46915,
          1628.4709,
          12982.8747,
          11674.13,
          7160.094,
          39047.285,
          6358.77645,
          19933.458,
          11534.87265,
          47462.894,
          4527.18295,
          38998.546,
          20009.63365,
          3875.7341,
          41999.52,
          12609.88702,
          41034.2214,
          28468.91901,
          2730.10785,
          3353.284,
          14474.675,
          9500.57305,
          26467.09737,
          4746.344,
          23967.38305,
          7518.02535,
          3279.86855,
          8596.8278,
          10702.6424,
          4992.3764,
          2527.81865,
          1759.338,
          2322.6218,
          16138.76205,
          7804.1605,
          2902.9065,
          9704.66805,
          4889.0368,
          25517.11363,
          4500.33925,
          19199.944,
          16796.41194,
          4915.05985,
          7624.63,
          8410.04685,
          28340.18885,
          4518.82625,
          14571.8908,
          3378.91,
          7144.86265,
          10118.424,
          5484.4673,
          16420.49455,
          7986.47525,
          7418.522,
          13887.9685,
          6551.7501,
          5267.81815,
          17361.7661,
          34472.841,
          1972.95,
          21232.18226,
          8627.5411,
          4433.3877,
          4438.2634,
          24915.22085,
          23241.47453,
          9957.7216,
          8269.044,
          18767.7377,
          36580.28216,
          8765.249,
          5383.536,
          12124.9924,
          2709.24395,
          3987.926,
          12495.29085,
          26018.95052,
          8798.593,
          35595.5898,
          42211.1382,
          1711.0268,
          8569.8618,
          2020.177,
          16450.8947,
          21595.38229,
          9850.432,
          6877.9801,
          21677.28345,
          44423.803,
          4137.5227,
          13747.87235,
          12950.0712,
          12094.478,
          37484.4493,
          39725.51805,
          2250.8352,
          22493.65964,
          20234.85475,
          1704.70015,
          33475.81715,
          3161.454,
          11394.06555,
          21880.82,
          7325.0482,
          44501.3982,
          3594.17085,
          39727.614,
          8023.13545,
          14394.5579,
          9288.0267,
          25309.489,
          3353.4703,
          10594.50155,
          8277.523,
          17929.30337,
          2480.9791,
          4462.7218,
          1981.5819,
          11554.2236,
          48970.2476,
          6548.19505,
          5708.867,
          7045.499,
          8978.1851,
          5757.41345,
          14349.8544,
          10928.849,
          39871.7043,
          13974.45555,
          1909.52745,
          12096.6512,
          13204.28565,
          4562.8421,
          8551.347,
          2102.2647,
          34672.1472,
          15161.5344,
          11884.04858,
          4454.40265,
          5855.9025,
          4076.497,
          15019.76005,
          19023.26,
          10796.35025,
          11353.2276,
          9748.9106,
          10577.087,
          41676.0811,
          11286.5387,
          3591.48,
          33907.548,
          11299.343,
          4561.1885,
          44641.1974,
          1674.6323,
          23045.56616,
          3227.1211,
          16776.30405,
          11253.421,
          3471.4096,
          11363.2832,
          20420.60465,
          10338.9316,
          8988.15875,
          10493.9458,
          2904.088,
          8605.3615,
          11512.405,
          41949.2441,
          24180.9335,
          5312.16985,
          2396.0959,
          10807.4863,
          9222.4026,
          36124.5737,
          38282.7495,
          5693.4305,
          34166.273,
          8347.1643,
          46661.4424,
          18903.49141,
          40904.1995,
          14254.6082,
          10214.636,
          5836.5204,
          14358.36437,
          1728.897,
          8582.3023,
          3693.428,
          20709.02034,
          9991.03765,
          19673.33573,
          11085.5868,
          7623.518,
          3176.2877,
          3704.3545,
          36898.73308,
          9048.0273,
          7954.517,
          27117.99378,
          6338.0756,
          9630.397,
          11289.10925,
          52590.82939,
          2261.5688,
          10791.96,
          5979.731,
          2203.73595,
          12235.8392,
          40941.2854,
          5630.45785,
          11015.1747,
          7228.21565,
          39722.7462,
          14426.07385,
          2459.7201,
          3989.841,
          7727.2532,
          5124.1887,
          18963.17192,
          2200.83085,
          7153.5539,
          5227.98875,
          10982.5013,
          4529.477,
          4670.64,
          6112.35295,
          17178.6824,
          22478.6,
          11093.6229,
          6457.8434,
          4433.9159,
          2154.361,
          23887.6627,
          6496.886,
          2899.48935,
          19350.3689,
          7650.77375,
          2850.68375,
          2632.992,
          9447.3824,
          18328.2381,
          8603.8234,
          37465.34375,
          13844.7972,
          21771.3423,
          13126.67745,
          5327.40025,
          13725.47184,
          13019.16105,
          8671.19125,
          4134.08245,
          18838.70366,
          33307.5508,
          5699.8375,
          6393.60345,
          4934.705,
          6198.7518,
          8733.22925,
          2055.3249,
          9964.06,
          18223.4512,
          5116.5004,
          36910.60803,
          38415.474,
          20296.86345,
          12347.172,
          5373.36425,
          23563.01618,
          1702.4553,
          10806.839,
          3956.07145,
          12890.05765,
          5415.6612,
          4058.1161,
          41661.602,
          7537.1639,
          4718.20355,
          6593.5083,
          8442.667,
          26125.67477,
          6858.4796,
          4795.6568,
          6640.54485,
          7162.0122,
          10594.2257,
          11938.25595,
          60021.39897,
          20167.33603,
          12479.70895,
          11345.519,
          8515.7587,
          2699.56835,
          14449.8544,
          12224.35085,
          6985.50695,
          3238.4357,
          47269.854,
          49577.6624,
          4296.2712,
          3171.6149,
          1135.9407,
          5615.369,
          9101.798,
          6059.173,
          1633.9618,
          37607.5277,
          18648.4217,
          1241.565,
          16232.847,
          15828.82173,
          4415.1588,
          6474.013,
          11436.73815,
          11305.93455,
          30063.58055,
          10197.7722,
          4544.2348,
          3277.161,
          6770.1925,
          7337.748,
          10370.91255,
          26926.5144,
          10704.47,
          34254.05335,
          1880.487,
          8615.3,
          3292.52985,
          3021.80915,
          14478.33015,
          4747.0529,
          17043.3414,
          10959.33,
          2741.948,
          4357.04365,
          22462.04375,
          4189.1131,
          8283.6807,
          24535.69855,
          14283.4594,
          1720.3537,
          47403.88,
          8534.6718,
          3732.6251,
          5472.449,
          38344.566,
          7147.4728,
          7133.9025,
          34828.654,
          1515.3449,
          9301.89355,
          11931.12525,
          1964.78,
          1708.92575,
          4340.4409,
          5261.46945,
          2710.82855,
          62592.87309,
          46718.16325,
          3208.787,
          37829.7242,
          21259.37795,
          2464.6188,
          16115.3045,
          21472.4788,
          33900.653,
          6875.961,
          6940.90985,
          4571.41305,
          4536.259,
          36397.576,
          18765.87545,
          11272.33139,
          1731.677,
          1163.4627,
          19496.71917,
          7201.70085,
          5425.02335,
          28101.33305,
          12981.3457,
          43896.3763,
          4239.89265,
          13143.33665,
          7050.0213,
          9377.9047,
          22395.74424,
          10325.206,
          12629.1656,
          10795.93733,
          11411.685,
          10600.5483,
          2205.9808,
          1629.8335,
          2007.945,
          29141.3603
         ],
         "yaxis": "y"
        }
       ],
       "layout": {
        "barmode": "relative",
        "legend": {
         "tracegroupgap": 0
        },
        "margin": {
         "t": 60
        },
        "template": {
         "data": {
          "bar": [
           {
            "error_x": {
             "color": "#2a3f5f"
            },
            "error_y": {
             "color": "#2a3f5f"
            },
            "marker": {
             "line": {
              "color": "#E5ECF6",
              "width": 0.5
             },
             "pattern": {
              "fillmode": "overlay",
              "size": 10,
              "solidity": 0.2
             }
            },
            "type": "bar"
           }
          ],
          "barpolar": [
           {
            "marker": {
             "line": {
              "color": "#E5ECF6",
              "width": 0.5
             },
             "pattern": {
              "fillmode": "overlay",
              "size": 10,
              "solidity": 0.2
             }
            },
            "type": "barpolar"
           }
          ],
          "carpet": [
           {
            "aaxis": {
             "endlinecolor": "#2a3f5f",
             "gridcolor": "white",
             "linecolor": "white",
             "minorgridcolor": "white",
             "startlinecolor": "#2a3f5f"
            },
            "baxis": {
             "endlinecolor": "#2a3f5f",
             "gridcolor": "white",
             "linecolor": "white",
             "minorgridcolor": "white",
             "startlinecolor": "#2a3f5f"
            },
            "type": "carpet"
           }
          ],
          "choropleth": [
           {
            "colorbar": {
             "outlinewidth": 0,
             "ticks": ""
            },
            "type": "choropleth"
           }
          ],
          "contour": [
           {
            "colorbar": {
             "outlinewidth": 0,
             "ticks": ""
            },
            "colorscale": [
             [
              0,
              "#0d0887"
             ],
             [
              0.1111111111111111,
              "#46039f"
             ],
             [
              0.2222222222222222,
              "#7201a8"
             ],
             [
              0.3333333333333333,
              "#9c179e"
             ],
             [
              0.4444444444444444,
              "#bd3786"
             ],
             [
              0.5555555555555556,
              "#d8576b"
             ],
             [
              0.6666666666666666,
              "#ed7953"
             ],
             [
              0.7777777777777778,
              "#fb9f3a"
             ],
             [
              0.8888888888888888,
              "#fdca26"
             ],
             [
              1,
              "#f0f921"
             ]
            ],
            "type": "contour"
           }
          ],
          "contourcarpet": [
           {
            "colorbar": {
             "outlinewidth": 0,
             "ticks": ""
            },
            "type": "contourcarpet"
           }
          ],
          "heatmap": [
           {
            "colorbar": {
             "outlinewidth": 0,
             "ticks": ""
            },
            "colorscale": [
             [
              0,
              "#0d0887"
             ],
             [
              0.1111111111111111,
              "#46039f"
             ],
             [
              0.2222222222222222,
              "#7201a8"
             ],
             [
              0.3333333333333333,
              "#9c179e"
             ],
             [
              0.4444444444444444,
              "#bd3786"
             ],
             [
              0.5555555555555556,
              "#d8576b"
             ],
             [
              0.6666666666666666,
              "#ed7953"
             ],
             [
              0.7777777777777778,
              "#fb9f3a"
             ],
             [
              0.8888888888888888,
              "#fdca26"
             ],
             [
              1,
              "#f0f921"
             ]
            ],
            "type": "heatmap"
           }
          ],
          "heatmapgl": [
           {
            "colorbar": {
             "outlinewidth": 0,
             "ticks": ""
            },
            "colorscale": [
             [
              0,
              "#0d0887"
             ],
             [
              0.1111111111111111,
              "#46039f"
             ],
             [
              0.2222222222222222,
              "#7201a8"
             ],
             [
              0.3333333333333333,
              "#9c179e"
             ],
             [
              0.4444444444444444,
              "#bd3786"
             ],
             [
              0.5555555555555556,
              "#d8576b"
             ],
             [
              0.6666666666666666,
              "#ed7953"
             ],
             [
              0.7777777777777778,
              "#fb9f3a"
             ],
             [
              0.8888888888888888,
              "#fdca26"
             ],
             [
              1,
              "#f0f921"
             ]
            ],
            "type": "heatmapgl"
           }
          ],
          "histogram": [
           {
            "marker": {
             "pattern": {
              "fillmode": "overlay",
              "size": 10,
              "solidity": 0.2
             }
            },
            "type": "histogram"
           }
          ],
          "histogram2d": [
           {
            "colorbar": {
             "outlinewidth": 0,
             "ticks": ""
            },
            "colorscale": [
             [
              0,
              "#0d0887"
             ],
             [
              0.1111111111111111,
              "#46039f"
             ],
             [
              0.2222222222222222,
              "#7201a8"
             ],
             [
              0.3333333333333333,
              "#9c179e"
             ],
             [
              0.4444444444444444,
              "#bd3786"
             ],
             [
              0.5555555555555556,
              "#d8576b"
             ],
             [
              0.6666666666666666,
              "#ed7953"
             ],
             [
              0.7777777777777778,
              "#fb9f3a"
             ],
             [
              0.8888888888888888,
              "#fdca26"
             ],
             [
              1,
              "#f0f921"
             ]
            ],
            "type": "histogram2d"
           }
          ],
          "histogram2dcontour": [
           {
            "colorbar": {
             "outlinewidth": 0,
             "ticks": ""
            },
            "colorscale": [
             [
              0,
              "#0d0887"
             ],
             [
              0.1111111111111111,
              "#46039f"
             ],
             [
              0.2222222222222222,
              "#7201a8"
             ],
             [
              0.3333333333333333,
              "#9c179e"
             ],
             [
              0.4444444444444444,
              "#bd3786"
             ],
             [
              0.5555555555555556,
              "#d8576b"
             ],
             [
              0.6666666666666666,
              "#ed7953"
             ],
             [
              0.7777777777777778,
              "#fb9f3a"
             ],
             [
              0.8888888888888888,
              "#fdca26"
             ],
             [
              1,
              "#f0f921"
             ]
            ],
            "type": "histogram2dcontour"
           }
          ],
          "mesh3d": [
           {
            "colorbar": {
             "outlinewidth": 0,
             "ticks": ""
            },
            "type": "mesh3d"
           }
          ],
          "parcoords": [
           {
            "line": {
             "colorbar": {
              "outlinewidth": 0,
              "ticks": ""
             }
            },
            "type": "parcoords"
           }
          ],
          "pie": [
           {
            "automargin": true,
            "type": "pie"
           }
          ],
          "scatter": [
           {
            "fillpattern": {
             "fillmode": "overlay",
             "size": 10,
             "solidity": 0.2
            },
            "type": "scatter"
           }
          ],
          "scatter3d": [
           {
            "line": {
             "colorbar": {
              "outlinewidth": 0,
              "ticks": ""
             }
            },
            "marker": {
             "colorbar": {
              "outlinewidth": 0,
              "ticks": ""
             }
            },
            "type": "scatter3d"
           }
          ],
          "scattercarpet": [
           {
            "marker": {
             "colorbar": {
              "outlinewidth": 0,
              "ticks": ""
             }
            },
            "type": "scattercarpet"
           }
          ],
          "scattergeo": [
           {
            "marker": {
             "colorbar": {
              "outlinewidth": 0,
              "ticks": ""
             }
            },
            "type": "scattergeo"
           }
          ],
          "scattergl": [
           {
            "marker": {
             "colorbar": {
              "outlinewidth": 0,
              "ticks": ""
             }
            },
            "type": "scattergl"
           }
          ],
          "scattermapbox": [
           {
            "marker": {
             "colorbar": {
              "outlinewidth": 0,
              "ticks": ""
             }
            },
            "type": "scattermapbox"
           }
          ],
          "scatterpolar": [
           {
            "marker": {
             "colorbar": {
              "outlinewidth": 0,
              "ticks": ""
             }
            },
            "type": "scatterpolar"
           }
          ],
          "scatterpolargl": [
           {
            "marker": {
             "colorbar": {
              "outlinewidth": 0,
              "ticks": ""
             }
            },
            "type": "scatterpolargl"
           }
          ],
          "scatterternary": [
           {
            "marker": {
             "colorbar": {
              "outlinewidth": 0,
              "ticks": ""
             }
            },
            "type": "scatterternary"
           }
          ],
          "surface": [
           {
            "colorbar": {
             "outlinewidth": 0,
             "ticks": ""
            },
            "colorscale": [
             [
              0,
              "#0d0887"
             ],
             [
              0.1111111111111111,
              "#46039f"
             ],
             [
              0.2222222222222222,
              "#7201a8"
             ],
             [
              0.3333333333333333,
              "#9c179e"
             ],
             [
              0.4444444444444444,
              "#bd3786"
             ],
             [
              0.5555555555555556,
              "#d8576b"
             ],
             [
              0.6666666666666666,
              "#ed7953"
             ],
             [
              0.7777777777777778,
              "#fb9f3a"
             ],
             [
              0.8888888888888888,
              "#fdca26"
             ],
             [
              1,
              "#f0f921"
             ]
            ],
            "type": "surface"
           }
          ],
          "table": [
           {
            "cells": {
             "fill": {
              "color": "#EBF0F8"
             },
             "line": {
              "color": "white"
             }
            },
            "header": {
             "fill": {
              "color": "#C8D4E3"
             },
             "line": {
              "color": "white"
             }
            },
            "type": "table"
           }
          ]
         },
         "layout": {
          "annotationdefaults": {
           "arrowcolor": "#2a3f5f",
           "arrowhead": 0,
           "arrowwidth": 1
          },
          "autotypenumbers": "strict",
          "coloraxis": {
           "colorbar": {
            "outlinewidth": 0,
            "ticks": ""
           }
          },
          "colorscale": {
           "diverging": [
            [
             0,
             "#8e0152"
            ],
            [
             0.1,
             "#c51b7d"
            ],
            [
             0.2,
             "#de77ae"
            ],
            [
             0.3,
             "#f1b6da"
            ],
            [
             0.4,
             "#fde0ef"
            ],
            [
             0.5,
             "#f7f7f7"
            ],
            [
             0.6,
             "#e6f5d0"
            ],
            [
             0.7,
             "#b8e186"
            ],
            [
             0.8,
             "#7fbc41"
            ],
            [
             0.9,
             "#4d9221"
            ],
            [
             1,
             "#276419"
            ]
           ],
           "sequential": [
            [
             0,
             "#0d0887"
            ],
            [
             0.1111111111111111,
             "#46039f"
            ],
            [
             0.2222222222222222,
             "#7201a8"
            ],
            [
             0.3333333333333333,
             "#9c179e"
            ],
            [
             0.4444444444444444,
             "#bd3786"
            ],
            [
             0.5555555555555556,
             "#d8576b"
            ],
            [
             0.6666666666666666,
             "#ed7953"
            ],
            [
             0.7777777777777778,
             "#fb9f3a"
            ],
            [
             0.8888888888888888,
             "#fdca26"
            ],
            [
             1,
             "#f0f921"
            ]
           ],
           "sequentialminus": [
            [
             0,
             "#0d0887"
            ],
            [
             0.1111111111111111,
             "#46039f"
            ],
            [
             0.2222222222222222,
             "#7201a8"
            ],
            [
             0.3333333333333333,
             "#9c179e"
            ],
            [
             0.4444444444444444,
             "#bd3786"
            ],
            [
             0.5555555555555556,
             "#d8576b"
            ],
            [
             0.6666666666666666,
             "#ed7953"
            ],
            [
             0.7777777777777778,
             "#fb9f3a"
            ],
            [
             0.8888888888888888,
             "#fdca26"
            ],
            [
             1,
             "#f0f921"
            ]
           ]
          },
          "colorway": [
           "#636efa",
           "#EF553B",
           "#00cc96",
           "#ab63fa",
           "#FFA15A",
           "#19d3f3",
           "#FF6692",
           "#B6E880",
           "#FF97FF",
           "#FECB52"
          ],
          "font": {
           "color": "#2a3f5f"
          },
          "geo": {
           "bgcolor": "white",
           "lakecolor": "white",
           "landcolor": "#E5ECF6",
           "showlakes": true,
           "showland": true,
           "subunitcolor": "white"
          },
          "hoverlabel": {
           "align": "left"
          },
          "hovermode": "closest",
          "mapbox": {
           "style": "light"
          },
          "paper_bgcolor": "white",
          "plot_bgcolor": "#E5ECF6",
          "polar": {
           "angularaxis": {
            "gridcolor": "white",
            "linecolor": "white",
            "ticks": ""
           },
           "bgcolor": "#E5ECF6",
           "radialaxis": {
            "gridcolor": "white",
            "linecolor": "white",
            "ticks": ""
           }
          },
          "scene": {
           "xaxis": {
            "backgroundcolor": "#E5ECF6",
            "gridcolor": "white",
            "gridwidth": 2,
            "linecolor": "white",
            "showbackground": true,
            "ticks": "",
            "zerolinecolor": "white"
           },
           "yaxis": {
            "backgroundcolor": "#E5ECF6",
            "gridcolor": "white",
            "gridwidth": 2,
            "linecolor": "white",
            "showbackground": true,
            "ticks": "",
            "zerolinecolor": "white"
           },
           "zaxis": {
            "backgroundcolor": "#E5ECF6",
            "gridcolor": "white",
            "gridwidth": 2,
            "linecolor": "white",
            "showbackground": true,
            "ticks": "",
            "zerolinecolor": "white"
           }
          },
          "shapedefaults": {
           "line": {
            "color": "#2a3f5f"
           }
          },
          "ternary": {
           "aaxis": {
            "gridcolor": "white",
            "linecolor": "white",
            "ticks": ""
           },
           "baxis": {
            "gridcolor": "white",
            "linecolor": "white",
            "ticks": ""
           },
           "bgcolor": "#E5ECF6",
           "caxis": {
            "gridcolor": "white",
            "linecolor": "white",
            "ticks": ""
           }
          },
          "title": {
           "x": 0.05
          },
          "xaxis": {
           "automargin": true,
           "gridcolor": "white",
           "linecolor": "white",
           "ticks": "",
           "title": {
            "standoff": 15
           },
           "zerolinecolor": "white",
           "zerolinewidth": 2
          },
          "yaxis": {
           "automargin": true,
           "gridcolor": "white",
           "linecolor": "white",
           "ticks": "",
           "title": {
            "standoff": 15
           },
           "zerolinecolor": "white",
           "zerolinewidth": 2
          }
         }
        },
        "xaxis": {
         "anchor": "y",
         "domain": [
          0,
          1
         ],
         "title": {
          "text": "sex"
         }
        },
        "yaxis": {
         "anchor": "x",
         "domain": [
          0,
          1
         ],
         "title": {
          "text": "avg of charges"
         }
        }
       }
      }
     },
     "metadata": {},
     "output_type": "display_data"
    }
   ],
   "source": [
    "fig = px.histogram(df, y=\"charges\",x='sex', histfunc='avg')\n",
    "fig.show()"
   ]
  },
  {
   "cell_type": "code",
   "execution_count": 16,
   "metadata": {},
   "outputs": [
    {
     "data": {
      "application/vnd.plotly.v1+json": {
       "config": {
        "plotlyServerURL": "https://plot.ly"
       },
       "data": [
        {
         "alignmentgroup": "True",
         "bingroup": "x",
         "histfunc": "avg",
         "hovertemplate": "region=%{x}<br>avg of charges=%{y}<extra></extra>",
         "legendgroup": "",
         "marker": {
          "color": "#636efa",
          "pattern": {
           "shape": ""
          }
         },
         "name": "",
         "offsetgroup": "",
         "orientation": "v",
         "showlegend": false,
         "type": "histogram",
         "x": [
          "southwest",
          "southeast",
          "southeast",
          "northwest",
          "northwest",
          "southeast",
          "southeast",
          "northwest",
          "northeast",
          "northwest",
          "northeast",
          "southeast",
          "southwest",
          "southeast",
          "southeast",
          "southwest",
          "northeast",
          "northeast",
          "southwest",
          "southwest",
          "northeast",
          "southwest",
          "southeast",
          "northeast",
          "northwest",
          "southeast",
          "northeast",
          "northwest",
          "northwest",
          "southwest",
          "southwest",
          "northeast",
          "southwest",
          "northwest",
          "southwest",
          "northwest",
          "northwest",
          "southwest",
          "northeast",
          "southwest",
          "northeast",
          "southeast",
          "southeast",
          "southeast",
          "northeast",
          "southwest",
          "northeast",
          "northwest",
          "southeast",
          "southeast",
          "northeast",
          "northwest",
          "southwest",
          "southeast",
          "northwest",
          "northwest",
          "northeast",
          "southeast",
          "southeast",
          "northwest",
          "northeast",
          "southeast",
          "northwest",
          "northwest",
          "northwest",
          "southwest",
          "southwest",
          "northwest",
          "southeast",
          "southeast",
          "southeast",
          "northeast",
          "southwest",
          "southeast",
          "southwest",
          "northwest",
          "southeast",
          "southeast",
          "northeast",
          "northwest",
          "northeast",
          "northeast",
          "southeast",
          "northwest",
          "southwest",
          "northwest",
          "northwest",
          "southwest",
          "northwest",
          "northwest",
          "southeast",
          "northwest",
          "northeast",
          "northwest",
          "southwest",
          "southeast",
          "southwest",
          "southeast",
          "northeast",
          "southwest",
          "southwest",
          "northeast",
          "northeast",
          "southeast",
          "southwest",
          "northwest",
          "southwest",
          "northwest",
          "southeast",
          "southeast",
          "northwest",
          "southwest",
          "southwest",
          "northwest",
          "northeast",
          "northeast",
          "southeast",
          "southeast",
          "southeast",
          "northwest",
          "southwest",
          "northeast",
          "northwest",
          "northeast",
          "northwest",
          "northeast",
          "southwest",
          "southwest",
          "northwest",
          "southwest",
          "northeast",
          "northeast",
          "southwest",
          "northwest",
          "northeast",
          "southeast",
          "southwest",
          "northwest",
          "southeast",
          "southwest",
          "northeast",
          "northeast",
          "southeast",
          "northwest",
          "northwest",
          "southeast",
          "northwest",
          "southeast",
          "northwest",
          "southwest",
          "northwest",
          "southeast",
          "northeast",
          "northeast",
          "northeast",
          "northwest",
          "southeast",
          "northeast",
          "southeast",
          "southeast",
          "northwest",
          "southeast",
          "southwest",
          "southwest",
          "northwest",
          "northeast",
          "southwest",
          "northwest",
          "northwest",
          "northeast",
          "southeast",
          "southwest",
          "northeast",
          "southwest",
          "northwest",
          "southwest",
          "northwest",
          "southwest",
          "southwest",
          "northeast",
          "northwest",
          "southeast",
          "northeast",
          "northwest",
          "southeast",
          "northeast",
          "southeast",
          "southwest",
          "southwest",
          "northwest",
          "southeast",
          "southwest",
          "southeast",
          "northwest",
          "southeast",
          "northwest",
          "southwest",
          "southeast",
          "northwest",
          "northeast",
          "northwest",
          "southeast",
          "northwest",
          "southeast",
          "southwest",
          "northeast",
          "southeast",
          "northeast",
          "southwest",
          "northeast",
          "southwest",
          "northwest",
          "northwest",
          "southeast",
          "southwest",
          "southwest",
          "northwest",
          "southeast",
          "southeast",
          "southeast",
          "southwest",
          "northeast",
          "southwest",
          "southwest",
          "southeast",
          "southeast",
          "southeast",
          "southeast",
          "northeast",
          "northeast",
          "northwest",
          "southeast",
          "southwest",
          "southwest",
          "northwest",
          "southeast",
          "southeast",
          "southeast",
          "northwest",
          "southeast",
          "northeast",
          "northeast",
          "southwest",
          "southwest",
          "northeast",
          "northwest",
          "southeast",
          "southeast",
          "southwest",
          "northeast",
          "northeast",
          "southwest",
          "southeast",
          "southwest",
          "northeast",
          "northeast",
          "northwest",
          "southeast",
          "northwest",
          "northwest",
          "southwest",
          "southeast",
          "northeast",
          "northwest",
          "southeast",
          "southeast",
          "southeast",
          "northeast",
          "southwest",
          "northeast",
          "southeast",
          "southwest",
          "northwest",
          "northeast",
          "northwest",
          "northeast",
          "northwest",
          "southwest",
          "southeast",
          "southeast",
          "northeast",
          "northeast",
          "northeast",
          "northeast",
          "southwest",
          "southeast",
          "northeast",
          "northwest",
          "northeast",
          "southeast",
          "southwest",
          "northeast",
          "southeast",
          "southeast",
          "southwest",
          "northeast",
          "southwest",
          "southeast",
          "northwest",
          "northwest",
          "northeast",
          "northeast",
          "southeast",
          "southeast",
          "southwest",
          "northwest",
          "southwest",
          "southeast",
          "northeast",
          "northwest",
          "southwest",
          "southwest",
          "southeast",
          "southeast",
          "southwest",
          "northeast",
          "northwest",
          "northeast",
          "northwest",
          "northeast",
          "northwest",
          "northeast",
          "southwest",
          "northeast",
          "southwest",
          "northeast",
          "southeast",
          "northwest",
          "southwest",
          "southwest",
          "northeast",
          "northwest",
          "northwest",
          "northeast",
          "northeast",
          "southwest",
          "southeast",
          "northwest",
          "northeast",
          "southeast",
          "southwest",
          "northwest",
          "northeast",
          "northeast",
          "southeast",
          "southeast",
          "southeast",
          "northeast",
          "southeast",
          "northwest",
          "northwest",
          "southwest",
          "southwest",
          "northeast",
          "southeast",
          "southwest",
          "southeast",
          "northwest",
          "southeast",
          "southeast",
          "northeast",
          "southwest",
          "southwest",
          "southwest",
          "southeast",
          "northeast",
          "northeast",
          "northwest",
          "northwest",
          "northeast",
          "northwest",
          "northeast",
          "northeast",
          "southwest",
          "southeast",
          "northwest",
          "northeast",
          "southeast",
          "northwest",
          "southeast",
          "northeast",
          "northeast",
          "southeast",
          "southeast",
          "northeast",
          "southwest",
          "southeast",
          "northwest",
          "northwest",
          "northwest",
          "northeast",
          "northwest",
          "northeast",
          "northeast",
          "northeast",
          "northwest",
          "southwest",
          "southeast",
          "southwest",
          "southeast",
          "southwest",
          "southeast",
          "northwest",
          "northwest",
          "southwest",
          "northeast",
          "southeast",
          "southwest",
          "southeast",
          "southeast",
          "northwest",
          "northeast",
          "northeast",
          "southwest",
          "northwest",
          "southeast",
          "southeast",
          "southwest",
          "southeast",
          "northwest",
          "southeast",
          "southeast",
          "northeast",
          "northeast",
          "southwest",
          "southeast",
          "northeast",
          "northeast",
          "northeast",
          "northwest",
          "southwest",
          "northwest",
          "southwest",
          "southwest",
          "northwest",
          "southeast",
          "northeast",
          "southwest",
          "southeast",
          "northeast",
          "northwest",
          "southwest",
          "southeast",
          "southeast",
          "northwest",
          "southwest",
          "northeast",
          "northwest",
          "southwest",
          "southwest",
          "southwest",
          "northwest",
          "southwest",
          "northwest",
          "southeast",
          "southwest",
          "southeast",
          "northwest",
          "southwest",
          "southeast",
          "southeast",
          "southwest",
          "northeast",
          "northeast",
          "northwest",
          "southeast",
          "southwest",
          "northwest",
          "northeast",
          "southeast",
          "southeast",
          "northeast",
          "southwest",
          "northeast",
          "southwest",
          "northwest",
          "northeast",
          "northwest",
          "southeast",
          "southeast",
          "northwest",
          "southeast",
          "southeast",
          "southwest",
          "southwest",
          "northeast",
          "northwest",
          "southwest",
          "southeast",
          "northwest",
          "southwest",
          "southeast",
          "northeast",
          "southwest",
          "southwest",
          "northeast",
          "southwest",
          "southwest",
          "southeast",
          "southwest",
          "southwest",
          "northeast",
          "southeast",
          "southeast",
          "southeast",
          "northwest",
          "northwest",
          "northwest",
          "northeast",
          "southwest",
          "northeast",
          "southeast",
          "northeast",
          "southwest",
          "southwest",
          "southwest",
          "southeast",
          "northwest",
          "southwest",
          "northeast",
          "northeast",
          "southeast",
          "northeast",
          "southeast",
          "southeast",
          "southeast",
          "northwest",
          "southwest",
          "northeast",
          "northeast",
          "southeast",
          "northeast",
          "southeast",
          "southeast",
          "southeast",
          "northeast",
          "southwest",
          "southwest",
          "southeast",
          "southeast",
          "southwest",
          "southeast",
          "southeast",
          "southeast",
          "northwest",
          "northwest",
          "northeast",
          "southwest",
          "northeast",
          "southeast",
          "southwest",
          "southeast",
          "southwest",
          "northwest",
          "northeast",
          "southwest",
          "northeast",
          "southeast",
          "northwest",
          "northwest",
          "northwest",
          "northeast",
          "southwest",
          "southeast",
          "southeast",
          "northwest",
          "northwest",
          "northwest",
          "southwest",
          "northwest",
          "southwest",
          "southeast",
          "southeast",
          "northeast",
          "northeast",
          "northwest",
          "southeast",
          "northeast",
          "southwest",
          "northeast",
          "northeast",
          "northwest",
          "southeast",
          "southeast",
          "southwest",
          "southeast",
          "northeast",
          "northwest",
          "northeast",
          "southeast",
          "southwest",
          "northwest",
          "southeast",
          "northeast",
          "southeast",
          "northeast",
          "southeast",
          "northeast",
          "southwest",
          "northwest",
          "southeast",
          "northwest",
          "southwest",
          "southeast",
          "northwest",
          "southeast",
          "northeast",
          "northwest",
          "northeast",
          "southwest",
          "southeast",
          "southwest",
          "northeast",
          "northeast",
          "southeast",
          "southeast",
          "northeast",
          "southwest",
          "southeast",
          "southwest",
          "southwest",
          "southwest",
          "southwest",
          "northeast",
          "northwest",
          "northwest",
          "northeast",
          "southeast",
          "southwest",
          "northwest",
          "southwest",
          "southwest",
          "southeast",
          "northeast",
          "southwest",
          "northeast",
          "northwest",
          "northeast",
          "northeast",
          "southeast",
          "southwest",
          "northwest",
          "northeast",
          "northwest",
          "southeast",
          "northeast",
          "northwest",
          "northeast",
          "northeast",
          "northeast",
          "southeast",
          "southeast",
          "southeast",
          "southeast",
          "southeast",
          "southeast",
          "southwest",
          "northwest",
          "northeast",
          "northeast",
          "southeast",
          "southeast",
          "northeast",
          "southeast",
          "southeast",
          "southeast",
          "southwest",
          "northwest",
          "northeast",
          "southeast",
          "southeast",
          "northeast",
          "southeast",
          "southeast",
          "southeast",
          "northwest",
          "southeast",
          "northwest",
          "southwest",
          "northwest",
          "southwest",
          "southwest",
          "southwest",
          "northwest",
          "southwest",
          "northeast",
          "northeast",
          "southeast",
          "southwest",
          "southeast",
          "northeast",
          "southwest",
          "northwest",
          "northwest",
          "southwest",
          "northwest",
          "northeast",
          "southeast",
          "northwest",
          "southeast",
          "southeast",
          "northeast",
          "southeast",
          "northwest",
          "northwest",
          "southwest",
          "southeast",
          "northwest",
          "northeast",
          "northeast",
          "southeast",
          "southeast",
          "northwest",
          "northeast",
          "southwest",
          "southwest",
          "northwest",
          "northwest",
          "northwest",
          "northwest",
          "northeast",
          "southwest",
          "southwest",
          "southwest",
          "northeast",
          "southeast",
          "northwest",
          "northeast",
          "northeast",
          "southeast",
          "southeast",
          "southwest",
          "southwest",
          "northeast",
          "southwest",
          "northwest",
          "southeast",
          "southwest",
          "northeast",
          "southwest",
          "northeast",
          "southeast",
          "northeast",
          "southeast",
          "northwest",
          "northwest",
          "southwest",
          "northwest",
          "southwest",
          "northwest",
          "southeast",
          "northwest",
          "northwest",
          "southeast",
          "northeast",
          "northeast",
          "northeast",
          "southeast",
          "northeast",
          "southeast",
          "northeast",
          "southwest",
          "southwest",
          "northeast",
          "northeast",
          "northwest",
          "southwest",
          "southwest",
          "southwest",
          "northwest",
          "southwest",
          "southwest",
          "northeast",
          "northwest",
          "northwest",
          "southeast",
          "northwest",
          "northeast",
          "southeast",
          "northwest",
          "southwest",
          "southeast",
          "southeast",
          "southwest",
          "southeast",
          "southwest",
          "northeast",
          "northwest",
          "northeast",
          "southeast",
          "southeast",
          "southwest",
          "northeast",
          "southeast",
          "northwest",
          "northwest",
          "southeast",
          "northeast",
          "southwest",
          "northeast",
          "southeast",
          "southeast",
          "southwest",
          "southeast",
          "southeast",
          "northwest",
          "northwest",
          "northwest",
          "southeast",
          "northeast",
          "southwest",
          "northwest",
          "southeast",
          "northeast",
          "southeast",
          "southeast",
          "northwest",
          "southwest",
          "northeast",
          "northwest",
          "southwest",
          "northwest",
          "southeast",
          "southeast",
          "northwest",
          "northeast",
          "southeast",
          "northeast",
          "northeast",
          "northwest",
          "southwest",
          "northwest",
          "northwest",
          "northwest",
          "northwest",
          "southeast",
          "southwest",
          "northeast",
          "northeast",
          "northwest",
          "southwest",
          "northeast",
          "southeast",
          "southeast",
          "northeast",
          "southeast",
          "southwest",
          "southeast",
          "southwest",
          "northwest",
          "northeast",
          "northwest",
          "northeast",
          "northeast",
          "northeast",
          "southwest",
          "southeast",
          "northwest",
          "southeast",
          "southwest",
          "southwest",
          "southwest",
          "northwest",
          "northeast",
          "southwest",
          "southwest",
          "southeast",
          "southwest",
          "northeast",
          "southwest",
          "southwest",
          "southeast",
          "southeast",
          "southwest",
          "northeast",
          "northwest",
          "southwest",
          "southeast",
          "southwest",
          "southwest",
          "southwest",
          "northwest",
          "northeast",
          "northeast",
          "northwest",
          "southeast",
          "northeast",
          "northwest",
          "southwest",
          "northwest",
          "northwest",
          "southeast",
          "northeast",
          "southeast",
          "northeast",
          "southwest",
          "northeast",
          "northwest",
          "southeast",
          "northwest",
          "northeast",
          "southeast",
          "northeast",
          "southeast",
          "southwest",
          "northeast",
          "northeast",
          "southeast",
          "southwest",
          "southwest",
          "northwest",
          "northeast",
          "northwest",
          "southwest",
          "northwest",
          "southeast",
          "northwest",
          "northeast",
          "southwest",
          "southeast",
          "southwest",
          "southwest",
          "southwest",
          "northwest",
          "southwest",
          "northeast",
          "southwest",
          "southwest",
          "southeast",
          "southeast",
          "southeast",
          "southwest",
          "southwest",
          "southwest",
          "southeast",
          "southwest",
          "northeast",
          "northwest",
          "southeast",
          "southeast",
          "southeast",
          "southeast",
          "northeast",
          "northwest",
          "southeast",
          "southwest",
          "southwest",
          "northeast",
          "northwest",
          "southwest",
          "northeast",
          "southeast",
          "northwest",
          "southwest",
          "northwest",
          "southeast",
          "southeast",
          "northwest",
          "northeast",
          "northwest",
          "northwest",
          "southwest",
          "southeast",
          "northeast",
          "northwest",
          "southwest",
          "northwest",
          "northwest",
          "northeast",
          "southeast",
          "southeast",
          "northeast",
          "northwest",
          "southwest",
          "southeast",
          "northeast",
          "southeast",
          "southeast",
          "northeast",
          "southeast",
          "northeast",
          "northeast",
          "southwest",
          "northeast",
          "northeast",
          "southwest",
          "northwest",
          "northwest",
          "northeast",
          "northeast",
          "southwest",
          "northeast",
          "southwest",
          "southeast",
          "northwest",
          "northeast",
          "southwest",
          "southeast",
          "northeast",
          "northwest",
          "northwest",
          "southwest",
          "southwest",
          "southwest",
          "northeast",
          "northwest",
          "northeast",
          "northwest",
          "northeast",
          "northeast",
          "southwest",
          "southeast",
          "southeast",
          "northwest",
          "southwest",
          "northwest",
          "northwest",
          "southwest",
          "northwest",
          "northwest",
          "southwest",
          "southeast",
          "southeast",
          "southeast",
          "southeast",
          "southwest",
          "northwest",
          "northwest",
          "southwest",
          "northeast",
          "northwest",
          "southeast",
          "northeast",
          "northeast",
          "northwest",
          "southwest",
          "southeast",
          "northwest",
          "northeast",
          "northwest",
          "northwest",
          "northeast",
          "northeast",
          "southwest",
          "northeast",
          "northwest",
          "northeast",
          "southeast",
          "northwest",
          "southwest",
          "northwest",
          "northeast",
          "northeast",
          "southwest",
          "northwest",
          "northwest",
          "southwest",
          "southeast",
          "southeast",
          "northwest",
          "southeast",
          "southeast",
          "southeast",
          "northwest",
          "southwest",
          "southwest",
          "southeast",
          "northeast",
          "northwest",
          "southeast",
          "southeast",
          "northeast",
          "northwest",
          "northeast",
          "northeast",
          "southeast",
          "southwest",
          "northeast",
          "southeast",
          "southeast",
          "southeast",
          "northwest",
          "northwest",
          "southwest",
          "northwest",
          "southwest",
          "northeast",
          "northwest",
          "southeast",
          "southwest",
          "southeast",
          "northeast",
          "southwest",
          "northwest",
          "southwest",
          "northeast",
          "northeast",
          "southeast",
          "northeast",
          "southeast",
          "northeast",
          "southwest",
          "southeast",
          "southeast",
          "southwest",
          "southeast",
          "northwest",
          "northwest",
          "southwest",
          "southeast",
          "northeast",
          "southeast",
          "southeast",
          "northwest",
          "northeast",
          "southeast",
          "northeast",
          "southeast",
          "southeast",
          "northwest",
          "southwest",
          "southeast",
          "northwest",
          "northeast",
          "northeast",
          "northwest",
          "southwest",
          "southeast",
          "southwest",
          "southwest",
          "southeast",
          "southwest",
          "northeast",
          "northwest",
          "northwest",
          "northwest",
          "southwest",
          "northwest",
          "southeast",
          "northwest",
          "southeast",
          "southwest",
          "southeast",
          "southeast",
          "southwest",
          "northwest",
          "southwest",
          "northwest",
          "southwest",
          "southwest",
          "northeast",
          "northwest",
          "southeast",
          "northwest",
          "northwest",
          "northeast",
          "southeast",
          "northwest",
          "northeast",
          "southwest",
          "northwest",
          "southeast",
          "southeast",
          "northeast",
          "northwest",
          "northeast",
          "southeast",
          "southwest",
          "southwest",
          "northwest",
          "northeast",
          "southwest",
          "southeast",
          "northwest",
          "northwest",
          "southwest",
          "northwest",
          "southwest",
          "northeast",
          "southeast",
          "northeast",
          "northwest",
          "southwest",
          "northeast",
          "southeast",
          "northeast",
          "northwest",
          "northwest",
          "northeast",
          "southwest",
          "northwest",
          "northeast",
          "northeast",
          "northwest",
          "northwest",
          "northwest",
          "northwest",
          "southeast",
          "northwest",
          "southwest",
          "northwest",
          "northwest",
          "northwest",
          "northeast",
          "southeast",
          "northwest",
          "southwest",
          "southwest",
          "northeast",
          "southwest",
          "northwest",
          "southeast",
          "northeast",
          "southwest",
          "northwest",
          "northeast",
          "southeast",
          "southeast",
          "southwest",
          "northwest",
          "northeast",
          "southeast",
          "southeast",
          "southeast",
          "northeast",
          "southeast",
          "northeast",
          "southeast",
          "southeast",
          "northeast",
          "northwest",
          "southwest",
          "northwest",
          "southwest",
          "southeast",
          "northwest",
          "northeast",
          "northwest",
          "northeast",
          "southeast",
          "southeast",
          "southeast",
          "northwest",
          "southeast",
          "southeast",
          "southwest",
          "southwest",
          "southwest",
          "southeast",
          "northeast",
          "northeast",
          "southwest",
          "southwest",
          "southwest",
          "southeast",
          "southwest",
          "northwest",
          "northwest",
          "northwest",
          "northeast",
          "northeast",
          "southwest",
          "southeast",
          "southwest",
          "northeast",
          "southeast",
          "southwest",
          "northeast",
          "southwest",
          "southwest",
          "northwest",
          "northwest",
          "southeast",
          "southeast",
          "southeast",
          "southwest",
          "northeast",
          "northwest",
          "northeast",
          "northwest",
          "southeast",
          "northwest",
          "northeast",
          "southeast",
          "southwest",
          "northeast",
          "northeast",
          "southwest",
          "southwest",
          "southeast",
          "northeast",
          "southwest",
          "southeast",
          "northwest",
          "northeast",
          "southwest",
          "northeast",
          "southeast",
          "northwest",
          "northwest",
          "southeast",
          "northwest",
          "southwest",
          "southwest",
          "northeast",
          "southeast",
          "northeast",
          "northwest",
          "southwest",
          "southwest",
          "northwest",
          "northwest",
          "southwest",
          "southwest",
          "northwest",
          "northeast",
          "southwest",
          "southeast",
          "northeast",
          "northwest",
          "northwest",
          "northeast",
          "southeast",
          "southeast",
          "northwest",
          "northeast",
          "northeast",
          "southeast",
          "northeast",
          "southwest",
          "southeast",
          "southwest",
          "southwest",
          "northwest",
          "northeast",
          "southeast",
          "southwest",
          "northwest"
         ],
         "xaxis": "x",
         "y": [
          16884.924,
          1725.5523,
          4449.462,
          21984.47061,
          3866.8552,
          3756.6216,
          8240.5896,
          7281.5056,
          6406.4107,
          28923.13692,
          2721.3208,
          27808.7251,
          1826.843,
          11090.7178,
          39611.7577,
          1837.237,
          10797.3362,
          2395.17155,
          10602.385,
          36837.467,
          13228.84695,
          4149.736,
          1137.011,
          37701.8768,
          6203.90175,
          14001.1338,
          14451.83515,
          12268.63225,
          2775.19215,
          38711,
          35585.576,
          2198.18985,
          4687.797,
          13770.0979,
          51194.55914,
          1625.43375,
          15612.19335,
          2302.3,
          39774.2763,
          48173.361,
          3046.062,
          4949.7587,
          6272.4772,
          6313.759,
          6079.6715,
          20630.28351,
          3393.35635,
          3556.9223,
          12629.8967,
          38709.176,
          2211.13075,
          3579.8287,
          23568.272,
          37742.5757,
          8059.6791,
          47496.49445,
          13607.36875,
          34303.1672,
          23244.7902,
          5989.52365,
          8606.2174,
          4504.6624,
          30166.61817,
          4133.64165,
          14711.7438,
          1743.214,
          14235.072,
          6389.37785,
          5920.1041,
          17663.1442,
          16577.7795,
          6799.458,
          11741.726,
          11946.6259,
          7726.854,
          11356.6609,
          3947.4131,
          1532.4697,
          2755.02095,
          6571.02435,
          4441.21315,
          7935.29115,
          37165.1638,
          11033.6617,
          39836.519,
          21098.55405,
          43578.9394,
          11073.176,
          8026.6666,
          11082.5772,
          2026.9741,
          10942.13205,
          30184.9367,
          5729.0053,
          47291.055,
          3766.8838,
          12105.32,
          10226.2842,
          22412.6485,
          15820.699,
          6186.127,
          3645.0894,
          21344.8467,
          30942.1918,
          5003.853,
          17560.37975,
          2331.519,
          3877.30425,
          2867.1196,
          47055.5321,
          10825.2537,
          11881.358,
          4646.759,
          2404.7338,
          11488.31695,
          30259.99556,
          11381.3254,
          19107.7796,
          8601.3293,
          6686.4313,
          7740.337,
          1705.6245,
          2257.47525,
          39556.4945,
          10115.00885,
          3385.39915,
          17081.08,
          9634.538,
          32734.1863,
          6082.405,
          12815.44495,
          13616.3586,
          11163.568,
          1632.56445,
          2457.21115,
          2155.6815,
          1261.442,
          2045.68525,
          27322.73386,
          2166.732,
          27375.90478,
          3490.5491,
          18972.495,
          18157.876,
          20745.9891,
          5138.2567,
          40720.55105,
          9877.6077,
          10959.6947,
          1842.519,
          5125.2157,
          7789.635,
          6334.34355,
          19964.7463,
          7077.1894,
          6948.7008,
          21223.6758,
          15518.18025,
          36950.2567,
          19749.38338,
          21348.706,
          36149.4835,
          10450.552,
          5152.134,
          5028.1466,
          10407.08585,
          4830.63,
          6128.79745,
          2719.27975,
          4827.90495,
          13405.3903,
          8116.68,
          1694.7964,
          5246.047,
          2855.43755,
          48824.45,
          6455.86265,
          10436.096,
          8823.279,
          8538.28845,
          11735.87905,
          1631.8212,
          4005.4225,
          7419.4779,
          7731.4271,
          43753.33705,
          3981.9768,
          5325.651,
          6775.961,
          4922.9159,
          12557.6053,
          4883.866,
          2137.6536,
          12044.342,
          1137.4697,
          1639.5631,
          5649.715,
          8516.829,
          9644.2525,
          14901.5167,
          2130.6759,
          8871.1517,
          13012.20865,
          37133.8982,
          7147.105,
          4337.7352,
          11743.299,
          20984.0936,
          13880.949,
          6610.1097,
          1980.07,
          8162.71625,
          3537.703,
          5002.7827,
          8520.026,
          7371.772,
          10355.641,
          2483.736,
          3392.9768,
          25081.76784,
          5012.471,
          10564.8845,
          5253.524,
          34779.615,
          19515.5416,
          11987.1682,
          2689.4954,
          24227.33724,
          7358.17565,
          9225.2564,
          7443.64305,
          14001.2867,
          1727.785,
          12333.828,
          6710.1919,
          19444.2658,
          1615.7667,
          4463.2051,
          17352.6803,
          7152.6714,
          38511.6283,
          5354.07465,
          35160.13457,
          7196.867,
          29523.1656,
          24476.47851,
          12648.7034,
          1986.9334,
          1832.094,
          4040.55825,
          12829.4551,
          47305.305,
          44260.7499,
          4260.744,
          41097.16175,
          13047.33235,
          43921.1837,
          5400.9805,
          11520.09985,
          33750.2918,
          11837.16,
          17085.2676,
          24869.8368,
          36219.40545,
          20462.99766,
          46151.1245,
          17179.522,
          14590.63205,
          7441.053,
          9282.4806,
          1719.4363,
          42856.838,
          7265.7025,
          9617.66245,
          2523.1695,
          9715.841,
          2803.69785,
          2150.469,
          12928.7911,
          9855.1314,
          22331.5668,
          48549.17835,
          4237.12655,
          11879.10405,
          9625.92,
          7742.1098,
          9432.9253,
          14256.1928,
          47896.79135,
          25992.82104,
          3172.018,
          20277.80751,
          42112.2356,
          2156.7518,
          3906.127,
          1704.5681,
          16297.846,
          21978.6769,
          38746.3551,
          9249.4952,
          6746.7425,
          24873.3849,
          12265.5069,
          4349.462,
          12646.207,
          19442.3535,
          20177.67113,
          4151.0287,
          11944.59435,
          7749.1564,
          8444.474,
          1737.376,
          42124.5153,
          8124.4084,
          34838.873,
          9722.7695,
          8835.26495,
          10435.06525,
          7421.19455,
          4667.60765,
          4894.7533,
          24671.66334,
          35491.64,
          11566.30055,
          2866.091,
          6600.20595,
          3561.8889,
          42760.5022,
          47928.03,
          9144.565,
          48517.56315,
          24393.6224,
          13429.0354,
          11658.37915,
          19144.57652,
          13822.803,
          12142.5786,
          13937.6665,
          41919.097,
          8232.6388,
          18955.22017,
          13352.0998,
          13217.0945,
          13981.85035,
          10977.2063,
          6184.2994,
          4889.9995,
          8334.45755,
          5478.0368,
          1635.73365,
          11830.6072,
          8932.084,
          3554.203,
          12404.8791,
          14133.03775,
          24603.04837,
          8944.1151,
          9620.3307,
          1837.2819,
          1607.5101,
          10043.249,
          4751.07,
          13844.506,
          2597.779,
          3180.5101,
          9778.3472,
          13430.265,
          8017.06115,
          8116.26885,
          3481.868,
          13415.0381,
          12029.2867,
          7639.41745,
          36085.219,
          1391.5287,
          18033.9679,
          21659.9301,
          38126.2465,
          16455.70785,
          27000.98473,
          15006.57945,
          42303.69215,
          20781.48892,
          5846.9176,
          8302.53565,
          1261.859,
          11856.4115,
          30284.64294,
          3176.8159,
          4618.0799,
          10736.87075,
          2138.0707,
          8964.06055,
          9290.1395,
          9411.005,
          7526.70645,
          8522.003,
          16586.49771,
          14988.432,
          1631.6683,
          9264.797,
          8083.9198,
          14692.66935,
          10269.46,
          3260.199,
          11396.9002,
          4185.0979,
          8539.671,
          6652.5288,
          4074.4537,
          1621.3402,
          19594.80965,
          14455.64405,
          5080.096,
          2134.9015,
          7345.7266,
          9140.951,
          18608.262,
          14418.2804,
          28950.4692,
          46889.2612,
          46599.1084,
          39125.33225,
          2727.3951,
          8968.33,
          9788.8659,
          6555.07035,
          7323.734819,
          3167.45585,
          18804.7524,
          23082.95533,
          4906.40965,
          5969.723,
          12638.195,
          4243.59005,
          13919.8229,
          2254.7967,
          5926.846,
          12592.5345,
          2897.3235,
          4738.2682,
          37079.372,
          1149.3959,
          28287.89766,
          26109.32905,
          7345.084,
          12730.9996,
          11454.0215,
          5910.944,
          4762.329,
          7512.267,
          4032.2407,
          1969.614,
          1769.53165,
          4686.3887,
          21797.0004,
          11881.9696,
          11840.77505,
          10601.412,
          7682.67,
          10381.4787,
          22144.032,
          15230.32405,
          11165.41765,
          1632.03625,
          19521.9682,
          13224.693,
          12643.3778,
          23288.9284,
          2201.0971,
          2497.0383,
          2203.47185,
          1744.465,
          20878.78443,
          25382.297,
          28868.6639,
          35147.52848,
          2534.39375,
          1534.3045,
          1824.2854,
          15555.18875,
          9304.7019,
          1622.1885,
          9880.068,
          9563.029,
          4347.02335,
          12475.3513,
          1253.936,
          48885.13561,
          10461.9794,
          1748.774,
          24513.09126,
          2196.4732,
          12574.049,
          17942.106,
          1967.0227,
          4931.647,
          8027.968,
          8211.1002,
          13470.86,
          36197.699,
          6837.3687,
          22218.1149,
          32548.3405,
          5974.3847,
          6796.86325,
          2643.2685,
          3077.0955,
          3044.2133,
          11455.28,
          11763.0009,
          2498.4144,
          9361.3268,
          1256.299,
          21082.16,
          11362.755,
          27724.28875,
          8413.46305,
          5240.765,
          3857.75925,
          25656.57526,
          3994.1778,
          9866.30485,
          5397.6167,
          38245.59327,
          11482.63485,
          24059.68019,
          9861.025,
          8342.90875,
          1708.0014,
          48675.5177,
          14043.4767,
          12925.886,
          19214.70553,
          13831.1152,
          6067.12675,
          5972.378,
          8825.086,
          8233.0975,
          27346.04207,
          6196.448,
          3056.3881,
          13887.204,
          63770.42801,
          10231.4999,
          23807.2406,
          3268.84665,
          11538.421,
          3213.62205,
          45863.205,
          13390.559,
          3972.9247,
          12957.118,
          11187.6567,
          17878.90068,
          3847.674,
          8334.5896,
          3935.1799,
          39983.42595,
          1646.4297,
          9193.8385,
          10923.9332,
          2494.022,
          9058.7303,
          2801.2588,
          2128.43105,
          6373.55735,
          7256.7231,
          11552.904,
          45702.02235,
          3761.292,
          2219.4451,
          4753.6368,
          31620.00106,
          13224.05705,
          12222.8983,
          1664.9996,
          58571.07448,
          9724.53,
          3206.49135,
          12913.9924,
          1639.5631,
          6356.2707,
          17626.23951,
          1242.816,
          4779.6023,
          3861.20965,
          43943.8761,
          13635.6379,
          5976.8311,
          11842.442,
          8428.0693,
          2566.4707,
          15359.1045,
          5709.1644,
          8823.98575,
          7640.3092,
          5594.8455,
          7441.501,
          33471.97189,
          1633.0444,
          9174.13565,
          11070.535,
          16085.1275,
          17468.9839,
          9283.562,
          3558.62025,
          25678.77845,
          4435.0942,
          39241.442,
          8547.6913,
          6571.544,
          2207.69745,
          6753.038,
          1880.07,
          42969.8527,
          11658.11505,
          23306.547,
          34439.8559,
          10713.644,
          3659.346,
          40182.246,
          9182.17,
          34617.84065,
          12129.61415,
          3736.4647,
          6748.5912,
          11326.71487,
          11365.952,
          42983.4585,
          10085.846,
          1977.815,
          3366.6697,
          7173.35995,
          9391.346,
          14410.9321,
          2709.1119,
          24915.04626,
          20149.3229,
          12949.1554,
          6666.243,
          32787.45859,
          13143.86485,
          4466.6214,
          18806.14547,
          10141.1362,
          6123.5688,
          8252.2843,
          1712.227,
          12430.95335,
          9800.8882,
          10579.711,
          8280.6227,
          8527.532,
          12244.531,
          24667.419,
          3410.324,
          4058.71245,
          26392.26029,
          14394.39815,
          6435.6237,
          22192.43711,
          5148.5526,
          1136.3994,
          27037.9141,
          42560.4304,
          8703.456,
          40003.33225,
          45710.20785,
          6500.2359,
          4837.5823,
          3943.5954,
          4399.731,
          6185.3208,
          46200.9851,
          7222.78625,
          12485.8009,
          46130.5265,
          12363.547,
          10156.7832,
          2585.269,
          1242.26,
          40103.89,
          9863.4718,
          4766.022,
          11244.3769,
          7729.64575,
          5438.7491,
          26236.57997,
          34806.4677,
          2104.1134,
          8068.185,
          2362.22905,
          2352.96845,
          3577.999,
          3201.24515,
          29186.48236,
          40273.6455,
          10976.24575,
          3500.6123,
          2020.5523,
          9541.69555,
          9504.3103,
          5385.3379,
          8930.93455,
          5375.038,
          44400.4064,
          10264.4421,
          6113.23105,
          5469.0066,
          1727.54,
          10107.2206,
          8310.83915,
          1984.4533,
          2457.502,
          12146.971,
          9566.9909,
          13112.6048,
          10848.1343,
          12231.6136,
          9875.6804,
          11264.541,
          12979.358,
          1263.249,
          10106.13425,
          40932.4295,
          6664.68595,
          16657.71745,
          2217.6012,
          6781.3542,
          19361.9988,
          10065.413,
          4234.927,
          9447.25035,
          14007.222,
          9583.8933,
          40419.0191,
          3484.331,
          36189.1017,
          44585.45587,
          8604.48365,
          18246.4955,
          43254.41795,
          3757.8448,
          8827.2099,
          9910.35985,
          11737.84884,
          1627.28245,
          8556.907,
          3062.50825,
          19539.243,
          1906.35825,
          14210.53595,
          11833.7823,
          17128.42608,
          5031.26955,
          7985.815,
          23065.4207,
          5428.7277,
          36307.7983,
          3925.7582,
          2416.955,
          19040.876,
          3070.8087,
          9095.06825,
          11842.62375,
          8062.764,
          7050.642,
          14319.031,
          6933.24225,
          27941.28758,
          11150.78,
          12797.20962,
          17748.5062,
          7261.741,
          10560.4917,
          6986.697,
          7448.40395,
          5934.3798,
          9869.8102,
          18259.216,
          1146.7966,
          9386.1613,
          24520.264,
          4350.5144,
          6414.178,
          12741.16745,
          1917.3184,
          5209.57885,
          13457.9608,
          5662.225,
          1252.407,
          2731.9122,
          21195.818,
          7209.4918,
          18310.742,
          4266.1658,
          4719.52405,
          11848.141,
          17904.52705,
          7046.7222,
          14313.8463,
          2103.08,
          38792.6856,
          1815.8759,
          7731.85785,
          28476.73499,
          2136.88225,
          1131.5066,
          3309.7926,
          9414.92,
          6360.9936,
          11013.7119,
          4428.88785,
          5584.3057,
          1877.9294,
          2842.76075,
          3597.596,
          23401.30575,
          55135.40209,
          7445.918,
          2680.9493,
          1621.8827,
          8219.2039,
          12523.6048,
          16069.08475,
          43813.8661,
          20773.62775,
          39597.4072,
          6117.4945,
          13393.756,
          5266.3656,
          4719.73655,
          11743.9341,
          5377.4578,
          7160.3303,
          4402.233,
          11657.7189,
          6402.29135,
          12622.1795,
          1526.312,
          12323.936,
          36021.0112,
          27533.9129,
          10072.05505,
          45008.9555,
          9872.701,
          2438.0552,
          2974.126,
          10601.63225,
          37270.1512,
          14119.62,
          42111.6647,
          11729.6795,
          24106.91255,
          1875.344,
          40974.1649,
          15817.9857,
          18218.16139,
          10965.446,
          46113.511,
          7151.092,
          12269.68865,
          5458.04645,
          8782.469,
          6600.361,
          1141.4451,
          11576.13,
          13129.60345,
          4391.652,
          8457.818,
          3392.3652,
          5966.8874,
          6849.026,
          8891.1395,
          2690.1138,
          26140.3603,
          6653.7886,
          6282.235,
          6311.952,
          3443.064,
          2789.0574,
          2585.85065,
          46255.1125,
          4877.98105,
          19719.6947,
          27218.43725,
          5272.1758,
          1682.597,
          11945.1327,
          29330.98315,
          7243.8136,
          10422.91665,
          44202.6536,
          13555.0049,
          13063.883,
          19798.05455,
          2221.56445,
          1634.5734,
          2117.33885,
          8688.85885,
          48673.5588,
          4661.28635,
          8125.7845,
          12644.589,
          4564.19145,
          4846.92015,
          7633.7206,
          15170.069,
          17496.306,
          2639.0429,
          33732.6867,
          14382.70905,
          7626.993,
          5257.50795,
          2473.3341,
          21774.32215,
          35069.37452,
          13041.921,
          5245.2269,
          13451.122,
          13462.52,
          5488.262,
          4320.41085,
          6250.435,
          25333.33284,
          2913.569,
          12032.326,
          13470.8044,
          6289.7549,
          2927.0647,
          6238.298,
          10096.97,
          7348.142,
          4673.3922,
          12233.828,
          32108.66282,
          8965.79575,
          2304.0022,
          9487.6442,
          1121.8739,
          9549.5651,
          2217.46915,
          1628.4709,
          12982.8747,
          11674.13,
          7160.094,
          39047.285,
          6358.77645,
          19933.458,
          11534.87265,
          47462.894,
          4527.18295,
          38998.546,
          20009.63365,
          3875.7341,
          41999.52,
          12609.88702,
          41034.2214,
          28468.91901,
          2730.10785,
          3353.284,
          14474.675,
          9500.57305,
          26467.09737,
          4746.344,
          23967.38305,
          7518.02535,
          3279.86855,
          8596.8278,
          10702.6424,
          4992.3764,
          2527.81865,
          1759.338,
          2322.6218,
          16138.76205,
          7804.1605,
          2902.9065,
          9704.66805,
          4889.0368,
          25517.11363,
          4500.33925,
          19199.944,
          16796.41194,
          4915.05985,
          7624.63,
          8410.04685,
          28340.18885,
          4518.82625,
          14571.8908,
          3378.91,
          7144.86265,
          10118.424,
          5484.4673,
          16420.49455,
          7986.47525,
          7418.522,
          13887.9685,
          6551.7501,
          5267.81815,
          17361.7661,
          34472.841,
          1972.95,
          21232.18226,
          8627.5411,
          4433.3877,
          4438.2634,
          24915.22085,
          23241.47453,
          9957.7216,
          8269.044,
          18767.7377,
          36580.28216,
          8765.249,
          5383.536,
          12124.9924,
          2709.24395,
          3987.926,
          12495.29085,
          26018.95052,
          8798.593,
          35595.5898,
          42211.1382,
          1711.0268,
          8569.8618,
          2020.177,
          16450.8947,
          21595.38229,
          9850.432,
          6877.9801,
          21677.28345,
          44423.803,
          4137.5227,
          13747.87235,
          12950.0712,
          12094.478,
          37484.4493,
          39725.51805,
          2250.8352,
          22493.65964,
          20234.85475,
          1704.70015,
          33475.81715,
          3161.454,
          11394.06555,
          21880.82,
          7325.0482,
          44501.3982,
          3594.17085,
          39727.614,
          8023.13545,
          14394.5579,
          9288.0267,
          25309.489,
          3353.4703,
          10594.50155,
          8277.523,
          17929.30337,
          2480.9791,
          4462.7218,
          1981.5819,
          11554.2236,
          48970.2476,
          6548.19505,
          5708.867,
          7045.499,
          8978.1851,
          5757.41345,
          14349.8544,
          10928.849,
          39871.7043,
          13974.45555,
          1909.52745,
          12096.6512,
          13204.28565,
          4562.8421,
          8551.347,
          2102.2647,
          34672.1472,
          15161.5344,
          11884.04858,
          4454.40265,
          5855.9025,
          4076.497,
          15019.76005,
          19023.26,
          10796.35025,
          11353.2276,
          9748.9106,
          10577.087,
          41676.0811,
          11286.5387,
          3591.48,
          33907.548,
          11299.343,
          4561.1885,
          44641.1974,
          1674.6323,
          23045.56616,
          3227.1211,
          16776.30405,
          11253.421,
          3471.4096,
          11363.2832,
          20420.60465,
          10338.9316,
          8988.15875,
          10493.9458,
          2904.088,
          8605.3615,
          11512.405,
          41949.2441,
          24180.9335,
          5312.16985,
          2396.0959,
          10807.4863,
          9222.4026,
          36124.5737,
          38282.7495,
          5693.4305,
          34166.273,
          8347.1643,
          46661.4424,
          18903.49141,
          40904.1995,
          14254.6082,
          10214.636,
          5836.5204,
          14358.36437,
          1728.897,
          8582.3023,
          3693.428,
          20709.02034,
          9991.03765,
          19673.33573,
          11085.5868,
          7623.518,
          3176.2877,
          3704.3545,
          36898.73308,
          9048.0273,
          7954.517,
          27117.99378,
          6338.0756,
          9630.397,
          11289.10925,
          52590.82939,
          2261.5688,
          10791.96,
          5979.731,
          2203.73595,
          12235.8392,
          40941.2854,
          5630.45785,
          11015.1747,
          7228.21565,
          39722.7462,
          14426.07385,
          2459.7201,
          3989.841,
          7727.2532,
          5124.1887,
          18963.17192,
          2200.83085,
          7153.5539,
          5227.98875,
          10982.5013,
          4529.477,
          4670.64,
          6112.35295,
          17178.6824,
          22478.6,
          11093.6229,
          6457.8434,
          4433.9159,
          2154.361,
          23887.6627,
          6496.886,
          2899.48935,
          19350.3689,
          7650.77375,
          2850.68375,
          2632.992,
          9447.3824,
          18328.2381,
          8603.8234,
          37465.34375,
          13844.7972,
          21771.3423,
          13126.67745,
          5327.40025,
          13725.47184,
          13019.16105,
          8671.19125,
          4134.08245,
          18838.70366,
          33307.5508,
          5699.8375,
          6393.60345,
          4934.705,
          6198.7518,
          8733.22925,
          2055.3249,
          9964.06,
          18223.4512,
          5116.5004,
          36910.60803,
          38415.474,
          20296.86345,
          12347.172,
          5373.36425,
          23563.01618,
          1702.4553,
          10806.839,
          3956.07145,
          12890.05765,
          5415.6612,
          4058.1161,
          41661.602,
          7537.1639,
          4718.20355,
          6593.5083,
          8442.667,
          26125.67477,
          6858.4796,
          4795.6568,
          6640.54485,
          7162.0122,
          10594.2257,
          11938.25595,
          60021.39897,
          20167.33603,
          12479.70895,
          11345.519,
          8515.7587,
          2699.56835,
          14449.8544,
          12224.35085,
          6985.50695,
          3238.4357,
          47269.854,
          49577.6624,
          4296.2712,
          3171.6149,
          1135.9407,
          5615.369,
          9101.798,
          6059.173,
          1633.9618,
          37607.5277,
          18648.4217,
          1241.565,
          16232.847,
          15828.82173,
          4415.1588,
          6474.013,
          11436.73815,
          11305.93455,
          30063.58055,
          10197.7722,
          4544.2348,
          3277.161,
          6770.1925,
          7337.748,
          10370.91255,
          26926.5144,
          10704.47,
          34254.05335,
          1880.487,
          8615.3,
          3292.52985,
          3021.80915,
          14478.33015,
          4747.0529,
          17043.3414,
          10959.33,
          2741.948,
          4357.04365,
          22462.04375,
          4189.1131,
          8283.6807,
          24535.69855,
          14283.4594,
          1720.3537,
          47403.88,
          8534.6718,
          3732.6251,
          5472.449,
          38344.566,
          7147.4728,
          7133.9025,
          34828.654,
          1515.3449,
          9301.89355,
          11931.12525,
          1964.78,
          1708.92575,
          4340.4409,
          5261.46945,
          2710.82855,
          62592.87309,
          46718.16325,
          3208.787,
          37829.7242,
          21259.37795,
          2464.6188,
          16115.3045,
          21472.4788,
          33900.653,
          6875.961,
          6940.90985,
          4571.41305,
          4536.259,
          36397.576,
          18765.87545,
          11272.33139,
          1731.677,
          1163.4627,
          19496.71917,
          7201.70085,
          5425.02335,
          28101.33305,
          12981.3457,
          43896.3763,
          4239.89265,
          13143.33665,
          7050.0213,
          9377.9047,
          22395.74424,
          10325.206,
          12629.1656,
          10795.93733,
          11411.685,
          10600.5483,
          2205.9808,
          1629.8335,
          2007.945,
          29141.3603
         ],
         "yaxis": "y"
        }
       ],
       "layout": {
        "barmode": "relative",
        "legend": {
         "tracegroupgap": 0
        },
        "margin": {
         "t": 60
        },
        "template": {
         "data": {
          "bar": [
           {
            "error_x": {
             "color": "#2a3f5f"
            },
            "error_y": {
             "color": "#2a3f5f"
            },
            "marker": {
             "line": {
              "color": "#E5ECF6",
              "width": 0.5
             },
             "pattern": {
              "fillmode": "overlay",
              "size": 10,
              "solidity": 0.2
             }
            },
            "type": "bar"
           }
          ],
          "barpolar": [
           {
            "marker": {
             "line": {
              "color": "#E5ECF6",
              "width": 0.5
             },
             "pattern": {
              "fillmode": "overlay",
              "size": 10,
              "solidity": 0.2
             }
            },
            "type": "barpolar"
           }
          ],
          "carpet": [
           {
            "aaxis": {
             "endlinecolor": "#2a3f5f",
             "gridcolor": "white",
             "linecolor": "white",
             "minorgridcolor": "white",
             "startlinecolor": "#2a3f5f"
            },
            "baxis": {
             "endlinecolor": "#2a3f5f",
             "gridcolor": "white",
             "linecolor": "white",
             "minorgridcolor": "white",
             "startlinecolor": "#2a3f5f"
            },
            "type": "carpet"
           }
          ],
          "choropleth": [
           {
            "colorbar": {
             "outlinewidth": 0,
             "ticks": ""
            },
            "type": "choropleth"
           }
          ],
          "contour": [
           {
            "colorbar": {
             "outlinewidth": 0,
             "ticks": ""
            },
            "colorscale": [
             [
              0,
              "#0d0887"
             ],
             [
              0.1111111111111111,
              "#46039f"
             ],
             [
              0.2222222222222222,
              "#7201a8"
             ],
             [
              0.3333333333333333,
              "#9c179e"
             ],
             [
              0.4444444444444444,
              "#bd3786"
             ],
             [
              0.5555555555555556,
              "#d8576b"
             ],
             [
              0.6666666666666666,
              "#ed7953"
             ],
             [
              0.7777777777777778,
              "#fb9f3a"
             ],
             [
              0.8888888888888888,
              "#fdca26"
             ],
             [
              1,
              "#f0f921"
             ]
            ],
            "type": "contour"
           }
          ],
          "contourcarpet": [
           {
            "colorbar": {
             "outlinewidth": 0,
             "ticks": ""
            },
            "type": "contourcarpet"
           }
          ],
          "heatmap": [
           {
            "colorbar": {
             "outlinewidth": 0,
             "ticks": ""
            },
            "colorscale": [
             [
              0,
              "#0d0887"
             ],
             [
              0.1111111111111111,
              "#46039f"
             ],
             [
              0.2222222222222222,
              "#7201a8"
             ],
             [
              0.3333333333333333,
              "#9c179e"
             ],
             [
              0.4444444444444444,
              "#bd3786"
             ],
             [
              0.5555555555555556,
              "#d8576b"
             ],
             [
              0.6666666666666666,
              "#ed7953"
             ],
             [
              0.7777777777777778,
              "#fb9f3a"
             ],
             [
              0.8888888888888888,
              "#fdca26"
             ],
             [
              1,
              "#f0f921"
             ]
            ],
            "type": "heatmap"
           }
          ],
          "heatmapgl": [
           {
            "colorbar": {
             "outlinewidth": 0,
             "ticks": ""
            },
            "colorscale": [
             [
              0,
              "#0d0887"
             ],
             [
              0.1111111111111111,
              "#46039f"
             ],
             [
              0.2222222222222222,
              "#7201a8"
             ],
             [
              0.3333333333333333,
              "#9c179e"
             ],
             [
              0.4444444444444444,
              "#bd3786"
             ],
             [
              0.5555555555555556,
              "#d8576b"
             ],
             [
              0.6666666666666666,
              "#ed7953"
             ],
             [
              0.7777777777777778,
              "#fb9f3a"
             ],
             [
              0.8888888888888888,
              "#fdca26"
             ],
             [
              1,
              "#f0f921"
             ]
            ],
            "type": "heatmapgl"
           }
          ],
          "histogram": [
           {
            "marker": {
             "pattern": {
              "fillmode": "overlay",
              "size": 10,
              "solidity": 0.2
             }
            },
            "type": "histogram"
           }
          ],
          "histogram2d": [
           {
            "colorbar": {
             "outlinewidth": 0,
             "ticks": ""
            },
            "colorscale": [
             [
              0,
              "#0d0887"
             ],
             [
              0.1111111111111111,
              "#46039f"
             ],
             [
              0.2222222222222222,
              "#7201a8"
             ],
             [
              0.3333333333333333,
              "#9c179e"
             ],
             [
              0.4444444444444444,
              "#bd3786"
             ],
             [
              0.5555555555555556,
              "#d8576b"
             ],
             [
              0.6666666666666666,
              "#ed7953"
             ],
             [
              0.7777777777777778,
              "#fb9f3a"
             ],
             [
              0.8888888888888888,
              "#fdca26"
             ],
             [
              1,
              "#f0f921"
             ]
            ],
            "type": "histogram2d"
           }
          ],
          "histogram2dcontour": [
           {
            "colorbar": {
             "outlinewidth": 0,
             "ticks": ""
            },
            "colorscale": [
             [
              0,
              "#0d0887"
             ],
             [
              0.1111111111111111,
              "#46039f"
             ],
             [
              0.2222222222222222,
              "#7201a8"
             ],
             [
              0.3333333333333333,
              "#9c179e"
             ],
             [
              0.4444444444444444,
              "#bd3786"
             ],
             [
              0.5555555555555556,
              "#d8576b"
             ],
             [
              0.6666666666666666,
              "#ed7953"
             ],
             [
              0.7777777777777778,
              "#fb9f3a"
             ],
             [
              0.8888888888888888,
              "#fdca26"
             ],
             [
              1,
              "#f0f921"
             ]
            ],
            "type": "histogram2dcontour"
           }
          ],
          "mesh3d": [
           {
            "colorbar": {
             "outlinewidth": 0,
             "ticks": ""
            },
            "type": "mesh3d"
           }
          ],
          "parcoords": [
           {
            "line": {
             "colorbar": {
              "outlinewidth": 0,
              "ticks": ""
             }
            },
            "type": "parcoords"
           }
          ],
          "pie": [
           {
            "automargin": true,
            "type": "pie"
           }
          ],
          "scatter": [
           {
            "fillpattern": {
             "fillmode": "overlay",
             "size": 10,
             "solidity": 0.2
            },
            "type": "scatter"
           }
          ],
          "scatter3d": [
           {
            "line": {
             "colorbar": {
              "outlinewidth": 0,
              "ticks": ""
             }
            },
            "marker": {
             "colorbar": {
              "outlinewidth": 0,
              "ticks": ""
             }
            },
            "type": "scatter3d"
           }
          ],
          "scattercarpet": [
           {
            "marker": {
             "colorbar": {
              "outlinewidth": 0,
              "ticks": ""
             }
            },
            "type": "scattercarpet"
           }
          ],
          "scattergeo": [
           {
            "marker": {
             "colorbar": {
              "outlinewidth": 0,
              "ticks": ""
             }
            },
            "type": "scattergeo"
           }
          ],
          "scattergl": [
           {
            "marker": {
             "colorbar": {
              "outlinewidth": 0,
              "ticks": ""
             }
            },
            "type": "scattergl"
           }
          ],
          "scattermapbox": [
           {
            "marker": {
             "colorbar": {
              "outlinewidth": 0,
              "ticks": ""
             }
            },
            "type": "scattermapbox"
           }
          ],
          "scatterpolar": [
           {
            "marker": {
             "colorbar": {
              "outlinewidth": 0,
              "ticks": ""
             }
            },
            "type": "scatterpolar"
           }
          ],
          "scatterpolargl": [
           {
            "marker": {
             "colorbar": {
              "outlinewidth": 0,
              "ticks": ""
             }
            },
            "type": "scatterpolargl"
           }
          ],
          "scatterternary": [
           {
            "marker": {
             "colorbar": {
              "outlinewidth": 0,
              "ticks": ""
             }
            },
            "type": "scatterternary"
           }
          ],
          "surface": [
           {
            "colorbar": {
             "outlinewidth": 0,
             "ticks": ""
            },
            "colorscale": [
             [
              0,
              "#0d0887"
             ],
             [
              0.1111111111111111,
              "#46039f"
             ],
             [
              0.2222222222222222,
              "#7201a8"
             ],
             [
              0.3333333333333333,
              "#9c179e"
             ],
             [
              0.4444444444444444,
              "#bd3786"
             ],
             [
              0.5555555555555556,
              "#d8576b"
             ],
             [
              0.6666666666666666,
              "#ed7953"
             ],
             [
              0.7777777777777778,
              "#fb9f3a"
             ],
             [
              0.8888888888888888,
              "#fdca26"
             ],
             [
              1,
              "#f0f921"
             ]
            ],
            "type": "surface"
           }
          ],
          "table": [
           {
            "cells": {
             "fill": {
              "color": "#EBF0F8"
             },
             "line": {
              "color": "white"
             }
            },
            "header": {
             "fill": {
              "color": "#C8D4E3"
             },
             "line": {
              "color": "white"
             }
            },
            "type": "table"
           }
          ]
         },
         "layout": {
          "annotationdefaults": {
           "arrowcolor": "#2a3f5f",
           "arrowhead": 0,
           "arrowwidth": 1
          },
          "autotypenumbers": "strict",
          "coloraxis": {
           "colorbar": {
            "outlinewidth": 0,
            "ticks": ""
           }
          },
          "colorscale": {
           "diverging": [
            [
             0,
             "#8e0152"
            ],
            [
             0.1,
             "#c51b7d"
            ],
            [
             0.2,
             "#de77ae"
            ],
            [
             0.3,
             "#f1b6da"
            ],
            [
             0.4,
             "#fde0ef"
            ],
            [
             0.5,
             "#f7f7f7"
            ],
            [
             0.6,
             "#e6f5d0"
            ],
            [
             0.7,
             "#b8e186"
            ],
            [
             0.8,
             "#7fbc41"
            ],
            [
             0.9,
             "#4d9221"
            ],
            [
             1,
             "#276419"
            ]
           ],
           "sequential": [
            [
             0,
             "#0d0887"
            ],
            [
             0.1111111111111111,
             "#46039f"
            ],
            [
             0.2222222222222222,
             "#7201a8"
            ],
            [
             0.3333333333333333,
             "#9c179e"
            ],
            [
             0.4444444444444444,
             "#bd3786"
            ],
            [
             0.5555555555555556,
             "#d8576b"
            ],
            [
             0.6666666666666666,
             "#ed7953"
            ],
            [
             0.7777777777777778,
             "#fb9f3a"
            ],
            [
             0.8888888888888888,
             "#fdca26"
            ],
            [
             1,
             "#f0f921"
            ]
           ],
           "sequentialminus": [
            [
             0,
             "#0d0887"
            ],
            [
             0.1111111111111111,
             "#46039f"
            ],
            [
             0.2222222222222222,
             "#7201a8"
            ],
            [
             0.3333333333333333,
             "#9c179e"
            ],
            [
             0.4444444444444444,
             "#bd3786"
            ],
            [
             0.5555555555555556,
             "#d8576b"
            ],
            [
             0.6666666666666666,
             "#ed7953"
            ],
            [
             0.7777777777777778,
             "#fb9f3a"
            ],
            [
             0.8888888888888888,
             "#fdca26"
            ],
            [
             1,
             "#f0f921"
            ]
           ]
          },
          "colorway": [
           "#636efa",
           "#EF553B",
           "#00cc96",
           "#ab63fa",
           "#FFA15A",
           "#19d3f3",
           "#FF6692",
           "#B6E880",
           "#FF97FF",
           "#FECB52"
          ],
          "font": {
           "color": "#2a3f5f"
          },
          "geo": {
           "bgcolor": "white",
           "lakecolor": "white",
           "landcolor": "#E5ECF6",
           "showlakes": true,
           "showland": true,
           "subunitcolor": "white"
          },
          "hoverlabel": {
           "align": "left"
          },
          "hovermode": "closest",
          "mapbox": {
           "style": "light"
          },
          "paper_bgcolor": "white",
          "plot_bgcolor": "#E5ECF6",
          "polar": {
           "angularaxis": {
            "gridcolor": "white",
            "linecolor": "white",
            "ticks": ""
           },
           "bgcolor": "#E5ECF6",
           "radialaxis": {
            "gridcolor": "white",
            "linecolor": "white",
            "ticks": ""
           }
          },
          "scene": {
           "xaxis": {
            "backgroundcolor": "#E5ECF6",
            "gridcolor": "white",
            "gridwidth": 2,
            "linecolor": "white",
            "showbackground": true,
            "ticks": "",
            "zerolinecolor": "white"
           },
           "yaxis": {
            "backgroundcolor": "#E5ECF6",
            "gridcolor": "white",
            "gridwidth": 2,
            "linecolor": "white",
            "showbackground": true,
            "ticks": "",
            "zerolinecolor": "white"
           },
           "zaxis": {
            "backgroundcolor": "#E5ECF6",
            "gridcolor": "white",
            "gridwidth": 2,
            "linecolor": "white",
            "showbackground": true,
            "ticks": "",
            "zerolinecolor": "white"
           }
          },
          "shapedefaults": {
           "line": {
            "color": "#2a3f5f"
           }
          },
          "ternary": {
           "aaxis": {
            "gridcolor": "white",
            "linecolor": "white",
            "ticks": ""
           },
           "baxis": {
            "gridcolor": "white",
            "linecolor": "white",
            "ticks": ""
           },
           "bgcolor": "#E5ECF6",
           "caxis": {
            "gridcolor": "white",
            "linecolor": "white",
            "ticks": ""
           }
          },
          "title": {
           "x": 0.05
          },
          "xaxis": {
           "automargin": true,
           "gridcolor": "white",
           "linecolor": "white",
           "ticks": "",
           "title": {
            "standoff": 15
           },
           "zerolinecolor": "white",
           "zerolinewidth": 2
          },
          "yaxis": {
           "automargin": true,
           "gridcolor": "white",
           "linecolor": "white",
           "ticks": "",
           "title": {
            "standoff": 15
           },
           "zerolinecolor": "white",
           "zerolinewidth": 2
          }
         }
        },
        "xaxis": {
         "anchor": "y",
         "domain": [
          0,
          1
         ],
         "title": {
          "text": "region"
         }
        },
        "yaxis": {
         "anchor": "x",
         "domain": [
          0,
          1
         ],
         "title": {
          "text": "avg of charges"
         }
        }
       }
      }
     },
     "metadata": {},
     "output_type": "display_data"
    }
   ],
   "source": [
    "fig = px.histogram(df, y=\"charges\",x='region', histfunc='avg')\n",
    "fig.show()"
   ]
  },
  {
   "cell_type": "code",
   "execution_count": 17,
   "metadata": {},
   "outputs": [
    {
     "data": {
      "application/vnd.plotly.v1+json": {
       "config": {
        "plotlyServerURL": "https://plot.ly"
       },
       "data": [
        {
         "alignmentgroup": "True",
         "bingroup": "x",
         "histfunc": "avg",
         "hovertemplate": "sex=female<br>smoker=%{x}<br>avg of charges=%{y}<extra></extra>",
         "legendgroup": "female",
         "marker": {
          "color": "#636efa",
          "pattern": {
           "shape": ""
          }
         },
         "name": "female",
         "offsetgroup": "female",
         "orientation": "v",
         "showlegend": true,
         "type": "histogram",
         "x": [
          "yes",
          "no",
          "no",
          "no",
          "no",
          "yes",
          "no",
          "no",
          "no",
          "no",
          "yes",
          "no",
          "no",
          "no",
          "no",
          "no",
          "no",
          "no",
          "no",
          "no",
          "no",
          "no",
          "no",
          "no",
          "no",
          "no",
          "no",
          "yes",
          "no",
          "no",
          "yes",
          "no",
          "no",
          "no",
          "yes",
          "no",
          "no",
          "no",
          "no",
          "no",
          "no",
          "yes",
          "yes",
          "no",
          "no",
          "no",
          "no",
          "no",
          "yes",
          "no",
          "no",
          "no",
          "no",
          "yes",
          "no",
          "no",
          "no",
          "no",
          "yes",
          "no",
          "no",
          "no",
          "no",
          "no",
          "yes",
          "no",
          "yes",
          "no",
          "no",
          "no",
          "no",
          "no",
          "no",
          "no",
          "no",
          "no",
          "no",
          "no",
          "yes",
          "no",
          "no",
          "yes",
          "yes",
          "no",
          "no",
          "no",
          "no",
          "no",
          "no",
          "yes",
          "no",
          "no",
          "no",
          "no",
          "no",
          "no",
          "no",
          "no",
          "no",
          "no",
          "no",
          "no",
          "no",
          "no",
          "no",
          "no",
          "no",
          "yes",
          "no",
          "no",
          "no",
          "no",
          "no",
          "no",
          "no",
          "no",
          "no",
          "no",
          "no",
          "no",
          "no",
          "no",
          "no",
          "yes",
          "no",
          "yes",
          "no",
          "no",
          "yes",
          "no",
          "yes",
          "no",
          "no",
          "no",
          "yes",
          "no",
          "no",
          "no",
          "no",
          "no",
          "yes",
          "no",
          "no",
          "no",
          "no",
          "yes",
          "no",
          "no",
          "no",
          "yes",
          "no",
          "no",
          "no",
          "no",
          "no",
          "no",
          "no",
          "yes",
          "no",
          "no",
          "no",
          "yes",
          "yes",
          "no",
          "no",
          "no",
          "no",
          "no",
          "no",
          "no",
          "no",
          "no",
          "no",
          "no",
          "no",
          "no",
          "no",
          "no",
          "yes",
          "no",
          "no",
          "no",
          "no",
          "no",
          "no",
          "no",
          "no",
          "yes",
          "yes",
          "no",
          "yes",
          "no",
          "no",
          "no",
          "no",
          "no",
          "no",
          "no",
          "no",
          "no",
          "no",
          "no",
          "no",
          "no",
          "yes",
          "yes",
          "no",
          "no",
          "yes",
          "yes",
          "no",
          "no",
          "no",
          "no",
          "no",
          "no",
          "no",
          "no",
          "yes",
          "no",
          "no",
          "no",
          "no",
          "no",
          "no",
          "no",
          "no",
          "no",
          "yes",
          "no",
          "no",
          "no",
          "no",
          "no",
          "no",
          "no",
          "no",
          "no",
          "no",
          "no",
          "yes",
          "no",
          "no",
          "no",
          "no",
          "no",
          "no",
          "no",
          "no",
          "no",
          "no",
          "no",
          "no",
          "no",
          "no",
          "no",
          "no",
          "no",
          "no",
          "no",
          "no",
          "no",
          "no",
          "no",
          "no",
          "yes",
          "no",
          "no",
          "yes",
          "no",
          "no",
          "no",
          "yes",
          "no",
          "no",
          "no",
          "no",
          "no",
          "no",
          "no",
          "no",
          "no",
          "no",
          "no",
          "no",
          "yes",
          "no",
          "no",
          "no",
          "yes",
          "no",
          "no",
          "no",
          "yes",
          "no",
          "no",
          "no",
          "no",
          "no",
          "no",
          "no",
          "yes",
          "no",
          "no",
          "yes",
          "no",
          "no",
          "no",
          "no",
          "no",
          "yes",
          "no",
          "yes",
          "no",
          "no",
          "no",
          "yes",
          "no",
          "no",
          "no",
          "no",
          "no",
          "no",
          "no",
          "no",
          "no",
          "no",
          "no",
          "yes",
          "no",
          "no",
          "no",
          "no",
          "no",
          "yes",
          "yes",
          "no",
          "no",
          "no",
          "yes",
          "no",
          "no",
          "no",
          "no",
          "no",
          "no",
          "no",
          "no",
          "no",
          "no",
          "no",
          "no",
          "no",
          "no",
          "yes",
          "no",
          "no",
          "no",
          "no",
          "no",
          "no",
          "no",
          "no",
          "no",
          "no",
          "yes",
          "yes",
          "no",
          "no",
          "no",
          "no",
          "no",
          "no",
          "yes",
          "no",
          "no",
          "no",
          "yes",
          "no",
          "no",
          "yes",
          "no",
          "no",
          "no",
          "no",
          "no",
          "no",
          "no",
          "no",
          "yes",
          "yes",
          "no",
          "no",
          "no",
          "no",
          "no",
          "no",
          "no",
          "no",
          "no",
          "no",
          "yes",
          "no",
          "no",
          "no",
          "no",
          "no",
          "no",
          "no",
          "yes",
          "yes",
          "no",
          "no",
          "no",
          "no",
          "no",
          "no",
          "no",
          "no",
          "yes",
          "yes",
          "yes",
          "no",
          "no",
          "yes",
          "yes",
          "no",
          "yes",
          "no",
          "yes",
          "no",
          "yes",
          "no",
          "no",
          "no",
          "no",
          "no",
          "no",
          "no",
          "no",
          "no",
          "yes",
          "no",
          "yes",
          "no",
          "no",
          "yes",
          "no",
          "no",
          "no",
          "no",
          "no",
          "yes",
          "no",
          "no",
          "no",
          "yes",
          "no",
          "no",
          "no",
          "no",
          "no",
          "no",
          "no",
          "no",
          "no",
          "no",
          "no",
          "no",
          "no",
          "no",
          "no",
          "no",
          "no",
          "no",
          "no",
          "no",
          "no",
          "no",
          "no",
          "no",
          "no",
          "no",
          "no",
          "no",
          "yes",
          "no",
          "no",
          "no",
          "yes",
          "no",
          "no",
          "no",
          "no",
          "no",
          "no",
          "no",
          "no",
          "no",
          "no",
          "no",
          "no",
          "yes",
          "no",
          "no",
          "no",
          "yes",
          "yes",
          "no",
          "no",
          "yes",
          "yes",
          "no",
          "yes",
          "no",
          "no",
          "no",
          "no",
          "no",
          "no",
          "no",
          "no",
          "no",
          "no",
          "no",
          "no",
          "no",
          "no",
          "no",
          "yes",
          "no",
          "yes",
          "no",
          "no",
          "yes",
          "no",
          "no",
          "yes",
          "no",
          "no",
          "no",
          "no",
          "yes",
          "no",
          "no",
          "yes",
          "yes",
          "no",
          "yes",
          "no",
          "no",
          "no",
          "no",
          "no",
          "no",
          "no",
          "no",
          "yes",
          "no",
          "no",
          "no",
          "no",
          "no",
          "yes",
          "no",
          "no",
          "no",
          "no",
          "no",
          "no",
          "no",
          "no",
          "no",
          "no",
          "no",
          "no",
          "yes",
          "no",
          "no",
          "yes",
          "no",
          "no",
          "no",
          "no",
          "no",
          "no",
          "yes",
          "no",
          "yes",
          "no",
          "no",
          "no",
          "no",
          "no",
          "no",
          "no",
          "yes",
          "no",
          "yes",
          "no",
          "yes",
          "no",
          "no",
          "yes",
          "no",
          "no",
          "yes",
          "no",
          "yes",
          "no",
          "no",
          "no",
          "no",
          "no",
          "no",
          "no",
          "no",
          "no",
          "no",
          "no",
          "no",
          "no",
          "no",
          "no",
          "no",
          "no",
          "no",
          "no",
          "no",
          "no",
          "no",
          "no",
          "no",
          "no",
          "no",
          "yes",
          "yes",
          "no",
          "no",
          "no",
          "no",
          "no",
          "no",
          "no",
          "no",
          "yes",
          "yes",
          "no",
          "yes",
          "yes",
          "no",
          "no",
          "yes",
          "no",
          "no",
          "no",
          "no",
          "no",
          "no",
          "no",
          "no",
          "yes"
         ],
         "xaxis": "x",
         "y": [
          16884.924,
          3756.6216,
          8240.5896,
          7281.5056,
          28923.13692,
          27808.7251,
          11090.7178,
          10797.3362,
          13228.84695,
          4149.736,
          37701.8768,
          14001.1338,
          14451.83515,
          12268.63225,
          2198.18985,
          4687.797,
          15612.19335,
          3046.062,
          4949.7587,
          6313.759,
          3393.35635,
          3556.9223,
          12629.8967,
          2211.13075,
          3579.8287,
          8059.6791,
          13607.36875,
          23244.7902,
          5989.52365,
          4133.64165,
          14711.7438,
          1743.214,
          14235.072,
          5920.1041,
          16577.7795,
          11741.726,
          3947.4131,
          2755.02095,
          6571.02435,
          7935.29115,
          11033.6617,
          39836.519,
          43578.9394,
          11073.176,
          8026.6666,
          11082.5772,
          2026.9741,
          10942.13205,
          47291.055,
          3766.8838,
          12105.32,
          6186.127,
          21344.8467,
          30942.1918,
          5003.853,
          2331.519,
          11881.358,
          2404.7338,
          19107.7796,
          8601.3293,
          6686.4313,
          2257.47525,
          10115.00885,
          3385.39915,
          17081.08,
          9634.538,
          32734.1863,
          12815.44495,
          13616.3586,
          11163.568,
          2457.21115,
          2155.6815,
          27322.73386,
          2166.732,
          5138.2567,
          9877.6077,
          10959.6947,
          6334.34355,
          19964.7463,
          7077.1894,
          19749.38338,
          21348.706,
          36149.4835,
          5152.134,
          4830.63,
          6128.79745,
          2719.27975,
          5246.047,
          2855.43755,
          48824.45,
          8823.279,
          8538.28845,
          1631.8212,
          7419.4779,
          3981.9768,
          5325.651,
          6775.961,
          4922.9159,
          4883.866,
          12044.342,
          5649.715,
          8516.829,
          9644.2525,
          14901.5167,
          2130.6759,
          8871.1517,
          13012.20865,
          37133.8982,
          4337.7352,
          13880.949,
          5002.7827,
          8520.026,
          7371.772,
          10355.641,
          3392.9768,
          25081.76784,
          5012.471,
          10564.8845,
          24227.33724,
          7358.17565,
          7443.64305,
          14001.2867,
          1727.785,
          19444.2658,
          1615.7667,
          38511.6283,
          5354.07465,
          35160.13457,
          29523.1656,
          12648.7034,
          47305.305,
          13047.33235,
          5400.9805,
          11837.16,
          17085.2676,
          20462.99766,
          14590.63205,
          9715.841,
          2150.469,
          9855.1314,
          22331.5668,
          11879.10405,
          9625.92,
          9432.9253,
          14256.1928,
          47896.79135,
          3172.018,
          2156.7518,
          9249.4952,
          24873.3849,
          12265.5069,
          4349.462,
          12646.207,
          20177.67113,
          4151.0287,
          7749.1564,
          1737.376,
          34838.873,
          7421.19455,
          24671.66334,
          3561.8889,
          47928.03,
          48517.56315,
          13429.0354,
          11658.37915,
          19144.57652,
          8232.6388,
          18955.22017,
          13217.0945,
          10977.2063,
          6184.2994,
          5478.0368,
          11830.6072,
          8932.084,
          3554.203,
          14133.03775,
          1607.5101,
          10043.249,
          13844.506,
          2597.779,
          3180.5101,
          9778.3472,
          13430.265,
          8017.06115,
          13415.0381,
          12029.2867,
          7639.41745,
          18033.9679,
          21659.9301,
          16455.70785,
          15006.57945,
          5846.9176,
          11856.4115,
          3176.8159,
          4618.0799,
          2138.0707,
          9411.005,
          8522.003,
          1631.6683,
          9264.797,
          14692.66935,
          11396.9002,
          4185.0979,
          8539.671,
          19594.80965,
          14455.64405,
          2134.9015,
          7345.7266,
          18608.262,
          28950.4692,
          6555.07035,
          7323.734819,
          3167.45585,
          18804.7524,
          4906.40965,
          12638.195,
          12592.5345,
          4738.2682,
          37079.372,
          28287.89766,
          7345.084,
          11454.0215,
          5910.944,
          11881.9696,
          11840.77505,
          7682.67,
          10381.4787,
          15230.32405,
          19521.9682,
          13224.693,
          12643.3778,
          23288.9284,
          2201.0971,
          2203.47185,
          1744.465,
          20878.78443,
          1622.1885,
          9880.068,
          4347.02335,
          12475.3513,
          48885.13561,
          1748.774,
          24513.09126,
          2196.4732,
          4931.647,
          8211.1002,
          13470.86,
          5974.3847,
          3044.2133,
          11455.28,
          5240.765,
          25656.57526,
          3994.1778,
          9866.30485,
          5397.6167,
          11482.63485,
          24059.68019,
          9861.025,
          14043.4767,
          5972.378,
          8825.086,
          8233.0975,
          6196.448,
          3056.3881,
          13887.204,
          63770.42801,
          11538.421,
          3213.62205,
          45863.205,
          3972.9247,
          11187.6567,
          17878.90068,
          39983.42595,
          9193.8385,
          10923.9332,
          2801.2588,
          2128.43105,
          6373.55735,
          11552.904,
          3761.292,
          2219.4451,
          4753.6368,
          31620.00106,
          13224.05705,
          12222.8983,
          58571.07448,
          3206.49135,
          17626.23951,
          4779.6023,
          43943.8761,
          13635.6379,
          5976.8311,
          11842.442,
          15359.1045,
          8823.98575,
          7640.3092,
          5594.8455,
          33471.97189,
          1633.0444,
          11070.535,
          16085.1275,
          17468.9839,
          9283.562,
          3558.62025,
          25678.77845,
          8547.6913,
          6571.544,
          2207.69745,
          6753.038,
          1880.07,
          42969.8527,
          11658.11505,
          34439.8559,
          10713.644,
          9182.17,
          3736.4647,
          42983.4585,
          3366.6697,
          2709.1119,
          24915.04626,
          4466.6214,
          8252.2843,
          12430.95335,
          9800.8882,
          10579.711,
          8280.6227,
          8527.532,
          12244.531,
          24667.419,
          3410.324,
          26392.26029,
          14394.39815,
          22192.43711,
          5148.5526,
          27037.9141,
          40003.33225,
          6500.2359,
          3943.5954,
          6185.3208,
          46200.9851,
          12485.8009,
          10156.7832,
          2585.269,
          4766.022,
          26236.57997,
          3577.999,
          3201.24515,
          29186.48236,
          3500.6123,
          2020.5523,
          9541.69555,
          5385.3379,
          8930.93455,
          5375.038,
          44400.4064,
          6113.23105,
          5469.0066,
          10107.2206,
          8310.83915,
          2457.502,
          9566.9909,
          10848.1343,
          12231.6136,
          9875.6804,
          10106.13425,
          40932.4295,
          16657.71745,
          2217.6012,
          6781.3542,
          4234.927,
          9447.25035,
          14007.222,
          9583.8933,
          40419.0191,
          3757.8448,
          9910.35985,
          8556.907,
          19539.243,
          11833.7823,
          7985.815,
          23065.4207,
          3925.7582,
          9095.06825,
          11842.62375,
          7050.642,
          14319.031,
          6933.24225,
          11150.78,
          12797.20962,
          17748.5062,
          24520.264,
          4350.5144,
          6414.178,
          13457.9608,
          5662.225,
          2731.9122,
          7209.4918,
          4719.52405,
          11848.141,
          7046.7222,
          14313.8463,
          38792.6856,
          7731.85785,
          28476.73499,
          2136.88225,
          9414.92,
          6360.9936,
          1877.9294,
          2842.76075,
          23401.30575,
          55135.40209,
          1621.8827,
          8219.2039,
          16069.08475,
          5266.3656,
          4719.73655,
          11657.7189,
          6402.29135,
          12622.1795,
          36021.0112,
          27533.9129,
          45008.9555,
          9872.701,
          2974.126,
          37270.1512,
          42111.6647,
          11729.6795,
          24106.91255,
          1875.344,
          40974.1649,
          18218.16139,
          46113.511,
          7151.092,
          12269.68865,
          5458.04645,
          4391.652,
          3392.3652,
          2690.1138,
          26140.3603,
          6311.952,
          2585.85065,
          46255.1125,
          5272.1758,
          29330.98315,
          7243.8136,
          13063.883,
          19798.05455,
          1634.5734,
          2117.33885,
          12644.589,
          4564.19145,
          7633.7206,
          17496.306,
          14382.70905,
          7626.993,
          2473.3341,
          21774.32215,
          13041.921,
          5245.2269,
          13451.122,
          13462.52,
          2913.569,
          12032.326,
          13470.8044,
          6238.298,
          7348.142,
          12233.828,
          8965.79575,
          9549.5651,
          2217.46915,
          11674.13,
          4527.18295,
          2730.10785,
          3353.284,
          14474.675,
          8596.8278,
          10702.6424,
          4992.3764,
          2527.81865,
          1759.338,
          9704.66805,
          4889.0368,
          16796.41194,
          7624.63,
          28340.18885,
          14571.8908,
          3378.91,
          7144.86265,
          10118.424,
          16420.49455,
          7986.47525,
          7418.522,
          13887.9685,
          6551.7501,
          5267.81815,
          8269.044,
          36580.28216,
          5383.536,
          2709.24395,
          3987.926,
          12495.29085,
          26018.95052,
          35595.5898,
          8569.8618,
          2020.177,
          6877.9801,
          21677.28345,
          44423.803,
          4137.5227,
          12094.478,
          39725.51805,
          20234.85475,
          3161.454,
          21880.82,
          7325.0482,
          3594.17085,
          8023.13545,
          3353.4703,
          8277.523,
          17929.30337,
          2480.9791,
          5708.867,
          7045.499,
          10928.849,
          12096.6512,
          13204.28565,
          4562.8421,
          8551.347,
          15019.76005,
          19023.26,
          11286.5387,
          33907.548,
          11299.343,
          4561.1885,
          44641.1974,
          23045.56616,
          3227.1211,
          16776.30405,
          10338.9316,
          8988.15875,
          10493.9458,
          11512.405,
          24180.9335,
          5312.16985,
          5693.4305,
          34166.273,
          46661.4424,
          18903.49141,
          40904.1995,
          14254.6082,
          5836.5204,
          1728.897,
          8582.3023,
          9991.03765,
          11085.5868,
          7623.518,
          3176.2877,
          36898.73308,
          7954.517,
          27117.99378,
          2261.5688,
          2203.73595,
          12235.8392,
          40941.2854,
          5630.45785,
          11015.1747,
          7228.21565,
          14426.07385,
          2459.7201,
          3989.841,
          7727.2532,
          2200.83085,
          7153.5539,
          5227.98875,
          4529.477,
          6112.35295,
          22478.6,
          11093.6229,
          2154.361,
          23887.6627,
          6496.886,
          2899.48935,
          7650.77375,
          2850.68375,
          2632.992,
          9447.3824,
          18328.2381,
          13844.7972,
          21771.3423,
          13126.67745,
          5327.40025,
          13725.47184,
          13019.16105,
          8671.19125,
          4134.08245,
          18838.70366,
          33307.5508,
          4934.705,
          18223.4512,
          36910.60803,
          20296.86345,
          10806.839,
          3956.07145,
          41661.602,
          7537.1639,
          4718.20355,
          26125.67477,
          4795.6568,
          20167.33603,
          12479.70895,
          8515.7587,
          14449.8544,
          12224.35085,
          3238.4357,
          4296.2712,
          3171.6149,
          9101.798,
          1633.9618,
          15828.82173,
          4415.1588,
          6474.013,
          11436.73815,
          11305.93455,
          10197.7722,
          4544.2348,
          6770.1925,
          7337.748,
          10370.91255,
          10704.47,
          1880.487,
          3021.80915,
          2741.948,
          4357.04365,
          4189.1131,
          8283.6807,
          24535.69855,
          14283.4594,
          8534.6718,
          3732.6251,
          5472.449,
          7133.9025,
          4340.4409,
          2710.82855,
          3208.787,
          2464.6188,
          16115.3045,
          33900.653,
          4571.41305,
          36397.576,
          18765.87545,
          1731.677,
          7201.70085,
          43896.3763,
          7050.0213,
          22395.74424,
          12629.1656,
          10795.93733,
          11411.685,
          2205.9808,
          1629.8335,
          2007.945,
          29141.3603
         ],
         "yaxis": "y"
        },
        {
         "alignmentgroup": "True",
         "bingroup": "x",
         "histfunc": "avg",
         "hovertemplate": "sex=male<br>smoker=%{x}<br>avg of charges=%{y}<extra></extra>",
         "legendgroup": "male",
         "marker": {
          "color": "#EF553B",
          "pattern": {
           "shape": ""
          }
         },
         "name": "male",
         "offsetgroup": "male",
         "orientation": "v",
         "showlegend": true,
         "type": "histogram",
         "x": [
          "no",
          "no",
          "no",
          "no",
          "no",
          "no",
          "no",
          "yes",
          "no",
          "no",
          "no",
          "yes",
          "no",
          "no",
          "no",
          "yes",
          "yes",
          "no",
          "yes",
          "no",
          "no",
          "yes",
          "yes",
          "no",
          "no",
          "no",
          "yes",
          "yes",
          "yes",
          "yes",
          "yes",
          "no",
          "no",
          "no",
          "no",
          "yes",
          "no",
          "no",
          "no",
          "no",
          "no",
          "no",
          "yes",
          "yes",
          "yes",
          "no",
          "no",
          "yes",
          "yes",
          "no",
          "yes",
          "no",
          "no",
          "yes",
          "no",
          "no",
          "no",
          "no",
          "no",
          "no",
          "no",
          "yes",
          "no",
          "no",
          "no",
          "no",
          "no",
          "no",
          "yes",
          "no",
          "yes",
          "yes",
          "no",
          "no",
          "no",
          "no",
          "yes",
          "yes",
          "yes",
          "no",
          "no",
          "no",
          "no",
          "no",
          "no",
          "no",
          "no",
          "no",
          "no",
          "no",
          "no",
          "yes",
          "no",
          "no",
          "no",
          "no",
          "no",
          "no",
          "yes",
          "no",
          "no",
          "no",
          "no",
          "no",
          "no",
          "yes",
          "yes",
          "no",
          "no",
          "no",
          "no",
          "no",
          "no",
          "yes",
          "no",
          "no",
          "no",
          "no",
          "no",
          "no",
          "yes",
          "yes",
          "no",
          "yes",
          "yes",
          "no",
          "yes",
          "yes",
          "yes",
          "yes",
          "yes",
          "no",
          "no",
          "no",
          "yes",
          "no",
          "no",
          "no",
          "no",
          "no",
          "yes",
          "no",
          "no",
          "no",
          "no",
          "yes",
          "no",
          "no",
          "yes",
          "yes",
          "yes",
          "no",
          "no",
          "no",
          "no",
          "yes",
          "no",
          "no",
          "no",
          "no",
          "no",
          "no",
          "yes",
          "no",
          "no",
          "no",
          "yes",
          "no",
          "yes",
          "no",
          "no",
          "no",
          "yes",
          "no",
          "no",
          "no",
          "no",
          "no",
          "no",
          "no",
          "no",
          "no",
          "no",
          "no",
          "no",
          "no",
          "yes",
          "no",
          "yes",
          "no",
          "yes",
          "no",
          "no",
          "no",
          "no",
          "no",
          "no",
          "no",
          "no",
          "no",
          "no",
          "no",
          "no",
          "no",
          "no",
          "no",
          "no",
          "no",
          "no",
          "no",
          "yes",
          "yes",
          "yes",
          "no",
          "no",
          "no",
          "no",
          "no",
          "no",
          "no",
          "no",
          "no",
          "no",
          "no",
          "yes",
          "no",
          "no",
          "no",
          "no",
          "no",
          "no",
          "no",
          "no",
          "no",
          "yes",
          "no",
          "no",
          "no",
          "yes",
          "yes",
          "yes",
          "no",
          "no",
          "no",
          "no",
          "no",
          "no",
          "no",
          "no",
          "no",
          "yes",
          "no",
          "no",
          "yes",
          "no",
          "yes",
          "yes",
          "no",
          "no",
          "no",
          "no",
          "no",
          "no",
          "no",
          "yes",
          "no",
          "no",
          "no",
          "no",
          "yes",
          "no",
          "no",
          "yes",
          "no",
          "no",
          "no",
          "no",
          "no",
          "no",
          "yes",
          "no",
          "no",
          "no",
          "no",
          "no",
          "no",
          "no",
          "no",
          "no",
          "no",
          "yes",
          "no",
          "no",
          "no",
          "no",
          "no",
          "no",
          "no",
          "no",
          "no",
          "no",
          "no",
          "no",
          "no",
          "yes",
          "yes",
          "no",
          "yes",
          "yes",
          "no",
          "no",
          "no",
          "no",
          "no",
          "no",
          "no",
          "no",
          "no",
          "yes",
          "no",
          "no",
          "yes",
          "no",
          "no",
          "no",
          "no",
          "no",
          "no",
          "no",
          "no",
          "yes",
          "no",
          "yes",
          "no",
          "no",
          "no",
          "yes",
          "no",
          "no",
          "yes",
          "no",
          "no",
          "no",
          "no",
          "yes",
          "no",
          "no",
          "no",
          "no",
          "yes",
          "no",
          "no",
          "no",
          "no",
          "no",
          "no",
          "no",
          "no",
          "no",
          "no",
          "no",
          "yes",
          "no",
          "no",
          "yes",
          "yes",
          "no",
          "yes",
          "yes",
          "no",
          "no",
          "no",
          "no",
          "no",
          "no",
          "no",
          "no",
          "no",
          "yes",
          "no",
          "yes",
          "no",
          "no",
          "no",
          "no",
          "no",
          "no",
          "no",
          "no",
          "no",
          "yes",
          "no",
          "no",
          "no",
          "no",
          "no",
          "no",
          "yes",
          "yes",
          "no",
          "yes",
          "no",
          "no",
          "no",
          "no",
          "no",
          "no",
          "no",
          "no",
          "no",
          "no",
          "no",
          "yes",
          "yes",
          "yes",
          "no",
          "no",
          "no",
          "no",
          "no",
          "no",
          "no",
          "no",
          "no",
          "no",
          "no",
          "no",
          "yes",
          "no",
          "no",
          "no",
          "no",
          "no",
          "no",
          "no",
          "no",
          "no",
          "no",
          "no",
          "no",
          "no",
          "no",
          "no",
          "yes",
          "yes",
          "no",
          "no",
          "no",
          "yes",
          "no",
          "no",
          "no",
          "yes",
          "no",
          "no",
          "no",
          "no",
          "no",
          "yes",
          "no",
          "yes",
          "no",
          "no",
          "no",
          "no",
          "no",
          "no",
          "no",
          "no",
          "no",
          "no",
          "no",
          "no",
          "no",
          "no",
          "no",
          "yes",
          "no",
          "yes",
          "no",
          "yes",
          "yes",
          "yes",
          "no",
          "yes",
          "no",
          "yes",
          "no",
          "no",
          "no",
          "no",
          "yes",
          "no",
          "no",
          "no",
          "yes",
          "no",
          "no",
          "no",
          "no",
          "yes",
          "no",
          "no",
          "no",
          "no",
          "yes",
          "yes",
          "no",
          "no",
          "no",
          "no",
          "no",
          "yes",
          "no",
          "no",
          "yes",
          "no",
          "no",
          "no",
          "yes",
          "no",
          "yes",
          "no",
          "no",
          "yes",
          "no",
          "yes",
          "no",
          "no",
          "no",
          "yes",
          "no",
          "yes",
          "yes",
          "no",
          "no",
          "yes",
          "no",
          "no",
          "no",
          "no",
          "yes",
          "no",
          "no",
          "no",
          "no",
          "yes",
          "no",
          "no",
          "no",
          "yes",
          "no",
          "no",
          "no",
          "no",
          "no",
          "no",
          "no",
          "no",
          "no",
          "yes",
          "no",
          "no",
          "no",
          "no",
          "no",
          "no",
          "no",
          "no",
          "yes",
          "no",
          "no",
          "no",
          "yes",
          "yes",
          "no",
          "no",
          "no",
          "no",
          "no",
          "no",
          "no",
          "no",
          "no",
          "no",
          "no",
          "yes",
          "no",
          "no",
          "yes",
          "no",
          "no",
          "no",
          "no",
          "yes",
          "no",
          "no",
          "yes",
          "no",
          "yes",
          "no",
          "no",
          "no",
          "no",
          "no",
          "no",
          "no",
          "yes",
          "no",
          "no",
          "no",
          "no",
          "no",
          "no",
          "no",
          "no",
          "no",
          "no",
          "no",
          "no",
          "no",
          "no",
          "yes",
          "no",
          "no",
          "no",
          "yes",
          "yes",
          "no",
          "no",
          "no",
          "yes",
          "yes",
          "no",
          "yes",
          "no",
          "no",
          "yes",
          "yes",
          "no",
          "no",
          "no",
          "no",
          "yes",
          "no",
          "yes",
          "no",
          "yes",
          "yes",
          "no",
          "yes",
          "no",
          "no",
          "no",
          "no",
          "no",
          "no",
          "yes",
          "yes",
          "yes",
          "yes",
          "yes",
          "no",
          "no",
          "no",
          "no",
          "no",
          "no",
          "no",
          "yes",
          "no",
          "no",
          "no",
          "no",
          "no",
          "no"
         ],
         "xaxis": "x",
         "y": [
          1725.5523,
          4449.462,
          21984.47061,
          3866.8552,
          6406.4107,
          2721.3208,
          1826.843,
          39611.7577,
          1837.237,
          2395.17155,
          10602.385,
          36837.467,
          1137.011,
          6203.90175,
          2775.19215,
          38711,
          35585.576,
          13770.0979,
          51194.55914,
          1625.43375,
          2302.3,
          39774.2763,
          48173.361,
          6272.4772,
          6079.6715,
          20630.28351,
          38709.176,
          23568.272,
          37742.5757,
          47496.49445,
          34303.1672,
          8606.2174,
          4504.6624,
          30166.61817,
          6389.37785,
          17663.1442,
          6799.458,
          11946.6259,
          7726.854,
          11356.6609,
          1532.4697,
          4441.21315,
          37165.1638,
          21098.55405,
          30184.9367,
          5729.0053,
          10226.2842,
          22412.6485,
          15820.699,
          3645.0894,
          17560.37975,
          3877.30425,
          2867.1196,
          47055.5321,
          10825.2537,
          4646.759,
          11488.31695,
          30259.99556,
          11381.3254,
          7740.337,
          1705.6245,
          39556.4945,
          6082.405,
          1632.56445,
          1261.442,
          2045.68525,
          27375.90478,
          3490.5491,
          18972.495,
          18157.876,
          20745.9891,
          40720.55105,
          1842.519,
          5125.2157,
          7789.635,
          6948.7008,
          21223.6758,
          15518.18025,
          36950.2567,
          10450.552,
          5028.1466,
          10407.08585,
          4827.90495,
          13405.3903,
          8116.68,
          1694.7964,
          6455.86265,
          10436.096,
          11735.87905,
          4005.4225,
          7731.4271,
          43753.33705,
          12557.6053,
          2137.6536,
          1137.4697,
          1639.5631,
          7147.105,
          11743.299,
          20984.0936,
          6610.1097,
          1980.07,
          8162.71625,
          3537.703,
          2483.736,
          5253.524,
          34779.615,
          19515.5416,
          11987.1682,
          2689.4954,
          9225.2564,
          12333.828,
          6710.1919,
          4463.2051,
          17352.6803,
          7152.6714,
          7196.867,
          24476.47851,
          1986.9334,
          1832.094,
          4040.55825,
          12829.4551,
          44260.7499,
          4260.744,
          41097.16175,
          43921.1837,
          11520.09985,
          33750.2918,
          24869.8368,
          36219.40545,
          46151.1245,
          17179.522,
          7441.053,
          9282.4806,
          1719.4363,
          42856.838,
          7265.7025,
          9617.66245,
          2523.1695,
          2803.69785,
          12928.7911,
          48549.17835,
          4237.12655,
          7742.1098,
          25992.82104,
          20277.80751,
          42112.2356,
          3906.127,
          1704.5681,
          16297.846,
          21978.6769,
          38746.3551,
          6746.7425,
          19442.3535,
          11944.59435,
          8444.474,
          42124.5153,
          8124.4084,
          9722.7695,
          8835.26495,
          10435.06525,
          4667.60765,
          4894.7533,
          35491.64,
          11566.30055,
          2866.091,
          6600.20595,
          42760.5022,
          9144.565,
          24393.6224,
          13822.803,
          12142.5786,
          13937.6665,
          41919.097,
          13352.0998,
          13981.85035,
          4889.9995,
          8334.45755,
          1635.73365,
          12404.8791,
          24603.04837,
          8944.1151,
          9620.3307,
          1837.2819,
          4751.07,
          8116.26885,
          3481.868,
          36085.219,
          1391.5287,
          38126.2465,
          27000.98473,
          42303.69215,
          20781.48892,
          8302.53565,
          1261.859,
          30284.64294,
          10736.87075,
          8964.06055,
          9290.1395,
          7526.70645,
          16586.49771,
          14988.432,
          8083.9198,
          10269.46,
          3260.199,
          6652.5288,
          4074.4537,
          1621.3402,
          5080.096,
          9140.951,
          14418.2804,
          46889.2612,
          46599.1084,
          39125.33225,
          2727.3951,
          8968.33,
          9788.8659,
          23082.95533,
          5969.723,
          4243.59005,
          13919.8229,
          2254.7967,
          5926.846,
          2897.3235,
          1149.3959,
          26109.32905,
          12730.9996,
          4762.329,
          7512.267,
          4032.2407,
          1969.614,
          1769.53165,
          4686.3887,
          21797.0004,
          10601.412,
          22144.032,
          11165.41765,
          1632.03625,
          2497.0383,
          25382.297,
          28868.6639,
          35147.52848,
          2534.39375,
          1534.3045,
          1824.2854,
          15555.18875,
          9304.7019,
          9563.029,
          1253.936,
          10461.9794,
          12574.049,
          17942.106,
          1967.0227,
          8027.968,
          36197.699,
          6837.3687,
          22218.1149,
          32548.3405,
          6796.86325,
          2643.2685,
          3077.0955,
          11763.0009,
          2498.4144,
          9361.3268,
          1256.299,
          21082.16,
          11362.755,
          27724.28875,
          8413.46305,
          3857.75925,
          38245.59327,
          8342.90875,
          1708.0014,
          48675.5177,
          12925.886,
          19214.70553,
          13831.1152,
          6067.12675,
          27346.04207,
          10231.4999,
          23807.2406,
          3268.84665,
          13390.559,
          12957.118,
          3847.674,
          8334.5896,
          3935.1799,
          1646.4297,
          2494.022,
          9058.7303,
          7256.7231,
          45702.02235,
          1664.9996,
          9724.53,
          12913.9924,
          1639.5631,
          6356.2707,
          1242.816,
          3861.20965,
          8428.0693,
          2566.4707,
          5709.1644,
          7441.501,
          9174.13565,
          4435.0942,
          39241.442,
          23306.547,
          3659.346,
          40182.246,
          34617.84065,
          12129.61415,
          6748.5912,
          11326.71487,
          11365.952,
          10085.846,
          1977.815,
          7173.35995,
          9391.346,
          14410.9321,
          20149.3229,
          12949.1554,
          6666.243,
          32787.45859,
          13143.86485,
          18806.14547,
          10141.1362,
          6123.5688,
          1712.227,
          4058.71245,
          6435.6237,
          1136.3994,
          42560.4304,
          8703.456,
          45710.20785,
          4837.5823,
          4399.731,
          7222.78625,
          46130.5265,
          12363.547,
          1242.26,
          40103.89,
          9863.4718,
          11244.3769,
          7729.64575,
          5438.7491,
          34806.4677,
          2104.1134,
          8068.185,
          2362.22905,
          2352.96845,
          40273.6455,
          10976.24575,
          9504.3103,
          10264.4421,
          1727.54,
          1984.4533,
          12146.971,
          13112.6048,
          11264.541,
          12979.358,
          1263.249,
          6664.68595,
          19361.9988,
          10065.413,
          3484.331,
          36189.1017,
          44585.45587,
          8604.48365,
          18246.4955,
          43254.41795,
          8827.2099,
          11737.84884,
          1627.28245,
          3062.50825,
          1906.35825,
          14210.53595,
          17128.42608,
          5031.26955,
          5428.7277,
          36307.7983,
          2416.955,
          19040.876,
          3070.8087,
          8062.764,
          27941.28758,
          7261.741,
          10560.4917,
          6986.697,
          7448.40395,
          5934.3798,
          9869.8102,
          18259.216,
          1146.7966,
          9386.1613,
          12741.16745,
          1917.3184,
          5209.57885,
          1252.407,
          21195.818,
          18310.742,
          4266.1658,
          17904.52705,
          2103.08,
          1815.8759,
          1131.5066,
          3309.7926,
          11013.7119,
          4428.88785,
          5584.3057,
          3597.596,
          7445.918,
          2680.9493,
          12523.6048,
          43813.8661,
          20773.62775,
          39597.4072,
          6117.4945,
          13393.756,
          11743.9341,
          5377.4578,
          7160.3303,
          4402.233,
          1526.312,
          12323.936,
          10072.05505,
          2438.0552,
          10601.63225,
          14119.62,
          15817.9857,
          10965.446,
          8782.469,
          6600.361,
          1141.4451,
          11576.13,
          13129.60345,
          8457.818,
          5966.8874,
          6849.026,
          8891.1395,
          6653.7886,
          6282.235,
          3443.064,
          2789.0574,
          4877.98105,
          19719.6947,
          27218.43725,
          1682.597,
          11945.1327,
          10422.91665,
          44202.6536,
          13555.0049,
          2221.56445,
          8688.85885,
          48673.5588,
          4661.28635,
          8125.7845,
          4846.92015,
          15170.069,
          2639.0429,
          33732.6867,
          5257.50795,
          35069.37452,
          5488.262,
          4320.41085,
          6250.435,
          25333.33284,
          6289.7549,
          2927.0647,
          10096.97,
          4673.3922,
          32108.66282,
          2304.0022,
          9487.6442,
          1121.8739,
          1628.4709,
          12982.8747,
          7160.094,
          39047.285,
          6358.77645,
          19933.458,
          11534.87265,
          47462.894,
          38998.546,
          20009.63365,
          3875.7341,
          41999.52,
          12609.88702,
          41034.2214,
          28468.91901,
          9500.57305,
          26467.09737,
          4746.344,
          23967.38305,
          7518.02535,
          3279.86855,
          2322.6218,
          16138.76205,
          7804.1605,
          2902.9065,
          25517.11363,
          4500.33925,
          19199.944,
          4915.05985,
          8410.04685,
          4518.82625,
          5484.4673,
          17361.7661,
          34472.841,
          1972.95,
          21232.18226,
          8627.5411,
          4433.3877,
          4438.2634,
          24915.22085,
          23241.47453,
          9957.7216,
          18767.7377,
          8765.249,
          12124.9924,
          8798.593,
          42211.1382,
          1711.0268,
          16450.8947,
          21595.38229,
          9850.432,
          13747.87235,
          12950.0712,
          37484.4493,
          2250.8352,
          22493.65964,
          1704.70015,
          33475.81715,
          11394.06555,
          44501.3982,
          39727.614,
          14394.5579,
          9288.0267,
          25309.489,
          10594.50155,
          4462.7218,
          1981.5819,
          11554.2236,
          48970.2476,
          6548.19505,
          8978.1851,
          5757.41345,
          14349.8544,
          39871.7043,
          13974.45555,
          1909.52745,
          2102.2647,
          34672.1472,
          15161.5344,
          11884.04858,
          4454.40265,
          5855.9025,
          4076.497,
          10796.35025,
          11353.2276,
          9748.9106,
          10577.087,
          41676.0811,
          3591.48,
          1674.6323,
          11253.421,
          3471.4096,
          11363.2832,
          20420.60465,
          2904.088,
          8605.3615,
          41949.2441,
          2396.0959,
          10807.4863,
          9222.4026,
          36124.5737,
          38282.7495,
          8347.1643,
          10214.636,
          14358.36437,
          3693.428,
          20709.02034,
          19673.33573,
          3704.3545,
          9048.0273,
          6338.0756,
          9630.397,
          11289.10925,
          52590.82939,
          10791.96,
          5979.731,
          39722.7462,
          5124.1887,
          18963.17192,
          10982.5013,
          4670.64,
          17178.6824,
          6457.8434,
          4433.9159,
          19350.3689,
          8603.8234,
          37465.34375,
          5699.8375,
          6393.60345,
          6198.7518,
          8733.22925,
          2055.3249,
          9964.06,
          5116.5004,
          38415.474,
          12347.172,
          5373.36425,
          23563.01618,
          1702.4553,
          12890.05765,
          5415.6612,
          4058.1161,
          6593.5083,
          8442.667,
          6858.4796,
          6640.54485,
          7162.0122,
          10594.2257,
          11938.25595,
          60021.39897,
          11345.519,
          2699.56835,
          6985.50695,
          47269.854,
          49577.6624,
          1135.9407,
          5615.369,
          6059.173,
          37607.5277,
          18648.4217,
          1241.565,
          16232.847,
          30063.58055,
          3277.161,
          26926.5144,
          34254.05335,
          8615.3,
          3292.52985,
          14478.33015,
          4747.0529,
          17043.3414,
          10959.33,
          22462.04375,
          1720.3537,
          47403.88,
          38344.566,
          7147.4728,
          34828.654,
          1515.3449,
          9301.89355,
          11931.12525,
          1964.78,
          1708.92575,
          5261.46945,
          62592.87309,
          46718.16325,
          37829.7242,
          21259.37795,
          21472.4788,
          6875.961,
          6940.90985,
          4536.259,
          11272.33139,
          1163.4627,
          19496.71917,
          5425.02335,
          28101.33305,
          12981.3457,
          4239.89265,
          13143.33665,
          9377.9047,
          10325.206,
          10600.5483
         ],
         "yaxis": "y"
        }
       ],
       "layout": {
        "barmode": "relative",
        "legend": {
         "title": {
          "text": "sex"
         },
         "tracegroupgap": 0
        },
        "margin": {
         "t": 60
        },
        "template": {
         "data": {
          "bar": [
           {
            "error_x": {
             "color": "#2a3f5f"
            },
            "error_y": {
             "color": "#2a3f5f"
            },
            "marker": {
             "line": {
              "color": "#E5ECF6",
              "width": 0.5
             },
             "pattern": {
              "fillmode": "overlay",
              "size": 10,
              "solidity": 0.2
             }
            },
            "type": "bar"
           }
          ],
          "barpolar": [
           {
            "marker": {
             "line": {
              "color": "#E5ECF6",
              "width": 0.5
             },
             "pattern": {
              "fillmode": "overlay",
              "size": 10,
              "solidity": 0.2
             }
            },
            "type": "barpolar"
           }
          ],
          "carpet": [
           {
            "aaxis": {
             "endlinecolor": "#2a3f5f",
             "gridcolor": "white",
             "linecolor": "white",
             "minorgridcolor": "white",
             "startlinecolor": "#2a3f5f"
            },
            "baxis": {
             "endlinecolor": "#2a3f5f",
             "gridcolor": "white",
             "linecolor": "white",
             "minorgridcolor": "white",
             "startlinecolor": "#2a3f5f"
            },
            "type": "carpet"
           }
          ],
          "choropleth": [
           {
            "colorbar": {
             "outlinewidth": 0,
             "ticks": ""
            },
            "type": "choropleth"
           }
          ],
          "contour": [
           {
            "colorbar": {
             "outlinewidth": 0,
             "ticks": ""
            },
            "colorscale": [
             [
              0,
              "#0d0887"
             ],
             [
              0.1111111111111111,
              "#46039f"
             ],
             [
              0.2222222222222222,
              "#7201a8"
             ],
             [
              0.3333333333333333,
              "#9c179e"
             ],
             [
              0.4444444444444444,
              "#bd3786"
             ],
             [
              0.5555555555555556,
              "#d8576b"
             ],
             [
              0.6666666666666666,
              "#ed7953"
             ],
             [
              0.7777777777777778,
              "#fb9f3a"
             ],
             [
              0.8888888888888888,
              "#fdca26"
             ],
             [
              1,
              "#f0f921"
             ]
            ],
            "type": "contour"
           }
          ],
          "contourcarpet": [
           {
            "colorbar": {
             "outlinewidth": 0,
             "ticks": ""
            },
            "type": "contourcarpet"
           }
          ],
          "heatmap": [
           {
            "colorbar": {
             "outlinewidth": 0,
             "ticks": ""
            },
            "colorscale": [
             [
              0,
              "#0d0887"
             ],
             [
              0.1111111111111111,
              "#46039f"
             ],
             [
              0.2222222222222222,
              "#7201a8"
             ],
             [
              0.3333333333333333,
              "#9c179e"
             ],
             [
              0.4444444444444444,
              "#bd3786"
             ],
             [
              0.5555555555555556,
              "#d8576b"
             ],
             [
              0.6666666666666666,
              "#ed7953"
             ],
             [
              0.7777777777777778,
              "#fb9f3a"
             ],
             [
              0.8888888888888888,
              "#fdca26"
             ],
             [
              1,
              "#f0f921"
             ]
            ],
            "type": "heatmap"
           }
          ],
          "heatmapgl": [
           {
            "colorbar": {
             "outlinewidth": 0,
             "ticks": ""
            },
            "colorscale": [
             [
              0,
              "#0d0887"
             ],
             [
              0.1111111111111111,
              "#46039f"
             ],
             [
              0.2222222222222222,
              "#7201a8"
             ],
             [
              0.3333333333333333,
              "#9c179e"
             ],
             [
              0.4444444444444444,
              "#bd3786"
             ],
             [
              0.5555555555555556,
              "#d8576b"
             ],
             [
              0.6666666666666666,
              "#ed7953"
             ],
             [
              0.7777777777777778,
              "#fb9f3a"
             ],
             [
              0.8888888888888888,
              "#fdca26"
             ],
             [
              1,
              "#f0f921"
             ]
            ],
            "type": "heatmapgl"
           }
          ],
          "histogram": [
           {
            "marker": {
             "pattern": {
              "fillmode": "overlay",
              "size": 10,
              "solidity": 0.2
             }
            },
            "type": "histogram"
           }
          ],
          "histogram2d": [
           {
            "colorbar": {
             "outlinewidth": 0,
             "ticks": ""
            },
            "colorscale": [
             [
              0,
              "#0d0887"
             ],
             [
              0.1111111111111111,
              "#46039f"
             ],
             [
              0.2222222222222222,
              "#7201a8"
             ],
             [
              0.3333333333333333,
              "#9c179e"
             ],
             [
              0.4444444444444444,
              "#bd3786"
             ],
             [
              0.5555555555555556,
              "#d8576b"
             ],
             [
              0.6666666666666666,
              "#ed7953"
             ],
             [
              0.7777777777777778,
              "#fb9f3a"
             ],
             [
              0.8888888888888888,
              "#fdca26"
             ],
             [
              1,
              "#f0f921"
             ]
            ],
            "type": "histogram2d"
           }
          ],
          "histogram2dcontour": [
           {
            "colorbar": {
             "outlinewidth": 0,
             "ticks": ""
            },
            "colorscale": [
             [
              0,
              "#0d0887"
             ],
             [
              0.1111111111111111,
              "#46039f"
             ],
             [
              0.2222222222222222,
              "#7201a8"
             ],
             [
              0.3333333333333333,
              "#9c179e"
             ],
             [
              0.4444444444444444,
              "#bd3786"
             ],
             [
              0.5555555555555556,
              "#d8576b"
             ],
             [
              0.6666666666666666,
              "#ed7953"
             ],
             [
              0.7777777777777778,
              "#fb9f3a"
             ],
             [
              0.8888888888888888,
              "#fdca26"
             ],
             [
              1,
              "#f0f921"
             ]
            ],
            "type": "histogram2dcontour"
           }
          ],
          "mesh3d": [
           {
            "colorbar": {
             "outlinewidth": 0,
             "ticks": ""
            },
            "type": "mesh3d"
           }
          ],
          "parcoords": [
           {
            "line": {
             "colorbar": {
              "outlinewidth": 0,
              "ticks": ""
             }
            },
            "type": "parcoords"
           }
          ],
          "pie": [
           {
            "automargin": true,
            "type": "pie"
           }
          ],
          "scatter": [
           {
            "fillpattern": {
             "fillmode": "overlay",
             "size": 10,
             "solidity": 0.2
            },
            "type": "scatter"
           }
          ],
          "scatter3d": [
           {
            "line": {
             "colorbar": {
              "outlinewidth": 0,
              "ticks": ""
             }
            },
            "marker": {
             "colorbar": {
              "outlinewidth": 0,
              "ticks": ""
             }
            },
            "type": "scatter3d"
           }
          ],
          "scattercarpet": [
           {
            "marker": {
             "colorbar": {
              "outlinewidth": 0,
              "ticks": ""
             }
            },
            "type": "scattercarpet"
           }
          ],
          "scattergeo": [
           {
            "marker": {
             "colorbar": {
              "outlinewidth": 0,
              "ticks": ""
             }
            },
            "type": "scattergeo"
           }
          ],
          "scattergl": [
           {
            "marker": {
             "colorbar": {
              "outlinewidth": 0,
              "ticks": ""
             }
            },
            "type": "scattergl"
           }
          ],
          "scattermapbox": [
           {
            "marker": {
             "colorbar": {
              "outlinewidth": 0,
              "ticks": ""
             }
            },
            "type": "scattermapbox"
           }
          ],
          "scatterpolar": [
           {
            "marker": {
             "colorbar": {
              "outlinewidth": 0,
              "ticks": ""
             }
            },
            "type": "scatterpolar"
           }
          ],
          "scatterpolargl": [
           {
            "marker": {
             "colorbar": {
              "outlinewidth": 0,
              "ticks": ""
             }
            },
            "type": "scatterpolargl"
           }
          ],
          "scatterternary": [
           {
            "marker": {
             "colorbar": {
              "outlinewidth": 0,
              "ticks": ""
             }
            },
            "type": "scatterternary"
           }
          ],
          "surface": [
           {
            "colorbar": {
             "outlinewidth": 0,
             "ticks": ""
            },
            "colorscale": [
             [
              0,
              "#0d0887"
             ],
             [
              0.1111111111111111,
              "#46039f"
             ],
             [
              0.2222222222222222,
              "#7201a8"
             ],
             [
              0.3333333333333333,
              "#9c179e"
             ],
             [
              0.4444444444444444,
              "#bd3786"
             ],
             [
              0.5555555555555556,
              "#d8576b"
             ],
             [
              0.6666666666666666,
              "#ed7953"
             ],
             [
              0.7777777777777778,
              "#fb9f3a"
             ],
             [
              0.8888888888888888,
              "#fdca26"
             ],
             [
              1,
              "#f0f921"
             ]
            ],
            "type": "surface"
           }
          ],
          "table": [
           {
            "cells": {
             "fill": {
              "color": "#EBF0F8"
             },
             "line": {
              "color": "white"
             }
            },
            "header": {
             "fill": {
              "color": "#C8D4E3"
             },
             "line": {
              "color": "white"
             }
            },
            "type": "table"
           }
          ]
         },
         "layout": {
          "annotationdefaults": {
           "arrowcolor": "#2a3f5f",
           "arrowhead": 0,
           "arrowwidth": 1
          },
          "autotypenumbers": "strict",
          "coloraxis": {
           "colorbar": {
            "outlinewidth": 0,
            "ticks": ""
           }
          },
          "colorscale": {
           "diverging": [
            [
             0,
             "#8e0152"
            ],
            [
             0.1,
             "#c51b7d"
            ],
            [
             0.2,
             "#de77ae"
            ],
            [
             0.3,
             "#f1b6da"
            ],
            [
             0.4,
             "#fde0ef"
            ],
            [
             0.5,
             "#f7f7f7"
            ],
            [
             0.6,
             "#e6f5d0"
            ],
            [
             0.7,
             "#b8e186"
            ],
            [
             0.8,
             "#7fbc41"
            ],
            [
             0.9,
             "#4d9221"
            ],
            [
             1,
             "#276419"
            ]
           ],
           "sequential": [
            [
             0,
             "#0d0887"
            ],
            [
             0.1111111111111111,
             "#46039f"
            ],
            [
             0.2222222222222222,
             "#7201a8"
            ],
            [
             0.3333333333333333,
             "#9c179e"
            ],
            [
             0.4444444444444444,
             "#bd3786"
            ],
            [
             0.5555555555555556,
             "#d8576b"
            ],
            [
             0.6666666666666666,
             "#ed7953"
            ],
            [
             0.7777777777777778,
             "#fb9f3a"
            ],
            [
             0.8888888888888888,
             "#fdca26"
            ],
            [
             1,
             "#f0f921"
            ]
           ],
           "sequentialminus": [
            [
             0,
             "#0d0887"
            ],
            [
             0.1111111111111111,
             "#46039f"
            ],
            [
             0.2222222222222222,
             "#7201a8"
            ],
            [
             0.3333333333333333,
             "#9c179e"
            ],
            [
             0.4444444444444444,
             "#bd3786"
            ],
            [
             0.5555555555555556,
             "#d8576b"
            ],
            [
             0.6666666666666666,
             "#ed7953"
            ],
            [
             0.7777777777777778,
             "#fb9f3a"
            ],
            [
             0.8888888888888888,
             "#fdca26"
            ],
            [
             1,
             "#f0f921"
            ]
           ]
          },
          "colorway": [
           "#636efa",
           "#EF553B",
           "#00cc96",
           "#ab63fa",
           "#FFA15A",
           "#19d3f3",
           "#FF6692",
           "#B6E880",
           "#FF97FF",
           "#FECB52"
          ],
          "font": {
           "color": "#2a3f5f"
          },
          "geo": {
           "bgcolor": "white",
           "lakecolor": "white",
           "landcolor": "#E5ECF6",
           "showlakes": true,
           "showland": true,
           "subunitcolor": "white"
          },
          "hoverlabel": {
           "align": "left"
          },
          "hovermode": "closest",
          "mapbox": {
           "style": "light"
          },
          "paper_bgcolor": "white",
          "plot_bgcolor": "#E5ECF6",
          "polar": {
           "angularaxis": {
            "gridcolor": "white",
            "linecolor": "white",
            "ticks": ""
           },
           "bgcolor": "#E5ECF6",
           "radialaxis": {
            "gridcolor": "white",
            "linecolor": "white",
            "ticks": ""
           }
          },
          "scene": {
           "xaxis": {
            "backgroundcolor": "#E5ECF6",
            "gridcolor": "white",
            "gridwidth": 2,
            "linecolor": "white",
            "showbackground": true,
            "ticks": "",
            "zerolinecolor": "white"
           },
           "yaxis": {
            "backgroundcolor": "#E5ECF6",
            "gridcolor": "white",
            "gridwidth": 2,
            "linecolor": "white",
            "showbackground": true,
            "ticks": "",
            "zerolinecolor": "white"
           },
           "zaxis": {
            "backgroundcolor": "#E5ECF6",
            "gridcolor": "white",
            "gridwidth": 2,
            "linecolor": "white",
            "showbackground": true,
            "ticks": "",
            "zerolinecolor": "white"
           }
          },
          "shapedefaults": {
           "line": {
            "color": "#2a3f5f"
           }
          },
          "ternary": {
           "aaxis": {
            "gridcolor": "white",
            "linecolor": "white",
            "ticks": ""
           },
           "baxis": {
            "gridcolor": "white",
            "linecolor": "white",
            "ticks": ""
           },
           "bgcolor": "#E5ECF6",
           "caxis": {
            "gridcolor": "white",
            "linecolor": "white",
            "ticks": ""
           }
          },
          "title": {
           "x": 0.05
          },
          "xaxis": {
           "automargin": true,
           "gridcolor": "white",
           "linecolor": "white",
           "ticks": "",
           "title": {
            "standoff": 15
           },
           "zerolinecolor": "white",
           "zerolinewidth": 2
          },
          "yaxis": {
           "automargin": true,
           "gridcolor": "white",
           "linecolor": "white",
           "ticks": "",
           "title": {
            "standoff": 15
           },
           "zerolinecolor": "white",
           "zerolinewidth": 2
          }
         }
        },
        "title": {
         "font": {
          "size": 24
         },
         "text": "Dispersion of Medical Costs by Categorical Variables 1 and 2",
         "x": 0.5,
         "xanchor": "center"
        },
        "xaxis": {
         "anchor": "y",
         "domain": [
          0,
          1
         ],
         "title": {
          "text": "smoker"
         }
        },
        "yaxis": {
         "anchor": "x",
         "domain": [
          0,
          1
         ],
         "title": {
          "text": "avg of charges"
         }
        }
       }
      }
     },
     "metadata": {},
     "output_type": "display_data"
    }
   ],
   "source": [
    "fig = px.histogram(df, y=\"charges\",x='smoker', color= 'sex', histfunc='avg')\n",
    "fig.update_layout(title={\n",
    "    'text': \"Dispersion of Medical Costs by Categorical Variables 1 and 2\",\n",
    "    'font': {'size': 24},\n",
    "    'x':0.5,\n",
    "    'xanchor': 'center'\n",
    "})\n",
    "fig.show()"
   ]
  },
  {
   "cell_type": "code",
   "execution_count": null,
   "metadata": {},
   "outputs": [
    {
     "data": {
      "application/vnd.plotly.v1+json": {
       "config": {
        "plotlyServerURL": "https://plot.ly"
       },
       "data": [
        {
         "alignmentgroup": "True",
         "error_y": {
          "array": [
           11255.803065578464,
           11072.276927579975,
           13971.098588991747,
           11557.179100748781
          ]
         },
         "hovertemplate": "region=%{x}<br>mean=%{y}<extra></extra>",
         "legendgroup": "",
         "marker": {
          "color": "#636efa",
          "pattern": {
           "shape": ""
          }
         },
         "name": "",
         "offsetgroup": "",
         "orientation": "v",
         "showlegend": false,
         "textposition": "auto",
         "type": "bar",
         "x": [
          "northeast",
          "northwest",
          "southeast",
          "southwest"
         ],
         "xaxis": "x",
         "y": [
          13406.384516385804,
          12417.575373969232,
          14735.41143760989,
          12346.937377292308
         ],
         "yaxis": "y"
        }
       ],
       "layout": {
        "barmode": "relative",
        "legend": {
         "tracegroupgap": 0
        },
        "margin": {
         "t": 60
        },
        "template": {
         "data": {
          "bar": [
           {
            "error_x": {
             "color": "#2a3f5f"
            },
            "error_y": {
             "color": "#2a3f5f"
            },
            "marker": {
             "line": {
              "color": "#E5ECF6",
              "width": 0.5
             },
             "pattern": {
              "fillmode": "overlay",
              "size": 10,
              "solidity": 0.2
             }
            },
            "type": "bar"
           }
          ],
          "barpolar": [
           {
            "marker": {
             "line": {
              "color": "#E5ECF6",
              "width": 0.5
             },
             "pattern": {
              "fillmode": "overlay",
              "size": 10,
              "solidity": 0.2
             }
            },
            "type": "barpolar"
           }
          ],
          "carpet": [
           {
            "aaxis": {
             "endlinecolor": "#2a3f5f",
             "gridcolor": "white",
             "linecolor": "white",
             "minorgridcolor": "white",
             "startlinecolor": "#2a3f5f"
            },
            "baxis": {
             "endlinecolor": "#2a3f5f",
             "gridcolor": "white",
             "linecolor": "white",
             "minorgridcolor": "white",
             "startlinecolor": "#2a3f5f"
            },
            "type": "carpet"
           }
          ],
          "choropleth": [
           {
            "colorbar": {
             "outlinewidth": 0,
             "ticks": ""
            },
            "type": "choropleth"
           }
          ],
          "contour": [
           {
            "colorbar": {
             "outlinewidth": 0,
             "ticks": ""
            },
            "colorscale": [
             [
              0,
              "#0d0887"
             ],
             [
              0.1111111111111111,
              "#46039f"
             ],
             [
              0.2222222222222222,
              "#7201a8"
             ],
             [
              0.3333333333333333,
              "#9c179e"
             ],
             [
              0.4444444444444444,
              "#bd3786"
             ],
             [
              0.5555555555555556,
              "#d8576b"
             ],
             [
              0.6666666666666666,
              "#ed7953"
             ],
             [
              0.7777777777777778,
              "#fb9f3a"
             ],
             [
              0.8888888888888888,
              "#fdca26"
             ],
             [
              1,
              "#f0f921"
             ]
            ],
            "type": "contour"
           }
          ],
          "contourcarpet": [
           {
            "colorbar": {
             "outlinewidth": 0,
             "ticks": ""
            },
            "type": "contourcarpet"
           }
          ],
          "heatmap": [
           {
            "colorbar": {
             "outlinewidth": 0,
             "ticks": ""
            },
            "colorscale": [
             [
              0,
              "#0d0887"
             ],
             [
              0.1111111111111111,
              "#46039f"
             ],
             [
              0.2222222222222222,
              "#7201a8"
             ],
             [
              0.3333333333333333,
              "#9c179e"
             ],
             [
              0.4444444444444444,
              "#bd3786"
             ],
             [
              0.5555555555555556,
              "#d8576b"
             ],
             [
              0.6666666666666666,
              "#ed7953"
             ],
             [
              0.7777777777777778,
              "#fb9f3a"
             ],
             [
              0.8888888888888888,
              "#fdca26"
             ],
             [
              1,
              "#f0f921"
             ]
            ],
            "type": "heatmap"
           }
          ],
          "heatmapgl": [
           {
            "colorbar": {
             "outlinewidth": 0,
             "ticks": ""
            },
            "colorscale": [
             [
              0,
              "#0d0887"
             ],
             [
              0.1111111111111111,
              "#46039f"
             ],
             [
              0.2222222222222222,
              "#7201a8"
             ],
             [
              0.3333333333333333,
              "#9c179e"
             ],
             [
              0.4444444444444444,
              "#bd3786"
             ],
             [
              0.5555555555555556,
              "#d8576b"
             ],
             [
              0.6666666666666666,
              "#ed7953"
             ],
             [
              0.7777777777777778,
              "#fb9f3a"
             ],
             [
              0.8888888888888888,
              "#fdca26"
             ],
             [
              1,
              "#f0f921"
             ]
            ],
            "type": "heatmapgl"
           }
          ],
          "histogram": [
           {
            "marker": {
             "pattern": {
              "fillmode": "overlay",
              "size": 10,
              "solidity": 0.2
             }
            },
            "type": "histogram"
           }
          ],
          "histogram2d": [
           {
            "colorbar": {
             "outlinewidth": 0,
             "ticks": ""
            },
            "colorscale": [
             [
              0,
              "#0d0887"
             ],
             [
              0.1111111111111111,
              "#46039f"
             ],
             [
              0.2222222222222222,
              "#7201a8"
             ],
             [
              0.3333333333333333,
              "#9c179e"
             ],
             [
              0.4444444444444444,
              "#bd3786"
             ],
             [
              0.5555555555555556,
              "#d8576b"
             ],
             [
              0.6666666666666666,
              "#ed7953"
             ],
             [
              0.7777777777777778,
              "#fb9f3a"
             ],
             [
              0.8888888888888888,
              "#fdca26"
             ],
             [
              1,
              "#f0f921"
             ]
            ],
            "type": "histogram2d"
           }
          ],
          "histogram2dcontour": [
           {
            "colorbar": {
             "outlinewidth": 0,
             "ticks": ""
            },
            "colorscale": [
             [
              0,
              "#0d0887"
             ],
             [
              0.1111111111111111,
              "#46039f"
             ],
             [
              0.2222222222222222,
              "#7201a8"
             ],
             [
              0.3333333333333333,
              "#9c179e"
             ],
             [
              0.4444444444444444,
              "#bd3786"
             ],
             [
              0.5555555555555556,
              "#d8576b"
             ],
             [
              0.6666666666666666,
              "#ed7953"
             ],
             [
              0.7777777777777778,
              "#fb9f3a"
             ],
             [
              0.8888888888888888,
              "#fdca26"
             ],
             [
              1,
              "#f0f921"
             ]
            ],
            "type": "histogram2dcontour"
           }
          ],
          "mesh3d": [
           {
            "colorbar": {
             "outlinewidth": 0,
             "ticks": ""
            },
            "type": "mesh3d"
           }
          ],
          "parcoords": [
           {
            "line": {
             "colorbar": {
              "outlinewidth": 0,
              "ticks": ""
             }
            },
            "type": "parcoords"
           }
          ],
          "pie": [
           {
            "automargin": true,
            "type": "pie"
           }
          ],
          "scatter": [
           {
            "fillpattern": {
             "fillmode": "overlay",
             "size": 10,
             "solidity": 0.2
            },
            "type": "scatter"
           }
          ],
          "scatter3d": [
           {
            "line": {
             "colorbar": {
              "outlinewidth": 0,
              "ticks": ""
             }
            },
            "marker": {
             "colorbar": {
              "outlinewidth": 0,
              "ticks": ""
             }
            },
            "type": "scatter3d"
           }
          ],
          "scattercarpet": [
           {
            "marker": {
             "colorbar": {
              "outlinewidth": 0,
              "ticks": ""
             }
            },
            "type": "scattercarpet"
           }
          ],
          "scattergeo": [
           {
            "marker": {
             "colorbar": {
              "outlinewidth": 0,
              "ticks": ""
             }
            },
            "type": "scattergeo"
           }
          ],
          "scattergl": [
           {
            "marker": {
             "colorbar": {
              "outlinewidth": 0,
              "ticks": ""
             }
            },
            "type": "scattergl"
           }
          ],
          "scattermapbox": [
           {
            "marker": {
             "colorbar": {
              "outlinewidth": 0,
              "ticks": ""
             }
            },
            "type": "scattermapbox"
           }
          ],
          "scatterpolar": [
           {
            "marker": {
             "colorbar": {
              "outlinewidth": 0,
              "ticks": ""
             }
            },
            "type": "scatterpolar"
           }
          ],
          "scatterpolargl": [
           {
            "marker": {
             "colorbar": {
              "outlinewidth": 0,
              "ticks": ""
             }
            },
            "type": "scatterpolargl"
           }
          ],
          "scatterternary": [
           {
            "marker": {
             "colorbar": {
              "outlinewidth": 0,
              "ticks": ""
             }
            },
            "type": "scatterternary"
           }
          ],
          "surface": [
           {
            "colorbar": {
             "outlinewidth": 0,
             "ticks": ""
            },
            "colorscale": [
             [
              0,
              "#0d0887"
             ],
             [
              0.1111111111111111,
              "#46039f"
             ],
             [
              0.2222222222222222,
              "#7201a8"
             ],
             [
              0.3333333333333333,
              "#9c179e"
             ],
             [
              0.4444444444444444,
              "#bd3786"
             ],
             [
              0.5555555555555556,
              "#d8576b"
             ],
             [
              0.6666666666666666,
              "#ed7953"
             ],
             [
              0.7777777777777778,
              "#fb9f3a"
             ],
             [
              0.8888888888888888,
              "#fdca26"
             ],
             [
              1,
              "#f0f921"
             ]
            ],
            "type": "surface"
           }
          ],
          "table": [
           {
            "cells": {
             "fill": {
              "color": "#EBF0F8"
             },
             "line": {
              "color": "white"
             }
            },
            "header": {
             "fill": {
              "color": "#C8D4E3"
             },
             "line": {
              "color": "white"
             }
            },
            "type": "table"
           }
          ]
         },
         "layout": {
          "annotationdefaults": {
           "arrowcolor": "#2a3f5f",
           "arrowhead": 0,
           "arrowwidth": 1
          },
          "autotypenumbers": "strict",
          "coloraxis": {
           "colorbar": {
            "outlinewidth": 0,
            "ticks": ""
           }
          },
          "colorscale": {
           "diverging": [
            [
             0,
             "#8e0152"
            ],
            [
             0.1,
             "#c51b7d"
            ],
            [
             0.2,
             "#de77ae"
            ],
            [
             0.3,
             "#f1b6da"
            ],
            [
             0.4,
             "#fde0ef"
            ],
            [
             0.5,
             "#f7f7f7"
            ],
            [
             0.6,
             "#e6f5d0"
            ],
            [
             0.7,
             "#b8e186"
            ],
            [
             0.8,
             "#7fbc41"
            ],
            [
             0.9,
             "#4d9221"
            ],
            [
             1,
             "#276419"
            ]
           ],
           "sequential": [
            [
             0,
             "#0d0887"
            ],
            [
             0.1111111111111111,
             "#46039f"
            ],
            [
             0.2222222222222222,
             "#7201a8"
            ],
            [
             0.3333333333333333,
             "#9c179e"
            ],
            [
             0.4444444444444444,
             "#bd3786"
            ],
            [
             0.5555555555555556,
             "#d8576b"
            ],
            [
             0.6666666666666666,
             "#ed7953"
            ],
            [
             0.7777777777777778,
             "#fb9f3a"
            ],
            [
             0.8888888888888888,
             "#fdca26"
            ],
            [
             1,
             "#f0f921"
            ]
           ],
           "sequentialminus": [
            [
             0,
             "#0d0887"
            ],
            [
             0.1111111111111111,
             "#46039f"
            ],
            [
             0.2222222222222222,
             "#7201a8"
            ],
            [
             0.3333333333333333,
             "#9c179e"
            ],
            [
             0.4444444444444444,
             "#bd3786"
            ],
            [
             0.5555555555555556,
             "#d8576b"
            ],
            [
             0.6666666666666666,
             "#ed7953"
            ],
            [
             0.7777777777777778,
             "#fb9f3a"
            ],
            [
             0.8888888888888888,
             "#fdca26"
            ],
            [
             1,
             "#f0f921"
            ]
           ]
          },
          "colorway": [
           "#636efa",
           "#EF553B",
           "#00cc96",
           "#ab63fa",
           "#FFA15A",
           "#19d3f3",
           "#FF6692",
           "#B6E880",
           "#FF97FF",
           "#FECB52"
          ],
          "font": {
           "color": "#2a3f5f"
          },
          "geo": {
           "bgcolor": "white",
           "lakecolor": "white",
           "landcolor": "#E5ECF6",
           "showlakes": true,
           "showland": true,
           "subunitcolor": "white"
          },
          "hoverlabel": {
           "align": "left"
          },
          "hovermode": "closest",
          "mapbox": {
           "style": "light"
          },
          "paper_bgcolor": "white",
          "plot_bgcolor": "#E5ECF6",
          "polar": {
           "angularaxis": {
            "gridcolor": "white",
            "linecolor": "white",
            "ticks": ""
           },
           "bgcolor": "#E5ECF6",
           "radialaxis": {
            "gridcolor": "white",
            "linecolor": "white",
            "ticks": ""
           }
          },
          "scene": {
           "xaxis": {
            "backgroundcolor": "#E5ECF6",
            "gridcolor": "white",
            "gridwidth": 2,
            "linecolor": "white",
            "showbackground": true,
            "ticks": "",
            "zerolinecolor": "white"
           },
           "yaxis": {
            "backgroundcolor": "#E5ECF6",
            "gridcolor": "white",
            "gridwidth": 2,
            "linecolor": "white",
            "showbackground": true,
            "ticks": "",
            "zerolinecolor": "white"
           },
           "zaxis": {
            "backgroundcolor": "#E5ECF6",
            "gridcolor": "white",
            "gridwidth": 2,
            "linecolor": "white",
            "showbackground": true,
            "ticks": "",
            "zerolinecolor": "white"
           }
          },
          "shapedefaults": {
           "line": {
            "color": "#2a3f5f"
           }
          },
          "ternary": {
           "aaxis": {
            "gridcolor": "white",
            "linecolor": "white",
            "ticks": ""
           },
           "baxis": {
            "gridcolor": "white",
            "linecolor": "white",
            "ticks": ""
           },
           "bgcolor": "#E5ECF6",
           "caxis": {
            "gridcolor": "white",
            "linecolor": "white",
            "ticks": ""
           }
          },
          "title": {
           "x": 0.05
          },
          "xaxis": {
           "automargin": true,
           "gridcolor": "white",
           "linecolor": "white",
           "ticks": "",
           "title": {
            "standoff": 15
           },
           "zerolinecolor": "white",
           "zerolinewidth": 2
          },
          "yaxis": {
           "automargin": true,
           "gridcolor": "white",
           "linecolor": "white",
           "ticks": "",
           "title": {
            "standoff": 15
           },
           "zerolinecolor": "white",
           "zerolinewidth": 2
          }
         }
        },
        "xaxis": {
         "anchor": "y",
         "domain": [
          0,
          1
         ],
         "title": {
          "text": "region"
         }
        },
        "yaxis": {
         "anchor": "x",
         "domain": [
          0,
          1
         ],
         "title": {
          "text": "mean"
         }
        }
       }
      }
     },
     "metadata": {},
     "output_type": "display_data"
    }
   ],
   "source": [
    "grouped = df.groupby('region')['charges'].agg(['mean', 'std'])\n",
    "fig = px.bar(grouped, x=grouped.index, y='mean', error_y='std', labels={'x':'Categories', 'y':'Mean Medical Costs'})\n",
    "fig.show()"
   ]
  },
  {
   "attachments": {},
   "cell_type": "markdown",
   "metadata": {},
   "source": [
    "4.  How is the distribution of numerical variables? "
   ]
  },
  {
   "cell_type": "code",
   "execution_count": null,
   "metadata": {},
   "outputs": [
    {
     "data": {
      "application/vnd.plotly.v1+json": {
       "config": {
        "plotlyServerURL": "https://plot.ly"
       },
       "data": [
        {
         "alignmentgroup": "True",
         "bingroup": "x",
         "histfunc": "avg",
         "hovertemplate": "children=%{x}<br>avg of charges=%{y}<extra></extra>",
         "legendgroup": "",
         "marker": {
          "color": "#636efa",
          "pattern": {
           "shape": ""
          }
         },
         "name": "",
         "offsetgroup": "",
         "orientation": "v",
         "showlegend": false,
         "type": "histogram",
         "x": [
          0,
          1,
          3,
          0,
          0,
          0,
          1,
          3,
          2,
          0,
          0,
          0,
          0,
          0,
          0,
          1,
          1,
          0,
          0,
          0,
          0,
          1,
          0,
          1,
          2,
          3,
          0,
          2,
          1,
          2,
          0,
          0,
          5,
          0,
          1,
          0,
          3,
          0,
          1,
          0,
          0,
          2,
          1,
          2,
          1,
          0,
          2,
          0,
          0,
          1,
          0,
          2,
          1,
          0,
          3,
          2,
          2,
          2,
          1,
          2,
          3,
          4,
          1,
          1,
          0,
          0,
          2,
          1,
          0,
          3,
          0,
          5,
          3,
          1,
          2,
          0,
          1,
          0,
          0,
          0,
          1,
          0,
          1,
          4,
          2,
          2,
          0,
          0,
          0,
          0,
          0,
          1,
          3,
          2,
          2,
          1,
          3,
          0,
          0,
          0,
          0,
          0,
          0,
          3,
          1,
          1,
          1,
          2,
          0,
          0,
          1,
          2,
          0,
          0,
          3,
          0,
          0,
          1,
          0,
          2,
          2,
          0,
          0,
          1,
          3,
          0,
          0,
          0,
          2,
          2,
          0,
          0,
          2,
          0,
          0,
          0,
          0,
          0,
          3,
          0,
          2,
          1,
          2,
          2,
          3,
          3,
          3,
          1,
          1,
          1,
          1,
          0,
          3,
          0,
          1,
          0,
          0,
          0,
          0,
          3,
          0,
          0,
          1,
          2,
          0,
          4,
          5,
          3,
          1,
          3,
          0,
          0,
          0,
          1,
          0,
          0,
          2,
          1,
          2,
          3,
          0,
          0,
          3,
          0,
          2,
          3,
          2,
          3,
          1,
          2,
          0,
          0,
          0,
          1,
          0,
          0,
          0,
          2,
          0,
          0,
          0,
          1,
          0,
          0,
          0,
          1,
          0,
          2,
          0,
          1,
          1,
          4,
          2,
          1,
          2,
          2,
          0,
          0,
          1,
          0,
          1,
          0,
          3,
          0,
          0,
          3,
          0,
          0,
          1,
          2,
          1,
          3,
          0,
          1,
          2,
          2,
          0,
          2,
          0,
          1,
          2,
          1,
          1,
          3,
          0,
          0,
          0,
          0,
          1,
          1,
          2,
          2,
          2,
          3,
          0,
          3,
          0,
          0,
          4,
          0,
          0,
          1,
          3,
          0,
          3,
          3,
          1,
          3,
          1,
          1,
          1,
          2,
          2,
          1,
          0,
          2,
          2,
          0,
          2,
          1,
          1,
          3,
          1,
          1,
          0,
          1,
          2,
          0,
          1,
          3,
          0,
          1,
          2,
          0,
          3,
          0,
          0,
          1,
          3,
          1,
          3,
          3,
          2,
          2,
          2,
          2,
          2,
          1,
          0,
          2,
          0,
          0,
          3,
          0,
          0,
          0,
          0,
          0,
          0,
          1,
          1,
          4,
          0,
          0,
          0,
          1,
          1,
          2,
          1,
          0,
          1,
          0,
          0,
          0,
          2,
          0,
          0,
          1,
          1,
          1,
          0,
          0,
          0,
          0,
          4,
          3,
          2,
          1,
          1,
          0,
          0,
          0,
          0,
          0,
          0,
          0,
          3,
          3,
          0,
          0,
          2,
          1,
          0,
          1,
          2,
          1,
          3,
          2,
          2,
          3,
          0,
          0,
          1,
          2,
          0,
          0,
          3,
          0,
          3,
          1,
          2,
          0,
          0,
          2,
          2,
          0,
          0,
          2,
          0,
          3,
          4,
          0,
          1,
          1,
          2,
          0,
          3,
          0,
          2,
          0,
          0,
          1,
          0,
          3,
          0,
          2,
          0,
          1,
          3,
          1,
          0,
          1,
          2,
          5,
          0,
          1,
          0,
          2,
          1,
          0,
          0,
          0,
          1,
          0,
          2,
          5,
          1,
          0,
          1,
          3,
          0,
          2,
          0,
          0,
          1,
          3,
          0,
          3,
          5,
          0,
          1,
          0,
          0,
          1,
          1,
          0,
          0,
          0,
          0,
          1,
          4,
          1,
          0,
          0,
          2,
          0,
          2,
          0,
          0,
          3,
          3,
          0,
          2,
          0,
          0,
          1,
          1,
          2,
          1,
          1,
          0,
          0,
          0,
          0,
          3,
          1,
          0,
          0,
          0,
          0,
          3,
          2,
          0,
          1,
          3,
          0,
          3,
          0,
          0,
          1,
          0,
          0,
          0,
          0,
          4,
          0,
          2,
          2,
          2,
          0,
          0,
          0,
          1,
          0,
          1,
          3,
          1,
          2,
          0,
          0,
          1,
          0,
          0,
          0,
          1,
          0,
          1,
          2,
          1,
          0,
          0,
          0,
          0,
          0,
          1,
          0,
          2,
          1,
          1,
          0,
          1,
          0,
          2,
          0,
          0,
          1,
          3,
          2,
          1,
          0,
          3,
          2,
          0,
          0,
          0,
          2,
          0,
          2,
          0,
          0,
          0,
          0,
          0,
          2,
          0,
          2,
          1,
          0,
          3,
          0,
          2,
          0,
          0,
          1,
          2,
          0,
          1,
          2,
          5,
          2,
          0,
          1,
          2,
          1,
          2,
          0,
          0,
          1,
          1,
          0,
          1,
          0,
          2,
          1,
          0,
          1,
          3,
          1,
          0,
          1,
          0,
          1,
          2,
          1,
          0,
          1,
          2,
          1,
          2,
          2,
          0,
          0,
          0,
          3,
          0,
          0,
          0,
          0,
          2,
          2,
          1,
          2,
          0,
          3,
          0,
          1,
          0,
          2,
          0,
          0,
          1,
          4,
          1,
          0,
          0,
          0,
          3,
          1,
          0,
          0,
          1,
          0,
          0,
          2,
          1,
          0,
          1,
          2,
          0,
          4,
          5,
          3,
          0,
          3,
          2,
          3,
          1,
          3,
          0,
          0,
          2,
          1,
          0,
          2,
          0,
          2,
          1,
          2,
          1,
          4,
          3,
          1,
          1,
          0,
          0,
          2,
          1,
          2,
          0,
          1,
          3,
          0,
          0,
          0,
          2,
          0,
          3,
          3,
          3,
          2,
          1,
          0,
          2,
          0,
          1,
          2,
          2,
          0,
          1,
          1,
          0,
          1,
          1,
          0,
          1,
          0,
          2,
          1,
          0,
          2,
          0,
          0,
          0,
          1,
          1,
          2,
          0,
          3,
          3,
          0,
          1,
          2,
          2,
          0,
          0,
          0,
          1,
          1,
          2,
          0,
          0,
          3,
          0,
          0,
          1,
          3,
          1,
          1,
          0,
          1,
          3,
          1,
          3,
          1,
          3,
          1,
          0,
          2,
          3,
          2,
          2,
          0,
          0,
          0,
          0,
          1,
          2,
          0,
          1,
          0,
          0,
          0,
          0,
          0,
          4,
          2,
          3,
          0,
          3,
          0,
          2,
          1,
          1,
          0,
          2,
          0,
          1,
          1,
          0,
          2,
          3,
          2,
          0,
          0,
          2,
          3,
          2,
          0,
          3,
          0,
          3,
          0,
          1,
          1,
          1,
          3,
          0,
          0,
          3,
          0,
          0,
          0,
          0,
          0,
          2,
          0,
          2,
          1,
          0,
          0,
          1,
          0,
          1,
          0,
          0,
          0,
          1,
          0,
          0,
          1,
          3,
          3,
          2,
          2,
          2,
          0,
          0,
          3,
          1,
          0,
          1,
          0,
          0,
          2,
          0,
          2,
          2,
          1,
          3,
          1,
          0,
          0,
          2,
          0,
          1,
          2,
          0,
          0,
          2,
          0,
          0,
          0,
          2,
          0,
          0,
          0,
          1,
          1,
          0,
          0,
          0,
          2,
          0,
          2,
          3,
          0,
          0,
          0,
          1,
          0,
          2,
          3,
          2,
          0,
          0,
          2,
          0,
          1,
          0,
          3,
          0,
          1,
          0,
          1,
          3,
          0,
          1,
          5,
          1,
          2,
          3,
          1,
          0,
          3,
          4,
          1,
          0,
          0,
          0,
          1,
          0,
          4,
          0,
          2,
          0,
          0,
          2,
          1,
          0,
          0,
          0,
          0,
          3,
          0,
          0,
          2,
          3,
          1,
          3,
          0,
          1,
          0,
          3,
          1,
          2,
          0,
          0,
          0,
          0,
          1,
          0,
          0,
          1,
          0,
          0,
          2,
          2,
          1,
          0,
          1,
          1,
          1,
          5,
          0,
          2,
          0,
          2,
          5,
          2,
          0,
          0,
          1,
          0,
          0,
          0,
          1,
          2,
          1,
          0,
          3,
          0,
          2,
          1,
          2,
          1,
          1,
          1,
          1,
          1,
          1,
          1,
          0,
          1,
          3,
          2,
          1,
          2,
          1,
          2,
          5,
          3,
          0,
          0,
          0,
          0,
          0,
          0,
          1,
          3,
          0,
          1,
          0,
          3,
          1,
          5,
          1,
          3,
          1,
          0,
          0,
          1,
          2,
          2,
          1,
          3,
          3,
          3,
          0,
          3,
          0,
          2,
          0,
          0,
          0,
          1,
          2,
          2,
          3,
          2,
          1,
          0,
          2,
          4,
          1,
          0,
          0,
          1,
          2,
          3,
          2,
          0,
          3,
          1,
          1,
          1,
          0,
          1,
          0,
          0,
          2,
          1,
          0,
          0,
          0,
          0,
          3,
          2,
          1,
          0,
          2,
          0,
          0,
          0,
          0,
          1,
          2,
          0,
          1,
          1,
          0,
          1,
          0,
          1,
          3,
          0,
          0,
          0,
          0,
          0,
          1,
          0,
          1,
          1,
          3,
          4,
          1,
          2,
          0,
          1,
          1,
          1,
          0,
          0,
          2,
          0,
          1,
          1,
          0,
          0,
          3,
          2,
          1,
          1,
          1,
          2,
          5,
          0,
          0,
          1,
          0,
          0,
          0,
          3,
          0,
          4,
          4,
          2,
          0,
          0,
          1,
          2,
          3,
          1,
          0,
          0,
          0,
          0,
          2,
          1,
          3,
          1,
          3,
          3,
          3,
          0,
          1,
          5,
          2,
          1,
          3,
          0,
          2,
          3,
          1,
          1,
          0,
          0,
          2,
          1,
          0,
          5,
          2,
          0,
          0,
          0,
          3,
          1,
          0,
          0,
          0,
          1,
          3,
          0,
          2,
          2,
          3,
          0,
          0,
          1,
          0,
          0,
          0,
          3,
          1,
          4,
          3,
          0,
          2,
          0,
          0,
          1,
          2,
          1,
          0,
          1,
          0,
          0,
          2,
          2,
          1,
          1,
          2,
          0,
          2,
          2,
          0,
          1,
          1,
          0,
          0,
          1,
          0,
          0,
          1,
          1,
          2,
          3,
          0,
          1,
          0,
          2,
          1,
          1,
          0,
          0,
          3,
          0,
          0,
          1,
          2,
          2,
          2,
          0,
          1,
          3,
          1,
          2,
          2,
          1,
          1,
          1,
          2,
          0,
          2,
          1,
          0,
          0,
          2,
          1,
          3,
          1,
          2,
          0,
          0,
          1,
          1,
          2,
          2,
          0,
          0,
          3,
          0,
          3,
          0,
          2,
          0,
          0,
          0,
          3,
          1,
          2,
          2,
          3,
          0,
          0,
          5,
          3,
          4,
          0,
          1,
          0,
          0,
          0,
          4,
          0,
          0,
          3,
          1,
          3,
          0,
          0,
          1,
          1,
          1,
          2,
          0,
          0,
          0,
          0,
          3,
          1,
          0,
          5,
          1,
          0,
          0,
          0,
          0,
          1,
          2,
          0,
          2,
          0,
          1,
          1,
          0,
          0,
          1,
          2,
          1,
          2,
          0,
          0,
          3,
          0,
          1,
          0,
          2,
          2,
          1,
          0,
          3,
          1,
          0,
          2,
          0,
          0,
          4,
          0,
          2,
          1,
          0,
          1,
          2,
          3,
          1,
          0,
          0,
          4,
          2,
          3,
          0,
          0,
          2,
          1,
          0,
          0,
          1,
          2,
          2,
          2,
          0,
          3,
          3,
          0,
          0,
          0,
          0
         ],
         "xaxis": "x",
         "y": [
          16884.924,
          1725.5523,
          4449.462,
          21984.47061,
          3866.8552,
          3756.6216,
          8240.5896,
          7281.5056,
          6406.4107,
          28923.13692,
          2721.3208,
          27808.7251,
          1826.843,
          11090.7178,
          39611.7577,
          1837.237,
          10797.3362,
          2395.17155,
          10602.385,
          36837.467,
          13228.84695,
          4149.736,
          1137.011,
          37701.8768,
          6203.90175,
          14001.1338,
          14451.83515,
          12268.63225,
          2775.19215,
          38711,
          35585.576,
          2198.18985,
          4687.797,
          13770.0979,
          51194.55914,
          1625.43375,
          15612.19335,
          2302.3,
          39774.2763,
          48173.361,
          3046.062,
          4949.7587,
          6272.4772,
          6313.759,
          6079.6715,
          20630.28351,
          3393.35635,
          3556.9223,
          12629.8967,
          38709.176,
          2211.13075,
          3579.8287,
          23568.272,
          37742.5757,
          8059.6791,
          47496.49445,
          13607.36875,
          34303.1672,
          23244.7902,
          5989.52365,
          8606.2174,
          4504.6624,
          30166.61817,
          4133.64165,
          14711.7438,
          1743.214,
          14235.072,
          6389.37785,
          5920.1041,
          17663.1442,
          16577.7795,
          6799.458,
          11741.726,
          11946.6259,
          7726.854,
          11356.6609,
          3947.4131,
          1532.4697,
          2755.02095,
          6571.02435,
          4441.21315,
          7935.29115,
          37165.1638,
          11033.6617,
          39836.519,
          21098.55405,
          43578.9394,
          11073.176,
          8026.6666,
          11082.5772,
          2026.9741,
          10942.13205,
          30184.9367,
          5729.0053,
          47291.055,
          3766.8838,
          12105.32,
          10226.2842,
          22412.6485,
          15820.699,
          6186.127,
          3645.0894,
          21344.8467,
          30942.1918,
          5003.853,
          17560.37975,
          2331.519,
          3877.30425,
          2867.1196,
          47055.5321,
          10825.2537,
          11881.358,
          4646.759,
          2404.7338,
          11488.31695,
          30259.99556,
          11381.3254,
          19107.7796,
          8601.3293,
          6686.4313,
          7740.337,
          1705.6245,
          2257.47525,
          39556.4945,
          10115.00885,
          3385.39915,
          17081.08,
          9634.538,
          32734.1863,
          6082.405,
          12815.44495,
          13616.3586,
          11163.568,
          1632.56445,
          2457.21115,
          2155.6815,
          1261.442,
          2045.68525,
          27322.73386,
          2166.732,
          27375.90478,
          3490.5491,
          18972.495,
          18157.876,
          20745.9891,
          5138.2567,
          40720.55105,
          9877.6077,
          10959.6947,
          1842.519,
          5125.2157,
          7789.635,
          6334.34355,
          19964.7463,
          7077.1894,
          6948.7008,
          21223.6758,
          15518.18025,
          36950.2567,
          19749.38338,
          21348.706,
          36149.4835,
          10450.552,
          5152.134,
          5028.1466,
          10407.08585,
          4830.63,
          6128.79745,
          2719.27975,
          4827.90495,
          13405.3903,
          8116.68,
          1694.7964,
          5246.047,
          2855.43755,
          48824.45,
          6455.86265,
          10436.096,
          8823.279,
          8538.28845,
          11735.87905,
          1631.8212,
          4005.4225,
          7419.4779,
          7731.4271,
          43753.33705,
          3981.9768,
          5325.651,
          6775.961,
          4922.9159,
          12557.6053,
          4883.866,
          2137.6536,
          12044.342,
          1137.4697,
          1639.5631,
          5649.715,
          8516.829,
          9644.2525,
          14901.5167,
          2130.6759,
          8871.1517,
          13012.20865,
          37133.8982,
          7147.105,
          4337.7352,
          11743.299,
          20984.0936,
          13880.949,
          6610.1097,
          1980.07,
          8162.71625,
          3537.703,
          5002.7827,
          8520.026,
          7371.772,
          10355.641,
          2483.736,
          3392.9768,
          25081.76784,
          5012.471,
          10564.8845,
          5253.524,
          34779.615,
          19515.5416,
          11987.1682,
          2689.4954,
          24227.33724,
          7358.17565,
          9225.2564,
          7443.64305,
          14001.2867,
          1727.785,
          12333.828,
          6710.1919,
          19444.2658,
          1615.7667,
          4463.2051,
          17352.6803,
          7152.6714,
          38511.6283,
          5354.07465,
          35160.13457,
          7196.867,
          29523.1656,
          24476.47851,
          12648.7034,
          1986.9334,
          1832.094,
          4040.55825,
          12829.4551,
          47305.305,
          44260.7499,
          4260.744,
          41097.16175,
          13047.33235,
          43921.1837,
          5400.9805,
          11520.09985,
          33750.2918,
          11837.16,
          17085.2676,
          24869.8368,
          36219.40545,
          20462.99766,
          46151.1245,
          17179.522,
          14590.63205,
          7441.053,
          9282.4806,
          1719.4363,
          42856.838,
          7265.7025,
          9617.66245,
          2523.1695,
          9715.841,
          2803.69785,
          2150.469,
          12928.7911,
          9855.1314,
          22331.5668,
          48549.17835,
          4237.12655,
          11879.10405,
          9625.92,
          7742.1098,
          9432.9253,
          14256.1928,
          47896.79135,
          25992.82104,
          3172.018,
          20277.80751,
          42112.2356,
          2156.7518,
          3906.127,
          1704.5681,
          16297.846,
          21978.6769,
          38746.3551,
          9249.4952,
          6746.7425,
          24873.3849,
          12265.5069,
          4349.462,
          12646.207,
          19442.3535,
          20177.67113,
          4151.0287,
          11944.59435,
          7749.1564,
          8444.474,
          1737.376,
          42124.5153,
          8124.4084,
          34838.873,
          9722.7695,
          8835.26495,
          10435.06525,
          7421.19455,
          4667.60765,
          4894.7533,
          24671.66334,
          35491.64,
          11566.30055,
          2866.091,
          6600.20595,
          3561.8889,
          42760.5022,
          47928.03,
          9144.565,
          48517.56315,
          24393.6224,
          13429.0354,
          11658.37915,
          19144.57652,
          13822.803,
          12142.5786,
          13937.6665,
          41919.097,
          8232.6388,
          18955.22017,
          13352.0998,
          13217.0945,
          13981.85035,
          10977.2063,
          6184.2994,
          4889.9995,
          8334.45755,
          5478.0368,
          1635.73365,
          11830.6072,
          8932.084,
          3554.203,
          12404.8791,
          14133.03775,
          24603.04837,
          8944.1151,
          9620.3307,
          1837.2819,
          1607.5101,
          10043.249,
          4751.07,
          13844.506,
          2597.779,
          3180.5101,
          9778.3472,
          13430.265,
          8017.06115,
          8116.26885,
          3481.868,
          13415.0381,
          12029.2867,
          7639.41745,
          36085.219,
          1391.5287,
          18033.9679,
          21659.9301,
          38126.2465,
          16455.70785,
          27000.98473,
          15006.57945,
          42303.69215,
          20781.48892,
          5846.9176,
          8302.53565,
          1261.859,
          11856.4115,
          30284.64294,
          3176.8159,
          4618.0799,
          10736.87075,
          2138.0707,
          8964.06055,
          9290.1395,
          9411.005,
          7526.70645,
          8522.003,
          16586.49771,
          14988.432,
          1631.6683,
          9264.797,
          8083.9198,
          14692.66935,
          10269.46,
          3260.199,
          11396.9002,
          4185.0979,
          8539.671,
          6652.5288,
          4074.4537,
          1621.3402,
          19594.80965,
          14455.64405,
          5080.096,
          2134.9015,
          7345.7266,
          9140.951,
          18608.262,
          14418.2804,
          28950.4692,
          46889.2612,
          46599.1084,
          39125.33225,
          2727.3951,
          8968.33,
          9788.8659,
          6555.07035,
          7323.734819,
          3167.45585,
          18804.7524,
          23082.95533,
          4906.40965,
          5969.723,
          12638.195,
          4243.59005,
          13919.8229,
          2254.7967,
          5926.846,
          12592.5345,
          2897.3235,
          4738.2682,
          37079.372,
          1149.3959,
          28287.89766,
          26109.32905,
          7345.084,
          12730.9996,
          11454.0215,
          5910.944,
          4762.329,
          7512.267,
          4032.2407,
          1969.614,
          1769.53165,
          4686.3887,
          21797.0004,
          11881.9696,
          11840.77505,
          10601.412,
          7682.67,
          10381.4787,
          22144.032,
          15230.32405,
          11165.41765,
          1632.03625,
          19521.9682,
          13224.693,
          12643.3778,
          23288.9284,
          2201.0971,
          2497.0383,
          2203.47185,
          1744.465,
          20878.78443,
          25382.297,
          28868.6639,
          35147.52848,
          2534.39375,
          1534.3045,
          1824.2854,
          15555.18875,
          9304.7019,
          1622.1885,
          9880.068,
          9563.029,
          4347.02335,
          12475.3513,
          1253.936,
          48885.13561,
          10461.9794,
          1748.774,
          24513.09126,
          2196.4732,
          12574.049,
          17942.106,
          1967.0227,
          4931.647,
          8027.968,
          8211.1002,
          13470.86,
          36197.699,
          6837.3687,
          22218.1149,
          32548.3405,
          5974.3847,
          6796.86325,
          2643.2685,
          3077.0955,
          3044.2133,
          11455.28,
          11763.0009,
          2498.4144,
          9361.3268,
          1256.299,
          21082.16,
          11362.755,
          27724.28875,
          8413.46305,
          5240.765,
          3857.75925,
          25656.57526,
          3994.1778,
          9866.30485,
          5397.6167,
          38245.59327,
          11482.63485,
          24059.68019,
          9861.025,
          8342.90875,
          1708.0014,
          48675.5177,
          14043.4767,
          12925.886,
          19214.70553,
          13831.1152,
          6067.12675,
          5972.378,
          8825.086,
          8233.0975,
          27346.04207,
          6196.448,
          3056.3881,
          13887.204,
          63770.42801,
          10231.4999,
          23807.2406,
          3268.84665,
          11538.421,
          3213.62205,
          45863.205,
          13390.559,
          3972.9247,
          12957.118,
          11187.6567,
          17878.90068,
          3847.674,
          8334.5896,
          3935.1799,
          39983.42595,
          1646.4297,
          9193.8385,
          10923.9332,
          2494.022,
          9058.7303,
          2801.2588,
          2128.43105,
          6373.55735,
          7256.7231,
          11552.904,
          45702.02235,
          3761.292,
          2219.4451,
          4753.6368,
          31620.00106,
          13224.05705,
          12222.8983,
          1664.9996,
          58571.07448,
          9724.53,
          3206.49135,
          12913.9924,
          1639.5631,
          6356.2707,
          17626.23951,
          1242.816,
          4779.6023,
          3861.20965,
          43943.8761,
          13635.6379,
          5976.8311,
          11842.442,
          8428.0693,
          2566.4707,
          15359.1045,
          5709.1644,
          8823.98575,
          7640.3092,
          5594.8455,
          7441.501,
          33471.97189,
          1633.0444,
          9174.13565,
          11070.535,
          16085.1275,
          17468.9839,
          9283.562,
          3558.62025,
          25678.77845,
          4435.0942,
          39241.442,
          8547.6913,
          6571.544,
          2207.69745,
          6753.038,
          1880.07,
          42969.8527,
          11658.11505,
          23306.547,
          34439.8559,
          10713.644,
          3659.346,
          40182.246,
          9182.17,
          34617.84065,
          12129.61415,
          3736.4647,
          6748.5912,
          11326.71487,
          11365.952,
          42983.4585,
          10085.846,
          1977.815,
          3366.6697,
          7173.35995,
          9391.346,
          14410.9321,
          2709.1119,
          24915.04626,
          20149.3229,
          12949.1554,
          6666.243,
          32787.45859,
          13143.86485,
          4466.6214,
          18806.14547,
          10141.1362,
          6123.5688,
          8252.2843,
          1712.227,
          12430.95335,
          9800.8882,
          10579.711,
          8280.6227,
          8527.532,
          12244.531,
          24667.419,
          3410.324,
          4058.71245,
          26392.26029,
          14394.39815,
          6435.6237,
          22192.43711,
          5148.5526,
          1136.3994,
          27037.9141,
          42560.4304,
          8703.456,
          40003.33225,
          45710.20785,
          6500.2359,
          4837.5823,
          3943.5954,
          4399.731,
          6185.3208,
          46200.9851,
          7222.78625,
          12485.8009,
          46130.5265,
          12363.547,
          10156.7832,
          2585.269,
          1242.26,
          40103.89,
          9863.4718,
          4766.022,
          11244.3769,
          7729.64575,
          5438.7491,
          26236.57997,
          34806.4677,
          2104.1134,
          8068.185,
          2362.22905,
          2352.96845,
          3577.999,
          3201.24515,
          29186.48236,
          40273.6455,
          10976.24575,
          3500.6123,
          2020.5523,
          9541.69555,
          9504.3103,
          5385.3379,
          8930.93455,
          5375.038,
          44400.4064,
          10264.4421,
          6113.23105,
          5469.0066,
          1727.54,
          10107.2206,
          8310.83915,
          1984.4533,
          2457.502,
          12146.971,
          9566.9909,
          13112.6048,
          10848.1343,
          12231.6136,
          9875.6804,
          11264.541,
          12979.358,
          1263.249,
          10106.13425,
          40932.4295,
          6664.68595,
          16657.71745,
          2217.6012,
          6781.3542,
          19361.9988,
          10065.413,
          4234.927,
          9447.25035,
          14007.222,
          9583.8933,
          40419.0191,
          3484.331,
          36189.1017,
          44585.45587,
          8604.48365,
          18246.4955,
          43254.41795,
          3757.8448,
          8827.2099,
          9910.35985,
          11737.84884,
          1627.28245,
          8556.907,
          3062.50825,
          19539.243,
          1906.35825,
          14210.53595,
          11833.7823,
          17128.42608,
          5031.26955,
          7985.815,
          23065.4207,
          5428.7277,
          36307.7983,
          3925.7582,
          2416.955,
          19040.876,
          3070.8087,
          9095.06825,
          11842.62375,
          8062.764,
          7050.642,
          14319.031,
          6933.24225,
          27941.28758,
          11150.78,
          12797.20962,
          17748.5062,
          7261.741,
          10560.4917,
          6986.697,
          7448.40395,
          5934.3798,
          9869.8102,
          18259.216,
          1146.7966,
          9386.1613,
          24520.264,
          4350.5144,
          6414.178,
          12741.16745,
          1917.3184,
          5209.57885,
          13457.9608,
          5662.225,
          1252.407,
          2731.9122,
          21195.818,
          7209.4918,
          18310.742,
          4266.1658,
          4719.52405,
          11848.141,
          17904.52705,
          7046.7222,
          14313.8463,
          2103.08,
          38792.6856,
          1815.8759,
          7731.85785,
          28476.73499,
          2136.88225,
          1131.5066,
          3309.7926,
          9414.92,
          6360.9936,
          11013.7119,
          4428.88785,
          5584.3057,
          1877.9294,
          2842.76075,
          3597.596,
          23401.30575,
          55135.40209,
          7445.918,
          2680.9493,
          1621.8827,
          8219.2039,
          12523.6048,
          16069.08475,
          43813.8661,
          20773.62775,
          39597.4072,
          6117.4945,
          13393.756,
          5266.3656,
          4719.73655,
          11743.9341,
          5377.4578,
          7160.3303,
          4402.233,
          11657.7189,
          6402.29135,
          12622.1795,
          1526.312,
          12323.936,
          36021.0112,
          27533.9129,
          10072.05505,
          45008.9555,
          9872.701,
          2438.0552,
          2974.126,
          10601.63225,
          37270.1512,
          14119.62,
          42111.6647,
          11729.6795,
          24106.91255,
          1875.344,
          40974.1649,
          15817.9857,
          18218.16139,
          10965.446,
          46113.511,
          7151.092,
          12269.68865,
          5458.04645,
          8782.469,
          6600.361,
          1141.4451,
          11576.13,
          13129.60345,
          4391.652,
          8457.818,
          3392.3652,
          5966.8874,
          6849.026,
          8891.1395,
          2690.1138,
          26140.3603,
          6653.7886,
          6282.235,
          6311.952,
          3443.064,
          2789.0574,
          2585.85065,
          46255.1125,
          4877.98105,
          19719.6947,
          27218.43725,
          5272.1758,
          1682.597,
          11945.1327,
          29330.98315,
          7243.8136,
          10422.91665,
          44202.6536,
          13555.0049,
          13063.883,
          19798.05455,
          2221.56445,
          1634.5734,
          2117.33885,
          8688.85885,
          48673.5588,
          4661.28635,
          8125.7845,
          12644.589,
          4564.19145,
          4846.92015,
          7633.7206,
          15170.069,
          17496.306,
          2639.0429,
          33732.6867,
          14382.70905,
          7626.993,
          5257.50795,
          2473.3341,
          21774.32215,
          35069.37452,
          13041.921,
          5245.2269,
          13451.122,
          13462.52,
          5488.262,
          4320.41085,
          6250.435,
          25333.33284,
          2913.569,
          12032.326,
          13470.8044,
          6289.7549,
          2927.0647,
          6238.298,
          10096.97,
          7348.142,
          4673.3922,
          12233.828,
          32108.66282,
          8965.79575,
          2304.0022,
          9487.6442,
          1121.8739,
          9549.5651,
          2217.46915,
          1628.4709,
          12982.8747,
          11674.13,
          7160.094,
          39047.285,
          6358.77645,
          19933.458,
          11534.87265,
          47462.894,
          4527.18295,
          38998.546,
          20009.63365,
          3875.7341,
          41999.52,
          12609.88702,
          41034.2214,
          28468.91901,
          2730.10785,
          3353.284,
          14474.675,
          9500.57305,
          26467.09737,
          4746.344,
          23967.38305,
          7518.02535,
          3279.86855,
          8596.8278,
          10702.6424,
          4992.3764,
          2527.81865,
          1759.338,
          2322.6218,
          16138.76205,
          7804.1605,
          2902.9065,
          9704.66805,
          4889.0368,
          25517.11363,
          4500.33925,
          19199.944,
          16796.41194,
          4915.05985,
          7624.63,
          8410.04685,
          28340.18885,
          4518.82625,
          14571.8908,
          3378.91,
          7144.86265,
          10118.424,
          5484.4673,
          16420.49455,
          7986.47525,
          7418.522,
          13887.9685,
          6551.7501,
          5267.81815,
          17361.7661,
          34472.841,
          1972.95,
          21232.18226,
          8627.5411,
          4433.3877,
          4438.2634,
          24915.22085,
          23241.47453,
          9957.7216,
          8269.044,
          18767.7377,
          36580.28216,
          8765.249,
          5383.536,
          12124.9924,
          2709.24395,
          3987.926,
          12495.29085,
          26018.95052,
          8798.593,
          35595.5898,
          42211.1382,
          1711.0268,
          8569.8618,
          2020.177,
          16450.8947,
          21595.38229,
          9850.432,
          6877.9801,
          21677.28345,
          44423.803,
          4137.5227,
          13747.87235,
          12950.0712,
          12094.478,
          37484.4493,
          39725.51805,
          2250.8352,
          22493.65964,
          20234.85475,
          1704.70015,
          33475.81715,
          3161.454,
          11394.06555,
          21880.82,
          7325.0482,
          44501.3982,
          3594.17085,
          39727.614,
          8023.13545,
          14394.5579,
          9288.0267,
          25309.489,
          3353.4703,
          10594.50155,
          8277.523,
          17929.30337,
          2480.9791,
          4462.7218,
          1981.5819,
          11554.2236,
          48970.2476,
          6548.19505,
          5708.867,
          7045.499,
          8978.1851,
          5757.41345,
          14349.8544,
          10928.849,
          39871.7043,
          13974.45555,
          1909.52745,
          12096.6512,
          13204.28565,
          4562.8421,
          8551.347,
          2102.2647,
          34672.1472,
          15161.5344,
          11884.04858,
          4454.40265,
          5855.9025,
          4076.497,
          15019.76005,
          19023.26,
          10796.35025,
          11353.2276,
          9748.9106,
          10577.087,
          41676.0811,
          11286.5387,
          3591.48,
          33907.548,
          11299.343,
          4561.1885,
          44641.1974,
          1674.6323,
          23045.56616,
          3227.1211,
          16776.30405,
          11253.421,
          3471.4096,
          11363.2832,
          20420.60465,
          10338.9316,
          8988.15875,
          10493.9458,
          2904.088,
          8605.3615,
          11512.405,
          41949.2441,
          24180.9335,
          5312.16985,
          2396.0959,
          10807.4863,
          9222.4026,
          36124.5737,
          38282.7495,
          5693.4305,
          34166.273,
          8347.1643,
          46661.4424,
          18903.49141,
          40904.1995,
          14254.6082,
          10214.636,
          5836.5204,
          14358.36437,
          1728.897,
          8582.3023,
          3693.428,
          20709.02034,
          9991.03765,
          19673.33573,
          11085.5868,
          7623.518,
          3176.2877,
          3704.3545,
          36898.73308,
          9048.0273,
          7954.517,
          27117.99378,
          6338.0756,
          9630.397,
          11289.10925,
          52590.82939,
          2261.5688,
          10791.96,
          5979.731,
          2203.73595,
          12235.8392,
          40941.2854,
          5630.45785,
          11015.1747,
          7228.21565,
          39722.7462,
          14426.07385,
          2459.7201,
          3989.841,
          7727.2532,
          5124.1887,
          18963.17192,
          2200.83085,
          7153.5539,
          5227.98875,
          10982.5013,
          4529.477,
          4670.64,
          6112.35295,
          17178.6824,
          22478.6,
          11093.6229,
          6457.8434,
          4433.9159,
          2154.361,
          23887.6627,
          6496.886,
          2899.48935,
          19350.3689,
          7650.77375,
          2850.68375,
          2632.992,
          9447.3824,
          18328.2381,
          8603.8234,
          37465.34375,
          13844.7972,
          21771.3423,
          13126.67745,
          5327.40025,
          13725.47184,
          13019.16105,
          8671.19125,
          4134.08245,
          18838.70366,
          33307.5508,
          5699.8375,
          6393.60345,
          4934.705,
          6198.7518,
          8733.22925,
          2055.3249,
          9964.06,
          18223.4512,
          5116.5004,
          36910.60803,
          38415.474,
          20296.86345,
          12347.172,
          5373.36425,
          23563.01618,
          1702.4553,
          10806.839,
          3956.07145,
          12890.05765,
          5415.6612,
          4058.1161,
          41661.602,
          7537.1639,
          4718.20355,
          6593.5083,
          8442.667,
          26125.67477,
          6858.4796,
          4795.6568,
          6640.54485,
          7162.0122,
          10594.2257,
          11938.25595,
          60021.39897,
          20167.33603,
          12479.70895,
          11345.519,
          8515.7587,
          2699.56835,
          14449.8544,
          12224.35085,
          6985.50695,
          3238.4357,
          47269.854,
          49577.6624,
          4296.2712,
          3171.6149,
          1135.9407,
          5615.369,
          9101.798,
          6059.173,
          1633.9618,
          37607.5277,
          18648.4217,
          1241.565,
          16232.847,
          15828.82173,
          4415.1588,
          6474.013,
          11436.73815,
          11305.93455,
          30063.58055,
          10197.7722,
          4544.2348,
          3277.161,
          6770.1925,
          7337.748,
          10370.91255,
          26926.5144,
          10704.47,
          34254.05335,
          1880.487,
          8615.3,
          3292.52985,
          3021.80915,
          14478.33015,
          4747.0529,
          17043.3414,
          10959.33,
          2741.948,
          4357.04365,
          22462.04375,
          4189.1131,
          8283.6807,
          24535.69855,
          14283.4594,
          1720.3537,
          47403.88,
          8534.6718,
          3732.6251,
          5472.449,
          38344.566,
          7147.4728,
          7133.9025,
          34828.654,
          1515.3449,
          9301.89355,
          11931.12525,
          1964.78,
          1708.92575,
          4340.4409,
          5261.46945,
          2710.82855,
          62592.87309,
          46718.16325,
          3208.787,
          37829.7242,
          21259.37795,
          2464.6188,
          16115.3045,
          21472.4788,
          33900.653,
          6875.961,
          6940.90985,
          4571.41305,
          4536.259,
          36397.576,
          18765.87545,
          11272.33139,
          1731.677,
          1163.4627,
          19496.71917,
          7201.70085,
          5425.02335,
          28101.33305,
          12981.3457,
          43896.3763,
          4239.89265,
          13143.33665,
          7050.0213,
          9377.9047,
          22395.74424,
          10325.206,
          12629.1656,
          10795.93733,
          11411.685,
          10600.5483,
          2205.9808,
          1629.8335,
          2007.945,
          29141.3603
         ],
         "yaxis": "y"
        }
       ],
       "layout": {
        "barmode": "relative",
        "legend": {
         "tracegroupgap": 0
        },
        "margin": {
         "t": 60
        },
        "template": {
         "data": {
          "bar": [
           {
            "error_x": {
             "color": "#2a3f5f"
            },
            "error_y": {
             "color": "#2a3f5f"
            },
            "marker": {
             "line": {
              "color": "#E5ECF6",
              "width": 0.5
             },
             "pattern": {
              "fillmode": "overlay",
              "size": 10,
              "solidity": 0.2
             }
            },
            "type": "bar"
           }
          ],
          "barpolar": [
           {
            "marker": {
             "line": {
              "color": "#E5ECF6",
              "width": 0.5
             },
             "pattern": {
              "fillmode": "overlay",
              "size": 10,
              "solidity": 0.2
             }
            },
            "type": "barpolar"
           }
          ],
          "carpet": [
           {
            "aaxis": {
             "endlinecolor": "#2a3f5f",
             "gridcolor": "white",
             "linecolor": "white",
             "minorgridcolor": "white",
             "startlinecolor": "#2a3f5f"
            },
            "baxis": {
             "endlinecolor": "#2a3f5f",
             "gridcolor": "white",
             "linecolor": "white",
             "minorgridcolor": "white",
             "startlinecolor": "#2a3f5f"
            },
            "type": "carpet"
           }
          ],
          "choropleth": [
           {
            "colorbar": {
             "outlinewidth": 0,
             "ticks": ""
            },
            "type": "choropleth"
           }
          ],
          "contour": [
           {
            "colorbar": {
             "outlinewidth": 0,
             "ticks": ""
            },
            "colorscale": [
             [
              0,
              "#0d0887"
             ],
             [
              0.1111111111111111,
              "#46039f"
             ],
             [
              0.2222222222222222,
              "#7201a8"
             ],
             [
              0.3333333333333333,
              "#9c179e"
             ],
             [
              0.4444444444444444,
              "#bd3786"
             ],
             [
              0.5555555555555556,
              "#d8576b"
             ],
             [
              0.6666666666666666,
              "#ed7953"
             ],
             [
              0.7777777777777778,
              "#fb9f3a"
             ],
             [
              0.8888888888888888,
              "#fdca26"
             ],
             [
              1,
              "#f0f921"
             ]
            ],
            "type": "contour"
           }
          ],
          "contourcarpet": [
           {
            "colorbar": {
             "outlinewidth": 0,
             "ticks": ""
            },
            "type": "contourcarpet"
           }
          ],
          "heatmap": [
           {
            "colorbar": {
             "outlinewidth": 0,
             "ticks": ""
            },
            "colorscale": [
             [
              0,
              "#0d0887"
             ],
             [
              0.1111111111111111,
              "#46039f"
             ],
             [
              0.2222222222222222,
              "#7201a8"
             ],
             [
              0.3333333333333333,
              "#9c179e"
             ],
             [
              0.4444444444444444,
              "#bd3786"
             ],
             [
              0.5555555555555556,
              "#d8576b"
             ],
             [
              0.6666666666666666,
              "#ed7953"
             ],
             [
              0.7777777777777778,
              "#fb9f3a"
             ],
             [
              0.8888888888888888,
              "#fdca26"
             ],
             [
              1,
              "#f0f921"
             ]
            ],
            "type": "heatmap"
           }
          ],
          "heatmapgl": [
           {
            "colorbar": {
             "outlinewidth": 0,
             "ticks": ""
            },
            "colorscale": [
             [
              0,
              "#0d0887"
             ],
             [
              0.1111111111111111,
              "#46039f"
             ],
             [
              0.2222222222222222,
              "#7201a8"
             ],
             [
              0.3333333333333333,
              "#9c179e"
             ],
             [
              0.4444444444444444,
              "#bd3786"
             ],
             [
              0.5555555555555556,
              "#d8576b"
             ],
             [
              0.6666666666666666,
              "#ed7953"
             ],
             [
              0.7777777777777778,
              "#fb9f3a"
             ],
             [
              0.8888888888888888,
              "#fdca26"
             ],
             [
              1,
              "#f0f921"
             ]
            ],
            "type": "heatmapgl"
           }
          ],
          "histogram": [
           {
            "marker": {
             "pattern": {
              "fillmode": "overlay",
              "size": 10,
              "solidity": 0.2
             }
            },
            "type": "histogram"
           }
          ],
          "histogram2d": [
           {
            "colorbar": {
             "outlinewidth": 0,
             "ticks": ""
            },
            "colorscale": [
             [
              0,
              "#0d0887"
             ],
             [
              0.1111111111111111,
              "#46039f"
             ],
             [
              0.2222222222222222,
              "#7201a8"
             ],
             [
              0.3333333333333333,
              "#9c179e"
             ],
             [
              0.4444444444444444,
              "#bd3786"
             ],
             [
              0.5555555555555556,
              "#d8576b"
             ],
             [
              0.6666666666666666,
              "#ed7953"
             ],
             [
              0.7777777777777778,
              "#fb9f3a"
             ],
             [
              0.8888888888888888,
              "#fdca26"
             ],
             [
              1,
              "#f0f921"
             ]
            ],
            "type": "histogram2d"
           }
          ],
          "histogram2dcontour": [
           {
            "colorbar": {
             "outlinewidth": 0,
             "ticks": ""
            },
            "colorscale": [
             [
              0,
              "#0d0887"
             ],
             [
              0.1111111111111111,
              "#46039f"
             ],
             [
              0.2222222222222222,
              "#7201a8"
             ],
             [
              0.3333333333333333,
              "#9c179e"
             ],
             [
              0.4444444444444444,
              "#bd3786"
             ],
             [
              0.5555555555555556,
              "#d8576b"
             ],
             [
              0.6666666666666666,
              "#ed7953"
             ],
             [
              0.7777777777777778,
              "#fb9f3a"
             ],
             [
              0.8888888888888888,
              "#fdca26"
             ],
             [
              1,
              "#f0f921"
             ]
            ],
            "type": "histogram2dcontour"
           }
          ],
          "mesh3d": [
           {
            "colorbar": {
             "outlinewidth": 0,
             "ticks": ""
            },
            "type": "mesh3d"
           }
          ],
          "parcoords": [
           {
            "line": {
             "colorbar": {
              "outlinewidth": 0,
              "ticks": ""
             }
            },
            "type": "parcoords"
           }
          ],
          "pie": [
           {
            "automargin": true,
            "type": "pie"
           }
          ],
          "scatter": [
           {
            "fillpattern": {
             "fillmode": "overlay",
             "size": 10,
             "solidity": 0.2
            },
            "type": "scatter"
           }
          ],
          "scatter3d": [
           {
            "line": {
             "colorbar": {
              "outlinewidth": 0,
              "ticks": ""
             }
            },
            "marker": {
             "colorbar": {
              "outlinewidth": 0,
              "ticks": ""
             }
            },
            "type": "scatter3d"
           }
          ],
          "scattercarpet": [
           {
            "marker": {
             "colorbar": {
              "outlinewidth": 0,
              "ticks": ""
             }
            },
            "type": "scattercarpet"
           }
          ],
          "scattergeo": [
           {
            "marker": {
             "colorbar": {
              "outlinewidth": 0,
              "ticks": ""
             }
            },
            "type": "scattergeo"
           }
          ],
          "scattergl": [
           {
            "marker": {
             "colorbar": {
              "outlinewidth": 0,
              "ticks": ""
             }
            },
            "type": "scattergl"
           }
          ],
          "scattermapbox": [
           {
            "marker": {
             "colorbar": {
              "outlinewidth": 0,
              "ticks": ""
             }
            },
            "type": "scattermapbox"
           }
          ],
          "scatterpolar": [
           {
            "marker": {
             "colorbar": {
              "outlinewidth": 0,
              "ticks": ""
             }
            },
            "type": "scatterpolar"
           }
          ],
          "scatterpolargl": [
           {
            "marker": {
             "colorbar": {
              "outlinewidth": 0,
              "ticks": ""
             }
            },
            "type": "scatterpolargl"
           }
          ],
          "scatterternary": [
           {
            "marker": {
             "colorbar": {
              "outlinewidth": 0,
              "ticks": ""
             }
            },
            "type": "scatterternary"
           }
          ],
          "surface": [
           {
            "colorbar": {
             "outlinewidth": 0,
             "ticks": ""
            },
            "colorscale": [
             [
              0,
              "#0d0887"
             ],
             [
              0.1111111111111111,
              "#46039f"
             ],
             [
              0.2222222222222222,
              "#7201a8"
             ],
             [
              0.3333333333333333,
              "#9c179e"
             ],
             [
              0.4444444444444444,
              "#bd3786"
             ],
             [
              0.5555555555555556,
              "#d8576b"
             ],
             [
              0.6666666666666666,
              "#ed7953"
             ],
             [
              0.7777777777777778,
              "#fb9f3a"
             ],
             [
              0.8888888888888888,
              "#fdca26"
             ],
             [
              1,
              "#f0f921"
             ]
            ],
            "type": "surface"
           }
          ],
          "table": [
           {
            "cells": {
             "fill": {
              "color": "#EBF0F8"
             },
             "line": {
              "color": "white"
             }
            },
            "header": {
             "fill": {
              "color": "#C8D4E3"
             },
             "line": {
              "color": "white"
             }
            },
            "type": "table"
           }
          ]
         },
         "layout": {
          "annotationdefaults": {
           "arrowcolor": "#2a3f5f",
           "arrowhead": 0,
           "arrowwidth": 1
          },
          "autotypenumbers": "strict",
          "coloraxis": {
           "colorbar": {
            "outlinewidth": 0,
            "ticks": ""
           }
          },
          "colorscale": {
           "diverging": [
            [
             0,
             "#8e0152"
            ],
            [
             0.1,
             "#c51b7d"
            ],
            [
             0.2,
             "#de77ae"
            ],
            [
             0.3,
             "#f1b6da"
            ],
            [
             0.4,
             "#fde0ef"
            ],
            [
             0.5,
             "#f7f7f7"
            ],
            [
             0.6,
             "#e6f5d0"
            ],
            [
             0.7,
             "#b8e186"
            ],
            [
             0.8,
             "#7fbc41"
            ],
            [
             0.9,
             "#4d9221"
            ],
            [
             1,
             "#276419"
            ]
           ],
           "sequential": [
            [
             0,
             "#0d0887"
            ],
            [
             0.1111111111111111,
             "#46039f"
            ],
            [
             0.2222222222222222,
             "#7201a8"
            ],
            [
             0.3333333333333333,
             "#9c179e"
            ],
            [
             0.4444444444444444,
             "#bd3786"
            ],
            [
             0.5555555555555556,
             "#d8576b"
            ],
            [
             0.6666666666666666,
             "#ed7953"
            ],
            [
             0.7777777777777778,
             "#fb9f3a"
            ],
            [
             0.8888888888888888,
             "#fdca26"
            ],
            [
             1,
             "#f0f921"
            ]
           ],
           "sequentialminus": [
            [
             0,
             "#0d0887"
            ],
            [
             0.1111111111111111,
             "#46039f"
            ],
            [
             0.2222222222222222,
             "#7201a8"
            ],
            [
             0.3333333333333333,
             "#9c179e"
            ],
            [
             0.4444444444444444,
             "#bd3786"
            ],
            [
             0.5555555555555556,
             "#d8576b"
            ],
            [
             0.6666666666666666,
             "#ed7953"
            ],
            [
             0.7777777777777778,
             "#fb9f3a"
            ],
            [
             0.8888888888888888,
             "#fdca26"
            ],
            [
             1,
             "#f0f921"
            ]
           ]
          },
          "colorway": [
           "#636efa",
           "#EF553B",
           "#00cc96",
           "#ab63fa",
           "#FFA15A",
           "#19d3f3",
           "#FF6692",
           "#B6E880",
           "#FF97FF",
           "#FECB52"
          ],
          "font": {
           "color": "#2a3f5f"
          },
          "geo": {
           "bgcolor": "white",
           "lakecolor": "white",
           "landcolor": "#E5ECF6",
           "showlakes": true,
           "showland": true,
           "subunitcolor": "white"
          },
          "hoverlabel": {
           "align": "left"
          },
          "hovermode": "closest",
          "mapbox": {
           "style": "light"
          },
          "paper_bgcolor": "white",
          "plot_bgcolor": "#E5ECF6",
          "polar": {
           "angularaxis": {
            "gridcolor": "white",
            "linecolor": "white",
            "ticks": ""
           },
           "bgcolor": "#E5ECF6",
           "radialaxis": {
            "gridcolor": "white",
            "linecolor": "white",
            "ticks": ""
           }
          },
          "scene": {
           "xaxis": {
            "backgroundcolor": "#E5ECF6",
            "gridcolor": "white",
            "gridwidth": 2,
            "linecolor": "white",
            "showbackground": true,
            "ticks": "",
            "zerolinecolor": "white"
           },
           "yaxis": {
            "backgroundcolor": "#E5ECF6",
            "gridcolor": "white",
            "gridwidth": 2,
            "linecolor": "white",
            "showbackground": true,
            "ticks": "",
            "zerolinecolor": "white"
           },
           "zaxis": {
            "backgroundcolor": "#E5ECF6",
            "gridcolor": "white",
            "gridwidth": 2,
            "linecolor": "white",
            "showbackground": true,
            "ticks": "",
            "zerolinecolor": "white"
           }
          },
          "shapedefaults": {
           "line": {
            "color": "#2a3f5f"
           }
          },
          "ternary": {
           "aaxis": {
            "gridcolor": "white",
            "linecolor": "white",
            "ticks": ""
           },
           "baxis": {
            "gridcolor": "white",
            "linecolor": "white",
            "ticks": ""
           },
           "bgcolor": "#E5ECF6",
           "caxis": {
            "gridcolor": "white",
            "linecolor": "white",
            "ticks": ""
           }
          },
          "title": {
           "x": 0.05
          },
          "xaxis": {
           "automargin": true,
           "gridcolor": "white",
           "linecolor": "white",
           "ticks": "",
           "title": {
            "standoff": 15
           },
           "zerolinecolor": "white",
           "zerolinewidth": 2
          },
          "yaxis": {
           "automargin": true,
           "gridcolor": "white",
           "linecolor": "white",
           "ticks": "",
           "title": {
            "standoff": 15
           },
           "zerolinecolor": "white",
           "zerolinewidth": 2
          }
         }
        },
        "xaxis": {
         "anchor": "y",
         "domain": [
          0,
          1
         ],
         "title": {
          "text": "children"
         }
        },
        "yaxis": {
         "anchor": "x",
         "domain": [
          0,
          1
         ],
         "title": {
          "text": "avg of charges"
         }
        }
       }
      }
     },
     "metadata": {},
     "output_type": "display_data"
    }
   ],
   "source": [
    "fig = px.histogram(df, x=\"children\", y=\"charges\", histfunc='avg')\n",
    "fig.show()"
   ]
  },
  {
   "cell_type": "code",
   "execution_count": 27,
   "metadata": {},
   "outputs": [
    {
     "data": {
      "application/vnd.plotly.v1+json": {
       "config": {
        "plotlyServerURL": "https://plot.ly"
       },
       "data": [
        {
         "customdata": [
          [
           0,
           "yes",
           "southwest",
           "female"
          ],
          [
           1,
           "no",
           "southeast",
           "male"
          ],
          [
           3,
           "no",
           "southeast",
           "male"
          ],
          [
           0,
           "no",
           "northwest",
           "male"
          ],
          [
           0,
           "no",
           "northwest",
           "male"
          ],
          [
           0,
           "no",
           "southeast",
           "female"
          ],
          [
           1,
           "no",
           "southeast",
           "female"
          ],
          [
           3,
           "no",
           "northwest",
           "female"
          ],
          [
           2,
           "no",
           "northeast",
           "male"
          ],
          [
           0,
           "no",
           "northwest",
           "female"
          ],
          [
           0,
           "no",
           "northeast",
           "male"
          ],
          [
           0,
           "yes",
           "southeast",
           "female"
          ],
          [
           0,
           "no",
           "southwest",
           "male"
          ],
          [
           0,
           "no",
           "southeast",
           "female"
          ],
          [
           0,
           "yes",
           "southeast",
           "male"
          ],
          [
           1,
           "no",
           "southwest",
           "male"
          ],
          [
           1,
           "no",
           "northeast",
           "female"
          ],
          [
           0,
           "no",
           "northeast",
           "male"
          ],
          [
           0,
           "no",
           "southwest",
           "male"
          ],
          [
           0,
           "yes",
           "southwest",
           "male"
          ],
          [
           0,
           "no",
           "northeast",
           "female"
          ],
          [
           1,
           "no",
           "southwest",
           "female"
          ],
          [
           0,
           "no",
           "southeast",
           "male"
          ],
          [
           1,
           "yes",
           "northeast",
           "female"
          ],
          [
           2,
           "no",
           "northwest",
           "male"
          ],
          [
           3,
           "no",
           "southeast",
           "female"
          ],
          [
           0,
           "no",
           "northeast",
           "female"
          ],
          [
           2,
           "no",
           "northwest",
           "female"
          ],
          [
           1,
           "no",
           "northwest",
           "male"
          ],
          [
           2,
           "yes",
           "southwest",
           "male"
          ],
          [
           0,
           "yes",
           "southwest",
           "male"
          ],
          [
           0,
           "no",
           "northeast",
           "female"
          ],
          [
           5,
           "no",
           "southwest",
           "female"
          ],
          [
           0,
           "no",
           "northwest",
           "male"
          ],
          [
           1,
           "yes",
           "southwest",
           "male"
          ],
          [
           0,
           "no",
           "northwest",
           "male"
          ],
          [
           3,
           "no",
           "northwest",
           "female"
          ],
          [
           0,
           "no",
           "southwest",
           "male"
          ],
          [
           1,
           "yes",
           "northeast",
           "male"
          ],
          [
           0,
           "yes",
           "southwest",
           "male"
          ],
          [
           0,
           "no",
           "northeast",
           "female"
          ],
          [
           2,
           "no",
           "southeast",
           "female"
          ],
          [
           1,
           "no",
           "southeast",
           "male"
          ],
          [
           2,
           "no",
           "southeast",
           "female"
          ],
          [
           1,
           "no",
           "northeast",
           "male"
          ],
          [
           0,
           "no",
           "southwest",
           "male"
          ],
          [
           2,
           "no",
           "northeast",
           "female"
          ],
          [
           0,
           "no",
           "northwest",
           "female"
          ],
          [
           0,
           "no",
           "southeast",
           "female"
          ],
          [
           1,
           "yes",
           "southeast",
           "male"
          ],
          [
           0,
           "no",
           "northeast",
           "female"
          ],
          [
           2,
           "no",
           "northwest",
           "female"
          ],
          [
           1,
           "yes",
           "southwest",
           "male"
          ],
          [
           0,
           "yes",
           "southeast",
           "male"
          ],
          [
           3,
           "no",
           "northwest",
           "female"
          ],
          [
           2,
           "yes",
           "northwest",
           "male"
          ],
          [
           2,
           "no",
           "northeast",
           "female"
          ],
          [
           2,
           "yes",
           "southeast",
           "male"
          ],
          [
           1,
           "yes",
           "southeast",
           "female"
          ],
          [
           2,
           "no",
           "northwest",
           "female"
          ],
          [
           3,
           "no",
           "northeast",
           "male"
          ],
          [
           4,
           "no",
           "southeast",
           "male"
          ],
          [
           1,
           "no",
           "northwest",
           "male"
          ],
          [
           1,
           "no",
           "northwest",
           "female"
          ],
          [
           0,
           "yes",
           "northwest",
           "female"
          ],
          [
           0,
           "no",
           "southwest",
           "female"
          ],
          [
           2,
           "no",
           "southwest",
           "female"
          ],
          [
           1,
           "no",
           "northwest",
           "male"
          ],
          [
           0,
           "no",
           "southeast",
           "female"
          ],
          [
           3,
           "yes",
           "southeast",
           "male"
          ],
          [
           0,
           "yes",
           "southeast",
           "female"
          ],
          [
           5,
           "no",
           "northeast",
           "male"
          ],
          [
           3,
           "no",
           "southwest",
           "female"
          ],
          [
           1,
           "no",
           "southeast",
           "male"
          ],
          [
           2,
           "no",
           "southwest",
           "male"
          ],
          [
           0,
           "no",
           "northwest",
           "male"
          ],
          [
           1,
           "no",
           "southeast",
           "female"
          ],
          [
           0,
           "no",
           "southeast",
           "male"
          ],
          [
           0,
           "no",
           "northeast",
           "female"
          ],
          [
           0,
           "no",
           "northwest",
           "female"
          ],
          [
           1,
           "no",
           "northeast",
           "male"
          ],
          [
           0,
           "no",
           "northeast",
           "female"
          ],
          [
           1,
           "yes",
           "southeast",
           "male"
          ],
          [
           4,
           "no",
           "northwest",
           "female"
          ],
          [
           2,
           "yes",
           "southwest",
           "female"
          ],
          [
           2,
           "yes",
           "northwest",
           "male"
          ],
          [
           0,
           "yes",
           "northwest",
           "female"
          ],
          [
           0,
           "no",
           "southwest",
           "female"
          ],
          [
           0,
           "no",
           "northwest",
           "female"
          ],
          [
           0,
           "no",
           "northwest",
           "female"
          ],
          [
           0,
           "no",
           "southeast",
           "female"
          ],
          [
           1,
           "no",
           "northwest",
           "female"
          ],
          [
           3,
           "yes",
           "northeast",
           "male"
          ],
          [
           2,
           "no",
           "northwest",
           "male"
          ],
          [
           2,
           "yes",
           "southwest",
           "female"
          ],
          [
           1,
           "no",
           "southeast",
           "female"
          ],
          [
           3,
           "no",
           "southwest",
           "female"
          ],
          [
           0,
           "no",
           "southeast",
           "male"
          ],
          [
           0,
           "yes",
           "northeast",
           "male"
          ],
          [
           0,
           "yes",
           "southwest",
           "male"
          ],
          [
           0,
           "no",
           "southwest",
           "female"
          ],
          [
           0,
           "no",
           "northeast",
           "male"
          ],
          [
           0,
           "no",
           "northeast",
           "female"
          ],
          [
           3,
           "yes",
           "southeast",
           "female"
          ],
          [
           1,
           "no",
           "southwest",
           "female"
          ],
          [
           1,
           "yes",
           "northwest",
           "male"
          ],
          [
           1,
           "no",
           "southwest",
           "female"
          ],
          [
           2,
           "no",
           "northwest",
           "male"
          ],
          [
           0,
           "no",
           "southeast",
           "male"
          ],
          [
           0,
           "yes",
           "southeast",
           "male"
          ],
          [
           1,
           "no",
           "northwest",
           "male"
          ],
          [
           2,
           "no",
           "southwest",
           "female"
          ],
          [
           0,
           "no",
           "southwest",
           "male"
          ],
          [
           0,
           "no",
           "northwest",
           "female"
          ],
          [
           3,
           "no",
           "northeast",
           "male"
          ],
          [
           0,
           "no",
           "northeast",
           "male"
          ],
          [
           0,
           "no",
           "southeast",
           "male"
          ],
          [
           1,
           "yes",
           "southeast",
           "female"
          ],
          [
           0,
           "no",
           "southeast",
           "female"
          ],
          [
           2,
           "no",
           "northwest",
           "female"
          ],
          [
           2,
           "no",
           "southwest",
           "male"
          ],
          [
           0,
           "no",
           "northeast",
           "male"
          ],
          [
           0,
           "no",
           "northwest",
           "female"
          ],
          [
           1,
           "yes",
           "northeast",
           "male"
          ],
          [
           3,
           "no",
           "northwest",
           "female"
          ],
          [
           0,
           "no",
           "northeast",
           "female"
          ],
          [
           0,
           "yes",
           "southwest",
           "female"
          ],
          [
           0,
           "no",
           "southwest",
           "female"
          ],
          [
           2,
           "yes",
           "northwest",
           "female"
          ],
          [
           2,
           "no",
           "southwest",
           "male"
          ],
          [
           0,
           "no",
           "northeast",
           "female"
          ],
          [
           0,
           "no",
           "northeast",
           "female"
          ],
          [
           2,
           "no",
           "southwest",
           "female"
          ],
          [
           0,
           "no",
           "northwest",
           "male"
          ],
          [
           0,
           "no",
           "northeast",
           "female"
          ],
          [
           0,
           "no",
           "southeast",
           "female"
          ],
          [
           0,
           "no",
           "southwest",
           "male"
          ],
          [
           0,
           "no",
           "northwest",
           "male"
          ],
          [
           3,
           "no",
           "southeast",
           "female"
          ],
          [
           0,
           "no",
           "southwest",
           "female"
          ],
          [
           2,
           "no",
           "northeast",
           "male"
          ],
          [
           1,
           "no",
           "northeast",
           "male"
          ],
          [
           2,
           "yes",
           "southeast",
           "male"
          ],
          [
           2,
           "no",
           "northwest",
           "male"
          ],
          [
           3,
           "yes",
           "northwest",
           "male"
          ],
          [
           3,
           "no",
           "southeast",
           "female"
          ],
          [
           3,
           "yes",
           "northwest",
           "male"
          ],
          [
           1,
           "no",
           "southeast",
           "female"
          ],
          [
           1,
           "no",
           "northwest",
           "female"
          ],
          [
           1,
           "no",
           "southwest",
           "male"
          ],
          [
           1,
           "no",
           "northwest",
           "male"
          ],
          [
           0,
           "no",
           "southeast",
           "male"
          ],
          [
           3,
           "no",
           "northeast",
           "female"
          ],
          [
           0,
           "yes",
           "northeast",
           "female"
          ],
          [
           1,
           "no",
           "northeast",
           "female"
          ],
          [
           0,
           "no",
           "northwest",
           "male"
          ],
          [
           0,
           "yes",
           "southeast",
           "male"
          ],
          [
           0,
           "yes",
           "northeast",
           "male"
          ],
          [
           0,
           "yes",
           "southeast",
           "male"
          ],
          [
           3,
           "no",
           "southeast",
           "female"
          ],
          [
           0,
           "yes",
           "northwest",
           "female"
          ],
          [
           0,
           "yes",
           "southeast",
           "female"
          ],
          [
           1,
           "no",
           "southwest",
           "male"
          ],
          [
           2,
           "no",
           "southwest",
           "female"
          ],
          [
           0,
           "no",
           "northwest",
           "male"
          ],
          [
           4,
           "no",
           "northeast",
           "male"
          ],
          [
           5,
           "no",
           "southwest",
           "female"
          ],
          [
           3,
           "no",
           "northwest",
           "female"
          ],
          [
           1,
           "no",
           "northwest",
           "female"
          ],
          [
           3,
           "no",
           "northeast",
           "male"
          ],
          [
           0,
           "no",
           "southeast",
           "male"
          ],
          [
           0,
           "no",
           "southwest",
           "male"
          ],
          [
           0,
           "no",
           "northeast",
           "male"
          ],
          [
           1,
           "no",
           "southwest",
           "female"
          ],
          [
           0,
           "no",
           "northwest",
           "female"
          ],
          [
           0,
           "yes",
           "southwest",
           "female"
          ],
          [
           2,
           "no",
           "northwest",
           "male"
          ],
          [
           1,
           "no",
           "southwest",
           "male"
          ],
          [
           2,
           "no",
           "southwest",
           "female"
          ],
          [
           3,
           "no",
           "northeast",
           "female"
          ],
          [
           0,
           "no",
           "northwest",
           "male"
          ],
          [
           0,
           "no",
           "southeast",
           "female"
          ],
          [
           3,
           "no",
           "northeast",
           "male"
          ],
          [
           0,
           "no",
           "northwest",
           "female"
          ],
          [
           2,
           "no",
           "southeast",
           "male"
          ],
          [
           3,
           "yes",
           "northeast",
           "male"
          ],
          [
           2,
           "no",
           "southeast",
           "female"
          ],
          [
           3,
           "no",
           "southwest",
           "female"
          ],
          [
           1,
           "no",
           "southwest",
           "female"
          ],
          [
           2,
           "no",
           "northwest",
           "female"
          ],
          [
           0,
           "no",
           "southeast",
           "male"
          ],
          [
           0,
           "no",
           "southwest",
           "female"
          ],
          [
           0,
           "no",
           "southeast",
           "male"
          ],
          [
           1,
           "no",
           "northwest",
           "female"
          ],
          [
           0,
           "no",
           "southeast",
           "male"
          ],
          [
           0,
           "no",
           "northwest",
           "male"
          ],
          [
           0,
           "no",
           "southwest",
           "female"
          ],
          [
           2,
           "no",
           "southeast",
           "female"
          ],
          [
           0,
           "no",
           "northwest",
           "female"
          ],
          [
           0,
           "no",
           "northeast",
           "female"
          ],
          [
           0,
           "no",
           "northwest",
           "female"
          ],
          [
           1,
           "no",
           "southeast",
           "female"
          ],
          [
           0,
           "no",
           "northwest",
           "female"
          ],
          [
           0,
           "yes",
           "southeast",
           "female"
          ],
          [
           0,
           "no",
           "southwest",
           "male"
          ],
          [
           1,
           "no",
           "northeast",
           "female"
          ],
          [
           0,
           "no",
           "southeast",
           "male"
          ],
          [
           2,
           "yes",
           "northeast",
           "male"
          ],
          [
           0,
           "no",
           "southwest",
           "female"
          ],
          [
           1,
           "no",
           "northeast",
           "male"
          ],
          [
           1,
           "no",
           "southwest",
           "male"
          ],
          [
           4,
           "no",
           "northwest",
           "male"
          ],
          [
           2,
           "no",
           "northwest",
           "male"
          ],
          [
           1,
           "no",
           "southeast",
           "female"
          ],
          [
           2,
           "no",
           "southwest",
           "female"
          ],
          [
           2,
           "no",
           "southwest",
           "female"
          ],
          [
           0,
           "no",
           "northwest",
           "female"
          ],
          [
           0,
           "no",
           "southeast",
           "male"
          ],
          [
           1,
           "no",
           "southeast",
           "female"
          ],
          [
           0,
           "no",
           "southeast",
           "female"
          ],
          [
           1,
           "no",
           "southwest",
           "female"
          ],
          [
           0,
           "no",
           "northeast",
           "female"
          ],
          [
           3,
           "no",
           "southwest",
           "male"
          ],
          [
           0,
           "yes",
           "southwest",
           "male"
          ],
          [
           0,
           "yes",
           "southeast",
           "male"
          ],
          [
           3,
           "no",
           "southeast",
           "male"
          ],
          [
           0,
           "no",
           "southeast",
           "male"
          ],
          [
           0,
           "no",
           "southeast",
           "female"
          ],
          [
           1,
           "no",
           "northeast",
           "female"
          ],
          [
           2,
           "no",
           "northeast",
           "male"
          ],
          [
           1,
           "no",
           "northwest",
           "female"
          ],
          [
           3,
           "no",
           "southeast",
           "female"
          ],
          [
           0,
           "no",
           "southwest",
           "female"
          ],
          [
           1,
           "no",
           "southwest",
           "male"
          ],
          [
           2,
           "no",
           "northwest",
           "male"
          ],
          [
           2,
           "yes",
           "southeast",
           "female"
          ],
          [
           0,
           "no",
           "southeast",
           "female"
          ],
          [
           2,
           "no",
           "southeast",
           "male"
          ],
          [
           0,
           "yes",
           "northwest",
           "male"
          ],
          [
           1,
           "no",
           "southeast",
           "male"
          ],
          [
           2,
           "yes",
           "northeast",
           "female"
          ],
          [
           1,
           "no",
           "northeast",
           "female"
          ],
          [
           1,
           "no",
           "southwest",
           "female"
          ],
          [
           3,
           "no",
           "southwest",
           "male"
          ],
          [
           0,
           "yes",
           "northeast",
           "female"
          ],
          [
           0,
           "no",
           "northwest",
           "male"
          ],
          [
           0,
           "no",
           "southeast",
           "female"
          ],
          [
           0,
           "no",
           "southeast",
           "male"
          ],
          [
           1,
           "no",
           "southwest",
           "male"
          ],
          [
           1,
           "no",
           "northeast",
           "male"
          ],
          [
           2,
           "yes",
           "northeast",
           "male"
          ],
          [
           2,
           "yes",
           "southwest",
           "female"
          ],
          [
           2,
           "yes",
           "southeast",
           "male"
          ],
          [
           3,
           "no",
           "southwest",
           "male"
          ],
          [
           0,
           "yes",
           "northeast",
           "male"
          ],
          [
           3,
           "no",
           "northeast",
           "female"
          ],
          [
           0,
           "yes",
           "northwest",
           "male"
          ],
          [
           0,
           "no",
           "southeast",
           "female"
          ],
          [
           4,
           "no",
           "northwest",
           "male"
          ],
          [
           0,
           "yes",
           "northwest",
           "male"
          ],
          [
           0,
           "no",
           "southwest",
           "female"
          ],
          [
           1,
           "yes",
           "southeast",
           "female"
          ],
          [
           3,
           "yes",
           "northeast",
           "male"
          ],
          [
           0,
           "yes",
           "northwest",
           "male"
          ],
          [
           3,
           "no",
           "southeast",
           "female"
          ],
          [
           3,
           "yes",
           "southeast",
           "male"
          ],
          [
           1,
           "yes",
           "southeast",
           "male"
          ],
          [
           3,
           "no",
           "northeast",
           "female"
          ],
          [
           1,
           "no",
           "southwest",
           "male"
          ],
          [
           1,
           "no",
           "northeast",
           "male"
          ],
          [
           1,
           "no",
           "southeast",
           "male"
          ],
          [
           2,
           "yes",
           "southwest",
           "male"
          ],
          [
           2,
           "no",
           "northwest",
           "male"
          ],
          [
           1,
           "no",
           "northeast",
           "male"
          ],
          [
           0,
           "no",
           "northwest",
           "male"
          ],
          [
           2,
           "no",
           "northeast",
           "female"
          ],
          [
           2,
           "no",
           "northwest",
           "male"
          ],
          [
           0,
           "no",
           "southwest",
           "female"
          ],
          [
           2,
           "no",
           "southeast",
           "male"
          ],
          [
           1,
           "no",
           "southeast",
           "female"
          ],
          [
           1,
           "yes",
           "northeast",
           "female"
          ],
          [
           3,
           "yes",
           "northeast",
           "male"
          ],
          [
           1,
           "no",
           "northeast",
           "male"
          ],
          [
           1,
           "no",
           "northeast",
           "female"
          ],
          [
           0,
           "no",
           "southwest",
           "female"
          ],
          [
           1,
           "no",
           "southeast",
           "male"
          ],
          [
           2,
           "no",
           "northeast",
           "female"
          ],
          [
           0,
           "no",
           "northwest",
           "female"
          ],
          [
           1,
           "yes",
           "northeast",
           "female"
          ],
          [
           3,
           "no",
           "southeast",
           "male"
          ],
          [
           0,
           "no",
           "southwest",
           "female"
          ],
          [
           1,
           "no",
           "northeast",
           "male"
          ],
          [
           2,
           "yes",
           "southeast",
           "male"
          ],
          [
           0,
           "no",
           "southeast",
           "female"
          ],
          [
           3,
           "no",
           "southwest",
           "male"
          ],
          [
           0,
           "no",
           "northeast",
           "male"
          ],
          [
           0,
           "yes",
           "southwest",
           "male"
          ],
          [
           1,
           "yes",
           "southeast",
           "male"
          ],
          [
           3,
           "yes",
           "northwest",
           "male"
          ],
          [
           1,
           "no",
           "northwest",
           "female"
          ],
          [
           3,
           "no",
           "northeast",
           "male"
          ],
          [
           3,
           "yes",
           "northeast",
           "female"
          ],
          [
           2,
           "no",
           "southeast",
           "female"
          ],
          [
           2,
           "no",
           "southeast",
           "female"
          ],
          [
           2,
           "no",
           "southwest",
           "female"
          ],
          [
           2,
           "no",
           "northwest",
           "male"
          ],
          [
           2,
           "no",
           "southwest",
           "female"
          ],
          [
           1,
           "no",
           "southeast",
           "female"
          ],
          [
           0,
           "no",
           "northeast",
           "male"
          ],
          [
           2,
           "no",
           "northwest",
           "female"
          ],
          [
           0,
           "no",
           "southwest",
           "male"
          ],
          [
           0,
           "no",
           "southwest",
           "female"
          ],
          [
           3,
           "yes",
           "southeast",
           "male"
          ],
          [
           0,
           "no",
           "southeast",
           "male"
          ],
          [
           0,
           "yes",
           "southwest",
           "female"
          ],
          [
           0,
           "no",
           "northeast",
           "male"
          ],
          [
           0,
           "no",
           "northwest",
           "male"
          ],
          [
           0,
           "no",
           "northeast",
           "male"
          ],
          [
           0,
           "no",
           "northwest",
           "female"
          ],
          [
           1,
           "no",
           "northeast",
           "male"
          ],
          [
           1,
           "no",
           "northwest",
           "male"
          ],
          [
           4,
           "no",
           "northeast",
           "female"
          ],
          [
           0,
           "yes",
           "southwest",
           "male"
          ],
          [
           0,
           "no",
           "northeast",
           "male"
          ],
          [
           0,
           "no",
           "southwest",
           "male"
          ],
          [
           1,
           "no",
           "northeast",
           "male"
          ],
          [
           1,
           "no",
           "southeast",
           "female"
          ],
          [
           2,
           "yes",
           "northwest",
           "male"
          ],
          [
           1,
           "yes",
           "southwest",
           "female"
          ],
          [
           0,
           "no",
           "southwest",
           "male"
          ],
          [
           1,
           "yes",
           "northeast",
           "female"
          ],
          [
           0,
           "yes",
           "northwest",
           "male"
          ],
          [
           0,
           "no",
           "northwest",
           "female"
          ],
          [
           0,
           "no",
           "northeast",
           "female"
          ],
          [
           2,
           "no",
           "northeast",
           "female"
          ],
          [
           0,
           "no",
           "southwest",
           "male"
          ],
          [
           0,
           "no",
           "southeast",
           "male"
          ],
          [
           1,
           "no",
           "northwest",
           "male"
          ],
          [
           1,
           "yes",
           "northeast",
           "male"
          ],
          [
           1,
           "no",
           "southeast",
           "female"
          ],
          [
           0,
           "no",
           "southwest",
           "female"
          ],
          [
           0,
           "no",
           "northwest",
           "male"
          ],
          [
           0,
           "no",
           "northeast",
           "female"
          ],
          [
           0,
           "no",
           "northeast",
           "male"
          ],
          [
           4,
           "no",
           "southeast",
           "female"
          ],
          [
           3,
           "no",
           "southeast",
           "female"
          ],
          [
           2,
           "no",
           "southeast",
           "male"
          ],
          [
           1,
           "no",
           "northeast",
           "male"
          ],
          [
           1,
           "no",
           "southeast",
           "female"
          ],
          [
           0,
           "no",
           "northwest",
           "male"
          ],
          [
           0,
           "no",
           "northwest",
           "female"
          ],
          [
           0,
           "no",
           "southwest",
           "female"
          ],
          [
           0,
           "no",
           "southwest",
           "female"
          ],
          [
           0,
           "no",
           "northeast",
           "male"
          ],
          [
           0,
           "no",
           "southeast",
           "female"
          ],
          [
           0,
           "no",
           "southwest",
           "male"
          ],
          [
           3,
           "no",
           "southeast",
           "male"
          ],
          [
           3,
           "no",
           "northwest",
           "male"
          ],
          [
           0,
           "no",
           "southeast",
           "male"
          ],
          [
           0,
           "no",
           "southeast",
           "female"
          ],
          [
           2,
           "no",
           "northeast",
           "female"
          ],
          [
           1,
           "no",
           "southwest",
           "male"
          ],
          [
           0,
           "yes",
           "southwest",
           "female"
          ],
          [
           1,
           "no",
           "southwest",
           "female"
          ],
          [
           2,
           "no",
           "southeast",
           "female"
          ],
          [
           1,
           "no",
           "northeast",
           "female"
          ],
          [
           3,
           "no",
           "northeast",
           "female"
          ],
          [
           2,
           "no",
           "northwest",
           "female"
          ],
          [
           2,
           "no",
           "northwest",
           "male"
          ],
          [
           3,
           "no",
           "northeast",
           "male"
          ],
          [
           0,
           "no",
           "northwest",
           "female"
          ],
          [
           0,
           "no",
           "northeast",
           "female"
          ],
          [
           1,
           "no",
           "northeast",
           "female"
          ],
          [
           2,
           "yes",
           "southwest",
           "male"
          ],
          [
           0,
           "no",
           "southeast",
           "male"
          ],
          [
           0,
           "yes",
           "northwest",
           "female"
          ],
          [
           3,
           "yes",
           "northeast",
           "female"
          ],
          [
           0,
           "yes",
           "southeast",
           "male"
          ],
          [
           3,
           "no",
           "northwest",
           "female"
          ],
          [
           1,
           "no",
           "southeast",
           "male"
          ],
          [
           2,
           "yes",
           "northeast",
           "female"
          ],
          [
           0,
           "yes",
           "northeast",
           "male"
          ],
          [
           0,
           "no",
           "southeast",
           "male"
          ],
          [
           2,
           "no",
           "southeast",
           "female"
          ],
          [
           2,
           "no",
           "northeast",
           "male"
          ],
          [
           0,
           "no",
           "southwest",
           "male"
          ],
          [
           0,
           "no",
           "southeast",
           "female"
          ],
          [
           2,
           "no",
           "northwest",
           "male"
          ],
          [
           0,
           "no",
           "northwest",
           "female"
          ],
          [
           3,
           "no",
           "northwest",
           "female"
          ],
          [
           4,
           "no",
           "northeast",
           "male"
          ],
          [
           0,
           "no",
           "northwest",
           "female"
          ],
          [
           1,
           "no",
           "northeast",
           "male"
          ],
          [
           1,
           "no",
           "northeast",
           "male"
          ],
          [
           2,
           "no",
           "northeast",
           "female"
          ],
          [
           0,
           "no",
           "northwest",
           "male"
          ],
          [
           3,
           "no",
           "southwest",
           "female"
          ],
          [
           0,
           "no",
           "southeast",
           "male"
          ],
          [
           2,
           "no",
           "southwest",
           "male"
          ],
          [
           0,
           "no",
           "southeast",
           "female"
          ],
          [
           0,
           "no",
           "southwest",
           "female"
          ],
          [
           1,
           "no",
           "southeast",
           "male"
          ],
          [
           0,
           "no",
           "northwest",
           "female"
          ],
          [
           3,
           "no",
           "northwest",
           "male"
          ],
          [
           0,
           "no",
           "southwest",
           "male"
          ],
          [
           2,
           "no",
           "northeast",
           "female"
          ],
          [
           0,
           "no",
           "southeast",
           "female"
          ],
          [
           1,
           "no",
           "southwest",
           "female"
          ],
          [
           3,
           "no",
           "southeast",
           "male"
          ],
          [
           1,
           "no",
           "southeast",
           "male"
          ],
          [
           0,
           "no",
           "northwest",
           "male"
          ],
          [
           1,
           "yes",
           "northeast",
           "female"
          ],
          [
           2,
           "yes",
           "northeast",
           "female"
          ],
          [
           5,
           "no",
           "southwest",
           "male"
          ],
          [
           0,
           "no",
           "northwest",
           "female"
          ],
          [
           1,
           "no",
           "southeast",
           "female"
          ],
          [
           0,
           "no",
           "southeast",
           "male"
          ],
          [
           2,
           "yes",
           "southwest",
           "female"
          ],
          [
           1,
           "no",
           "southeast",
           "male"
          ],
          [
           0,
           "yes",
           "northwest",
           "female"
          ],
          [
           0,
           "yes",
           "southeast",
           "male"
          ],
          [
           0,
           "yes",
           "southeast",
           "male"
          ],
          [
           1,
           "yes",
           "northeast",
           "male"
          ],
          [
           0,
           "no",
           "northeast",
           "male"
          ],
          [
           2,
           "no",
           "southwest",
           "male"
          ],
          [
           5,
           "no",
           "southeast",
           "male"
          ],
          [
           1,
           "no",
           "northeast",
           "female"
          ],
          [
           0,
           "no",
           "northeast",
           "female"
          ],
          [
           1,
           "no",
           "northeast",
           "female"
          ],
          [
           3,
           "no",
           "northwest",
           "female"
          ],
          [
           0,
           "no",
           "southwest",
           "male"
          ],
          [
           2,
           "no",
           "northwest",
           "female"
          ],
          [
           0,
           "no",
           "southwest",
           "male"
          ],
          [
           0,
           "no",
           "southwest",
           "female"
          ],
          [
           1,
           "no",
           "northwest",
           "male"
          ],
          [
           3,
           "no",
           "southeast",
           "male"
          ],
          [
           0,
           "no",
           "northeast",
           "male"
          ],
          [
           3,
           "no",
           "southwest",
           "male"
          ],
          [
           5,
           "no",
           "southeast",
           "female"
          ],
          [
           0,
           "no",
           "northeast",
           "male"
          ],
          [
           1,
           "no",
           "northwest",
           "female"
          ],
          [
           0,
           "yes",
           "southwest",
           "female"
          ],
          [
           0,
           "no",
           "southeast",
           "male"
          ],
          [
           1,
           "no",
           "southeast",
           "female"
          ],
          [
           1,
           "yes",
           "northwest",
           "male"
          ],
          [
           0,
           "no",
           "southwest",
           "female"
          ],
          [
           0,
           "no",
           "northeast",
           "male"
          ],
          [
           0,
           "no",
           "northwest",
           "female"
          ],
          [
           0,
           "no",
           "southwest",
           "female"
          ],
          [
           1,
           "no",
           "southwest",
           "male"
          ],
          [
           4,
           "no",
           "southwest",
           "male"
          ],
          [
           1,
           "no",
           "northwest",
           "male"
          ],
          [
           0,
           "no",
           "southwest",
           "male"
          ],
          [
           0,
           "no",
           "northwest",
           "male"
          ],
          [
           2,
           "no",
           "southeast",
           "male"
          ],
          [
           0,
           "no",
           "southwest",
           "male"
          ],
          [
           2,
           "no",
           "southeast",
           "female"
          ],
          [
           0,
           "no",
           "northwest",
           "female"
          ],
          [
           0,
           "no",
           "southwest",
           "male"
          ],
          [
           3,
           "no",
           "southeast",
           "female"
          ],
          [
           3,
           "no",
           "southeast",
           "female"
          ],
          [
           0,
           "yes",
           "southwest",
           "male"
          ],
          [
           2,
           "no",
           "northeast",
           "female"
          ],
          [
           0,
           "no",
           "northeast",
           "male"
          ],
          [
           0,
           "no",
           "northwest",
           "male"
          ],
          [
           1,
           "yes",
           "southeast",
           "female"
          ],
          [
           1,
           "no",
           "southwest",
           "female"
          ],
          [
           2,
           "no",
           "northwest",
           "female"
          ],
          [
           1,
           "no",
           "northeast",
           "female"
          ],
          [
           1,
           "no",
           "southeast",
           "female"
          ],
          [
           0,
           "no",
           "southeast",
           "male"
          ],
          [
           0,
           "no",
           "northeast",
           "female"
          ],
          [
           0,
           "no",
           "southwest",
           "female"
          ],
          [
           0,
           "no",
           "northeast",
           "female"
          ],
          [
           3,
           "yes",
           "southwest",
           "male"
          ],
          [
           1,
           "yes",
           "northwest",
           "male"
          ],
          [
           0,
           "yes",
           "northeast",
           "male"
          ],
          [
           0,
           "no",
           "northwest",
           "male"
          ],
          [
           0,
           "no",
           "southeast",
           "male"
          ],
          [
           0,
           "no",
           "southeast",
           "male"
          ],
          [
           3,
           "no",
           "northwest",
           "male"
          ],
          [
           2,
           "no",
           "southeast",
           "male"
          ],
          [
           0,
           "no",
           "southeast",
           "female"
          ],
          [
           1,
           "no",
           "southwest",
           "female"
          ],
          [
           3,
           "no",
           "southwest",
           "male"
          ],
          [
           0,
           "no",
           "northeast",
           "female"
          ],
          [
           3,
           "no",
           "northwest",
           "female"
          ],
          [
           0,
           "no",
           "southwest",
           "male"
          ],
          [
           0,
           "yes",
           "southeast",
           "female"
          ],
          [
           1,
           "no",
           "northwest",
           "male"
          ],
          [
           0,
           "no",
           "southwest",
           "female"
          ],
          [
           0,
           "no",
           "southeast",
           "female"
          ],
          [
           0,
           "no",
           "northeast",
           "female"
          ],
          [
           0,
           "no",
           "southwest",
           "male"
          ],
          [
           4,
           "yes",
           "southwest",
           "male"
          ],
          [
           0,
           "no",
           "northeast",
           "male"
          ],
          [
           2,
           "no",
           "southwest",
           "female"
          ],
          [
           2,
           "no",
           "southwest",
           "male"
          ],
          [
           2,
           "no",
           "southeast",
           "female"
          ],
          [
           0,
           "no",
           "southwest",
           "female"
          ],
          [
           0,
           "yes",
           "southwest",
           "male"
          ],
          [
           0,
           "no",
           "northeast",
           "male"
          ],
          [
           1,
           "yes",
           "southeast",
           "male"
          ],
          [
           0,
           "yes",
           "southeast",
           "male"
          ],
          [
           1,
           "no",
           "southeast",
           "female"
          ],
          [
           3,
           "no",
           "northwest",
           "male"
          ],
          [
           1,
           "no",
           "northwest",
           "male"
          ],
          [
           2,
           "no",
           "northwest",
           "male"
          ],
          [
           0,
           "no",
           "northeast",
           "female"
          ],
          [
           0,
           "no",
           "southwest",
           "female"
          ],
          [
           1,
           "no",
           "northeast",
           "male"
          ],
          [
           0,
           "no",
           "southeast",
           "male"
          ],
          [
           0,
           "no",
           "northeast",
           "male"
          ],
          [
           0,
           "no",
           "southwest",
           "male"
          ],
          [
           1,
           "yes",
           "southwest",
           "male"
          ],
          [
           0,
           "no",
           "southwest",
           "male"
          ],
          [
           1,
           "no",
           "southeast",
           "male"
          ],
          [
           2,
           "no",
           "northwest",
           "male"
          ],
          [
           1,
           "no",
           "southwest",
           "female"
          ],
          [
           0,
           "no",
           "northeast",
           "male"
          ],
          [
           0,
           "no",
           "northeast",
           "female"
          ],
          [
           0,
           "no",
           "southeast",
           "female"
          ],
          [
           0,
           "no",
           "northeast",
           "female"
          ],
          [
           0,
           "no",
           "southeast",
           "female"
          ],
          [
           1,
           "yes",
           "southeast",
           "male"
          ],
          [
           0,
           "no",
           "southeast",
           "female"
          ],
          [
           2,
           "no",
           "northwest",
           "female"
          ],
          [
           1,
           "no",
           "southwest",
           "female"
          ],
          [
           1,
           "no",
           "northeast",
           "male"
          ],
          [
           0,
           "no",
           "northeast",
           "male"
          ],
          [
           1,
           "yes",
           "southeast",
           "male"
          ],
          [
           0,
           "no",
           "northeast",
           "female"
          ],
          [
           2,
           "no",
           "southeast",
           "male"
          ],
          [
           0,
           "no",
           "southeast",
           "male"
          ],
          [
           0,
           "no",
           "southeast",
           "male"
          ],
          [
           1,
           "no",
           "northeast",
           "male"
          ],
          [
           3,
           "no",
           "southwest",
           "female"
          ],
          [
           2,
           "no",
           "southwest",
           "female"
          ],
          [
           1,
           "no",
           "southeast",
           "female"
          ],
          [
           0,
           "no",
           "southeast",
           "male"
          ],
          [
           3,
           "no",
           "southwest",
           "female"
          ],
          [
           2,
           "no",
           "southeast",
           "female"
          ],
          [
           0,
           "no",
           "southeast",
           "female"
          ],
          [
           0,
           "yes",
           "southeast",
           "female"
          ],
          [
           0,
           "no",
           "northwest",
           "male"
          ],
          [
           2,
           "yes",
           "northwest",
           "male"
          ],
          [
           0,
           "no",
           "northeast",
           "male"
          ],
          [
           2,
           "no",
           "southwest",
           "female"
          ],
          [
           0,
           "no",
           "northeast",
           "female"
          ],
          [
           0,
           "yes",
           "southeast",
           "female"
          ],
          [
           0,
           "no",
           "southwest",
           "male"
          ],
          [
           0,
           "no",
           "southeast",
           "female"
          ],
          [
           0,
           "no",
           "southwest",
           "male"
          ],
          [
           2,
           "no",
           "northwest",
           "female"
          ],
          [
           0,
           "no",
           "northeast",
           "female"
          ],
          [
           2,
           "no",
           "southwest",
           "male"
          ],
          [
           1,
           "no",
           "northeast",
           "male"
          ],
          [
           0,
           "no",
           "southeast",
           "male"
          ],
          [
           3,
           "yes",
           "northwest",
           "female"
          ],
          [
           0,
           "no",
           "northwest",
           "male"
          ],
          [
           2,
           "no",
           "northwest",
           "female"
          ],
          [
           0,
           "no",
           "northeast",
           "female"
          ],
          [
           0,
           "no",
           "southwest",
           "male"
          ],
          [
           1,
           "no",
           "southeast",
           "male"
          ],
          [
           2,
           "no",
           "southeast",
           "female"
          ],
          [
           0,
           "no",
           "northwest",
           "female"
          ],
          [
           1,
           "no",
           "northwest",
           "female"
          ],
          [
           2,
           "no",
           "northwest",
           "male"
          ],
          [
           5,
           "no",
           "southwest",
           "female"
          ],
          [
           2,
           "yes",
           "northwest",
           "male"
          ],
          [
           0,
           "no",
           "southwest",
           "female"
          ],
          [
           1,
           "no",
           "southeast",
           "female"
          ],
          [
           2,
           "no",
           "southeast",
           "female"
          ],
          [
           1,
           "no",
           "northeast",
           "female"
          ],
          [
           2,
           "no",
           "northeast",
           "female"
          ],
          [
           0,
           "no",
           "northwest",
           "female"
          ],
          [
           0,
           "no",
           "southeast",
           "male"
          ],
          [
           1,
           "yes",
           "northeast",
           "female"
          ],
          [
           1,
           "no",
           "southwest",
           "male"
          ],
          [
           0,
           "no",
           "northeast",
           "female"
          ],
          [
           1,
           "no",
           "northeast",
           "male"
          ],
          [
           0,
           "no",
           "northwest",
           "male"
          ],
          [
           2,
           "no",
           "southeast",
           "male"
          ],
          [
           1,
           "no",
           "southeast",
           "female"
          ],
          [
           0,
           "no",
           "southwest",
           "male"
          ],
          [
           1,
           "no",
           "southeast",
           "female"
          ],
          [
           3,
           "no",
           "northeast",
           "male"
          ],
          [
           1,
           "yes",
           "northwest",
           "female"
          ],
          [
           0,
           "no",
           "northeast",
           "female"
          ],
          [
           1,
           "no",
           "southeast",
           "female"
          ],
          [
           0,
           "no",
           "southwest",
           "female"
          ],
          [
           1,
           "no",
           "northwest",
           "male"
          ],
          [
           2,
           "no",
           "southeast",
           "male"
          ],
          [
           1,
           "yes",
           "northeast",
           "female"
          ],
          [
           0,
           "no",
           "southeast",
           "male"
          ],
          [
           1,
           "no",
           "northeast",
           "female"
          ],
          [
           2,
           "no",
           "southeast",
           "female"
          ],
          [
           1,
           "no",
           "northeast",
           "female"
          ],
          [
           2,
           "no",
           "southwest",
           "male"
          ],
          [
           2,
           "no",
           "northwest",
           "female"
          ],
          [
           0,
           "no",
           "southeast",
           "female"
          ],
          [
           0,
           "no",
           "northwest",
           "male"
          ],
          [
           0,
           "no",
           "southwest",
           "female"
          ],
          [
           3,
           "no",
           "southeast",
           "female"
          ],
          [
           0,
           "yes",
           "northwest",
           "female"
          ],
          [
           0,
           "no",
           "southeast",
           "female"
          ],
          [
           0,
           "no",
           "northeast",
           "female"
          ],
          [
           0,
           "yes",
           "northwest",
           "female"
          ],
          [
           2,
           "no",
           "northeast",
           "male"
          ],
          [
           2,
           "yes",
           "southwest",
           "male"
          ],
          [
           1,
           "no",
           "southeast",
           "female"
          ],
          [
           2,
           "no",
           "southwest",
           "female"
          ],
          [
           0,
           "no",
           "northeast",
           "female"
          ],
          [
           3,
           "no",
           "northeast",
           "female"
          ],
          [
           0,
           "no",
           "southeast",
           "female"
          ],
          [
           1,
           "yes",
           "southeast",
           "female"
          ],
          [
           0,
           "no",
           "northeast",
           "female"
          ],
          [
           2,
           "yes",
           "southwest",
           "male"
          ],
          [
           0,
           "yes",
           "southeast",
           "female"
          ],
          [
           0,
           "no",
           "southwest",
           "female"
          ],
          [
           1,
           "no",
           "southwest",
           "male"
          ],
          [
           4,
           "yes",
           "southwest",
           "male"
          ],
          [
           1,
           "no",
           "southwest",
           "female"
          ],
          [
           0,
           "yes",
           "northeast",
           "male"
          ],
          [
           0,
           "no",
           "northwest",
           "male"
          ],
          [
           0,
           "no",
           "northwest",
           "female"
          ],
          [
           3,
           "no",
           "northeast",
           "male"
          ],
          [
           1,
           "no",
           "southeast",
           "male"
          ],
          [
           0,
           "no",
           "southwest",
           "male"
          ],
          [
           0,
           "yes",
           "northwest",
           "female"
          ],
          [
           1,
           "no",
           "southwest",
           "male"
          ],
          [
           0,
           "no",
           "southwest",
           "male"
          ],
          [
           0,
           "no",
           "southeast",
           "female"
          ],
          [
           2,
           "no",
           "northeast",
           "male"
          ],
          [
           1,
           "no",
           "southwest",
           "male"
          ],
          [
           0,
           "no",
           "northeast",
           "male"
          ],
          [
           1,
           "no",
           "northwest",
           "female"
          ],
          [
           2,
           "no",
           "northeast",
           "female"
          ],
          [
           0,
           "yes",
           "northeast",
           "male"
          ],
          [
           4,
           "no",
           "southeast",
           "male"
          ],
          [
           5,
           "no",
           "southwest",
           "male"
          ],
          [
           3,
           "yes",
           "northwest",
           "male"
          ],
          [
           0,
           "no",
           "northeast",
           "male"
          ],
          [
           3,
           "no",
           "northwest",
           "female"
          ],
          [
           2,
           "no",
           "southeast",
           "male"
          ],
          [
           3,
           "no",
           "northeast",
           "male"
          ],
          [
           1,
           "no",
           "northwest",
           "male"
          ],
          [
           3,
           "no",
           "northeast",
           "female"
          ],
          [
           0,
           "no",
           "northeast",
           "male"
          ],
          [
           0,
           "no",
           "northeast",
           "female"
          ],
          [
           2,
           "no",
           "southeast",
           "female"
          ],
          [
           1,
           "no",
           "southeast",
           "female"
          ],
          [
           0,
           "no",
           "southeast",
           "female"
          ],
          [
           2,
           "no",
           "southeast",
           "female"
          ],
          [
           0,
           "no",
           "southeast",
           "female"
          ],
          [
           2,
           "yes",
           "southeast",
           "female"
          ],
          [
           1,
           "no",
           "southwest",
           "female"
          ],
          [
           2,
           "no",
           "northwest",
           "male"
          ],
          [
           1,
           "no",
           "northeast",
           "female"
          ],
          [
           4,
           "no",
           "northeast",
           "female"
          ],
          [
           3,
           "no",
           "southeast",
           "male"
          ],
          [
           1,
           "no",
           "southeast",
           "female"
          ],
          [
           1,
           "no",
           "northeast",
           "female"
          ],
          [
           0,
           "no",
           "southeast",
           "male"
          ],
          [
           0,
           "yes",
           "southeast",
           "female"
          ],
          [
           2,
           "yes",
           "southeast",
           "male"
          ],
          [
           1,
           "no",
           "southwest",
           "male"
          ],
          [
           2,
           "yes",
           "northwest",
           "female"
          ],
          [
           0,
           "yes",
           "northeast",
           "male"
          ],
          [
           1,
           "no",
           "southeast",
           "female"
          ],
          [
           3,
           "no",
           "southeast",
           "male"
          ],
          [
           0,
           "no",
           "northeast",
           "female"
          ],
          [
           0,
           "no",
           "southeast",
           "male"
          ],
          [
           0,
           "no",
           "southeast",
           "female"
          ],
          [
           2,
           "yes",
           "southeast",
           "female"
          ],
          [
           0,
           "no",
           "northwest",
           "male"
          ],
          [
           3,
           "no",
           "southeast",
           "female"
          ],
          [
           3,
           "yes",
           "northwest",
           "male"
          ],
          [
           3,
           "no",
           "southwest",
           "male"
          ],
          [
           2,
           "no",
           "northwest",
           "female"
          ],
          [
           1,
           "no",
           "southwest",
           "female"
          ],
          [
           0,
           "no",
           "southwest",
           "male"
          ],
          [
           2,
           "yes",
           "southwest",
           "male"
          ],
          [
           0,
           "no",
           "northwest",
           "male"
          ],
          [
           1,
           "no",
           "southwest",
           "female"
          ],
          [
           2,
           "no",
           "northeast",
           "male"
          ],
          [
           2,
           "no",
           "northeast",
           "male"
          ],
          [
           0,
           "no",
           "southeast",
           "male"
          ],
          [
           1,
           "no",
           "southwest",
           "female"
          ],
          [
           1,
           "yes",
           "southeast",
           "male"
          ],
          [
           0,
           "no",
           "northeast",
           "male"
          ],
          [
           1,
           "no",
           "southwest",
           "male"
          ],
          [
           1,
           "no",
           "northwest",
           "male"
          ],
          [
           0,
           "no",
           "northwest",
           "male"
          ],
          [
           1,
           "no",
           "southwest",
           "female"
          ],
          [
           0,
           "no",
           "northwest",
           "female"
          ],
          [
           2,
           "no",
           "northeast",
           "female"
          ],
          [
           1,
           "yes",
           "southeast",
           "male"
          ],
          [
           0,
           "no",
           "northwest",
           "male"
          ],
          [
           2,
           "no",
           "southeast",
           "female"
          ],
          [
           0,
           "no",
           "southeast",
           "female"
          ],
          [
           0,
           "no",
           "northeast",
           "female"
          ],
          [
           0,
           "no",
           "southeast",
           "male"
          ],
          [
           1,
           "no",
           "northwest",
           "female"
          ],
          [
           1,
           "no",
           "northwest",
           "female"
          ],
          [
           2,
           "no",
           "southwest",
           "female"
          ],
          [
           0,
           "yes",
           "southeast",
           "female"
          ],
          [
           3,
           "no",
           "northwest",
           "male"
          ],
          [
           3,
           "no",
           "northeast",
           "female"
          ],
          [
           0,
           "no",
           "northeast",
           "female"
          ],
          [
           1,
           "no",
           "southeast",
           "male"
          ],
          [
           2,
           "no",
           "southeast",
           "female"
          ],
          [
           2,
           "no",
           "northwest",
           "female"
          ],
          [
           0,
           "no",
           "northeast",
           "male"
          ],
          [
           0,
           "no",
           "southwest",
           "female"
          ],
          [
           0,
           "no",
           "southwest",
           "male"
          ],
          [
           1,
           "no",
           "northwest",
           "female"
          ],
          [
           1,
           "no",
           "northwest",
           "male"
          ],
          [
           2,
           "no",
           "northwest",
           "female"
          ],
          [
           0,
           "no",
           "northwest",
           "female"
          ],
          [
           0,
           "no",
           "northeast",
           "female"
          ],
          [
           3,
           "no",
           "southwest",
           "male"
          ],
          [
           0,
           "no",
           "southwest",
           "male"
          ],
          [
           0,
           "no",
           "southwest",
           "male"
          ],
          [
           1,
           "no",
           "northeast",
           "female"
          ],
          [
           3,
           "yes",
           "southeast",
           "female"
          ],
          [
           1,
           "no",
           "northwest",
           "male"
          ],
          [
           1,
           "yes",
           "northeast",
           "female"
          ],
          [
           0,
           "no",
           "northeast",
           "female"
          ],
          [
           1,
           "no",
           "southeast",
           "female"
          ],
          [
           3,
           "yes",
           "southeast",
           "male"
          ],
          [
           1,
           "no",
           "southwest",
           "male"
          ],
          [
           3,
           "no",
           "southwest",
           "female"
          ],
          [
           1,
           "no",
           "northeast",
           "female"
          ],
          [
           3,
           "no",
           "southwest",
           "female"
          ],
          [
           1,
           "no",
           "northwest",
           "female"
          ],
          [
           0,
           "yes",
           "southeast",
           "female"
          ],
          [
           2,
           "no",
           "southwest",
           "male"
          ],
          [
           3,
           "yes",
           "northeast",
           "male"
          ],
          [
           2,
           "yes",
           "southwest",
           "male"
          ],
          [
           2,
           "no",
           "northeast",
           "male"
          ],
          [
           0,
           "yes",
           "southeast",
           "male"
          ],
          [
           0,
           "yes",
           "northeast",
           "male"
          ],
          [
           0,
           "no",
           "southeast",
           "female"
          ],
          [
           0,
           "no",
           "northwest",
           "male"
          ],
          [
           1,
           "no",
           "northwest",
           "female"
          ],
          [
           2,
           "no",
           "southwest",
           "male"
          ],
          [
           0,
           "no",
           "northwest",
           "male"
          ],
          [
           1,
           "no",
           "southwest",
           "female"
          ],
          [
           0,
           "no",
           "northwest",
           "male"
          ],
          [
           0,
           "yes",
           "southeast",
           "female"
          ],
          [
           0,
           "no",
           "northwest",
           "male"
          ],
          [
           0,
           "no",
           "northwest",
           "male"
          ],
          [
           0,
           "no",
           "southeast",
           "female"
          ],
          [
           4,
           "no",
           "northeast",
           "male"
          ],
          [
           2,
           "no",
           "northeast",
           "male"
          ],
          [
           3,
           "no",
           "northeast",
           "female"
          ],
          [
           0,
           "yes",
           "southeast",
           "female"
          ],
          [
           3,
           "no",
           "northeast",
           "male"
          ],
          [
           0,
           "yes",
           "southeast",
           "male"
          ],
          [
           2,
           "no",
           "northeast",
           "female"
          ],
          [
           1,
           "no",
           "southwest",
           "male"
          ],
          [
           1,
           "yes",
           "southwest",
           "male"
          ],
          [
           0,
           "no",
           "northeast",
           "male"
          ],
          [
           2,
           "no",
           "northeast",
           "female"
          ],
          [
           0,
           "no",
           "northwest",
           "female"
          ],
          [
           1,
           "no",
           "southwest",
           "male"
          ],
          [
           1,
           "no",
           "southwest",
           "female"
          ],
          [
           0,
           "no",
           "southwest",
           "female"
          ],
          [
           2,
           "no",
           "northwest",
           "female"
          ],
          [
           3,
           "no",
           "southwest",
           "male"
          ],
          [
           2,
           "no",
           "southwest",
           "female"
          ],
          [
           0,
           "no",
           "northeast",
           "female"
          ],
          [
           0,
           "yes",
           "northwest",
           "female"
          ],
          [
           2,
           "no",
           "northwest",
           "male"
          ],
          [
           3,
           "no",
           "southeast",
           "male"
          ],
          [
           2,
           "no",
           "northwest",
           "male"
          ],
          [
           0,
           "no",
           "northeast",
           "male"
          ],
          [
           3,
           "no",
           "southeast",
           "male"
          ],
          [
           0,
           "no",
           "northwest",
           "male"
          ],
          [
           3,
           "yes",
           "southwest",
           "male"
          ],
          [
           0,
           "no",
           "southeast",
           "male"
          ],
          [
           1,
           "no",
           "southeast",
           "male"
          ],
          [
           1,
           "yes",
           "southwest",
           "female"
          ],
          [
           1,
           "no",
           "southeast",
           "female"
          ],
          [
           3,
           "no",
           "southwest",
           "female"
          ],
          [
           0,
           "no",
           "northeast",
           "male"
          ],
          [
           0,
           "no",
           "northwest",
           "male"
          ],
          [
           3,
           "no",
           "northeast",
           "male"
          ],
          [
           0,
           "no",
           "southeast",
           "female"
          ],
          [
           0,
           "no",
           "southeast",
           "female"
          ],
          [
           0,
           "no",
           "southwest",
           "male"
          ],
          [
           0,
           "no",
           "northeast",
           "female"
          ],
          [
           0,
           "yes",
           "southeast",
           "male"
          ],
          [
           2,
           "no",
           "northwest",
           "female"
          ],
          [
           0,
           "yes",
           "northwest",
           "male"
          ],
          [
           2,
           "no",
           "southeast",
           "male"
          ],
          [
           1,
           "no",
           "northeast",
           "female"
          ],
          [
           0,
           "no",
           "southwest",
           "female"
          ],
          [
           0,
           "yes",
           "northeast",
           "male"
          ],
          [
           1,
           "no",
           "southeast",
           "female"
          ],
          [
           0,
           "no",
           "southeast",
           "female"
          ],
          [
           1,
           "no",
           "southwest",
           "male"
          ],
          [
           0,
           "yes",
           "southeast",
           "female"
          ],
          [
           0,
           "no",
           "southeast",
           "male"
          ],
          [
           0,
           "no",
           "northwest",
           "female"
          ],
          [
           1,
           "no",
           "northwest",
           "female"
          ],
          [
           0,
           "no",
           "northwest",
           "female"
          ],
          [
           0,
           "no",
           "southeast",
           "male"
          ],
          [
           1,
           "no",
           "northeast",
           "male"
          ],
          [
           3,
           "no",
           "southwest",
           "female"
          ],
          [
           3,
           "no",
           "northwest",
           "female"
          ],
          [
           2,
           "no",
           "southeast",
           "male"
          ],
          [
           2,
           "no",
           "northeast",
           "male"
          ],
          [
           2,
           "no",
           "southeast",
           "male"
          ],
          [
           0,
           "no",
           "southeast",
           "female"
          ],
          [
           0,
           "no",
           "northwest",
           "female"
          ],
          [
           3,
           "no",
           "southwest",
           "male"
          ],
          [
           1,
           "yes",
           "northeast",
           "female"
          ],
          [
           0,
           "yes",
           "northwest",
           "female"
          ],
          [
           1,
           "no",
           "southwest",
           "male"
          ],
          [
           0,
           "no",
           "northwest",
           "male"
          ],
          [
           0,
           "no",
           "southeast",
           "female"
          ],
          [
           2,
           "no",
           "southeast",
           "female"
          ],
          [
           0,
           "no",
           "northwest",
           "male"
          ],
          [
           2,
           "no",
           "northeast",
           "female"
          ],
          [
           2,
           "yes",
           "southeast",
           "male"
          ],
          [
           1,
           "yes",
           "northeast",
           "male"
          ],
          [
           3,
           "yes",
           "northeast",
           "male"
          ],
          [
           1,
           "no",
           "northwest",
           "male"
          ],
          [
           0,
           "no",
           "southwest",
           "male"
          ],
          [
           0,
           "no",
           "northwest",
           "female"
          ],
          [
           2,
           "no",
           "northwest",
           "female"
          ],
          [
           0,
           "no",
           "northwest",
           "male"
          ],
          [
           1,
           "no",
           "northwest",
           "male"
          ],
          [
           2,
           "no",
           "southeast",
           "male"
          ],
          [
           0,
           "no",
           "southwest",
           "male"
          ],
          [
           0,
           "no",
           "northeast",
           "female"
          ],
          [
           2,
           "no",
           "northeast",
           "female"
          ],
          [
           0,
           "no",
           "northwest",
           "female"
          ],
          [
           0,
           "no",
           "southwest",
           "male"
          ],
          [
           0,
           "no",
           "northeast",
           "male"
          ],
          [
           2,
           "yes",
           "southeast",
           "female"
          ],
          [
           0,
           "yes",
           "southeast",
           "female"
          ],
          [
           0,
           "no",
           "northeast",
           "male"
          ],
          [
           0,
           "yes",
           "southeast",
           "female"
          ],
          [
           1,
           "no",
           "southwest",
           "female"
          ],
          [
           1,
           "no",
           "southeast",
           "male"
          ],
          [
           0,
           "no",
           "southwest",
           "female"
          ],
          [
           0,
           "no",
           "northwest",
           "male"
          ],
          [
           0,
           "yes",
           "northeast",
           "female"
          ],
          [
           2,
           "no",
           "northwest",
           "male"
          ],
          [
           0,
           "yes",
           "northeast",
           "female"
          ],
          [
           2,
           "no",
           "northeast",
           "female"
          ],
          [
           3,
           "yes",
           "northeast",
           "female"
          ],
          [
           0,
           "no",
           "southwest",
           "female"
          ],
          [
           0,
           "yes",
           "southeast",
           "female"
          ],
          [
           0,
           "yes",
           "northwest",
           "male"
          ],
          [
           1,
           "no",
           "southeast",
           "female"
          ],
          [
           0,
           "no",
           "southwest",
           "male"
          ],
          [
           2,
           "yes",
           "southwest",
           "female"
          ],
          [
           3,
           "no",
           "southwest",
           "female"
          ],
          [
           2,
           "no",
           "northwest",
           "female"
          ],
          [
           0,
           "no",
           "northeast",
           "female"
          ],
          [
           0,
           "no",
           "southwest",
           "male"
          ],
          [
           2,
           "no",
           "southwest",
           "male"
          ],
          [
           0,
           "no",
           "southeast",
           "male"
          ],
          [
           1,
           "no",
           "southwest",
           "male"
          ],
          [
           0,
           "no",
           "northeast",
           "male"
          ],
          [
           3,
           "no",
           "southwest",
           "female"
          ],
          [
           0,
           "no",
           "southwest",
           "male"
          ],
          [
           1,
           "no",
           "southeast",
           "female"
          ],
          [
           0,
           "no",
           "southeast",
           "male"
          ],
          [
           1,
           "no",
           "southwest",
           "male"
          ],
          [
           3,
           "no",
           "northeast",
           "male"
          ],
          [
           0,
           "no",
           "northwest",
           "female"
          ],
          [
           1,
           "no",
           "southwest",
           "female"
          ],
          [
           5,
           "no",
           "southeast",
           "male"
          ],
          [
           1,
           "no",
           "southwest",
           "male"
          ],
          [
           2,
           "no",
           "southwest",
           "female"
          ],
          [
           3,
           "no",
           "southwest",
           "male"
          ],
          [
           1,
           "no",
           "northwest",
           "male"
          ],
          [
           0,
           "no",
           "northeast",
           "female"
          ],
          [
           3,
           "yes",
           "northeast",
           "female"
          ],
          [
           4,
           "no",
           "northwest",
           "male"
          ],
          [
           1,
           "yes",
           "southeast",
           "male"
          ],
          [
           0,
           "yes",
           "northeast",
           "male"
          ],
          [
           0,
           "no",
           "northwest",
           "female"
          ],
          [
           0,
           "no",
           "southwest",
           "male"
          ],
          [
           1,
           "no",
           "northwest",
           "male"
          ],
          [
           0,
           "yes",
           "northwest",
           "female"
          ],
          [
           4,
           "no",
           "southeast",
           "female"
          ],
          [
           0,
           "no",
           "northeast",
           "male"
          ],
          [
           2,
           "yes",
           "southeast",
           "male"
          ],
          [
           0,
           "no",
           "northeast",
           "male"
          ],
          [
           0,
           "no",
           "southwest",
           "female"
          ],
          [
           2,
           "yes",
           "northeast",
           "female"
          ],
          [
           1,
           "no",
           "northwest",
           "male"
          ],
          [
           0,
           "no",
           "southeast",
           "female"
          ],
          [
           0,
           "no",
           "northwest",
           "female"
          ],
          [
           0,
           "no",
           "northeast",
           "male"
          ],
          [
           0,
           "yes",
           "southeast",
           "male"
          ],
          [
           3,
           "no",
           "northeast",
           "male"
          ],
          [
           0,
           "no",
           "southeast",
           "male"
          ],
          [
           0,
           "no",
           "southwest",
           "female"
          ],
          [
           2,
           "no",
           "northeast",
           "female"
          ],
          [
           3,
           "no",
           "northeast",
           "male"
          ],
          [
           1,
           "no",
           "southeast",
           "female"
          ],
          [
           3,
           "no",
           "southwest",
           "male"
          ],
          [
           0,
           "yes",
           "southwest",
           "female"
          ],
          [
           1,
           "no",
           "northwest",
           "male"
          ],
          [
           0,
           "yes",
           "northeast",
           "male"
          ],
          [
           3,
           "no",
           "northwest",
           "female"
          ],
          [
           1,
           "no",
           "southwest",
           "female"
          ],
          [
           2,
           "no",
           "northwest",
           "male"
          ],
          [
           0,
           "no",
           "southeast",
           "female"
          ],
          [
           0,
           "yes",
           "northwest",
           "female"
          ],
          [
           0,
           "yes",
           "northeast",
           "male"
          ],
          [
           0,
           "no",
           "southwest",
           "female"
          ],
          [
           1,
           "no",
           "southeast",
           "female"
          ],
          [
           0,
           "no",
           "southwest",
           "female"
          ],
          [
           0,
           "no",
           "southwest",
           "female"
          ],
          [
           1,
           "no",
           "southwest",
           "male"
          ],
          [
           0,
           "no",
           "northwest",
           "male"
          ],
          [
           0,
           "no",
           "southwest",
           "male"
          ],
          [
           2,
           "no",
           "northeast",
           "male"
          ],
          [
           2,
           "no",
           "southwest",
           "female"
          ],
          [
           1,
           "no",
           "southwest",
           "female"
          ],
          [
           0,
           "no",
           "southeast",
           "female"
          ],
          [
           1,
           "no",
           "southeast",
           "male"
          ],
          [
           1,
           "no",
           "southeast",
           "male"
          ],
          [
           1,
           "no",
           "southwest",
           "female"
          ],
          [
           5,
           "no",
           "southwest",
           "male"
          ],
          [
           0,
           "no",
           "southwest",
           "female"
          ],
          [
           2,
           "no",
           "southeast",
           "male"
          ],
          [
           0,
           "no",
           "southwest",
           "female"
          ],
          [
           2,
           "no",
           "northeast",
           "male"
          ],
          [
           5,
           "no",
           "northwest",
           "female"
          ],
          [
           2,
           "no",
           "southeast",
           "male"
          ],
          [
           0,
           "no",
           "southeast",
           "male"
          ],
          [
           0,
           "no",
           "southeast",
           "male"
          ],
          [
           1,
           "no",
           "southeast",
           "female"
          ],
          [
           0,
           "no",
           "northeast",
           "female"
          ],
          [
           0,
           "no",
           "northwest",
           "male"
          ],
          [
           0,
           "no",
           "southeast",
           "male"
          ],
          [
           1,
           "no",
           "southwest",
           "female"
          ],
          [
           2,
           "no",
           "southwest",
           "male"
          ],
          [
           1,
           "yes",
           "northeast",
           "male"
          ],
          [
           0,
           "no",
           "northwest",
           "male"
          ],
          [
           3,
           "yes",
           "southwest",
           "male"
          ],
          [
           0,
           "no",
           "northeast",
           "male"
          ],
          [
           2,
           "yes",
           "southeast",
           "male"
          ],
          [
           1,
           "no",
           "northwest",
           "female"
          ],
          [
           2,
           "yes",
           "southwest",
           "male"
          ],
          [
           1,
           "yes",
           "northwest",
           "male"
          ],
          [
           1,
           "no",
           "southeast",
           "male"
          ],
          [
           1,
           "yes",
           "southeast",
           "male"
          ],
          [
           1,
           "no",
           "northwest",
           "male"
          ],
          [
           1,
           "yes",
           "northeast",
           "male"
          ],
          [
           1,
           "no",
           "northwest",
           "male"
          ],
          [
           1,
           "no",
           "northwest",
           "female"
          ],
          [
           0,
           "no",
           "southwest",
           "female"
          ],
          [
           1,
           "no",
           "southeast",
           "female"
          ],
          [
           3,
           "no",
           "northeast",
           "male"
          ],
          [
           2,
           "no",
           "northwest",
           "male"
          ],
          [
           1,
           "no",
           "southwest",
           "male"
          ],
          [
           2,
           "yes",
           "northwest",
           "male"
          ],
          [
           1,
           "no",
           "northwest",
           "male"
          ],
          [
           2,
           "no",
           "northeast",
           "male"
          ],
          [
           5,
           "no",
           "southeast",
           "female"
          ],
          [
           3,
           "no",
           "southeast",
           "female"
          ],
          [
           0,
           "no",
           "northeast",
           "female"
          ],
          [
           0,
           "no",
           "northwest",
           "female"
          ],
          [
           0,
           "no",
           "southwest",
           "female"
          ],
          [
           0,
           "no",
           "southeast",
           "male"
          ],
          [
           0,
           "yes",
           "northeast",
           "male"
          ],
          [
           0,
           "no",
           "southeast",
           "male"
          ],
          [
           1,
           "no",
           "southeast",
           "male"
          ],
          [
           3,
           "no",
           "northeast",
           "female"
          ],
          [
           0,
           "no",
           "southeast",
           "female"
          ],
          [
           1,
           "no",
           "northeast",
           "male"
          ],
          [
           0,
           "no",
           "northeast",
           "male"
          ],
          [
           3,
           "yes",
           "southwest",
           "male"
          ],
          [
           1,
           "no",
           "northeast",
           "female"
          ],
          [
           5,
           "no",
           "northeast",
           "male"
          ],
          [
           1,
           "no",
           "southwest",
           "female"
          ],
          [
           3,
           "no",
           "northwest",
           "male"
          ],
          [
           1,
           "no",
           "northwest",
           "female"
          ],
          [
           0,
           "no",
           "northeast",
           "male"
          ],
          [
           0,
           "yes",
           "northeast",
           "female"
          ],
          [
           1,
           "no",
           "southwest",
           "female"
          ],
          [
           2,
           "no",
           "northeast",
           "female"
          ],
          [
           2,
           "no",
           "southwest",
           "female"
          ],
          [
           1,
           "no",
           "southeast",
           "male"
          ],
          [
           3,
           "yes",
           "northwest",
           "female"
          ],
          [
           3,
           "no",
           "northeast",
           "female"
          ],
          [
           3,
           "no",
           "southwest",
           "female"
          ],
          [
           0,
           "no",
           "southeast",
           "female"
          ],
          [
           3,
           "no",
           "northeast",
           "female"
          ],
          [
           0,
           "no",
           "northwest",
           "female"
          ],
          [
           2,
           "yes",
           "northwest",
           "male"
          ],
          [
           0,
           "yes",
           "southwest",
           "male"
          ],
          [
           0,
           "no",
           "southwest",
           "male"
          ],
          [
           0,
           "no",
           "southwest",
           "male"
          ],
          [
           1,
           "no",
           "northeast",
           "male"
          ],
          [
           2,
           "no",
           "northwest",
           "male"
          ],
          [
           2,
           "no",
           "northeast",
           "male"
          ],
          [
           3,
           "yes",
           "northwest",
           "male"
          ],
          [
           2,
           "no",
           "northeast",
           "male"
          ],
          [
           1,
           "no",
           "northeast",
           "male"
          ],
          [
           0,
           "no",
           "southwest",
           "female"
          ],
          [
           2,
           "yes",
           "southeast",
           "male"
          ],
          [
           4,
           "no",
           "southeast",
           "female"
          ],
          [
           1,
           "no",
           "northwest",
           "male"
          ],
          [
           0,
           "no",
           "southwest",
           "female"
          ],
          [
           0,
           "no",
           "northwest",
           "male"
          ],
          [
           1,
           "no",
           "northwest",
           "female"
          ],
          [
           2,
           "no",
           "southwest",
           "female"
          ],
          [
           3,
           "no",
           "northwest",
           "female"
          ],
          [
           2,
           "no",
           "northwest",
           "female"
          ],
          [
           0,
           "no",
           "southwest",
           "male"
          ],
          [
           3,
           "yes",
           "southeast",
           "female"
          ],
          [
           1,
           "yes",
           "southeast",
           "male"
          ],
          [
           1,
           "no",
           "southeast",
           "male"
          ],
          [
           1,
           "no",
           "southeast",
           "female"
          ],
          [
           0,
           "no",
           "southwest",
           "female"
          ],
          [
           1,
           "yes",
           "northwest",
           "male"
          ],
          [
           0,
           "no",
           "northwest",
           "male"
          ],
          [
           0,
           "no",
           "southwest",
           "male"
          ],
          [
           2,
           "no",
           "northeast",
           "female"
          ],
          [
           1,
           "yes",
           "northwest",
           "female"
          ],
          [
           0,
           "yes",
           "southeast",
           "female"
          ],
          [
           0,
           "no",
           "northeast",
           "female"
          ],
          [
           0,
           "yes",
           "northeast",
           "male"
          ],
          [
           0,
           "no",
           "northwest",
           "male"
          ],
          [
           3,
           "no",
           "southwest",
           "female"
          ],
          [
           2,
           "yes",
           "southeast",
           "male"
          ],
          [
           1,
           "yes",
           "northwest",
           "female"
          ],
          [
           0,
           "no",
           "northeast",
           "male"
          ],
          [
           2,
           "no",
           "northwest",
           "male"
          ],
          [
           0,
           "yes",
           "northwest",
           "female"
          ],
          [
           0,
           "no",
           "northeast",
           "male"
          ],
          [
           0,
           "yes",
           "northeast",
           "male"
          ],
          [
           0,
           "no",
           "southwest",
           "female"
          ],
          [
           1,
           "no",
           "northeast",
           "male"
          ],
          [
           2,
           "yes",
           "northwest",
           "female"
          ],
          [
           0,
           "no",
           "northeast",
           "female"
          ],
          [
           1,
           "yes",
           "southeast",
           "male"
          ],
          [
           1,
           "no",
           "northwest",
           "female"
          ],
          [
           0,
           "yes",
           "southwest",
           "male"
          ],
          [
           1,
           "no",
           "northwest",
           "female"
          ],
          [
           0,
           "no",
           "northeast",
           "male"
          ],
          [
           1,
           "no",
           "northeast",
           "male"
          ],
          [
           3,
           "yes",
           "southwest",
           "male"
          ],
          [
           0,
           "no",
           "northwest",
           "female"
          ],
          [
           0,
           "no",
           "northwest",
           "male"
          ],
          [
           0,
           "no",
           "southwest",
           "female"
          ],
          [
           0,
           "no",
           "southeast",
           "female"
          ],
          [
           0,
           "no",
           "southeast",
           "female"
          ],
          [
           1,
           "no",
           "northwest",
           "male"
          ],
          [
           0,
           "no",
           "southeast",
           "male"
          ],
          [
           1,
           "no",
           "southeast",
           "male"
          ],
          [
           1,
           "yes",
           "southeast",
           "male"
          ],
          [
           3,
           "no",
           "northwest",
           "male"
          ],
          [
           4,
           "no",
           "southwest",
           "female"
          ],
          [
           1,
           "no",
           "southwest",
           "female"
          ],
          [
           2,
           "no",
           "southeast",
           "male"
          ],
          [
           0,
           "no",
           "northeast",
           "male"
          ],
          [
           1,
           "no",
           "northwest",
           "male"
          ],
          [
           1,
           "no",
           "southeast",
           "female"
          ],
          [
           1,
           "yes",
           "southeast",
           "male"
          ],
          [
           0,
           "no",
           "northeast",
           "male"
          ],
          [
           0,
           "no",
           "northwest",
           "male"
          ],
          [
           2,
           "no",
           "northeast",
           "female"
          ],
          [
           0,
           "no",
           "northeast",
           "female"
          ],
          [
           1,
           "no",
           "southeast",
           "female"
          ],
          [
           1,
           "no",
           "southwest",
           "female"
          ],
          [
           0,
           "no",
           "northeast",
           "male"
          ],
          [
           0,
           "yes",
           "southeast",
           "male"
          ],
          [
           3,
           "no",
           "southeast",
           "male"
          ],
          [
           2,
           "no",
           "southeast",
           "male"
          ],
          [
           1,
           "no",
           "northwest",
           "male"
          ],
          [
           1,
           "no",
           "northwest",
           "male"
          ],
          [
           1,
           "no",
           "southwest",
           "male"
          ],
          [
           2,
           "no",
           "northwest",
           "female"
          ],
          [
           5,
           "yes",
           "southwest",
           "female"
          ],
          [
           0,
           "no",
           "northeast",
           "male"
          ],
          [
           0,
           "no",
           "northwest",
           "male"
          ],
          [
           1,
           "no",
           "southeast",
           "male"
          ],
          [
           0,
           "no",
           "southwest",
           "male"
          ],
          [
           0,
           "yes",
           "southeast",
           "male"
          ],
          [
           0,
           "no",
           "northeast",
           "female"
          ],
          [
           3,
           "no",
           "southwest",
           "male"
          ],
          [
           0,
           "yes",
           "northwest",
           "female"
          ],
          [
           4,
           "no",
           "southwest",
           "female"
          ],
          [
           4,
           "no",
           "northeast",
           "female"
          ],
          [
           2,
           "yes",
           "northeast",
           "female"
          ],
          [
           0,
           "no",
           "southeast",
           "male"
          ],
          [
           0,
           "no",
           "northeast",
           "female"
          ],
          [
           1,
           "no",
           "southeast",
           "female"
          ],
          [
           2,
           "yes",
           "northeast",
           "female"
          ],
          [
           3,
           "no",
           "southwest",
           "male"
          ],
          [
           1,
           "no",
           "southeast",
           "male"
          ],
          [
           0,
           "no",
           "southeast",
           "male"
          ],
          [
           0,
           "no",
           "southwest",
           "male"
          ],
          [
           0,
           "no",
           "southeast",
           "female"
          ],
          [
           0,
           "no",
           "northwest",
           "female"
          ],
          [
           2,
           "no",
           "northwest",
           "female"
          ],
          [
           1,
           "no",
           "southwest",
           "male"
          ],
          [
           3,
           "no",
           "southeast",
           "male"
          ],
          [
           1,
           "no",
           "northeast",
           "female"
          ],
          [
           3,
           "yes",
           "southeast",
           "male"
          ],
          [
           3,
           "yes",
           "southeast",
           "female"
          ],
          [
           3,
           "no",
           "northwest",
           "female"
          ],
          [
           0,
           "no",
           "northeast",
           "male"
          ],
          [
           1,
           "no",
           "southeast",
           "male"
          ],
          [
           5,
           "no",
           "northeast",
           "male"
          ],
          [
           2,
           "yes",
           "southeast",
           "male"
          ],
          [
           1,
           "yes",
           "southeast",
           "male"
          ],
          [
           3,
           "no",
           "northwest",
           "female"
          ],
          [
           0,
           "yes",
           "southwest",
           "female"
          ],
          [
           2,
           "no",
           "southeast",
           "male"
          ],
          [
           3,
           "yes",
           "northwest",
           "female"
          ],
          [
           1,
           "no",
           "northeast",
           "female"
          ],
          [
           1,
           "yes",
           "northeast",
           "female"
          ],
          [
           0,
           "no",
           "northwest",
           "female"
          ],
          [
           0,
           "no",
           "southwest",
           "male"
          ],
          [
           2,
           "no",
           "southeast",
           "female"
          ],
          [
           1,
           "no",
           "southwest",
           "male"
          ],
          [
           0,
           "no",
           "southwest",
           "female"
          ],
          [
           5,
           "no",
           "southeast",
           "female"
          ],
          [
           2,
           "no",
           "southwest",
           "male"
          ],
          [
           0,
           "no",
           "northeast",
           "male"
          ],
          [
           0,
           "no",
           "northwest",
           "female"
          ],
          [
           0,
           "no",
           "northwest",
           "male"
          ],
          [
           3,
           "no",
           "northwest",
           "female"
          ],
          [
           1,
           "no",
           "southwest",
           "female"
          ],
          [
           0,
           "no",
           "northwest",
           "female"
          ],
          [
           0,
           "no",
           "southeast",
           "male"
          ],
          [
           0,
           "yes",
           "northwest",
           "female"
          ],
          [
           1,
           "no",
           "southeast",
           "male"
          ],
          [
           3,
           "no",
           "southwest",
           "female"
          ],
          [
           0,
           "no",
           "southeast",
           "female"
          ],
          [
           2,
           "no",
           "southeast",
           "male"
          ],
          [
           2,
           "no",
           "southwest",
           "male"
          ],
          [
           3,
           "no",
           "northwest",
           "male"
          ],
          [
           0,
           "yes",
           "southwest",
           "male"
          ],
          [
           0,
           "no",
           "northwest",
           "female"
          ],
          [
           1,
           "no",
           "southwest",
           "male"
          ],
          [
           0,
           "no",
           "southwest",
           "male"
          ],
          [
           0,
           "no",
           "northeast",
           "female"
          ],
          [
           0,
           "no",
           "northwest",
           "female"
          ],
          [
           3,
           "yes",
           "southeast",
           "female"
          ],
          [
           1,
           "no",
           "northwest",
           "female"
          ],
          [
           4,
           "no",
           "northwest",
           "female"
          ],
          [
           3,
           "no",
           "northeast",
           "female"
          ],
          [
           0,
           "yes",
           "southeast",
           "male"
          ],
          [
           2,
           "no",
           "northwest",
           "female"
          ],
          [
           0,
           "no",
           "northeast",
           "female"
          ],
          [
           0,
           "no",
           "southwest",
           "female"
          ],
          [
           1,
           "no",
           "northwest",
           "female"
          ],
          [
           2,
           "no",
           "southeast",
           "male"
          ],
          [
           1,
           "no",
           "southeast",
           "male"
          ],
          [
           0,
           "no",
           "northeast",
           "female"
          ],
          [
           1,
           "no",
           "northwest",
           "female"
          ],
          [
           0,
           "no",
           "northeast",
           "female"
          ],
          [
           0,
           "no",
           "southeast",
           "male"
          ],
          [
           2,
           "no",
           "southwest",
           "female"
          ],
          [
           2,
           "no",
           "southwest",
           "male"
          ],
          [
           1,
           "no",
           "northwest",
           "female"
          ],
          [
           1,
           "yes",
           "northeast",
           "male"
          ],
          [
           2,
           "yes",
           "southwest",
           "female"
          ],
          [
           0,
           "no",
           "southeast",
           "female"
          ],
          [
           2,
           "no",
           "northwest",
           "male"
          ],
          [
           2,
           "no",
           "northwest",
           "male"
          ],
          [
           0,
           "no",
           "southwest",
           "female"
          ],
          [
           1,
           "yes",
           "northwest",
           "female"
          ],
          [
           1,
           "no",
           "southwest",
           "female"
          ],
          [
           0,
           "no",
           "northeast",
           "female"
          ],
          [
           0,
           "yes",
           "southeast",
           "male"
          ],
          [
           1,
           "no",
           "northeast",
           "female"
          ],
          [
           0,
           "no",
           "northwest",
           "female"
          ],
          [
           0,
           "no",
           "southwest",
           "female"
          ],
          [
           1,
           "no",
           "northeast",
           "female"
          ],
          [
           1,
           "yes",
           "southeast",
           "female"
          ],
          [
           2,
           "no",
           "northeast",
           "male"
          ],
          [
           3,
           "yes",
           "northwest",
           "male"
          ],
          [
           0,
           "no",
           "northwest",
           "female"
          ],
          [
           1,
           "yes",
           "northeast",
           "female"
          ],
          [
           0,
           "no",
           "southwest",
           "female"
          ],
          [
           2,
           "no",
           "northwest",
           "female"
          ],
          [
           1,
           "no",
           "northeast",
           "female"
          ],
          [
           1,
           "no",
           "northeast",
           "female"
          ],
          [
           0,
           "no",
           "northwest",
           "female"
          ],
          [
           0,
           "no",
           "northwest",
           "female"
          ],
          [
           3,
           "no",
           "northwest",
           "female"
          ],
          [
           0,
           "yes",
           "northwest",
           "female"
          ],
          [
           0,
           "no",
           "southeast",
           "male"
          ],
          [
           1,
           "no",
           "northwest",
           "male"
          ],
          [
           2,
           "no",
           "southwest",
           "female"
          ],
          [
           2,
           "no",
           "northwest",
           "male"
          ],
          [
           2,
           "no",
           "northwest",
           "male"
          ],
          [
           0,
           "no",
           "northwest",
           "male"
          ],
          [
           1,
           "no",
           "northeast",
           "male"
          ],
          [
           3,
           "yes",
           "southeast",
           "female"
          ],
          [
           1,
           "no",
           "northwest",
           "male"
          ],
          [
           2,
           "no",
           "southwest",
           "female"
          ],
          [
           2,
           "yes",
           "southwest",
           "male"
          ],
          [
           1,
           "yes",
           "northeast",
           "female"
          ],
          [
           1,
           "no",
           "southwest",
           "male"
          ],
          [
           1,
           "no",
           "northwest",
           "male"
          ],
          [
           2,
           "no",
           "southeast",
           "male"
          ],
          [
           0,
           "no",
           "northeast",
           "male"
          ],
          [
           2,
           "no",
           "southwest",
           "female"
          ],
          [
           1,
           "no",
           "northwest",
           "female"
          ],
          [
           0,
           "no",
           "northeast",
           "male"
          ],
          [
           0,
           "no",
           "southeast",
           "male"
          ],
          [
           2,
           "no",
           "southeast",
           "male"
          ],
          [
           1,
           "yes",
           "southwest",
           "female"
          ],
          [
           3,
           "no",
           "northwest",
           "female"
          ],
          [
           1,
           "no",
           "northeast",
           "female"
          ],
          [
           2,
           "no",
           "southeast",
           "male"
          ],
          [
           0,
           "no",
           "southeast",
           "male"
          ],
          [
           0,
           "yes",
           "southeast",
           "female"
          ],
          [
           1,
           "no",
           "northeast",
           "male"
          ],
          [
           1,
           "no",
           "southeast",
           "female"
          ],
          [
           2,
           "no",
           "northeast",
           "male"
          ],
          [
           2,
           "no",
           "southeast",
           "male"
          ],
          [
           0,
           "no",
           "southeast",
           "male"
          ],
          [
           0,
           "no",
           "northeast",
           "male"
          ],
          [
           3,
           "yes",
           "northwest",
           "male"
          ],
          [
           0,
           "yes",
           "southwest",
           "female"
          ],
          [
           3,
           "no",
           "northwest",
           "female"
          ],
          [
           0,
           "no",
           "southwest",
           "male"
          ],
          [
           2,
           "no",
           "southeast",
           "female"
          ],
          [
           0,
           "no",
           "northwest",
           "male"
          ],
          [
           0,
           "no",
           "northeast",
           "female"
          ],
          [
           0,
           "no",
           "northwest",
           "female"
          ],
          [
           3,
           "no",
           "northeast",
           "male"
          ],
          [
           1,
           "no",
           "southeast",
           "female"
          ],
          [
           2,
           "yes",
           "southeast",
           "male"
          ],
          [
           2,
           "yes",
           "southeast",
           "male"
          ],
          [
           3,
           "no",
           "northwest",
           "female"
          ],
          [
           0,
           "no",
           "southeast",
           "female"
          ],
          [
           0,
           "no",
           "southeast",
           "male"
          ],
          [
           5,
           "no",
           "southwest",
           "male"
          ],
          [
           3,
           "no",
           "southwest",
           "female"
          ],
          [
           4,
           "no",
           "southwest",
           "male"
          ],
          [
           0,
           "no",
           "southeast",
           "female"
          ],
          [
           1,
           "yes",
           "northeast",
           "male"
          ],
          [
           0,
           "yes",
           "northeast",
           "male"
          ],
          [
           0,
           "no",
           "southwest",
           "male"
          ],
          [
           0,
           "yes",
           "southwest",
           "male"
          ],
          [
           4,
           "no",
           "southwest",
           "female"
          ],
          [
           0,
           "no",
           "southeast",
           "female"
          ],
          [
           0,
           "no",
           "southwest",
           "female"
          ],
          [
           3,
           "no",
           "northwest",
           "female"
          ],
          [
           1,
           "no",
           "northwest",
           "female"
          ],
          [
           3,
           "no",
           "northwest",
           "male"
          ],
          [
           0,
           "no",
           "northeast",
           "female"
          ],
          [
           0,
           "no",
           "northeast",
           "female"
          ],
          [
           1,
           "no",
           "southwest",
           "male"
          ],
          [
           1,
           "no",
           "southeast",
           "female"
          ],
          [
           1,
           "no",
           "southwest",
           "female"
          ],
          [
           2,
           "no",
           "northeast",
           "female"
          ],
          [
           0,
           "yes",
           "southeast",
           "male"
          ],
          [
           0,
           "no",
           "southwest",
           "female"
          ],
          [
           0,
           "yes",
           "northeast",
           "male"
          ],
          [
           0,
           "no",
           "southwest",
           "female"
          ],
          [
           3,
           "no",
           "southwest",
           "male"
          ],
          [
           1,
           "no",
           "northwest",
           "male"
          ],
          [
           0,
           "no",
           "northwest",
           "female"
          ],
          [
           5,
           "no",
           "southeast",
           "male"
          ],
          [
           1,
           "no",
           "southeast",
           "male"
          ],
          [
           0,
           "yes",
           "southeast",
           "male"
          ],
          [
           0,
           "no",
           "southwest",
           "male"
          ],
          [
           0,
           "no",
           "northeast",
           "female"
          ],
          [
           0,
           "no",
           "northwest",
           "female"
          ],
          [
           1,
           "yes",
           "northeast",
           "male"
          ],
          [
           2,
           "no",
           "northwest",
           "female"
          ],
          [
           0,
           "no",
           "southeast",
           "female"
          ],
          [
           2,
           "yes",
           "northwest",
           "female"
          ],
          [
           0,
           "yes",
           "northeast",
           "female"
          ],
          [
           1,
           "no",
           "southeast",
           "male"
          ],
          [
           1,
           "yes",
           "southwest",
           "male"
          ],
          [
           0,
           "no",
           "northeast",
           "female"
          ],
          [
           0,
           "no",
           "northeast",
           "female"
          ],
          [
           1,
           "no",
           "southwest",
           "female"
          ],
          [
           2,
           "yes",
           "southwest",
           "male"
          ],
          [
           1,
           "no",
           "southeast",
           "male"
          ],
          [
           2,
           "no",
           "northeast",
           "female"
          ],
          [
           0,
           "yes",
           "southwest",
           "male"
          ],
          [
           0,
           "no",
           "southeast",
           "male"
          ],
          [
           3,
           "no",
           "northwest",
           "male"
          ],
          [
           0,
           "no",
           "northeast",
           "male"
          ],
          [
           1,
           "no",
           "southwest",
           "male"
          ],
          [
           0,
           "no",
           "northeast",
           "male"
          ],
          [
           2,
           "no",
           "southeast",
           "female"
          ],
          [
           2,
           "no",
           "northwest",
           "male"
          ],
          [
           1,
           "no",
           "northwest",
           "female"
          ],
          [
           0,
           "yes",
           "southeast",
           "male"
          ],
          [
           3,
           "yes",
           "northwest",
           "male"
          ],
          [
           1,
           "no",
           "southwest",
           "female"
          ],
          [
           0,
           "yes",
           "southwest",
           "male"
          ],
          [
           2,
           "yes",
           "northeast",
           "male"
          ],
          [
           0,
           "no",
           "southeast",
           "female"
          ],
          [
           0,
           "yes",
           "northeast",
           "female"
          ],
          [
           4,
           "yes",
           "northwest",
           "male"
          ],
          [
           0,
           "yes",
           "southwest",
           "female"
          ],
          [
           2,
           "no",
           "southwest",
           "male"
          ],
          [
           1,
           "no",
           "northwest",
           "male"
          ],
          [
           0,
           "no",
           "northwest",
           "female"
          ],
          [
           1,
           "no",
           "southwest",
           "male"
          ],
          [
           2,
           "yes",
           "southwest",
           "female"
          ],
          [
           3,
           "yes",
           "northwest",
           "female"
          ],
          [
           1,
           "no",
           "northeast",
           "male"
          ],
          [
           0,
           "no",
           "southwest",
           "female"
          ],
          [
           0,
           "no",
           "southeast",
           "male"
          ],
          [
           4,
           "no",
           "northeast",
           "male"
          ],
          [
           2,
           "no",
           "northwest",
           "female"
          ],
          [
           3,
           "no",
           "northwest",
           "male"
          ],
          [
           0,
           "yes",
           "northeast",
           "male"
          ],
          [
           0,
           "no",
           "southeast",
           "male"
          ],
          [
           2,
           "yes",
           "southeast",
           "female"
          ],
          [
           1,
           "no",
           "northwest",
           "male"
          ],
          [
           0,
           "no",
           "northeast",
           "male"
          ],
          [
           0,
           "no",
           "northeast",
           "female"
          ],
          [
           1,
           "no",
           "southeast",
           "male"
          ],
          [
           2,
           "no",
           "northeast",
           "female"
          ],
          [
           2,
           "no",
           "southwest",
           "male"
          ],
          [
           2,
           "no",
           "southeast",
           "female"
          ],
          [
           0,
           "no",
           "southwest",
           "female"
          ],
          [
           3,
           "no",
           "southwest",
           "female"
          ],
          [
           3,
           "no",
           "northwest",
           "male"
          ],
          [
           0,
           "no",
           "northeast",
           "female"
          ],
          [
           0,
           "no",
           "southeast",
           "female"
          ],
          [
           0,
           "no",
           "southwest",
           "female"
          ],
          [
           0,
           "yes",
           "northwest",
           "female"
          ]
         ],
         "hovertemplate": "age=%{x}<br>charges=%{y}<br>children=%{customdata[0]}<br>smoker=%{customdata[1]}<br>region=%{customdata[2]}<br>sex=%{customdata[3]}<br>bmi=%{marker.color}<extra></extra>",
         "legendgroup": "",
         "marker": {
          "color": [
           27.9,
           33.77,
           33,
           22.705,
           28.88,
           25.74,
           33.44,
           27.74,
           29.83,
           25.84,
           26.22,
           26.29,
           34.4,
           39.82,
           42.13,
           24.6,
           30.78,
           23.845,
           40.3,
           35.3,
           36.005,
           32.4,
           34.1,
           31.92,
           28.025,
           27.72,
           23.085,
           32.775,
           17.385,
           36.3,
           35.6,
           26.315,
           28.6,
           28.31,
           36.4,
           20.425,
           32.965,
           20.8,
           36.67,
           39.9,
           26.6,
           36.63,
           21.78,
           30.8,
           37.05,
           37.3,
           38.665,
           34.77,
           24.53,
           35.2,
           35.625,
           33.63,
           28,
           34.43,
           28.69,
           36.955,
           31.825,
           31.68,
           22.88,
           37.335,
           27.36,
           33.66,
           24.7,
           25.935,
           22.42,
           28.9,
           39.1,
           26.315,
           36.19,
           23.98,
           24.75,
           28.5,
           28.1,
           32.01,
           27.4,
           34.01,
           29.59,
           35.53,
           39.805,
           32.965,
           26.885,
           38.285,
           37.62,
           41.23,
           34.8,
           22.895,
           31.16,
           27.2,
           27.74,
           26.98,
           39.49,
           24.795,
           29.83,
           34.77,
           31.3,
           37.62,
           30.8,
           38.28,
           19.95,
           19.3,
           31.6,
           25.46,
           30.115,
           29.92,
           27.5,
           28.025,
           28.4,
           30.875,
           27.94,
           35.09,
           33.63,
           29.7,
           30.8,
           35.72,
           32.205,
           28.595,
           49.06,
           27.94,
           27.17,
           23.37,
           37.1,
           23.75,
           28.975,
           31.35,
           33.915,
           28.785,
           28.3,
           37.4,
           17.765,
           34.7,
           26.505,
           22.04,
           35.9,
           25.555,
           28.785,
           28.05,
           34.1,
           25.175,
           31.9,
           36,
           22.42,
           32.49,
           25.3,
           29.735,
           28.69,
           38.83,
           30.495,
           37.73,
           37.43,
           28.4,
           24.13,
           29.7,
           37.145,
           23.37,
           25.46,
           39.52,
           24.42,
           25.175,
           35.53,
           27.83,
           26.6,
           36.85,
           39.6,
           29.8,
           29.64,
           28.215,
           37,
           33.155,
           31.825,
           18.905,
           41.47,
           30.3,
           15.96,
           34.8,
           33.345,
           37.7,
           27.835,
           29.2,
           28.9,
           33.155,
           28.595,
           38.28,
           19.95,
           26.41,
           30.69,
           41.895,
           29.92,
           30.9,
           32.2,
           32.11,
           31.57,
           26.2,
           25.74,
           26.6,
           34.43,
           30.59,
           32.8,
           28.6,
           18.05,
           39.33,
           32.11,
           32.23,
           24.035,
           36.08,
           22.3,
           28.88,
           26.4,
           27.74,
           31.8,
           41.23,
           33,
           30.875,
           28.5,
           26.73,
           30.9,
           37.1,
           26.6,
           23.1,
           29.92,
           23.21,
           33.7,
           33.25,
           30.8,
           34.8,
           24.64,
           33.88,
           38.06,
           41.91,
           31.635,
           25.46,
           36.195,
           27.83,
           17.8,
           27.5,
           24.51,
           22.22,
           26.73,
           38.39,
           29.07,
           38.06,
           36.67,
           22.135,
           26.8,
           35.3,
           27.74,
           30.02,
           38.06,
           35.86,
           20.9,
           28.975,
           17.29,
           32.2,
           34.21,
           30.3,
           31.825,
           25.365,
           33.63,
           40.15,
           24.415,
           31.92,
           25.2,
           26.84,
           24.32,
           36.955,
           38.06,
           42.35,
           19.8,
           32.395,
           30.2,
           25.84,
           29.37,
           34.2,
           37.05,
           27.455,
           27.55,
           26.6,
           20.615,
           24.3,
           31.79,
           21.56,
           28.12,
           40.565,
           27.645,
           32.395,
           31.2,
           26.62,
           48.07,
           26.22,
           36.765,
           26.4,
           33.4,
           29.64,
           45.54,
           28.82,
           26.8,
           22.99,
           27.7,
           25.41,
           34.39,
           28.88,
           27.55,
           22.61,
           37.51,
           33,
           38,
           33.345,
           27.5,
           33.33,
           34.865,
           33.06,
           26.6,
           24.7,
           35.97,
           35.86,
           31.4,
           33.25,
           32.205,
           32.775,
           27.645,
           37.335,
           25.27,
           29.64,
           30.8,
           40.945,
           27.2,
           34.105,
           23.21,
           36.48,
           33.8,
           36.7,
           36.385,
           27.36,
           31.16,
           28.785,
           35.72,
           34.5,
           25.74,
           27.55,
           32.3,
           27.72,
           27.6,
           30.02,
           27.55,
           36.765,
           41.47,
           29.26,
           35.75,
           33.345,
           29.92,
           27.835,
           23.18,
           25.6,
           27.7,
           35.245,
           38.28,
           27.6,
           43.89,
           29.83,
           41.91,
           20.79,
           32.3,
           30.5,
           21.7,
           26.4,
           21.89,
           30.78,
           32.3,
           24.985,
           32.015,
           30.4,
           21.09,
           22.23,
           33.155,
           32.9,
           33.33,
           28.31,
           24.89,
           40.15,
           30.115,
           31.46,
           17.955,
           30.685,
           33,
           43.34,
           22.135,
           34.4,
           39.05,
           25.365,
           22.61,
           30.21,
           35.625,
           37.43,
           31.445,
           31.35,
           32.3,
           19.855,
           34.4,
           31.02,
           25.6,
           38.17,
           20.6,
           47.52,
           32.965,
           32.3,
           20.4,
           38.38,
           24.31,
           23.6,
           21.12,
           30.03,
           17.48,
           20.235,
           17.195,
           23.9,
           35.15,
           35.64,
           34.1,
           22.6,
           39.16,
           26.98,
           33.88,
           35.86,
           32.775,
           30.59,
           30.2,
           24.31,
           27.265,
           29.165,
           16.815,
           30.4,
           33.1,
           20.235,
           26.9,
           30.5,
           28.595,
           33.11,
           31.73,
           28.9,
           46.75,
           29.45,
           32.68,
           33.5,
           43.01,
           36.52,
           26.695,
           33.1,
           29.64,
           25.65,
           29.6,
           38.6,
           29.6,
           24.13,
           23.4,
           29.735,
           46.53,
           37.4,
           30.14,
           30.495,
           39.6,
           33,
           36.63,
           30,
           38.095,
           25.935,
           25.175,
           28.38,
           28.7,
           33.82,
           24.32,
           24.09,
           32.67,
           30.115,
           29.8,
           33.345,
           25.1,
           28.31,
           28.5,
           35.625,
           36.85,
           32.56,
           41.325,
           37.51,
           31.35,
           39.5,
           34.3,
           31.065,
           21.47,
           28.7,
           38.06,
           31.16,
           32.9,
           25.08,
           25.08,
           43.4,
           25.7,
           27.93,
           23.6,
           28.7,
           23.98,
           39.2,
           34.4,
           26.03,
           23.21,
           30.25,
           28.93,
           30.875,
           31.35,
           23.75,
           25.27,
           28.7,
           32.11,
           33.66,
           22.42,
           30.4,
           28.3,
           35.7,
           35.31,
           30.495,
           31,
           30.875,
           27.36,
           44.22,
           33.915,
           37.73,
           26.07,
           33.88,
           30.59,
           25.8,
           39.425,
           25.46,
           42.13,
           31.73,
           29.7,
           36.19,
           40.48,
           28.025,
           38.9,
           30.2,
           28.05,
           31.35,
           38,
           31.79,
           36.3,
           47.41,
           30.21,
           25.84,
           35.435,
           46.7,
           28.595,
           46.2,
           30.8,
           28.93,
           21.4,
           31.73,
           41.325,
           23.8,
           33.44,
           34.21,
           34.105,
           35.53,
           19.95,
           32.68,
           30.5,
           44.77,
           32.12,
           30.495,
           40.565,
           30.59,
           31.9,
           40.565,
           29.1,
           37.29,
           43.12,
           36.86,
           34.295,
           27.17,
           26.84,
           38.095,
           30.2,
           23.465,
           25.46,
           30.59,
           45.43,
           23.65,
           20.7,
           28.27,
           20.235,
           30.21,
           35.91,
           30.69,
           29,
           19.57,
           31.13,
           21.85,
           40.26,
           33.725,
           29.48,
           33.25,
           32.6,
           37.525,
           39.16,
           31.635,
           25.3,
           39.05,
           28.31,
           34.1,
           25.175,
           23.655,
           26.98,
           37.8,
           29.37,
           34.8,
           33.155,
           19,
           33,
           36.63,
           28.595,
           25.6,
           33.11,
           37.1,
           31.4,
           34.1,
           21.3,
           33.535,
           28.785,
           26.03,
           28.88,
           42.46,
           38,
           38.95,
           36.1,
           29.3,
           35.53,
           22.705,
           39.7,
           38.19,
           24.51,
           38.095,
           26.41,
           33.66,
           42.4,
           28.31,
           33.915,
           34.96,
           35.31,
           30.78,
           26.22,
           23.37,
           28.5,
           32.965,
           42.68,
           39.6,
           31.13,
           36.3,
           35.2,
           25.3,
           42.4,
           33.155,
           35.91,
           28.785,
           46.53,
           23.98,
           31.54,
           33.66,
           22.99,
           38.06,
           28.7,
           32.775,
           32.015,
           29.81,
           31.57,
           31.16,
           29.7,
           31.02,
           43.89,
           21.375,
           40.81,
           31.35,
           36.1,
           23.18,
           17.4,
           20.3,
           35.3,
           24.32,
           18.5,
           26.41,
           26.125,
           41.69,
           24.1,
           31.13,
           27.36,
           36.2,
           32.395,
           23.655,
           34.8,
           40.185,
           32.3,
           35.75,
           33.725,
           39.27,
           34.87,
           44.745,
           41.47,
           26.41,
           29.545,
           32.9,
           38.06,
           28.69,
           30.495,
           27.74,
           35.2,
           23.54,
           30.685,
           40.47,
           22.6,
           28.9,
           22.61,
           24.32,
           36.67,
           33.44,
           40.66,
           36.6,
           37.4,
           35.4,
           27.075,
           39.05,
           28.405,
           21.755,
           40.28,
           36.08,
           24.42,
           21.4,
           30.1,
           27.265,
           32.1,
           34.77,
           38.39,
           23.7,
           31.73,
           35.5,
           24.035,
           29.15,
           34.105,
           26.62,
           26.41,
           30.115,
           27,
           21.755,
           36,
           30.875,
           26.4,
           28.975,
           37.905,
           22.77,
           33.63,
           27.645,
           22.8,
           27.83,
           37.43,
           38.17,
           34.58,
           35.2,
           27.1,
           26.03,
           25.175,
           31.825,
           32.3,
           29,
           39.7,
           19.475,
           36.1,
           26.7,
           36.48,
           28.88,
           34.2,
           33.33,
           32.3,
           39.805,
           34.32,
           28.88,
           24.4,
           41.14,
           35.97,
           27.6,
           29.26,
           27.7,
           36.955,
           36.86,
           22.515,
           29.92,
           41.8,
           27.6,
           23.18,
           20.9,
           31.92,
           28.5,
           44.22,
           22.895,
           33.1,
           24.795,
           26.18,
           35.97,
           22.3,
           42.24,
           26.51,
           35.815,
           41.42,
           36.575,
           30.14,
           25.84,
           30.8,
           42.94,
           21.01,
           22.515,
           34.43,
           31.46,
           24.225,
           37.1,
           26.125,
           35.53,
           33.7,
           17.67,
           31.13,
           29.81,
           24.32,
           31.825,
           31.79,
           28.025,
           30.78,
           21.85,
           33.1,
           25.84,
           23.845,
           34.39,
           33.82,
           35.97,
           31.5,
           28.31,
           23.465,
           31.35,
           31.1,
           24.7,
           32.78,
           29.81,
           30.495,
           32.45,
           34.2,
           50.38,
           24.1,
           32.775,
           30.78,
           32.3,
           35.53,
           23.75,
           23.845,
           29.6,
           33.11,
           24.13,
           32.23,
           28.1,
           47.6,
           28,
           33.535,
           19.855,
           25.4,
           29.9,
           37.29,
           43.7,
           23.655,
           24.3,
           36.2,
           29.48,
           24.86,
           30.1,
           21.85,
           28.12,
           27.1,
           33.44,
           28.8,
           29.5,
           34.8,
           27.36,
           22.135,
           37.05,
           26.695,
           28.93,
           28.975,
           30.02,
           39.5,
           33.63,
           26.885,
           29.04,
           24.035,
           38.94,
           32.11,
           44,
           20.045,
           25.555,
           40.26,
           22.515,
           22.515,
           40.92,
           27.265,
           36.85,
           35.1,
           29.355,
           32.585,
           32.34,
           39.8,
           24.6,
           28.31,
           31.73,
           26.695,
           27.5,
           24.605,
           33.99,
           26.885,
           22.895,
           28.2,
           34.21,
           25,
           33.2,
           31,
           35.815,
           23.2,
           32.11,
           23.4,
           20.1,
           39.16,
           34.21,
           46.53,
           32.5,
           25.8,
           35.3,
           37.18,
           27.5,
           29.735,
           24.225,
           26.18,
           29.48,
           23.21,
           46.09,
           40.185,
           22.61,
           39.93,
           35.8,
           35.8,
           34.2,
           31.255,
           29.7,
           18.335,
           42.9,
           28.405,
           30.2,
           27.835,
           39.49,
           30.8,
           26.79,
           34.96,
           36.67,
           39.615,
           25.9,
           35.2,
           24.795,
           36.765,
           27.1,
           24.795,
           25.365,
           25.745,
           34.32,
           28.16,
           23.56,
           20.235,
           40.5,
           35.42,
           22.895,
           40.15,
           29.15,
           39.995,
           29.92,
           25.46,
           21.375,
           25.9,
           30.59,
           30.115,
           25.8,
           30.115,
           27.645,
           34.675,
           20.52,
           19.8,
           27.835,
           31.6,
           28.27,
           20.045,
           23.275,
           34.1,
           36.85,
           36.29,
           26.885,
           22.99,
           32.7,
           25.8,
           29.6,
           19.19,
           31.73,
           29.26,
           28.215,
           24.985,
           27.74,
           22.8,
           20.13,
           33.33,
           32.3,
           27.6,
           25.46,
           24.605,
           34.2,
           35.815,
           32.68,
           37,
           31.02,
           36.08,
           23.32,
           45.32,
           34.6,
           26.03,
           18.715,
           31.6,
           17.29,
           23.655,
           35.2,
           27.93,
           21.565,
           38.38,
           23,
           37.07,
           30.495,
           28.88,
           27.265,
           28.025,
           23.085,
           30.685,
           25.8,
           35.245,
           24.7,
           25.08,
           52.58,
           22.515,
           30.9,
           36.955,
           26.41,
           29.83,
           29.8,
           21.47,
           27.645,
           28.9,
           31.79,
           39.49,
           33.82,
           32.01,
           27.94,
           41.14,
           28.595,
           25.6,
           25.3,
           37.29,
           42.655,
           21.66,
           31.9,
           37.07,
           31.445,
           31.255,
           28.88,
           18.335,
           29.59,
           32,
           26.03,
           31.68,
           33.66,
           21.78,
           27.835,
           19.95,
           31.5,
           30.495,
           18.3,
           28.975,
           31.54,
           47.74,
           22.1,
           36.19,
           29.83,
           32.7,
           30.4,
           33.7,
           31.35,
           34.96,
           33.77,
           30.875,
           33.99,
           19.095,
           28.6,
           38.94,
           36.08,
           29.8,
           31.24,
           29.925,
           26.22,
           30,
           20.35,
           32.3,
           38.39,
           25.85,
           26.315,
           24.51,
           32.67,
           29.64,
           33.33,
           35.75,
           19.95,
           31.4,
           38.17,
           36.86,
           32.395,
           42.75,
           25.08,
           29.9,
           35.86,
           32.8,
           18.6,
           23.87,
           45.9,
           40.28,
           18.335,
           33.82,
           28.12,
           25,
           22.23,
           30.25,
           32.49,
           37.07,
           32.6,
           24.86,
           32.34,
           32.3,
           32.775,
           32.8,
           31.92,
           21.5,
           34.1,
           30.305,
           36.48,
           32.56,
           35.815,
           27.93,
           22.135,
           44.88,
           23.18,
           30.59,
           41.1,
           34.58,
           42.13,
           38.83,
           28.215,
           28.31,
           26.125,
           40.37,
           24.6,
           35.2,
           34.105,
           27.36,
           26.7,
           41.91,
           29.26,
           32.11,
           27.1,
           24.13,
           27.4,
           34.865,
           29.81,
           41.325,
           29.925,
           30.3,
           27.36,
           28.49,
           23.56,
           35.625,
           32.68,
           25.27,
           28,
           32.775,
           21.755,
           32.395,
           36.575,
           21.755,
           27.93,
           30.02,
           33.55,
           29.355,
           25.8,
           24.32,
           40.375,
           32.11,
           32.3,
           27.28,
           17.86,
           34.8,
           33.4,
           25.555,
           37.1,
           30.875,
           34.1,
           21.47,
           33.3,
           31.255,
           39.14,
           25.08,
           37.29,
           34.6,
           30.21,
           21.945,
           24.97,
           25.3,
           24.42,
           23.94,
           39.82,
           16.815,
           37.18,
           34.43,
           30.305,
           34.485,
           21.8,
           24.605,
           23.3,
           27.83,
           31.065,
           21.66,
           28.215,
           22.705,
           42.13,
           41.8,
           36.96,
           21.28,
           33.11,
           33.33,
           24.3,
           25.7,
           29.4,
           39.82,
           33.63,
           29.83,
           19.8,
           27.3,
           29.3,
           27.72,
           37.9,
           36.385,
           27.645,
           37.715,
           23.18,
           20.52,
           37.1,
           28.05,
           29.9,
           33.345,
           23.76,
           30.5,
           31.065,
           33.3,
           27.5,
           33.915,
           34.485,
           25.52,
           27.61,
           27.06,
           23.7,
           30.4,
           29.735,
           29.925,
           26.79,
           33.33,
           27.645,
           21.66,
           30.03,
           36.3,
           24.32,
           17.29,
           25.9,
           39.4,
           34.32,
           19.95,
           34.9,
           23.21,
           25.745,
           25.175,
           22,
           26.125,
           26.51,
           27.455,
           25.745,
           30.36,
           30.875,
           20.8,
           27.8,
           24.605,
           27.72,
           21.85,
           28.12,
           30.2,
           32.2,
           26.315,
           26.695,
           42.9,
           34.7,
           23.655,
           28.31,
           20.6,
           53.13,
           39.71,
           26.315,
           31.065,
           26.695,
           38.83,
           40.37,
           25.935,
           33.535,
           32.87,
           30.03,
           24.225,
           38.6,
           25.74,
           33.4,
           44.7,
           30.97,
           31.92,
           36.85,
           25.8,
           29.07
          ],
          "coloraxis": "coloraxis",
          "symbol": "circle"
         },
         "mode": "markers",
         "name": "",
         "showlegend": false,
         "type": "scattergl",
         "x": [
          19,
          18,
          28,
          33,
          32,
          31,
          46,
          37,
          37,
          60,
          25,
          62,
          23,
          56,
          27,
          19,
          52,
          23,
          56,
          30,
          60,
          30,
          18,
          34,
          37,
          59,
          63,
          55,
          23,
          31,
          22,
          18,
          19,
          63,
          28,
          19,
          62,
          26,
          35,
          60,
          24,
          31,
          41,
          37,
          38,
          55,
          18,
          28,
          60,
          36,
          18,
          21,
          48,
          36,
          40,
          58,
          58,
          18,
          53,
          34,
          43,
          25,
          64,
          28,
          20,
          19,
          61,
          40,
          40,
          28,
          27,
          31,
          53,
          58,
          44,
          57,
          29,
          21,
          22,
          41,
          31,
          45,
          22,
          48,
          37,
          45,
          57,
          56,
          46,
          55,
          21,
          53,
          59,
          35,
          64,
          28,
          54,
          55,
          56,
          38,
          41,
          30,
          18,
          61,
          34,
          20,
          19,
          26,
          29,
          63,
          54,
          55,
          37,
          21,
          52,
          60,
          58,
          29,
          49,
          37,
          44,
          18,
          20,
          44,
          47,
          26,
          19,
          52,
          32,
          38,
          59,
          61,
          53,
          19,
          20,
          22,
          19,
          22,
          54,
          22,
          34,
          26,
          34,
          29,
          30,
          29,
          46,
          51,
          53,
          19,
          35,
          48,
          32,
          42,
          40,
          44,
          48,
          18,
          30,
          50,
          42,
          18,
          54,
          32,
          37,
          47,
          20,
          32,
          19,
          27,
          63,
          49,
          18,
          35,
          24,
          63,
          38,
          54,
          46,
          41,
          58,
          18,
          22,
          44,
          44,
          36,
          26,
          30,
          41,
          29,
          61,
          36,
          25,
          56,
          18,
          19,
          39,
          45,
          51,
          64,
          19,
          48,
          60,
          27,
          46,
          28,
          59,
          35,
          63,
          40,
          20,
          40,
          24,
          34,
          45,
          41,
          53,
          27,
          26,
          24,
          34,
          53,
          32,
          19,
          42,
          55,
          28,
          58,
          41,
          47,
          42,
          59,
          19,
          59,
          39,
          40,
          18,
          31,
          19,
          44,
          23,
          33,
          55,
          40,
          63,
          54,
          60,
          24,
          19,
          29,
          18,
          63,
          54,
          27,
          50,
          55,
          56,
          38,
          51,
          19,
          58,
          20,
          52,
          19,
          53,
          46,
          40,
          59,
          45,
          49,
          18,
          50,
          41,
          50,
          25,
          47,
          19,
          22,
          59,
          51,
          40,
          54,
          30,
          55,
          52,
          46,
          46,
          63,
          59,
          52,
          28,
          29,
          25,
          22,
          25,
          18,
          19,
          47,
          31,
          48,
          36,
          53,
          56,
          28,
          57,
          29,
          28,
          30,
          58,
          41,
          50,
          19,
          43,
          49,
          27,
          52,
          50,
          54,
          44,
          32,
          34,
          26,
          34,
          57,
          29,
          40,
          27,
          45,
          64,
          52,
          61,
          52,
          61,
          56,
          43,
          64,
          60,
          62,
          50,
          46,
          24,
          62,
          60,
          63,
          49,
          34,
          33,
          46,
          36,
          19,
          57,
          50,
          30,
          33,
          18,
          46,
          46,
          47,
          23,
          18,
          48,
          35,
          19,
          21,
          21,
          49,
          56,
          42,
          44,
          18,
          61,
          57,
          42,
          26,
          20,
          23,
          39,
          24,
          64,
          62,
          27,
          55,
          55,
          35,
          44,
          19,
          58,
          50,
          26,
          24,
          48,
          19,
          48,
          49,
          46,
          46,
          43,
          21,
          64,
          18,
          51,
          47,
          64,
          49,
          31,
          52,
          33,
          47,
          38,
          32,
          19,
          44,
          26,
          25,
          19,
          43,
          52,
          36,
          64,
          63,
          64,
          61,
          40,
          25,
          48,
          45,
          38,
          18,
          21,
          27,
          19,
          29,
          42,
          60,
          31,
          60,
          22,
          35,
          52,
          26,
          31,
          33,
          18,
          59,
          56,
          45,
          60,
          56,
          40,
          35,
          39,
          30,
          24,
          20,
          32,
          59,
          55,
          57,
          56,
          40,
          49,
          42,
          62,
          56,
          19,
          30,
          60,
          56,
          28,
          18,
          27,
          18,
          19,
          47,
          54,
          61,
          24,
          25,
          21,
          23,
          63,
          49,
          18,
          51,
          48,
          31,
          54,
          19,
          44,
          53,
          19,
          61,
          18,
          61,
          21,
          20,
          31,
          45,
          44,
          62,
          29,
          43,
          51,
          19,
          38,
          37,
          22,
          21,
          24,
          57,
          56,
          27,
          51,
          19,
          39,
          58,
          20,
          45,
          35,
          31,
          50,
          32,
          51,
          38,
          42,
          18,
          19,
          51,
          46,
          18,
          57,
          62,
          59,
          37,
          64,
          38,
          33,
          46,
          46,
          53,
          34,
          20,
          63,
          54,
          54,
          49,
          28,
          54,
          25,
          43,
          63,
          32,
          62,
          52,
          25,
          28,
          46,
          34,
          35,
          19,
          46,
          54,
          27,
          50,
          18,
          19,
          38,
          41,
          49,
          48,
          31,
          18,
          30,
          62,
          57,
          58,
          22,
          31,
          52,
          25,
          59,
          19,
          39,
          32,
          19,
          33,
          21,
          34,
          61,
          38,
          58,
          47,
          20,
          21,
          41,
          46,
          42,
          34,
          43,
          52,
          18,
          51,
          56,
          64,
          19,
          51,
          27,
          59,
          28,
          30,
          47,
          38,
          18,
          34,
          20,
          47,
          56,
          49,
          19,
          55,
          30,
          37,
          49,
          18,
          59,
          29,
          36,
          33,
          58,
          44,
          53,
          24,
          29,
          40,
          51,
          64,
          19,
          35,
          39,
          56,
          33,
          42,
          61,
          23,
          43,
          48,
          39,
          40,
          18,
          58,
          49,
          53,
          48,
          45,
          59,
          52,
          26,
          27,
          48,
          57,
          37,
          57,
          32,
          18,
          64,
          43,
          49,
          40,
          62,
          40,
          30,
          29,
          36,
          41,
          44,
          45,
          55,
          60,
          56,
          49,
          21,
          19,
          39,
          53,
          33,
          53,
          42,
          40,
          47,
          27,
          21,
          47,
          20,
          24,
          27,
          26,
          53,
          41,
          56,
          23,
          21,
          50,
          53,
          34,
          47,
          33,
          51,
          49,
          31,
          36,
          18,
          50,
          43,
          20,
          24,
          60,
          49,
          60,
          51,
          58,
          51,
          53,
          62,
          19,
          50,
          30,
          41,
          29,
          18,
          41,
          35,
          53,
          24,
          48,
          59,
          49,
          37,
          26,
          23,
          29,
          45,
          27,
          53,
          31,
          50,
          50,
          34,
          19,
          47,
          28,
          37,
          21,
          64,
          58,
          24,
          31,
          39,
          47,
          30,
          18,
          22,
          23,
          33,
          27,
          45,
          57,
          47,
          42,
          64,
          38,
          61,
          53,
          44,
          19,
          41,
          51,
          40,
          45,
          35,
          53,
          30,
          18,
          51,
          50,
          31,
          35,
          60,
          21,
          29,
          62,
          39,
          19,
          22,
          53,
          39,
          27,
          30,
          30,
          58,
          33,
          42,
          64,
          21,
          18,
          23,
          45,
          40,
          19,
          18,
          25,
          46,
          33,
          54,
          28,
          36,
          20,
          24,
          23,
          47,
          33,
          45,
          26,
          18,
          44,
          60,
          64,
          56,
          36,
          41,
          39,
          63,
          36,
          28,
          58,
          36,
          42,
          36,
          56,
          35,
          59,
          21,
          59,
          23,
          57,
          53,
          60,
          51,
          23,
          27,
          55,
          37,
          61,
          46,
          53,
          49,
          20,
          48,
          25,
          25,
          57,
          37,
          38,
          55,
          36,
          51,
          40,
          18,
          57,
          61,
          25,
          50,
          26,
          42,
          43,
          44,
          23,
          49,
          33,
          41,
          37,
          22,
          23,
          21,
          51,
          25,
          32,
          57,
          36,
          22,
          57,
          64,
          36,
          54,
          47,
          62,
          61,
          43,
          19,
          18,
          19,
          49,
          60,
          26,
          49,
          60,
          26,
          27,
          44,
          63,
          32,
          22,
          18,
          59,
          44,
          33,
          24,
          43,
          45,
          61,
          35,
          62,
          62,
          38,
          34,
          43,
          50,
          19,
          57,
          62,
          41,
          26,
          39,
          46,
          45,
          32,
          59,
          44,
          39,
          18,
          53,
          18,
          50,
          18,
          19,
          62,
          56,
          42,
          37,
          42,
          25,
          57,
          51,
          30,
          44,
          34,
          31,
          54,
          24,
          43,
          48,
          19,
          29,
          63,
          46,
          52,
          35,
          51,
          44,
          21,
          39,
          50,
          34,
          22,
          19,
          26,
          29,
          48,
          26,
          45,
          36,
          54,
          34,
          31,
          27,
          20,
          44,
          43,
          45,
          34,
          24,
          26,
          38,
          50,
          38,
          27,
          39,
          39,
          63,
          33,
          36,
          30,
          24,
          24,
          48,
          47,
          29,
          28,
          47,
          25,
          51,
          48,
          43,
          61,
          48,
          38,
          59,
          19,
          26,
          54,
          21,
          51,
          22,
          47,
          18,
          47,
          21,
          19,
          23,
          54,
          37,
          46,
          55,
          30,
          18,
          61,
          54,
          22,
          45,
          22,
          19,
          35,
          18,
          20,
          28,
          55,
          43,
          43,
          22,
          25,
          49,
          44,
          64,
          49,
          47,
          27,
          55,
          48,
          45,
          24,
          32,
          24,
          57,
          59,
          36,
          29,
          42,
          48,
          39,
          63,
          54,
          37,
          63,
          21,
          54,
          60,
          32,
          47,
          21,
          28,
          63,
          18,
          32,
          38,
          32,
          62,
          39,
          55,
          57,
          52,
          56,
          47,
          55,
          23,
          22,
          50,
          18,
          51,
          22,
          52,
          25,
          33,
          53,
          29,
          58,
          37,
          54,
          49,
          50,
          26,
          45,
          54,
          38,
          48,
          28,
          23,
          55,
          41,
          25,
          33,
          30,
          23,
          46,
          53,
          27,
          23,
          63,
          55,
          35,
          34,
          19,
          39,
          27,
          57,
          52,
          28,
          50,
          44,
          26,
          33,
          19,
          50,
          41,
          52,
          39,
          50,
          52,
          60,
          20,
          55,
          42,
          18,
          58,
          43,
          35,
          48,
          36,
          19,
          23,
          20,
          32,
          43,
          34,
          30,
          18,
          41,
          35,
          57,
          29,
          32,
          37,
          18,
          43,
          56,
          38,
          29,
          22,
          52,
          40,
          23,
          31,
          42,
          24,
          25,
          48,
          23,
          45,
          20,
          62,
          43,
          23,
          31,
          41,
          58,
          48,
          31,
          19,
          19,
          41,
          40,
          31,
          37,
          46,
          22,
          51,
          18,
          35,
          59,
          36,
          37,
          59,
          36,
          39,
          18,
          52,
          27,
          18,
          40,
          29,
          46,
          38,
          30,
          40,
          50,
          20,
          41,
          33,
          38,
          42,
          56,
          58,
          52,
          20,
          54,
          58,
          45,
          26,
          63,
          58,
          37,
          25,
          52,
          64,
          22,
          28,
          18,
          28,
          45,
          33,
          18,
          32,
          24,
          19,
          20,
          40,
          34,
          42,
          51,
          54,
          55,
          52,
          32,
          28,
          41,
          43,
          49,
          64,
          55,
          24,
          20,
          45,
          26,
          25,
          43,
          35,
          26,
          57,
          22,
          32,
          39,
          25,
          48,
          47,
          18,
          18,
          61,
          47,
          28,
          36,
          20,
          44,
          38,
          19,
          21,
          46,
          58,
          20,
          18,
          28,
          33,
          19,
          45,
          62,
          25,
          43,
          42,
          24,
          29,
          32,
          25,
          41,
          42,
          33,
          34,
          19,
          30,
          18,
          19,
          18,
          35,
          39,
          31,
          62,
          62,
          42,
          31,
          61,
          42,
          51,
          23,
          52,
          57,
          23,
          52,
          50,
          18,
          18,
          21,
          61
         ],
         "xaxis": "x",
         "y": [
          16884.924,
          1725.5523,
          4449.462,
          21984.47061,
          3866.8552,
          3756.6216,
          8240.5896,
          7281.5056,
          6406.4107,
          28923.13692,
          2721.3208,
          27808.7251,
          1826.843,
          11090.7178,
          39611.7577,
          1837.237,
          10797.3362,
          2395.17155,
          10602.385,
          36837.467,
          13228.84695,
          4149.736,
          1137.011,
          37701.8768,
          6203.90175,
          14001.1338,
          14451.83515,
          12268.63225,
          2775.19215,
          38711,
          35585.576,
          2198.18985,
          4687.797,
          13770.0979,
          51194.55914,
          1625.43375,
          15612.19335,
          2302.3,
          39774.2763,
          48173.361,
          3046.062,
          4949.7587,
          6272.4772,
          6313.759,
          6079.6715,
          20630.28351,
          3393.35635,
          3556.9223,
          12629.8967,
          38709.176,
          2211.13075,
          3579.8287,
          23568.272,
          37742.5757,
          8059.6791,
          47496.49445,
          13607.36875,
          34303.1672,
          23244.7902,
          5989.52365,
          8606.2174,
          4504.6624,
          30166.61817,
          4133.64165,
          14711.7438,
          1743.214,
          14235.072,
          6389.37785,
          5920.1041,
          17663.1442,
          16577.7795,
          6799.458,
          11741.726,
          11946.6259,
          7726.854,
          11356.6609,
          3947.4131,
          1532.4697,
          2755.02095,
          6571.02435,
          4441.21315,
          7935.29115,
          37165.1638,
          11033.6617,
          39836.519,
          21098.55405,
          43578.9394,
          11073.176,
          8026.6666,
          11082.5772,
          2026.9741,
          10942.13205,
          30184.9367,
          5729.0053,
          47291.055,
          3766.8838,
          12105.32,
          10226.2842,
          22412.6485,
          15820.699,
          6186.127,
          3645.0894,
          21344.8467,
          30942.1918,
          5003.853,
          17560.37975,
          2331.519,
          3877.30425,
          2867.1196,
          47055.5321,
          10825.2537,
          11881.358,
          4646.759,
          2404.7338,
          11488.31695,
          30259.99556,
          11381.3254,
          19107.7796,
          8601.3293,
          6686.4313,
          7740.337,
          1705.6245,
          2257.47525,
          39556.4945,
          10115.00885,
          3385.39915,
          17081.08,
          9634.538,
          32734.1863,
          6082.405,
          12815.44495,
          13616.3586,
          11163.568,
          1632.56445,
          2457.21115,
          2155.6815,
          1261.442,
          2045.68525,
          27322.73386,
          2166.732,
          27375.90478,
          3490.5491,
          18972.495,
          18157.876,
          20745.9891,
          5138.2567,
          40720.55105,
          9877.6077,
          10959.6947,
          1842.519,
          5125.2157,
          7789.635,
          6334.34355,
          19964.7463,
          7077.1894,
          6948.7008,
          21223.6758,
          15518.18025,
          36950.2567,
          19749.38338,
          21348.706,
          36149.4835,
          10450.552,
          5152.134,
          5028.1466,
          10407.08585,
          4830.63,
          6128.79745,
          2719.27975,
          4827.90495,
          13405.3903,
          8116.68,
          1694.7964,
          5246.047,
          2855.43755,
          48824.45,
          6455.86265,
          10436.096,
          8823.279,
          8538.28845,
          11735.87905,
          1631.8212,
          4005.4225,
          7419.4779,
          7731.4271,
          43753.33705,
          3981.9768,
          5325.651,
          6775.961,
          4922.9159,
          12557.6053,
          4883.866,
          2137.6536,
          12044.342,
          1137.4697,
          1639.5631,
          5649.715,
          8516.829,
          9644.2525,
          14901.5167,
          2130.6759,
          8871.1517,
          13012.20865,
          37133.8982,
          7147.105,
          4337.7352,
          11743.299,
          20984.0936,
          13880.949,
          6610.1097,
          1980.07,
          8162.71625,
          3537.703,
          5002.7827,
          8520.026,
          7371.772,
          10355.641,
          2483.736,
          3392.9768,
          25081.76784,
          5012.471,
          10564.8845,
          5253.524,
          34779.615,
          19515.5416,
          11987.1682,
          2689.4954,
          24227.33724,
          7358.17565,
          9225.2564,
          7443.64305,
          14001.2867,
          1727.785,
          12333.828,
          6710.1919,
          19444.2658,
          1615.7667,
          4463.2051,
          17352.6803,
          7152.6714,
          38511.6283,
          5354.07465,
          35160.13457,
          7196.867,
          29523.1656,
          24476.47851,
          12648.7034,
          1986.9334,
          1832.094,
          4040.55825,
          12829.4551,
          47305.305,
          44260.7499,
          4260.744,
          41097.16175,
          13047.33235,
          43921.1837,
          5400.9805,
          11520.09985,
          33750.2918,
          11837.16,
          17085.2676,
          24869.8368,
          36219.40545,
          20462.99766,
          46151.1245,
          17179.522,
          14590.63205,
          7441.053,
          9282.4806,
          1719.4363,
          42856.838,
          7265.7025,
          9617.66245,
          2523.1695,
          9715.841,
          2803.69785,
          2150.469,
          12928.7911,
          9855.1314,
          22331.5668,
          48549.17835,
          4237.12655,
          11879.10405,
          9625.92,
          7742.1098,
          9432.9253,
          14256.1928,
          47896.79135,
          25992.82104,
          3172.018,
          20277.80751,
          42112.2356,
          2156.7518,
          3906.127,
          1704.5681,
          16297.846,
          21978.6769,
          38746.3551,
          9249.4952,
          6746.7425,
          24873.3849,
          12265.5069,
          4349.462,
          12646.207,
          19442.3535,
          20177.67113,
          4151.0287,
          11944.59435,
          7749.1564,
          8444.474,
          1737.376,
          42124.5153,
          8124.4084,
          34838.873,
          9722.7695,
          8835.26495,
          10435.06525,
          7421.19455,
          4667.60765,
          4894.7533,
          24671.66334,
          35491.64,
          11566.30055,
          2866.091,
          6600.20595,
          3561.8889,
          42760.5022,
          47928.03,
          9144.565,
          48517.56315,
          24393.6224,
          13429.0354,
          11658.37915,
          19144.57652,
          13822.803,
          12142.5786,
          13937.6665,
          41919.097,
          8232.6388,
          18955.22017,
          13352.0998,
          13217.0945,
          13981.85035,
          10977.2063,
          6184.2994,
          4889.9995,
          8334.45755,
          5478.0368,
          1635.73365,
          11830.6072,
          8932.084,
          3554.203,
          12404.8791,
          14133.03775,
          24603.04837,
          8944.1151,
          9620.3307,
          1837.2819,
          1607.5101,
          10043.249,
          4751.07,
          13844.506,
          2597.779,
          3180.5101,
          9778.3472,
          13430.265,
          8017.06115,
          8116.26885,
          3481.868,
          13415.0381,
          12029.2867,
          7639.41745,
          36085.219,
          1391.5287,
          18033.9679,
          21659.9301,
          38126.2465,
          16455.70785,
          27000.98473,
          15006.57945,
          42303.69215,
          20781.48892,
          5846.9176,
          8302.53565,
          1261.859,
          11856.4115,
          30284.64294,
          3176.8159,
          4618.0799,
          10736.87075,
          2138.0707,
          8964.06055,
          9290.1395,
          9411.005,
          7526.70645,
          8522.003,
          16586.49771,
          14988.432,
          1631.6683,
          9264.797,
          8083.9198,
          14692.66935,
          10269.46,
          3260.199,
          11396.9002,
          4185.0979,
          8539.671,
          6652.5288,
          4074.4537,
          1621.3402,
          19594.80965,
          14455.64405,
          5080.096,
          2134.9015,
          7345.7266,
          9140.951,
          18608.262,
          14418.2804,
          28950.4692,
          46889.2612,
          46599.1084,
          39125.33225,
          2727.3951,
          8968.33,
          9788.8659,
          6555.07035,
          7323.734819,
          3167.45585,
          18804.7524,
          23082.95533,
          4906.40965,
          5969.723,
          12638.195,
          4243.59005,
          13919.8229,
          2254.7967,
          5926.846,
          12592.5345,
          2897.3235,
          4738.2682,
          37079.372,
          1149.3959,
          28287.89766,
          26109.32905,
          7345.084,
          12730.9996,
          11454.0215,
          5910.944,
          4762.329,
          7512.267,
          4032.2407,
          1969.614,
          1769.53165,
          4686.3887,
          21797.0004,
          11881.9696,
          11840.77505,
          10601.412,
          7682.67,
          10381.4787,
          22144.032,
          15230.32405,
          11165.41765,
          1632.03625,
          19521.9682,
          13224.693,
          12643.3778,
          23288.9284,
          2201.0971,
          2497.0383,
          2203.47185,
          1744.465,
          20878.78443,
          25382.297,
          28868.6639,
          35147.52848,
          2534.39375,
          1534.3045,
          1824.2854,
          15555.18875,
          9304.7019,
          1622.1885,
          9880.068,
          9563.029,
          4347.02335,
          12475.3513,
          1253.936,
          48885.13561,
          10461.9794,
          1748.774,
          24513.09126,
          2196.4732,
          12574.049,
          17942.106,
          1967.0227,
          4931.647,
          8027.968,
          8211.1002,
          13470.86,
          36197.699,
          6837.3687,
          22218.1149,
          32548.3405,
          5974.3847,
          6796.86325,
          2643.2685,
          3077.0955,
          3044.2133,
          11455.28,
          11763.0009,
          2498.4144,
          9361.3268,
          1256.299,
          21082.16,
          11362.755,
          27724.28875,
          8413.46305,
          5240.765,
          3857.75925,
          25656.57526,
          3994.1778,
          9866.30485,
          5397.6167,
          38245.59327,
          11482.63485,
          24059.68019,
          9861.025,
          8342.90875,
          1708.0014,
          48675.5177,
          14043.4767,
          12925.886,
          19214.70553,
          13831.1152,
          6067.12675,
          5972.378,
          8825.086,
          8233.0975,
          27346.04207,
          6196.448,
          3056.3881,
          13887.204,
          63770.42801,
          10231.4999,
          23807.2406,
          3268.84665,
          11538.421,
          3213.62205,
          45863.205,
          13390.559,
          3972.9247,
          12957.118,
          11187.6567,
          17878.90068,
          3847.674,
          8334.5896,
          3935.1799,
          39983.42595,
          1646.4297,
          9193.8385,
          10923.9332,
          2494.022,
          9058.7303,
          2801.2588,
          2128.43105,
          6373.55735,
          7256.7231,
          11552.904,
          45702.02235,
          3761.292,
          2219.4451,
          4753.6368,
          31620.00106,
          13224.05705,
          12222.8983,
          1664.9996,
          58571.07448,
          9724.53,
          3206.49135,
          12913.9924,
          1639.5631,
          6356.2707,
          17626.23951,
          1242.816,
          4779.6023,
          3861.20965,
          43943.8761,
          13635.6379,
          5976.8311,
          11842.442,
          8428.0693,
          2566.4707,
          15359.1045,
          5709.1644,
          8823.98575,
          7640.3092,
          5594.8455,
          7441.501,
          33471.97189,
          1633.0444,
          9174.13565,
          11070.535,
          16085.1275,
          17468.9839,
          9283.562,
          3558.62025,
          25678.77845,
          4435.0942,
          39241.442,
          8547.6913,
          6571.544,
          2207.69745,
          6753.038,
          1880.07,
          42969.8527,
          11658.11505,
          23306.547,
          34439.8559,
          10713.644,
          3659.346,
          40182.246,
          9182.17,
          34617.84065,
          12129.61415,
          3736.4647,
          6748.5912,
          11326.71487,
          11365.952,
          42983.4585,
          10085.846,
          1977.815,
          3366.6697,
          7173.35995,
          9391.346,
          14410.9321,
          2709.1119,
          24915.04626,
          20149.3229,
          12949.1554,
          6666.243,
          32787.45859,
          13143.86485,
          4466.6214,
          18806.14547,
          10141.1362,
          6123.5688,
          8252.2843,
          1712.227,
          12430.95335,
          9800.8882,
          10579.711,
          8280.6227,
          8527.532,
          12244.531,
          24667.419,
          3410.324,
          4058.71245,
          26392.26029,
          14394.39815,
          6435.6237,
          22192.43711,
          5148.5526,
          1136.3994,
          27037.9141,
          42560.4304,
          8703.456,
          40003.33225,
          45710.20785,
          6500.2359,
          4837.5823,
          3943.5954,
          4399.731,
          6185.3208,
          46200.9851,
          7222.78625,
          12485.8009,
          46130.5265,
          12363.547,
          10156.7832,
          2585.269,
          1242.26,
          40103.89,
          9863.4718,
          4766.022,
          11244.3769,
          7729.64575,
          5438.7491,
          26236.57997,
          34806.4677,
          2104.1134,
          8068.185,
          2362.22905,
          2352.96845,
          3577.999,
          3201.24515,
          29186.48236,
          40273.6455,
          10976.24575,
          3500.6123,
          2020.5523,
          9541.69555,
          9504.3103,
          5385.3379,
          8930.93455,
          5375.038,
          44400.4064,
          10264.4421,
          6113.23105,
          5469.0066,
          1727.54,
          10107.2206,
          8310.83915,
          1984.4533,
          2457.502,
          12146.971,
          9566.9909,
          13112.6048,
          10848.1343,
          12231.6136,
          9875.6804,
          11264.541,
          12979.358,
          1263.249,
          10106.13425,
          40932.4295,
          6664.68595,
          16657.71745,
          2217.6012,
          6781.3542,
          19361.9988,
          10065.413,
          4234.927,
          9447.25035,
          14007.222,
          9583.8933,
          40419.0191,
          3484.331,
          36189.1017,
          44585.45587,
          8604.48365,
          18246.4955,
          43254.41795,
          3757.8448,
          8827.2099,
          9910.35985,
          11737.84884,
          1627.28245,
          8556.907,
          3062.50825,
          19539.243,
          1906.35825,
          14210.53595,
          11833.7823,
          17128.42608,
          5031.26955,
          7985.815,
          23065.4207,
          5428.7277,
          36307.7983,
          3925.7582,
          2416.955,
          19040.876,
          3070.8087,
          9095.06825,
          11842.62375,
          8062.764,
          7050.642,
          14319.031,
          6933.24225,
          27941.28758,
          11150.78,
          12797.20962,
          17748.5062,
          7261.741,
          10560.4917,
          6986.697,
          7448.40395,
          5934.3798,
          9869.8102,
          18259.216,
          1146.7966,
          9386.1613,
          24520.264,
          4350.5144,
          6414.178,
          12741.16745,
          1917.3184,
          5209.57885,
          13457.9608,
          5662.225,
          1252.407,
          2731.9122,
          21195.818,
          7209.4918,
          18310.742,
          4266.1658,
          4719.52405,
          11848.141,
          17904.52705,
          7046.7222,
          14313.8463,
          2103.08,
          38792.6856,
          1815.8759,
          7731.85785,
          28476.73499,
          2136.88225,
          1131.5066,
          3309.7926,
          9414.92,
          6360.9936,
          11013.7119,
          4428.88785,
          5584.3057,
          1877.9294,
          2842.76075,
          3597.596,
          23401.30575,
          55135.40209,
          7445.918,
          2680.9493,
          1621.8827,
          8219.2039,
          12523.6048,
          16069.08475,
          43813.8661,
          20773.62775,
          39597.4072,
          6117.4945,
          13393.756,
          5266.3656,
          4719.73655,
          11743.9341,
          5377.4578,
          7160.3303,
          4402.233,
          11657.7189,
          6402.29135,
          12622.1795,
          1526.312,
          12323.936,
          36021.0112,
          27533.9129,
          10072.05505,
          45008.9555,
          9872.701,
          2438.0552,
          2974.126,
          10601.63225,
          37270.1512,
          14119.62,
          42111.6647,
          11729.6795,
          24106.91255,
          1875.344,
          40974.1649,
          15817.9857,
          18218.16139,
          10965.446,
          46113.511,
          7151.092,
          12269.68865,
          5458.04645,
          8782.469,
          6600.361,
          1141.4451,
          11576.13,
          13129.60345,
          4391.652,
          8457.818,
          3392.3652,
          5966.8874,
          6849.026,
          8891.1395,
          2690.1138,
          26140.3603,
          6653.7886,
          6282.235,
          6311.952,
          3443.064,
          2789.0574,
          2585.85065,
          46255.1125,
          4877.98105,
          19719.6947,
          27218.43725,
          5272.1758,
          1682.597,
          11945.1327,
          29330.98315,
          7243.8136,
          10422.91665,
          44202.6536,
          13555.0049,
          13063.883,
          19798.05455,
          2221.56445,
          1634.5734,
          2117.33885,
          8688.85885,
          48673.5588,
          4661.28635,
          8125.7845,
          12644.589,
          4564.19145,
          4846.92015,
          7633.7206,
          15170.069,
          17496.306,
          2639.0429,
          33732.6867,
          14382.70905,
          7626.993,
          5257.50795,
          2473.3341,
          21774.32215,
          35069.37452,
          13041.921,
          5245.2269,
          13451.122,
          13462.52,
          5488.262,
          4320.41085,
          6250.435,
          25333.33284,
          2913.569,
          12032.326,
          13470.8044,
          6289.7549,
          2927.0647,
          6238.298,
          10096.97,
          7348.142,
          4673.3922,
          12233.828,
          32108.66282,
          8965.79575,
          2304.0022,
          9487.6442,
          1121.8739,
          9549.5651,
          2217.46915,
          1628.4709,
          12982.8747,
          11674.13,
          7160.094,
          39047.285,
          6358.77645,
          19933.458,
          11534.87265,
          47462.894,
          4527.18295,
          38998.546,
          20009.63365,
          3875.7341,
          41999.52,
          12609.88702,
          41034.2214,
          28468.91901,
          2730.10785,
          3353.284,
          14474.675,
          9500.57305,
          26467.09737,
          4746.344,
          23967.38305,
          7518.02535,
          3279.86855,
          8596.8278,
          10702.6424,
          4992.3764,
          2527.81865,
          1759.338,
          2322.6218,
          16138.76205,
          7804.1605,
          2902.9065,
          9704.66805,
          4889.0368,
          25517.11363,
          4500.33925,
          19199.944,
          16796.41194,
          4915.05985,
          7624.63,
          8410.04685,
          28340.18885,
          4518.82625,
          14571.8908,
          3378.91,
          7144.86265,
          10118.424,
          5484.4673,
          16420.49455,
          7986.47525,
          7418.522,
          13887.9685,
          6551.7501,
          5267.81815,
          17361.7661,
          34472.841,
          1972.95,
          21232.18226,
          8627.5411,
          4433.3877,
          4438.2634,
          24915.22085,
          23241.47453,
          9957.7216,
          8269.044,
          18767.7377,
          36580.28216,
          8765.249,
          5383.536,
          12124.9924,
          2709.24395,
          3987.926,
          12495.29085,
          26018.95052,
          8798.593,
          35595.5898,
          42211.1382,
          1711.0268,
          8569.8618,
          2020.177,
          16450.8947,
          21595.38229,
          9850.432,
          6877.9801,
          21677.28345,
          44423.803,
          4137.5227,
          13747.87235,
          12950.0712,
          12094.478,
          37484.4493,
          39725.51805,
          2250.8352,
          22493.65964,
          20234.85475,
          1704.70015,
          33475.81715,
          3161.454,
          11394.06555,
          21880.82,
          7325.0482,
          44501.3982,
          3594.17085,
          39727.614,
          8023.13545,
          14394.5579,
          9288.0267,
          25309.489,
          3353.4703,
          10594.50155,
          8277.523,
          17929.30337,
          2480.9791,
          4462.7218,
          1981.5819,
          11554.2236,
          48970.2476,
          6548.19505,
          5708.867,
          7045.499,
          8978.1851,
          5757.41345,
          14349.8544,
          10928.849,
          39871.7043,
          13974.45555,
          1909.52745,
          12096.6512,
          13204.28565,
          4562.8421,
          8551.347,
          2102.2647,
          34672.1472,
          15161.5344,
          11884.04858,
          4454.40265,
          5855.9025,
          4076.497,
          15019.76005,
          19023.26,
          10796.35025,
          11353.2276,
          9748.9106,
          10577.087,
          41676.0811,
          11286.5387,
          3591.48,
          33907.548,
          11299.343,
          4561.1885,
          44641.1974,
          1674.6323,
          23045.56616,
          3227.1211,
          16776.30405,
          11253.421,
          3471.4096,
          11363.2832,
          20420.60465,
          10338.9316,
          8988.15875,
          10493.9458,
          2904.088,
          8605.3615,
          11512.405,
          41949.2441,
          24180.9335,
          5312.16985,
          2396.0959,
          10807.4863,
          9222.4026,
          36124.5737,
          38282.7495,
          5693.4305,
          34166.273,
          8347.1643,
          46661.4424,
          18903.49141,
          40904.1995,
          14254.6082,
          10214.636,
          5836.5204,
          14358.36437,
          1728.897,
          8582.3023,
          3693.428,
          20709.02034,
          9991.03765,
          19673.33573,
          11085.5868,
          7623.518,
          3176.2877,
          3704.3545,
          36898.73308,
          9048.0273,
          7954.517,
          27117.99378,
          6338.0756,
          9630.397,
          11289.10925,
          52590.82939,
          2261.5688,
          10791.96,
          5979.731,
          2203.73595,
          12235.8392,
          40941.2854,
          5630.45785,
          11015.1747,
          7228.21565,
          39722.7462,
          14426.07385,
          2459.7201,
          3989.841,
          7727.2532,
          5124.1887,
          18963.17192,
          2200.83085,
          7153.5539,
          5227.98875,
          10982.5013,
          4529.477,
          4670.64,
          6112.35295,
          17178.6824,
          22478.6,
          11093.6229,
          6457.8434,
          4433.9159,
          2154.361,
          23887.6627,
          6496.886,
          2899.48935,
          19350.3689,
          7650.77375,
          2850.68375,
          2632.992,
          9447.3824,
          18328.2381,
          8603.8234,
          37465.34375,
          13844.7972,
          21771.3423,
          13126.67745,
          5327.40025,
          13725.47184,
          13019.16105,
          8671.19125,
          4134.08245,
          18838.70366,
          33307.5508,
          5699.8375,
          6393.60345,
          4934.705,
          6198.7518,
          8733.22925,
          2055.3249,
          9964.06,
          18223.4512,
          5116.5004,
          36910.60803,
          38415.474,
          20296.86345,
          12347.172,
          5373.36425,
          23563.01618,
          1702.4553,
          10806.839,
          3956.07145,
          12890.05765,
          5415.6612,
          4058.1161,
          41661.602,
          7537.1639,
          4718.20355,
          6593.5083,
          8442.667,
          26125.67477,
          6858.4796,
          4795.6568,
          6640.54485,
          7162.0122,
          10594.2257,
          11938.25595,
          60021.39897,
          20167.33603,
          12479.70895,
          11345.519,
          8515.7587,
          2699.56835,
          14449.8544,
          12224.35085,
          6985.50695,
          3238.4357,
          47269.854,
          49577.6624,
          4296.2712,
          3171.6149,
          1135.9407,
          5615.369,
          9101.798,
          6059.173,
          1633.9618,
          37607.5277,
          18648.4217,
          1241.565,
          16232.847,
          15828.82173,
          4415.1588,
          6474.013,
          11436.73815,
          11305.93455,
          30063.58055,
          10197.7722,
          4544.2348,
          3277.161,
          6770.1925,
          7337.748,
          10370.91255,
          26926.5144,
          10704.47,
          34254.05335,
          1880.487,
          8615.3,
          3292.52985,
          3021.80915,
          14478.33015,
          4747.0529,
          17043.3414,
          10959.33,
          2741.948,
          4357.04365,
          22462.04375,
          4189.1131,
          8283.6807,
          24535.69855,
          14283.4594,
          1720.3537,
          47403.88,
          8534.6718,
          3732.6251,
          5472.449,
          38344.566,
          7147.4728,
          7133.9025,
          34828.654,
          1515.3449,
          9301.89355,
          11931.12525,
          1964.78,
          1708.92575,
          4340.4409,
          5261.46945,
          2710.82855,
          62592.87309,
          46718.16325,
          3208.787,
          37829.7242,
          21259.37795,
          2464.6188,
          16115.3045,
          21472.4788,
          33900.653,
          6875.961,
          6940.90985,
          4571.41305,
          4536.259,
          36397.576,
          18765.87545,
          11272.33139,
          1731.677,
          1163.4627,
          19496.71917,
          7201.70085,
          5425.02335,
          28101.33305,
          12981.3457,
          43896.3763,
          4239.89265,
          13143.33665,
          7050.0213,
          9377.9047,
          22395.74424,
          10325.206,
          12629.1656,
          10795.93733,
          11411.685,
          10600.5483,
          2205.9808,
          1629.8335,
          2007.945,
          29141.3603
         ],
         "yaxis": "y"
        }
       ],
       "layout": {
        "coloraxis": {
         "colorbar": {
          "title": {
           "text": "bmi"
          }
         },
         "colorscale": [
          [
           0,
           "#0d0887"
          ],
          [
           0.1111111111111111,
           "#46039f"
          ],
          [
           0.2222222222222222,
           "#7201a8"
          ],
          [
           0.3333333333333333,
           "#9c179e"
          ],
          [
           0.4444444444444444,
           "#bd3786"
          ],
          [
           0.5555555555555556,
           "#d8576b"
          ],
          [
           0.6666666666666666,
           "#ed7953"
          ],
          [
           0.7777777777777778,
           "#fb9f3a"
          ],
          [
           0.8888888888888888,
           "#fdca26"
          ],
          [
           1,
           "#f0f921"
          ]
         ]
        },
        "legend": {
         "tracegroupgap": 0
        },
        "margin": {
         "t": 60
        },
        "template": {
         "data": {
          "bar": [
           {
            "error_x": {
             "color": "#2a3f5f"
            },
            "error_y": {
             "color": "#2a3f5f"
            },
            "marker": {
             "line": {
              "color": "#E5ECF6",
              "width": 0.5
             },
             "pattern": {
              "fillmode": "overlay",
              "size": 10,
              "solidity": 0.2
             }
            },
            "type": "bar"
           }
          ],
          "barpolar": [
           {
            "marker": {
             "line": {
              "color": "#E5ECF6",
              "width": 0.5
             },
             "pattern": {
              "fillmode": "overlay",
              "size": 10,
              "solidity": 0.2
             }
            },
            "type": "barpolar"
           }
          ],
          "carpet": [
           {
            "aaxis": {
             "endlinecolor": "#2a3f5f",
             "gridcolor": "white",
             "linecolor": "white",
             "minorgridcolor": "white",
             "startlinecolor": "#2a3f5f"
            },
            "baxis": {
             "endlinecolor": "#2a3f5f",
             "gridcolor": "white",
             "linecolor": "white",
             "minorgridcolor": "white",
             "startlinecolor": "#2a3f5f"
            },
            "type": "carpet"
           }
          ],
          "choropleth": [
           {
            "colorbar": {
             "outlinewidth": 0,
             "ticks": ""
            },
            "type": "choropleth"
           }
          ],
          "contour": [
           {
            "colorbar": {
             "outlinewidth": 0,
             "ticks": ""
            },
            "colorscale": [
             [
              0,
              "#0d0887"
             ],
             [
              0.1111111111111111,
              "#46039f"
             ],
             [
              0.2222222222222222,
              "#7201a8"
             ],
             [
              0.3333333333333333,
              "#9c179e"
             ],
             [
              0.4444444444444444,
              "#bd3786"
             ],
             [
              0.5555555555555556,
              "#d8576b"
             ],
             [
              0.6666666666666666,
              "#ed7953"
             ],
             [
              0.7777777777777778,
              "#fb9f3a"
             ],
             [
              0.8888888888888888,
              "#fdca26"
             ],
             [
              1,
              "#f0f921"
             ]
            ],
            "type": "contour"
           }
          ],
          "contourcarpet": [
           {
            "colorbar": {
             "outlinewidth": 0,
             "ticks": ""
            },
            "type": "contourcarpet"
           }
          ],
          "heatmap": [
           {
            "colorbar": {
             "outlinewidth": 0,
             "ticks": ""
            },
            "colorscale": [
             [
              0,
              "#0d0887"
             ],
             [
              0.1111111111111111,
              "#46039f"
             ],
             [
              0.2222222222222222,
              "#7201a8"
             ],
             [
              0.3333333333333333,
              "#9c179e"
             ],
             [
              0.4444444444444444,
              "#bd3786"
             ],
             [
              0.5555555555555556,
              "#d8576b"
             ],
             [
              0.6666666666666666,
              "#ed7953"
             ],
             [
              0.7777777777777778,
              "#fb9f3a"
             ],
             [
              0.8888888888888888,
              "#fdca26"
             ],
             [
              1,
              "#f0f921"
             ]
            ],
            "type": "heatmap"
           }
          ],
          "heatmapgl": [
           {
            "colorbar": {
             "outlinewidth": 0,
             "ticks": ""
            },
            "colorscale": [
             [
              0,
              "#0d0887"
             ],
             [
              0.1111111111111111,
              "#46039f"
             ],
             [
              0.2222222222222222,
              "#7201a8"
             ],
             [
              0.3333333333333333,
              "#9c179e"
             ],
             [
              0.4444444444444444,
              "#bd3786"
             ],
             [
              0.5555555555555556,
              "#d8576b"
             ],
             [
              0.6666666666666666,
              "#ed7953"
             ],
             [
              0.7777777777777778,
              "#fb9f3a"
             ],
             [
              0.8888888888888888,
              "#fdca26"
             ],
             [
              1,
              "#f0f921"
             ]
            ],
            "type": "heatmapgl"
           }
          ],
          "histogram": [
           {
            "marker": {
             "pattern": {
              "fillmode": "overlay",
              "size": 10,
              "solidity": 0.2
             }
            },
            "type": "histogram"
           }
          ],
          "histogram2d": [
           {
            "colorbar": {
             "outlinewidth": 0,
             "ticks": ""
            },
            "colorscale": [
             [
              0,
              "#0d0887"
             ],
             [
              0.1111111111111111,
              "#46039f"
             ],
             [
              0.2222222222222222,
              "#7201a8"
             ],
             [
              0.3333333333333333,
              "#9c179e"
             ],
             [
              0.4444444444444444,
              "#bd3786"
             ],
             [
              0.5555555555555556,
              "#d8576b"
             ],
             [
              0.6666666666666666,
              "#ed7953"
             ],
             [
              0.7777777777777778,
              "#fb9f3a"
             ],
             [
              0.8888888888888888,
              "#fdca26"
             ],
             [
              1,
              "#f0f921"
             ]
            ],
            "type": "histogram2d"
           }
          ],
          "histogram2dcontour": [
           {
            "colorbar": {
             "outlinewidth": 0,
             "ticks": ""
            },
            "colorscale": [
             [
              0,
              "#0d0887"
             ],
             [
              0.1111111111111111,
              "#46039f"
             ],
             [
              0.2222222222222222,
              "#7201a8"
             ],
             [
              0.3333333333333333,
              "#9c179e"
             ],
             [
              0.4444444444444444,
              "#bd3786"
             ],
             [
              0.5555555555555556,
              "#d8576b"
             ],
             [
              0.6666666666666666,
              "#ed7953"
             ],
             [
              0.7777777777777778,
              "#fb9f3a"
             ],
             [
              0.8888888888888888,
              "#fdca26"
             ],
             [
              1,
              "#f0f921"
             ]
            ],
            "type": "histogram2dcontour"
           }
          ],
          "mesh3d": [
           {
            "colorbar": {
             "outlinewidth": 0,
             "ticks": ""
            },
            "type": "mesh3d"
           }
          ],
          "parcoords": [
           {
            "line": {
             "colorbar": {
              "outlinewidth": 0,
              "ticks": ""
             }
            },
            "type": "parcoords"
           }
          ],
          "pie": [
           {
            "automargin": true,
            "type": "pie"
           }
          ],
          "scatter": [
           {
            "fillpattern": {
             "fillmode": "overlay",
             "size": 10,
             "solidity": 0.2
            },
            "type": "scatter"
           }
          ],
          "scatter3d": [
           {
            "line": {
             "colorbar": {
              "outlinewidth": 0,
              "ticks": ""
             }
            },
            "marker": {
             "colorbar": {
              "outlinewidth": 0,
              "ticks": ""
             }
            },
            "type": "scatter3d"
           }
          ],
          "scattercarpet": [
           {
            "marker": {
             "colorbar": {
              "outlinewidth": 0,
              "ticks": ""
             }
            },
            "type": "scattercarpet"
           }
          ],
          "scattergeo": [
           {
            "marker": {
             "colorbar": {
              "outlinewidth": 0,
              "ticks": ""
             }
            },
            "type": "scattergeo"
           }
          ],
          "scattergl": [
           {
            "marker": {
             "colorbar": {
              "outlinewidth": 0,
              "ticks": ""
             }
            },
            "type": "scattergl"
           }
          ],
          "scattermapbox": [
           {
            "marker": {
             "colorbar": {
              "outlinewidth": 0,
              "ticks": ""
             }
            },
            "type": "scattermapbox"
           }
          ],
          "scatterpolar": [
           {
            "marker": {
             "colorbar": {
              "outlinewidth": 0,
              "ticks": ""
             }
            },
            "type": "scatterpolar"
           }
          ],
          "scatterpolargl": [
           {
            "marker": {
             "colorbar": {
              "outlinewidth": 0,
              "ticks": ""
             }
            },
            "type": "scatterpolargl"
           }
          ],
          "scatterternary": [
           {
            "marker": {
             "colorbar": {
              "outlinewidth": 0,
              "ticks": ""
             }
            },
            "type": "scatterternary"
           }
          ],
          "surface": [
           {
            "colorbar": {
             "outlinewidth": 0,
             "ticks": ""
            },
            "colorscale": [
             [
              0,
              "#0d0887"
             ],
             [
              0.1111111111111111,
              "#46039f"
             ],
             [
              0.2222222222222222,
              "#7201a8"
             ],
             [
              0.3333333333333333,
              "#9c179e"
             ],
             [
              0.4444444444444444,
              "#bd3786"
             ],
             [
              0.5555555555555556,
              "#d8576b"
             ],
             [
              0.6666666666666666,
              "#ed7953"
             ],
             [
              0.7777777777777778,
              "#fb9f3a"
             ],
             [
              0.8888888888888888,
              "#fdca26"
             ],
             [
              1,
              "#f0f921"
             ]
            ],
            "type": "surface"
           }
          ],
          "table": [
           {
            "cells": {
             "fill": {
              "color": "#EBF0F8"
             },
             "line": {
              "color": "white"
             }
            },
            "header": {
             "fill": {
              "color": "#C8D4E3"
             },
             "line": {
              "color": "white"
             }
            },
            "type": "table"
           }
          ]
         },
         "layout": {
          "annotationdefaults": {
           "arrowcolor": "#2a3f5f",
           "arrowhead": 0,
           "arrowwidth": 1
          },
          "autotypenumbers": "strict",
          "coloraxis": {
           "colorbar": {
            "outlinewidth": 0,
            "ticks": ""
           }
          },
          "colorscale": {
           "diverging": [
            [
             0,
             "#8e0152"
            ],
            [
             0.1,
             "#c51b7d"
            ],
            [
             0.2,
             "#de77ae"
            ],
            [
             0.3,
             "#f1b6da"
            ],
            [
             0.4,
             "#fde0ef"
            ],
            [
             0.5,
             "#f7f7f7"
            ],
            [
             0.6,
             "#e6f5d0"
            ],
            [
             0.7,
             "#b8e186"
            ],
            [
             0.8,
             "#7fbc41"
            ],
            [
             0.9,
             "#4d9221"
            ],
            [
             1,
             "#276419"
            ]
           ],
           "sequential": [
            [
             0,
             "#0d0887"
            ],
            [
             0.1111111111111111,
             "#46039f"
            ],
            [
             0.2222222222222222,
             "#7201a8"
            ],
            [
             0.3333333333333333,
             "#9c179e"
            ],
            [
             0.4444444444444444,
             "#bd3786"
            ],
            [
             0.5555555555555556,
             "#d8576b"
            ],
            [
             0.6666666666666666,
             "#ed7953"
            ],
            [
             0.7777777777777778,
             "#fb9f3a"
            ],
            [
             0.8888888888888888,
             "#fdca26"
            ],
            [
             1,
             "#f0f921"
            ]
           ],
           "sequentialminus": [
            [
             0,
             "#0d0887"
            ],
            [
             0.1111111111111111,
             "#46039f"
            ],
            [
             0.2222222222222222,
             "#7201a8"
            ],
            [
             0.3333333333333333,
             "#9c179e"
            ],
            [
             0.4444444444444444,
             "#bd3786"
            ],
            [
             0.5555555555555556,
             "#d8576b"
            ],
            [
             0.6666666666666666,
             "#ed7953"
            ],
            [
             0.7777777777777778,
             "#fb9f3a"
            ],
            [
             0.8888888888888888,
             "#fdca26"
            ],
            [
             1,
             "#f0f921"
            ]
           ]
          },
          "colorway": [
           "#636efa",
           "#EF553B",
           "#00cc96",
           "#ab63fa",
           "#FFA15A",
           "#19d3f3",
           "#FF6692",
           "#B6E880",
           "#FF97FF",
           "#FECB52"
          ],
          "font": {
           "color": "#2a3f5f"
          },
          "geo": {
           "bgcolor": "white",
           "lakecolor": "white",
           "landcolor": "#E5ECF6",
           "showlakes": true,
           "showland": true,
           "subunitcolor": "white"
          },
          "hoverlabel": {
           "align": "left"
          },
          "hovermode": "closest",
          "mapbox": {
           "style": "light"
          },
          "paper_bgcolor": "white",
          "plot_bgcolor": "#E5ECF6",
          "polar": {
           "angularaxis": {
            "gridcolor": "white",
            "linecolor": "white",
            "ticks": ""
           },
           "bgcolor": "#E5ECF6",
           "radialaxis": {
            "gridcolor": "white",
            "linecolor": "white",
            "ticks": ""
           }
          },
          "scene": {
           "xaxis": {
            "backgroundcolor": "#E5ECF6",
            "gridcolor": "white",
            "gridwidth": 2,
            "linecolor": "white",
            "showbackground": true,
            "ticks": "",
            "zerolinecolor": "white"
           },
           "yaxis": {
            "backgroundcolor": "#E5ECF6",
            "gridcolor": "white",
            "gridwidth": 2,
            "linecolor": "white",
            "showbackground": true,
            "ticks": "",
            "zerolinecolor": "white"
           },
           "zaxis": {
            "backgroundcolor": "#E5ECF6",
            "gridcolor": "white",
            "gridwidth": 2,
            "linecolor": "white",
            "showbackground": true,
            "ticks": "",
            "zerolinecolor": "white"
           }
          },
          "shapedefaults": {
           "line": {
            "color": "#2a3f5f"
           }
          },
          "ternary": {
           "aaxis": {
            "gridcolor": "white",
            "linecolor": "white",
            "ticks": ""
           },
           "baxis": {
            "gridcolor": "white",
            "linecolor": "white",
            "ticks": ""
           },
           "bgcolor": "#E5ECF6",
           "caxis": {
            "gridcolor": "white",
            "linecolor": "white",
            "ticks": ""
           }
          },
          "title": {
           "x": 0.05
          },
          "xaxis": {
           "automargin": true,
           "gridcolor": "white",
           "linecolor": "white",
           "ticks": "",
           "title": {
            "standoff": 15
           },
           "zerolinecolor": "white",
           "zerolinewidth": 2
          },
          "yaxis": {
           "automargin": true,
           "gridcolor": "white",
           "linecolor": "white",
           "ticks": "",
           "title": {
            "standoff": 15
           },
           "zerolinecolor": "white",
           "zerolinewidth": 2
          }
         }
        },
        "xaxis": {
         "anchor": "y",
         "domain": [
          0,
          1
         ],
         "title": {
          "text": "age"
         }
        },
        "yaxis": {
         "anchor": "x",
         "domain": [
          0,
          1
         ],
         "title": {
          "text": "charges"
         }
        }
       }
      }
     },
     "metadata": {},
     "output_type": "display_data"
    }
   ],
   "source": [
    "fig = px.scatter(df, x=\"age\", y=\"charges\", color='bmi', \n",
    " hover_data=['children','smoker','region','sex'])\n",
    "fig.show()"
   ]
  }
 ],
 "metadata": {
  "kernelspec": {
   "display_name": "Python 3",
   "language": "python",
   "name": "python3"
  },
  "language_info": {
   "codemirror_mode": {
    "name": "ipython",
    "version": 3
   },
   "file_extension": ".py",
   "mimetype": "text/x-python",
   "name": "python",
   "nbconvert_exporter": "python",
   "pygments_lexer": "ipython3",
   "version": "3.10.10"
  },
  "orig_nbformat": 4,
  "vscode": {
   "interpreter": {
    "hash": "9e35676d33e03a9093a17dc7760f2b2aa4960ff6d3c0d7dc06348afdc0ca22c8"
   }
  }
 },
 "nbformat": 4,
 "nbformat_minor": 2
}
